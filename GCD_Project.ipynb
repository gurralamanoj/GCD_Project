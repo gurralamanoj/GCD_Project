{
  "nbformat": 4,
  "nbformat_minor": 5,
  "metadata": {
    "kernelspec": {
      "display_name": "Python 3",
      "language": "python",
      "name": "python3"
    },
    "language_info": {
      "codemirror_mode": {
        "name": "ipython",
        "version": 3
      },
      "file_extension": ".py",
      "mimetype": "text/x-python",
      "name": "python",
      "nbconvert_exporter": "python",
      "pygments_lexer": "ipython3",
      "version": "3.8.8"
    },
    "colab": {
      "name": "GCD_Project.ipynb",
      "provenance": [],
      "collapsed_sections": [
        "6a053c48",
        "5834eddd",
        "a97ad414"
      ],
      "include_colab_link": true
    }
  },
  "cells": [
    {
      "cell_type": "markdown",
      "metadata": {
        "id": "view-in-github",
        "colab_type": "text"
      },
      "source": [
        "<a href=\"https://colab.research.google.com/github/gurralamanoj/GCD_Project/blob/main/GCD_Project.ipynb\" target=\"_parent\"><img src=\"https://colab.research.google.com/assets/colab-badge.svg\" alt=\"Open In Colab\"/></a>"
      ]
    },
    {
      "cell_type": "markdown",
      "metadata": {
        "id": "56f6f886"
      },
      "source": [
        "<p align=\"center\"><img src=\"https://github.com/insaid2018/Term-1/blob/master/Images/INSAID_Full%20Logo.png?raw=true\"\n",
        "width=\"260\" height=\"110\" /></p>\n",
        "\n",
        "---"
      ],
      "id": "56f6f886"
    },
    {
      "cell_type": "markdown",
      "metadata": {
        "id": "9dd033ee"
      },
      "source": [
        "# **Table of Contents**\n",
        "\n",
        "\n",
        "1. [**Project Description**](#Section1)<br>\n",
        "   1.1 [**Client's Requirement**](#Section11)<br>\n",
        "   1.2 [**Problem Statement**](#Section12)<br>\n",
        "   1.3 [**Role as a Data Scientist**](#Section13)<br>\n",
        "   1.4 [**Task of Data Scientist**](#Section14)<br>\n",
        "\n",
        "\n",
        "2. [**Installing & Importing Libraries**](#Section2)<br>\n",
        "\n",
        "\n",
        "3. [**Data Acquisition & Description**](#Section3)<br>\n",
        "   3.1 [**Importing \"department_data**](#Section31)<br>\n",
        "   3.2 [**Importing \"employee_details_data**](#Section32)<br>\n",
        "   3.3 [**Importing \"employee_data**](#Section33)<br>\n",
        "   3.4 [**Data Description**](#Section34)<br>\n",
        "   \n",
        "   "
      ],
      "id": "9dd033ee"
    },
    {
      "cell_type": "markdown",
      "metadata": {
        "id": "a4d049bc"
      },
      "source": [
        "---\n",
        "<a name = Section1></a>\n",
        "## **1. Project Description**"
      ],
      "id": "a4d049bc"
    },
    {
      "cell_type": "markdown",
      "metadata": {
        "id": "416ddc53"
      },
      "source": [
        "<a id = Section11></a>\n",
        "### 1.1 Client's Requirement"
      ],
      "id": "416ddc53"
    },
    {
      "cell_type": "markdown",
      "metadata": {
        "id": "f2bf3ae4"
      },
      "source": [
        "### The client for this project is the HR Department at a software company.\n",
        "\n",
        "- They want to try a new initiative to retain employees.\n",
        "- The idea is to use data to predict whether an employee is likely to leave.\n",
        "- Once these employees are identified, HR can be more proactive in reaching out to them before it's too late.\n",
        "- They only want to deal with the data that is related to permanent employees.\n",
        "\n",
        "#### Current Practice\n",
        "Once an employee leaves, he or she is taken an interview with the name “exit interview” and shares reasons for leaving. The HR Department then tries and learns insights from the interview and makes changes accordingly.\n",
        "\n",
        "#### This suffers from the following problems:\n",
        "- This approach is that it's too haphazard. The quality of insight gained from an interview depends heavily on the skill of the interviewer.\n",
        "- The second problem is these insights can't be aggregated and interlaced across all employees who have left.\n",
        "- The third is that it is too late by the time the proposed policy changes take effect.\n",
        "\n",
        "The HR department has hired us as data science consultants. They want to supplement their exit interviews with a more proactive approach.\n",
        "\n",
        "---"
      ],
      "id": "f2bf3ae4"
    },
    {
      "cell_type": "markdown",
      "metadata": {
        "id": "deaa45b4"
      },
      "source": [
        "<a id = Section12></a>\n",
        "### 1.2 Problem Statement:\n",
        "\n",
        "**Predict whether an employee will stay or leave.**\n",
        "\n",
        "\n",
        "<a id = Section13></a>\n",
        "### 1.3 Role as a Data Scientist\n",
        "- The given datasets consist of past employees and their status (still employed or already left).\n",
        "- Our task is to build a classification model using the datasets.\n",
        "- Because there was no machine learning model for this problem in the company, we don’t have quantifiable win condition. We need to build the best possible model.\n",
        "\n",
        "<a id = Section14></a>\n",
        "### 1.4 Task of Data Scientist\n",
        "  - Machine learning task: **Classification**\n",
        "  - Target variable: **Status (Employed/Left)**\n",
        "  - Win condition: **N/A (best possible model)**"
      ],
      "id": "deaa45b4"
    },
    {
      "cell_type": "markdown",
      "metadata": {
        "id": "c6699139"
      },
      "source": [
        "---\n",
        "<a id = Section2></a>\n",
        "## 2. Installing & Importing Libraries"
      ],
      "id": "c6699139"
    },
    {
      "cell_type": "code",
      "metadata": {
        "colab": {
          "base_uri": "https://localhost:8080/"
        },
        "id": "hD0iI2A-wiV5",
        "outputId": "24dd2ba0-f276-469c-ff9e-07ca6efe5380"
      },
      "source": [
        " !pip install mysql-connector\n",
        " !pip install pandas"
      ],
      "id": "hD0iI2A-wiV5",
      "execution_count": 1,
      "outputs": [
        {
          "output_type": "stream",
          "name": "stdout",
          "text": [
            "Collecting mysql-connector\n",
            "  Downloading mysql-connector-2.2.9.tar.gz (11.9 MB)\n",
            "\u001b[K     |████████████████████████████████| 11.9 MB 10.8 MB/s \n",
            "\u001b[?25hBuilding wheels for collected packages: mysql-connector\n",
            "  Building wheel for mysql-connector (setup.py) ... \u001b[?25l\u001b[?25hdone\n",
            "  Created wheel for mysql-connector: filename=mysql_connector-2.2.9-cp37-cp37m-linux_x86_64.whl size=247965 sha256=17f13b25e3582ae6d692c80bf0e138a95acd23bc3229b81db7cefddedba3876d\n",
            "  Stored in directory: /root/.cache/pip/wheels/42/2f/c3/692fc7fc1f0d8c06b9175d94f0fc30f4f92348f5df5af1b8b7\n",
            "Successfully built mysql-connector\n",
            "Installing collected packages: mysql-connector\n",
            "Successfully installed mysql-connector-2.2.9\n",
            "Requirement already satisfied: pandas in /usr/local/lib/python3.7/dist-packages (1.1.5)\n",
            "Requirement already satisfied: numpy>=1.15.4 in /usr/local/lib/python3.7/dist-packages (from pandas) (1.19.5)\n",
            "Requirement already satisfied: python-dateutil>=2.7.3 in /usr/local/lib/python3.7/dist-packages (from pandas) (2.8.2)\n",
            "Requirement already satisfied: pytz>=2017.2 in /usr/local/lib/python3.7/dist-packages (from pandas) (2018.9)\n",
            "Requirement already satisfied: six>=1.5 in /usr/local/lib/python3.7/dist-packages (from python-dateutil>=2.7.3->pandas) (1.15.0)\n"
          ]
        }
      ]
    },
    {
      "cell_type": "code",
      "metadata": {
        "id": "3e9c12c9"
      },
      "source": [
        "import os\n",
        "import mysql.connector\n",
        "import numpy as np\n",
        "import pandas as pd\n",
        "import matplotlib.pyplot as plt\n",
        "import seaborn as sns\n",
        "%matplotlib inline"
      ],
      "id": "3e9c12c9",
      "execution_count": 2,
      "outputs": []
    },
    {
      "cell_type": "code",
      "metadata": {
        "id": "8fe52b38"
      },
      "source": [
        "import warnings\n",
        "warnings.filterwarnings('ignore')\n",
        "pd.options.display.max_info_rows=20\n",
        "pd.options.display.max_info_columns=20\n",
        "pd.options.display.float_format = '{:.5f}'.format"
      ],
      "id": "8fe52b38",
      "execution_count": 3,
      "outputs": []
    },
    {
      "cell_type": "markdown",
      "metadata": {
        "id": "56c43c94"
      },
      "source": [
        "---\n",
        "<a name = Section3></a>\n",
        "## **3. Data Acquisition & Description**"
      ],
      "id": "56c43c94"
    },
    {
      "cell_type": "markdown",
      "metadata": {
        "id": "4ce748ca"
      },
      "source": [
        "<a id = Section31></a>\n",
        "### 3.1 Importing   \"department_data\""
      ],
      "id": "4ce748ca"
    },
    {
      "cell_type": "code",
      "metadata": {
        "id": "RnUR-e8CyapP"
      },
      "source": [
        "mydb = mysql.connector.connect(\n",
        "  host=\"cpanel.insaid.co\",\n",
        "  user=\"student\",\n",
        "  passwd=\"student\",\n",
        "  database=\"Capstone2\"\n",
        ")\n",
        "\n",
        "mycursor = mydb.cursor()"
      ],
      "id": "RnUR-e8CyapP",
      "execution_count": 4,
      "outputs": []
    },
    {
      "cell_type": "code",
      "metadata": {
        "colab": {
          "base_uri": "https://localhost:8080/",
          "height": 203
        },
        "id": "ba956f44",
        "outputId": "71fc091b-14ab-4488-87ec-8a3bd24f5059"
      },
      "source": [
        "mycursor.execute(\"select * from department_data\")\n",
        "myresult = mycursor.fetchall()\n",
        "df_department_data = pd.DataFrame(myresult)\n",
        "\n",
        "field_names = [i[0] for i in mycursor.description]\n",
        "df_department_data.columns = field_names\n",
        "\n",
        "df_department_data.head()"
      ],
      "id": "ba956f44",
      "execution_count": 5,
      "outputs": [
        {
          "output_type": "execute_result",
          "data": {
            "text/html": [
              "<div>\n",
              "<style scoped>\n",
              "    .dataframe tbody tr th:only-of-type {\n",
              "        vertical-align: middle;\n",
              "    }\n",
              "\n",
              "    .dataframe tbody tr th {\n",
              "        vertical-align: top;\n",
              "    }\n",
              "\n",
              "    .dataframe thead th {\n",
              "        text-align: right;\n",
              "    }\n",
              "</style>\n",
              "<table border=\"1\" class=\"dataframe\">\n",
              "  <thead>\n",
              "    <tr style=\"text-align: right;\">\n",
              "      <th></th>\n",
              "      <th>dept_id</th>\n",
              "      <th>dept_name</th>\n",
              "      <th>dept_head</th>\n",
              "    </tr>\n",
              "  </thead>\n",
              "  <tbody>\n",
              "    <tr>\n",
              "      <th>0</th>\n",
              "      <td>D00-IT</td>\n",
              "      <td>IT</td>\n",
              "      <td>Henry Adey</td>\n",
              "    </tr>\n",
              "    <tr>\n",
              "      <th>1</th>\n",
              "      <td>D00-SS</td>\n",
              "      <td>Sales</td>\n",
              "      <td>Edward J Bayley</td>\n",
              "    </tr>\n",
              "    <tr>\n",
              "      <th>2</th>\n",
              "      <td>D00-TP</td>\n",
              "      <td>Temp</td>\n",
              "      <td>Micheal Zachrey</td>\n",
              "    </tr>\n",
              "    <tr>\n",
              "      <th>3</th>\n",
              "      <td>D00-ENG</td>\n",
              "      <td>Engineering</td>\n",
              "      <td>Sushant Raghunathan K</td>\n",
              "    </tr>\n",
              "    <tr>\n",
              "      <th>4</th>\n",
              "      <td>D00-SP</td>\n",
              "      <td>Support</td>\n",
              "      <td>Amelia Westray</td>\n",
              "    </tr>\n",
              "  </tbody>\n",
              "</table>\n",
              "</div>"
            ],
            "text/plain": [
              "   dept_id    dept_name              dept_head\n",
              "0   D00-IT           IT             Henry Adey\n",
              "1   D00-SS        Sales        Edward J Bayley\n",
              "2   D00-TP         Temp        Micheal Zachrey\n",
              "3  D00-ENG  Engineering  Sushant Raghunathan K\n",
              "4   D00-SP      Support         Amelia Westray"
            ]
          },
          "metadata": {},
          "execution_count": 5
        }
      ]
    },
    {
      "cell_type": "markdown",
      "metadata": {
        "id": "f0826e6f"
      },
      "source": [
        "<a id = Section32></a>\n",
        "### 3.2 Importing   \"employee_details_data\""
      ],
      "id": "f0826e6f"
    },
    {
      "cell_type": "code",
      "metadata": {
        "colab": {
          "base_uri": "https://localhost:8080/",
          "height": 203
        },
        "id": "87b86113",
        "outputId": "7e43631b-ebb8-42dc-a371-5dadf8362488"
      },
      "source": [
        "mycursor.execute(\"select * from employee_details_data\")\n",
        "myresult = mycursor.fetchall()\n",
        "df_employee_details_data = pd.DataFrame(myresult)\n",
        "\n",
        "field_names = [i[0] for i in mycursor.description]\n",
        "df_employee_details_data.columns = field_names\n",
        "\n",
        "df_employee_details_data.head()"
      ],
      "id": "87b86113",
      "execution_count": 6,
      "outputs": [
        {
          "output_type": "execute_result",
          "data": {
            "text/html": [
              "<div>\n",
              "<style scoped>\n",
              "    .dataframe tbody tr th:only-of-type {\n",
              "        vertical-align: middle;\n",
              "    }\n",
              "\n",
              "    .dataframe tbody tr th {\n",
              "        vertical-align: top;\n",
              "    }\n",
              "\n",
              "    .dataframe thead th {\n",
              "        text-align: right;\n",
              "    }\n",
              "</style>\n",
              "<table border=\"1\" class=\"dataframe\">\n",
              "  <thead>\n",
              "    <tr style=\"text-align: right;\">\n",
              "      <th></th>\n",
              "      <th>employee_id</th>\n",
              "      <th>age</th>\n",
              "      <th>gender</th>\n",
              "      <th>marital_status</th>\n",
              "    </tr>\n",
              "  </thead>\n",
              "  <tbody>\n",
              "    <tr>\n",
              "      <th>0</th>\n",
              "      <td>113558</td>\n",
              "      <td>43</td>\n",
              "      <td>Male</td>\n",
              "      <td>Married</td>\n",
              "    </tr>\n",
              "    <tr>\n",
              "      <th>1</th>\n",
              "      <td>112256</td>\n",
              "      <td>24</td>\n",
              "      <td>Female</td>\n",
              "      <td>Unmarried</td>\n",
              "    </tr>\n",
              "    <tr>\n",
              "      <th>2</th>\n",
              "      <td>112586</td>\n",
              "      <td>22</td>\n",
              "      <td>Female</td>\n",
              "      <td>Unmarried</td>\n",
              "    </tr>\n",
              "    <tr>\n",
              "      <th>3</th>\n",
              "      <td>108071</td>\n",
              "      <td>36</td>\n",
              "      <td>Male</td>\n",
              "      <td>Married</td>\n",
              "    </tr>\n",
              "    <tr>\n",
              "      <th>4</th>\n",
              "      <td>116915</td>\n",
              "      <td>38</td>\n",
              "      <td>Male</td>\n",
              "      <td>Married</td>\n",
              "    </tr>\n",
              "  </tbody>\n",
              "</table>\n",
              "</div>"
            ],
            "text/plain": [
              "   employee_id  age  gender marital_status\n",
              "0       113558   43    Male        Married\n",
              "1       112256   24  Female      Unmarried\n",
              "2       112586   22  Female      Unmarried\n",
              "3       108071   36    Male        Married\n",
              "4       116915   38    Male        Married"
            ]
          },
          "metadata": {},
          "execution_count": 6
        }
      ]
    },
    {
      "cell_type": "markdown",
      "metadata": {
        "id": "14904391"
      },
      "source": [
        "<a id = Section33></a>\n",
        "### 3.3 Importing   \"employee_data\""
      ],
      "id": "14904391"
    },
    {
      "cell_type": "code",
      "metadata": {
        "colab": {
          "base_uri": "https://localhost:8080/",
          "height": 203
        },
        "id": "f807c3cd",
        "outputId": "d437f4a3-67c0-4eae-80d8-1d2eeb8c421e"
      },
      "source": [
        "mycursor.execute(\"select * from employee_data\")\n",
        "myresult = mycursor.fetchall()\n",
        "df_employee_data = pd.DataFrame(myresult)\n",
        "\n",
        "field_names = [i[0] for i in mycursor.description]\n",
        "df_employee_data.columns = field_names\n",
        "\n",
        "df_employee_data.head()"
      ],
      "id": "f807c3cd",
      "execution_count": 7,
      "outputs": [
        {
          "output_type": "execute_result",
          "data": {
            "text/html": [
              "<div>\n",
              "<style scoped>\n",
              "    .dataframe tbody tr th:only-of-type {\n",
              "        vertical-align: middle;\n",
              "    }\n",
              "\n",
              "    .dataframe tbody tr th {\n",
              "        vertical-align: top;\n",
              "    }\n",
              "\n",
              "    .dataframe thead th {\n",
              "        text-align: right;\n",
              "    }\n",
              "</style>\n",
              "<table border=\"1\" class=\"dataframe\">\n",
              "  <thead>\n",
              "    <tr style=\"text-align: right;\">\n",
              "      <th></th>\n",
              "      <th>avg_monthly_hrs</th>\n",
              "      <th>department</th>\n",
              "      <th>filed_complaint</th>\n",
              "      <th>last_evaluation</th>\n",
              "      <th>n_projects</th>\n",
              "      <th>recently_promoted</th>\n",
              "      <th>salary</th>\n",
              "      <th>satisfaction</th>\n",
              "      <th>status</th>\n",
              "      <th>tenure</th>\n",
              "      <th>employee_id</th>\n",
              "    </tr>\n",
              "  </thead>\n",
              "  <tbody>\n",
              "    <tr>\n",
              "      <th>0</th>\n",
              "      <td>246.00</td>\n",
              "      <td>None</td>\n",
              "      <td>None</td>\n",
              "      <td>0.86684</td>\n",
              "      <td>6</td>\n",
              "      <td>nan</td>\n",
              "      <td>medium</td>\n",
              "      <td>0.13442</td>\n",
              "      <td>Left</td>\n",
              "      <td>4.00</td>\n",
              "      <td>124467</td>\n",
              "    </tr>\n",
              "    <tr>\n",
              "      <th>1</th>\n",
              "      <td>134.00</td>\n",
              "      <td>None</td>\n",
              "      <td>None</td>\n",
              "      <td>0.55572</td>\n",
              "      <td>2</td>\n",
              "      <td>nan</td>\n",
              "      <td>low</td>\n",
              "      <td>0.51104</td>\n",
              "      <td>Left</td>\n",
              "      <td>3.00</td>\n",
              "      <td>112210</td>\n",
              "    </tr>\n",
              "    <tr>\n",
              "      <th>2</th>\n",
              "      <td>156.00</td>\n",
              "      <td>D00-SS</td>\n",
              "      <td>1.00</td>\n",
              "      <td>0.47408</td>\n",
              "      <td>2</td>\n",
              "      <td>nan</td>\n",
              "      <td>medium</td>\n",
              "      <td>0.40510</td>\n",
              "      <td>Left</td>\n",
              "      <td>3.00</td>\n",
              "      <td>126150</td>\n",
              "    </tr>\n",
              "    <tr>\n",
              "      <th>3</th>\n",
              "      <td>256.00</td>\n",
              "      <td>D00-SP</td>\n",
              "      <td>None</td>\n",
              "      <td>0.96136</td>\n",
              "      <td>6</td>\n",
              "      <td>nan</td>\n",
              "      <td>low</td>\n",
              "      <td>0.15297</td>\n",
              "      <td>Left</td>\n",
              "      <td>4.00</td>\n",
              "      <td>125346</td>\n",
              "    </tr>\n",
              "    <tr>\n",
              "      <th>4</th>\n",
              "      <td>146.00</td>\n",
              "      <td>D00-SS</td>\n",
              "      <td>None</td>\n",
              "      <td>0.50735</td>\n",
              "      <td>2</td>\n",
              "      <td>nan</td>\n",
              "      <td>medium</td>\n",
              "      <td>0.43484</td>\n",
              "      <td>Left</td>\n",
              "      <td>3.00</td>\n",
              "      <td>113707</td>\n",
              "    </tr>\n",
              "  </tbody>\n",
              "</table>\n",
              "</div>"
            ],
            "text/plain": [
              "  avg_monthly_hrs department filed_complaint  ...  status  tenure  employee_id\n",
              "0          246.00       None            None  ...    Left    4.00       124467\n",
              "1          134.00       None            None  ...    Left    3.00       112210\n",
              "2          156.00     D00-SS            1.00  ...    Left    3.00       126150\n",
              "3          256.00     D00-SP            None  ...    Left    4.00       125346\n",
              "4          146.00     D00-SS            None  ...    Left    3.00       113707\n",
              "\n",
              "[5 rows x 11 columns]"
            ]
          },
          "metadata": {},
          "execution_count": 7
        }
      ]
    },
    {
      "cell_type": "markdown",
      "metadata": {
        "id": "c0b4b813"
      },
      "source": [
        "<a id = Section34></a>\n",
        "### 3.4 Data Description"
      ],
      "id": "c0b4b813"
    },
    {
      "cell_type": "markdown",
      "metadata": {
        "id": "88ef95c1"
      },
      "source": [
        "The Business Intelligence Analysts of the Company provided you three datasets that contain information about past employees and their status (still employed or already left).\n",
        "\n",
        "1. **department_data**\n",
        "    \n",
        "    This dataset contains information about each department. The schema of the dataset is as follows:\n",
        "\n",
        "    - dept_id – Unique Department Code\n",
        "    - dept_name – Name of the Department\n",
        "    - dept_head – Name of the Head of the Department\n",
        "    \n",
        "\n",
        "2. **employee_details_data**\n",
        "\n",
        "    This dataset consists of Employee ID, their Age, Gender and Marital Status. The schema of this dataset is as follows:\n",
        "\n",
        "    - employee_id – Unique ID Number for each employee\n",
        "    - age – Age of the employee\n",
        "    - gender – Gender of the employee\n",
        "    - marital_status – Marital Status of the employee\n",
        "\n",
        "\n",
        "3. **employee_data**\n",
        "\n",
        "    This dataset consists of each employee’s Administrative Information, Workload Information, Mutual Evaluation Information and Status.\n",
        "    \n",
        "\n",
        "**Target variable**\n",
        "\n",
        "- **status** – Current employment status (Employed / Left)\n",
        "    \n",
        "    \n",
        "**Administrative information**\n",
        "\n",
        "- **department** – Department to which the employees belong(ed) to\n",
        "- **salary** – Salary level with respect to rest of their department\n",
        "- **tenure** – Number of years at the company\n",
        "- **recently_promoted** – Was the employee promoted in the last 3 years?\n",
        "- **employee_id** – Unique ID Number for each employee\n",
        "    \n",
        "    \n",
        "**Workload information**\n",
        "\n",
        "- **n_projects** – Number of projects employee has worked on\n",
        "- **avg_monthly_hrs** – Average number of hours worked per month\n",
        "    \n",
        "    \n",
        "**Mutual evaluation information**\n",
        "\n",
        "- **satisfaction** – Score for employee’s satisfaction with the company (higher is better)\n",
        "- **last_evaluation** – Score for most recent evaluation of employee (higher is better)\n",
        "- **filed_complaint** – Has the employee filed a formal complaint in the last 3 years?"
      ],
      "id": "88ef95c1"
    },
    {
      "cell_type": "markdown",
      "metadata": {
        "id": "6a053c48"
      },
      "source": [
        "<a id = Section4></a>\n",
        "### 4. Understanding Project Datasets"
      ],
      "id": "6a053c48"
    },
    {
      "cell_type": "markdown",
      "metadata": {
        "id": "fc6f08e0"
      },
      "source": [
        "<a id = Section41></a>\n",
        "### 4.1 Understand Dataset: department_data"
      ],
      "id": "fc6f08e0"
    },
    {
      "cell_type": "code",
      "metadata": {
        "colab": {
          "base_uri": "https://localhost:8080/",
          "height": 203
        },
        "id": "5c1530d0",
        "outputId": "48990d2c-7c5e-4544-80e6-1499724615ad"
      },
      "source": [
        "df_department_data.head()"
      ],
      "id": "5c1530d0",
      "execution_count": 8,
      "outputs": [
        {
          "output_type": "execute_result",
          "data": {
            "text/html": [
              "<div>\n",
              "<style scoped>\n",
              "    .dataframe tbody tr th:only-of-type {\n",
              "        vertical-align: middle;\n",
              "    }\n",
              "\n",
              "    .dataframe tbody tr th {\n",
              "        vertical-align: top;\n",
              "    }\n",
              "\n",
              "    .dataframe thead th {\n",
              "        text-align: right;\n",
              "    }\n",
              "</style>\n",
              "<table border=\"1\" class=\"dataframe\">\n",
              "  <thead>\n",
              "    <tr style=\"text-align: right;\">\n",
              "      <th></th>\n",
              "      <th>dept_id</th>\n",
              "      <th>dept_name</th>\n",
              "      <th>dept_head</th>\n",
              "    </tr>\n",
              "  </thead>\n",
              "  <tbody>\n",
              "    <tr>\n",
              "      <th>0</th>\n",
              "      <td>D00-IT</td>\n",
              "      <td>IT</td>\n",
              "      <td>Henry Adey</td>\n",
              "    </tr>\n",
              "    <tr>\n",
              "      <th>1</th>\n",
              "      <td>D00-SS</td>\n",
              "      <td>Sales</td>\n",
              "      <td>Edward J Bayley</td>\n",
              "    </tr>\n",
              "    <tr>\n",
              "      <th>2</th>\n",
              "      <td>D00-TP</td>\n",
              "      <td>Temp</td>\n",
              "      <td>Micheal Zachrey</td>\n",
              "    </tr>\n",
              "    <tr>\n",
              "      <th>3</th>\n",
              "      <td>D00-ENG</td>\n",
              "      <td>Engineering</td>\n",
              "      <td>Sushant Raghunathan K</td>\n",
              "    </tr>\n",
              "    <tr>\n",
              "      <th>4</th>\n",
              "      <td>D00-SP</td>\n",
              "      <td>Support</td>\n",
              "      <td>Amelia Westray</td>\n",
              "    </tr>\n",
              "  </tbody>\n",
              "</table>\n",
              "</div>"
            ],
            "text/plain": [
              "   dept_id    dept_name              dept_head\n",
              "0   D00-IT           IT             Henry Adey\n",
              "1   D00-SS        Sales        Edward J Bayley\n",
              "2   D00-TP         Temp        Micheal Zachrey\n",
              "3  D00-ENG  Engineering  Sushant Raghunathan K\n",
              "4   D00-SP      Support         Amelia Westray"
            ]
          },
          "metadata": {},
          "execution_count": 8
        }
      ]
    },
    {
      "cell_type": "code",
      "metadata": {
        "colab": {
          "base_uri": "https://localhost:8080/"
        },
        "id": "005d4df6",
        "outputId": "259ef4eb-8204-4d80-8bb4-af97f1e7f46f"
      },
      "source": [
        "df_department_data.info(verbose=True)\n"
      ],
      "id": "005d4df6",
      "execution_count": 9,
      "outputs": [
        {
          "output_type": "stream",
          "name": "stdout",
          "text": [
            "<class 'pandas.core.frame.DataFrame'>\n",
            "RangeIndex: 11 entries, 0 to 10\n",
            "Data columns (total 3 columns):\n",
            " #   Column     Non-Null Count  Dtype \n",
            "---  ------     --------------  ----- \n",
            " 0   dept_id    11 non-null     object\n",
            " 1   dept_name  11 non-null     object\n",
            " 2   dept_head  11 non-null     object\n",
            "dtypes: object(3)\n",
            "memory usage: 392.0+ bytes\n"
          ]
        }
      ]
    },
    {
      "cell_type": "code",
      "metadata": {
        "id": "4f4e3c33",
        "colab": {
          "base_uri": "https://localhost:8080/"
        },
        "outputId": "53266e35-7ddc-46bf-8f13-a59f2b26b879"
      },
      "source": [
        "df_department_data.isnull().sum().sum()"
      ],
      "id": "4f4e3c33",
      "execution_count": 10,
      "outputs": [
        {
          "output_type": "execute_result",
          "data": {
            "text/plain": [
              "0"
            ]
          },
          "metadata": {},
          "execution_count": 10
        }
      ]
    },
    {
      "cell_type": "code",
      "metadata": {
        "id": "135d019b",
        "colab": {
          "base_uri": "https://localhost:8080/"
        },
        "outputId": "df591db0-ed41-47da-c662-bb9caffcd939"
      },
      "source": [
        "df_department_data.isnull().sum().sort_values(ascending=False)"
      ],
      "id": "135d019b",
      "execution_count": 11,
      "outputs": [
        {
          "output_type": "execute_result",
          "data": {
            "text/plain": [
              "dept_head    0\n",
              "dept_name    0\n",
              "dept_id      0\n",
              "dtype: int64"
            ]
          },
          "metadata": {},
          "execution_count": 11
        }
      ]
    },
    {
      "cell_type": "markdown",
      "metadata": {
        "id": "501c2bf0"
      },
      "source": [
        "#### 'department_data' consists of 3 Columns and 11 Rows with no missing data"
      ],
      "id": "501c2bf0"
    },
    {
      "cell_type": "code",
      "metadata": {
        "id": "7f8f48c6",
        "colab": {
          "base_uri": "https://localhost:8080/",
          "height": 172
        },
        "outputId": "83eada0c-4110-4ab6-da5e-a2be9385eacf"
      },
      "source": [
        "df_department_data.describe(include='all')"
      ],
      "id": "7f8f48c6",
      "execution_count": 51,
      "outputs": [
        {
          "output_type": "execute_result",
          "data": {
            "text/html": [
              "<div>\n",
              "<style scoped>\n",
              "    .dataframe tbody tr th:only-of-type {\n",
              "        vertical-align: middle;\n",
              "    }\n",
              "\n",
              "    .dataframe tbody tr th {\n",
              "        vertical-align: top;\n",
              "    }\n",
              "\n",
              "    .dataframe thead th {\n",
              "        text-align: right;\n",
              "    }\n",
              "</style>\n",
              "<table border=\"1\" class=\"dataframe\">\n",
              "  <thead>\n",
              "    <tr style=\"text-align: right;\">\n",
              "      <th></th>\n",
              "      <th>dept_id</th>\n",
              "      <th>dept_name</th>\n",
              "      <th>dept_head</th>\n",
              "    </tr>\n",
              "  </thead>\n",
              "  <tbody>\n",
              "    <tr>\n",
              "      <th>count</th>\n",
              "      <td>11</td>\n",
              "      <td>11</td>\n",
              "      <td>11</td>\n",
              "    </tr>\n",
              "    <tr>\n",
              "      <th>unique</th>\n",
              "      <td>11</td>\n",
              "      <td>11</td>\n",
              "      <td>11</td>\n",
              "    </tr>\n",
              "    <tr>\n",
              "      <th>top</th>\n",
              "      <td>D00-TP</td>\n",
              "      <td>Sales</td>\n",
              "      <td>Evelyn Tolson</td>\n",
              "    </tr>\n",
              "    <tr>\n",
              "      <th>freq</th>\n",
              "      <td>1</td>\n",
              "      <td>1</td>\n",
              "      <td>1</td>\n",
              "    </tr>\n",
              "  </tbody>\n",
              "</table>\n",
              "</div>"
            ],
            "text/plain": [
              "       dept_id dept_name      dept_head\n",
              "count       11        11             11\n",
              "unique      11        11             11\n",
              "top     D00-TP     Sales  Evelyn Tolson\n",
              "freq         1         1              1"
            ]
          },
          "metadata": {},
          "execution_count": 51
        }
      ]
    },
    {
      "cell_type": "code",
      "metadata": {
        "id": "cecb9813",
        "colab": {
          "base_uri": "https://localhost:8080/"
        },
        "outputId": "c22284ad-116d-409e-948d-4524f58fac13"
      },
      "source": [
        "df_department_data['dept_id'].value_counts()"
      ],
      "id": "cecb9813",
      "execution_count": 13,
      "outputs": [
        {
          "output_type": "execute_result",
          "data": {
            "text/plain": [
              "D00-TP     1\n",
              "D00-PR     1\n",
              "D00-AD     1\n",
              "D00-MT     1\n",
              "D00-SS     1\n",
              "D00-SP     1\n",
              "D00-PD     1\n",
              "D00-ENG    1\n",
              "D00-IT     1\n",
              "D00-FN     1\n",
              "D00-MN     1\n",
              "Name: dept_id, dtype: int64"
            ]
          },
          "metadata": {},
          "execution_count": 13
        }
      ]
    },
    {
      "cell_type": "code",
      "metadata": {
        "id": "dac636c0",
        "colab": {
          "base_uri": "https://localhost:8080/"
        },
        "outputId": "dd0a4edc-14c1-4b67-c10a-986d2fe54e23"
      },
      "source": [
        "df_department_data['dept_name'].value_counts()"
      ],
      "id": "dac636c0",
      "execution_count": 14,
      "outputs": [
        {
          "output_type": "execute_result",
          "data": {
            "text/plain": [
              "Sales          1\n",
              "Procurement    1\n",
              "IT             1\n",
              "Finance        1\n",
              "Support        1\n",
              "Management     1\n",
              "Engineering    1\n",
              "Product        1\n",
              "Admin          1\n",
              "Marketing      1\n",
              "Temp           1\n",
              "Name: dept_name, dtype: int64"
            ]
          },
          "metadata": {},
          "execution_count": 14
        }
      ]
    },
    {
      "cell_type": "code",
      "metadata": {
        "id": "40bc79a0",
        "colab": {
          "base_uri": "https://localhost:8080/"
        },
        "outputId": "9c84f820-5600-490f-c893-66f5eb16a460"
      },
      "source": [
        "df_department_data['dept_head'].value_counts()"
      ],
      "id": "40bc79a0",
      "execution_count": 15,
      "outputs": [
        {
          "output_type": "execute_result",
          "data": {
            "text/plain": [
              "Evelyn Tolson            1\n",
              "Aanchal J                1\n",
              "Amelia Westray           1\n",
              "Ellie Trafton            1\n",
              "Louie Viles              1\n",
              "Edward J Bayley          1\n",
              "Henry Adey               1\n",
              "Darcy Staines            1\n",
              "Reuben Swann             1\n",
              "Sushant Raghunathan K    1\n",
              "Micheal Zachrey          1\n",
              "Name: dept_head, dtype: int64"
            ]
          },
          "metadata": {},
          "execution_count": 15
        }
      ]
    },
    {
      "cell_type": "code",
      "metadata": {
        "colab": {
          "base_uri": "https://localhost:8080/",
          "height": 388
        },
        "id": "cGwj6SBzijT5",
        "outputId": "2e7f3042-c51d-48c8-b66e-7dc5bd30695f"
      },
      "source": [
        "df_department_data"
      ],
      "id": "cGwj6SBzijT5",
      "execution_count": 47,
      "outputs": [
        {
          "output_type": "execute_result",
          "data": {
            "text/html": [
              "<div>\n",
              "<style scoped>\n",
              "    .dataframe tbody tr th:only-of-type {\n",
              "        vertical-align: middle;\n",
              "    }\n",
              "\n",
              "    .dataframe tbody tr th {\n",
              "        vertical-align: top;\n",
              "    }\n",
              "\n",
              "    .dataframe thead th {\n",
              "        text-align: right;\n",
              "    }\n",
              "</style>\n",
              "<table border=\"1\" class=\"dataframe\">\n",
              "  <thead>\n",
              "    <tr style=\"text-align: right;\">\n",
              "      <th></th>\n",
              "      <th>dept_id</th>\n",
              "      <th>dept_name</th>\n",
              "      <th>dept_head</th>\n",
              "    </tr>\n",
              "  </thead>\n",
              "  <tbody>\n",
              "    <tr>\n",
              "      <th>0</th>\n",
              "      <td>D00-IT</td>\n",
              "      <td>IT</td>\n",
              "      <td>Henry Adey</td>\n",
              "    </tr>\n",
              "    <tr>\n",
              "      <th>1</th>\n",
              "      <td>D00-SS</td>\n",
              "      <td>Sales</td>\n",
              "      <td>Edward J Bayley</td>\n",
              "    </tr>\n",
              "    <tr>\n",
              "      <th>2</th>\n",
              "      <td>D00-TP</td>\n",
              "      <td>Temp</td>\n",
              "      <td>Micheal Zachrey</td>\n",
              "    </tr>\n",
              "    <tr>\n",
              "      <th>3</th>\n",
              "      <td>D00-ENG</td>\n",
              "      <td>Engineering</td>\n",
              "      <td>Sushant Raghunathan K</td>\n",
              "    </tr>\n",
              "    <tr>\n",
              "      <th>4</th>\n",
              "      <td>D00-SP</td>\n",
              "      <td>Support</td>\n",
              "      <td>Amelia Westray</td>\n",
              "    </tr>\n",
              "    <tr>\n",
              "      <th>5</th>\n",
              "      <td>D00-FN</td>\n",
              "      <td>Finance</td>\n",
              "      <td>Aanchal J</td>\n",
              "    </tr>\n",
              "    <tr>\n",
              "      <th>6</th>\n",
              "      <td>D00-PR</td>\n",
              "      <td>Procurement</td>\n",
              "      <td>Louie Viles</td>\n",
              "    </tr>\n",
              "    <tr>\n",
              "      <th>7</th>\n",
              "      <td>D00-AD</td>\n",
              "      <td>Admin</td>\n",
              "      <td>Evelyn Tolson</td>\n",
              "    </tr>\n",
              "    <tr>\n",
              "      <th>8</th>\n",
              "      <td>D00-MN</td>\n",
              "      <td>Management</td>\n",
              "      <td>Ellie Trafton</td>\n",
              "    </tr>\n",
              "    <tr>\n",
              "      <th>9</th>\n",
              "      <td>D00-MT</td>\n",
              "      <td>Marketing</td>\n",
              "      <td>Reuben Swann</td>\n",
              "    </tr>\n",
              "    <tr>\n",
              "      <th>10</th>\n",
              "      <td>D00-PD</td>\n",
              "      <td>Product</td>\n",
              "      <td>Darcy Staines</td>\n",
              "    </tr>\n",
              "  </tbody>\n",
              "</table>\n",
              "</div>"
            ],
            "text/plain": [
              "    dept_id    dept_name              dept_head\n",
              "0    D00-IT           IT             Henry Adey\n",
              "1    D00-SS        Sales        Edward J Bayley\n",
              "2    D00-TP         Temp        Micheal Zachrey\n",
              "3   D00-ENG  Engineering  Sushant Raghunathan K\n",
              "4    D00-SP      Support         Amelia Westray\n",
              "5    D00-FN      Finance              Aanchal J\n",
              "6    D00-PR  Procurement            Louie Viles\n",
              "7    D00-AD        Admin          Evelyn Tolson\n",
              "8    D00-MN   Management          Ellie Trafton\n",
              "9    D00-MT    Marketing           Reuben Swann\n",
              "10   D00-PD      Product          Darcy Staines"
            ]
          },
          "metadata": {},
          "execution_count": 47
        }
      ]
    },
    {
      "cell_type": "markdown",
      "metadata": {
        "id": "5834eddd"
      },
      "source": [
        "#### In the 'department_data', there are 11 UNIQUE 'Department ID' having all different UNIQUE 'Department Name' headed by 11 different 'Department Heads'"
      ],
      "id": "5834eddd"
    },
    {
      "cell_type": "markdown",
      "metadata": {
        "id": "951e9987"
      },
      "source": [
        "<a id = Section42></a>\n",
        "### 4.2 Understand Dataset: employee_details_data"
      ],
      "id": "951e9987"
    },
    {
      "cell_type": "code",
      "metadata": {
        "id": "beff33d5",
        "colab": {
          "base_uri": "https://localhost:8080/",
          "height": 203
        },
        "outputId": "5c638fb7-7163-4696-ce2e-bd9ebcf6ecd4"
      },
      "source": [
        "df_employee_details_data.head()"
      ],
      "id": "beff33d5",
      "execution_count": 16,
      "outputs": [
        {
          "output_type": "execute_result",
          "data": {
            "text/html": [
              "<div>\n",
              "<style scoped>\n",
              "    .dataframe tbody tr th:only-of-type {\n",
              "        vertical-align: middle;\n",
              "    }\n",
              "\n",
              "    .dataframe tbody tr th {\n",
              "        vertical-align: top;\n",
              "    }\n",
              "\n",
              "    .dataframe thead th {\n",
              "        text-align: right;\n",
              "    }\n",
              "</style>\n",
              "<table border=\"1\" class=\"dataframe\">\n",
              "  <thead>\n",
              "    <tr style=\"text-align: right;\">\n",
              "      <th></th>\n",
              "      <th>employee_id</th>\n",
              "      <th>age</th>\n",
              "      <th>gender</th>\n",
              "      <th>marital_status</th>\n",
              "    </tr>\n",
              "  </thead>\n",
              "  <tbody>\n",
              "    <tr>\n",
              "      <th>0</th>\n",
              "      <td>113558</td>\n",
              "      <td>43</td>\n",
              "      <td>Male</td>\n",
              "      <td>Married</td>\n",
              "    </tr>\n",
              "    <tr>\n",
              "      <th>1</th>\n",
              "      <td>112256</td>\n",
              "      <td>24</td>\n",
              "      <td>Female</td>\n",
              "      <td>Unmarried</td>\n",
              "    </tr>\n",
              "    <tr>\n",
              "      <th>2</th>\n",
              "      <td>112586</td>\n",
              "      <td>22</td>\n",
              "      <td>Female</td>\n",
              "      <td>Unmarried</td>\n",
              "    </tr>\n",
              "    <tr>\n",
              "      <th>3</th>\n",
              "      <td>108071</td>\n",
              "      <td>36</td>\n",
              "      <td>Male</td>\n",
              "      <td>Married</td>\n",
              "    </tr>\n",
              "    <tr>\n",
              "      <th>4</th>\n",
              "      <td>116915</td>\n",
              "      <td>38</td>\n",
              "      <td>Male</td>\n",
              "      <td>Married</td>\n",
              "    </tr>\n",
              "  </tbody>\n",
              "</table>\n",
              "</div>"
            ],
            "text/plain": [
              "   employee_id  age  gender marital_status\n",
              "0       113558   43    Male        Married\n",
              "1       112256   24  Female      Unmarried\n",
              "2       112586   22  Female      Unmarried\n",
              "3       108071   36    Male        Married\n",
              "4       116915   38    Male        Married"
            ]
          },
          "metadata": {},
          "execution_count": 16
        }
      ]
    },
    {
      "cell_type": "code",
      "metadata": {
        "id": "4ebe3df6",
        "colab": {
          "base_uri": "https://localhost:8080/"
        },
        "outputId": "f1c8ad04-ff89-47e2-8a90-e546f3aae13a"
      },
      "source": [
        "df_employee_details_data.info(verbose=True)"
      ],
      "id": "4ebe3df6",
      "execution_count": 17,
      "outputs": [
        {
          "output_type": "stream",
          "name": "stdout",
          "text": [
            "<class 'pandas.core.frame.DataFrame'>\n",
            "RangeIndex: 14245 entries, 0 to 14244\n",
            "Data columns (total 4 columns):\n",
            " #   Column          Dtype \n",
            "---  ------          ----- \n",
            " 0   employee_id     int64 \n",
            " 1   age             int64 \n",
            " 2   gender          object\n",
            " 3   marital_status  object\n",
            "dtypes: int64(2), object(2)\n",
            "memory usage: 445.3+ KB\n"
          ]
        }
      ]
    },
    {
      "cell_type": "code",
      "metadata": {
        "id": "49d5020f",
        "colab": {
          "base_uri": "https://localhost:8080/"
        },
        "outputId": "baccc364-d8e9-42d2-eb70-24733b99ef50"
      },
      "source": [
        "df_employee_details_data.isnull().sum().sum()"
      ],
      "id": "49d5020f",
      "execution_count": 18,
      "outputs": [
        {
          "output_type": "execute_result",
          "data": {
            "text/plain": [
              "0"
            ]
          },
          "metadata": {},
          "execution_count": 18
        }
      ]
    },
    {
      "cell_type": "code",
      "metadata": {
        "id": "030856a2",
        "colab": {
          "base_uri": "https://localhost:8080/"
        },
        "outputId": "b0e9226e-7cea-4ffe-dbce-e140ab80e9c7"
      },
      "source": [
        "df_employee_details_data.isnull().sum().sort_values(ascending=False)"
      ],
      "id": "030856a2",
      "execution_count": 19,
      "outputs": [
        {
          "output_type": "execute_result",
          "data": {
            "text/plain": [
              "marital_status    0\n",
              "gender            0\n",
              "age               0\n",
              "employee_id       0\n",
              "dtype: int64"
            ]
          },
          "metadata": {},
          "execution_count": 19
        }
      ]
    },
    {
      "cell_type": "markdown",
      "metadata": {
        "id": "b0e08da8"
      },
      "source": [
        "#### 'employee_details_data' consists of 4 Columns and 14,245 Rows with no missing data"
      ],
      "id": "b0e08da8"
    },
    {
      "cell_type": "code",
      "metadata": {
        "id": "5786e470",
        "colab": {
          "base_uri": "https://localhost:8080/",
          "height": 388
        },
        "outputId": "61ba8b6e-c3ed-4573-bbba-396ca233043e"
      },
      "source": [
        "df_employee_details_data.describe(include='all')"
      ],
      "id": "5786e470",
      "execution_count": 50,
      "outputs": [
        {
          "output_type": "execute_result",
          "data": {
            "text/html": [
              "<div>\n",
              "<style scoped>\n",
              "    .dataframe tbody tr th:only-of-type {\n",
              "        vertical-align: middle;\n",
              "    }\n",
              "\n",
              "    .dataframe tbody tr th {\n",
              "        vertical-align: top;\n",
              "    }\n",
              "\n",
              "    .dataframe thead th {\n",
              "        text-align: right;\n",
              "    }\n",
              "</style>\n",
              "<table border=\"1\" class=\"dataframe\">\n",
              "  <thead>\n",
              "    <tr style=\"text-align: right;\">\n",
              "      <th></th>\n",
              "      <th>employee_id</th>\n",
              "      <th>age</th>\n",
              "      <th>gender</th>\n",
              "      <th>marital_status</th>\n",
              "    </tr>\n",
              "  </thead>\n",
              "  <tbody>\n",
              "    <tr>\n",
              "      <th>count</th>\n",
              "      <td>14245.00000</td>\n",
              "      <td>14245.00000</td>\n",
              "      <td>14245</td>\n",
              "      <td>14245</td>\n",
              "    </tr>\n",
              "    <tr>\n",
              "      <th>unique</th>\n",
              "      <td>nan</td>\n",
              "      <td>nan</td>\n",
              "      <td>2</td>\n",
              "      <td>2</td>\n",
              "    </tr>\n",
              "    <tr>\n",
              "      <th>top</th>\n",
              "      <td>nan</td>\n",
              "      <td>nan</td>\n",
              "      <td>Male</td>\n",
              "      <td>Unmarried</td>\n",
              "    </tr>\n",
              "    <tr>\n",
              "      <th>freq</th>\n",
              "      <td>nan</td>\n",
              "      <td>nan</td>\n",
              "      <td>9382</td>\n",
              "      <td>7283</td>\n",
              "    </tr>\n",
              "    <tr>\n",
              "      <th>mean</th>\n",
              "      <td>112123.05054</td>\n",
              "      <td>32.88993</td>\n",
              "      <td>NaN</td>\n",
              "      <td>NaN</td>\n",
              "    </tr>\n",
              "    <tr>\n",
              "      <th>std</th>\n",
              "      <td>8500.45734</td>\n",
              "      <td>9.97083</td>\n",
              "      <td>NaN</td>\n",
              "      <td>NaN</td>\n",
              "    </tr>\n",
              "    <tr>\n",
              "      <th>min</th>\n",
              "      <td>100101.00000</td>\n",
              "      <td>22.00000</td>\n",
              "      <td>NaN</td>\n",
              "      <td>NaN</td>\n",
              "    </tr>\n",
              "    <tr>\n",
              "      <th>25%</th>\n",
              "      <td>105775.00000</td>\n",
              "      <td>24.00000</td>\n",
              "      <td>NaN</td>\n",
              "      <td>NaN</td>\n",
              "    </tr>\n",
              "    <tr>\n",
              "      <th>50%</th>\n",
              "      <td>111298.00000</td>\n",
              "      <td>29.00000</td>\n",
              "      <td>NaN</td>\n",
              "      <td>NaN</td>\n",
              "    </tr>\n",
              "    <tr>\n",
              "      <th>75%</th>\n",
              "      <td>116658.00000</td>\n",
              "      <td>41.00000</td>\n",
              "      <td>NaN</td>\n",
              "      <td>NaN</td>\n",
              "    </tr>\n",
              "    <tr>\n",
              "      <th>max</th>\n",
              "      <td>148988.00000</td>\n",
              "      <td>57.00000</td>\n",
              "      <td>NaN</td>\n",
              "      <td>NaN</td>\n",
              "    </tr>\n",
              "  </tbody>\n",
              "</table>\n",
              "</div>"
            ],
            "text/plain": [
              "        employee_id         age gender marital_status\n",
              "count   14245.00000 14245.00000  14245          14245\n",
              "unique          nan         nan      2              2\n",
              "top             nan         nan   Male      Unmarried\n",
              "freq            nan         nan   9382           7283\n",
              "mean   112123.05054    32.88993    NaN            NaN\n",
              "std      8500.45734     9.97083    NaN            NaN\n",
              "min    100101.00000    22.00000    NaN            NaN\n",
              "25%    105775.00000    24.00000    NaN            NaN\n",
              "50%    111298.00000    29.00000    NaN            NaN\n",
              "75%    116658.00000    41.00000    NaN            NaN\n",
              "max    148988.00000    57.00000    NaN            NaN"
            ]
          },
          "metadata": {},
          "execution_count": 50
        }
      ]
    },
    {
      "cell_type": "code",
      "metadata": {
        "id": "db24b73b",
        "colab": {
          "base_uri": "https://localhost:8080/",
          "height": 388
        },
        "outputId": "9e34e0af-f449-43fc-a58d-0d3654d2a28c"
      },
      "source": [
        "df_employee_details_data.describe(include='all')"
      ],
      "id": "db24b73b",
      "execution_count": 21,
      "outputs": [
        {
          "output_type": "execute_result",
          "data": {
            "text/html": [
              "<div>\n",
              "<style scoped>\n",
              "    .dataframe tbody tr th:only-of-type {\n",
              "        vertical-align: middle;\n",
              "    }\n",
              "\n",
              "    .dataframe tbody tr th {\n",
              "        vertical-align: top;\n",
              "    }\n",
              "\n",
              "    .dataframe thead th {\n",
              "        text-align: right;\n",
              "    }\n",
              "</style>\n",
              "<table border=\"1\" class=\"dataframe\">\n",
              "  <thead>\n",
              "    <tr style=\"text-align: right;\">\n",
              "      <th></th>\n",
              "      <th>employee_id</th>\n",
              "      <th>age</th>\n",
              "      <th>gender</th>\n",
              "      <th>marital_status</th>\n",
              "    </tr>\n",
              "  </thead>\n",
              "  <tbody>\n",
              "    <tr>\n",
              "      <th>count</th>\n",
              "      <td>14245.00000</td>\n",
              "      <td>14245.00000</td>\n",
              "      <td>14245</td>\n",
              "      <td>14245</td>\n",
              "    </tr>\n",
              "    <tr>\n",
              "      <th>unique</th>\n",
              "      <td>nan</td>\n",
              "      <td>nan</td>\n",
              "      <td>2</td>\n",
              "      <td>2</td>\n",
              "    </tr>\n",
              "    <tr>\n",
              "      <th>top</th>\n",
              "      <td>nan</td>\n",
              "      <td>nan</td>\n",
              "      <td>Male</td>\n",
              "      <td>Unmarried</td>\n",
              "    </tr>\n",
              "    <tr>\n",
              "      <th>freq</th>\n",
              "      <td>nan</td>\n",
              "      <td>nan</td>\n",
              "      <td>9382</td>\n",
              "      <td>7283</td>\n",
              "    </tr>\n",
              "    <tr>\n",
              "      <th>mean</th>\n",
              "      <td>112123.05054</td>\n",
              "      <td>32.88993</td>\n",
              "      <td>NaN</td>\n",
              "      <td>NaN</td>\n",
              "    </tr>\n",
              "    <tr>\n",
              "      <th>std</th>\n",
              "      <td>8500.45734</td>\n",
              "      <td>9.97083</td>\n",
              "      <td>NaN</td>\n",
              "      <td>NaN</td>\n",
              "    </tr>\n",
              "    <tr>\n",
              "      <th>min</th>\n",
              "      <td>100101.00000</td>\n",
              "      <td>22.00000</td>\n",
              "      <td>NaN</td>\n",
              "      <td>NaN</td>\n",
              "    </tr>\n",
              "    <tr>\n",
              "      <th>25%</th>\n",
              "      <td>105775.00000</td>\n",
              "      <td>24.00000</td>\n",
              "      <td>NaN</td>\n",
              "      <td>NaN</td>\n",
              "    </tr>\n",
              "    <tr>\n",
              "      <th>50%</th>\n",
              "      <td>111298.00000</td>\n",
              "      <td>29.00000</td>\n",
              "      <td>NaN</td>\n",
              "      <td>NaN</td>\n",
              "    </tr>\n",
              "    <tr>\n",
              "      <th>75%</th>\n",
              "      <td>116658.00000</td>\n",
              "      <td>41.00000</td>\n",
              "      <td>NaN</td>\n",
              "      <td>NaN</td>\n",
              "    </tr>\n",
              "    <tr>\n",
              "      <th>max</th>\n",
              "      <td>148988.00000</td>\n",
              "      <td>57.00000</td>\n",
              "      <td>NaN</td>\n",
              "      <td>NaN</td>\n",
              "    </tr>\n",
              "  </tbody>\n",
              "</table>\n",
              "</div>"
            ],
            "text/plain": [
              "        employee_id         age gender marital_status\n",
              "count   14245.00000 14245.00000  14245          14245\n",
              "unique          nan         nan      2              2\n",
              "top             nan         nan   Male      Unmarried\n",
              "freq            nan         nan   9382           7283\n",
              "mean   112123.05054    32.88993    NaN            NaN\n",
              "std      8500.45734     9.97083    NaN            NaN\n",
              "min    100101.00000    22.00000    NaN            NaN\n",
              "25%    105775.00000    24.00000    NaN            NaN\n",
              "50%    111298.00000    29.00000    NaN            NaN\n",
              "75%    116658.00000    41.00000    NaN            NaN\n",
              "max    148988.00000    57.00000    NaN            NaN"
            ]
          },
          "metadata": {},
          "execution_count": 21
        }
      ]
    },
    {
      "cell_type": "code",
      "metadata": {
        "id": "11c9007c",
        "colab": {
          "base_uri": "https://localhost:8080/"
        },
        "outputId": "5e7249b6-afbb-4bc6-b649-8d2db6b7134b"
      },
      "source": [
        "df_employee_details_data['gender'].value_counts()"
      ],
      "id": "11c9007c",
      "execution_count": 22,
      "outputs": [
        {
          "output_type": "execute_result",
          "data": {
            "text/plain": [
              "Male      9382\n",
              "Female    4863\n",
              "Name: gender, dtype: int64"
            ]
          },
          "metadata": {},
          "execution_count": 22
        }
      ]
    },
    {
      "cell_type": "code",
      "metadata": {
        "id": "e257fcfb",
        "colab": {
          "base_uri": "https://localhost:8080/"
        },
        "outputId": "6e2ef973-2687-4d83-d230-184a054e79bd"
      },
      "source": [
        "df_employee_details_data['gender'].value_counts(1)*100"
      ],
      "id": "e257fcfb",
      "execution_count": 23,
      "outputs": [
        {
          "output_type": "execute_result",
          "data": {
            "text/plain": [
              "Male     65.86171\n",
              "Female   34.13829\n",
              "Name: gender, dtype: float64"
            ]
          },
          "metadata": {},
          "execution_count": 23
        }
      ]
    },
    {
      "cell_type": "code",
      "metadata": {
        "id": "84501dde",
        "colab": {
          "base_uri": "https://localhost:8080/",
          "height": 265
        },
        "outputId": "efe2d0bf-cc98-4db8-dbe0-84db7fa9f9da"
      },
      "source": [
        "df_employee_details_data['gender'].value_counts().plot(kind='pie', autopct='%.2f%%')"
      ],
      "id": "84501dde",
      "execution_count": 24,
      "outputs": [
        {
          "output_type": "execute_result",
          "data": {
            "text/plain": [
              "<matplotlib.axes._subplots.AxesSubplot at 0x7fafc7863590>"
            ]
          },
          "metadata": {},
          "execution_count": 24
        },
        {
          "output_type": "display_data",
          "data": {
            "image/png": "[encoded data removed]",
            "text/plain": [
              "<Figure size 432x288 with 1 Axes>"
            ]
          },
          "metadata": {}
        }
      ]
    },
    {
      "cell_type": "markdown",
      "metadata": {
        "id": "3c00a452"
      },
      "source": [
        "#### From gender column, we have seen that 9,382 employees are males which accounts for 65.86% of the sample while 4,863 employees are females which accounts for 34.14% of the sample.\n",
        "\n",
        "---"
      ],
      "id": "3c00a452"
    },
    {
      "cell_type": "code",
      "metadata": {
        "id": "8b41079c",
        "colab": {
          "base_uri": "https://localhost:8080/"
        },
        "outputId": "0b0073ef-5395-48b2-f75e-a8181265e1f2"
      },
      "source": [
        "df_employee_details_data['marital_status'].value_counts()"
      ],
      "id": "8b41079c",
      "execution_count": 25,
      "outputs": [
        {
          "output_type": "execute_result",
          "data": {
            "text/plain": [
              "Unmarried    7283\n",
              "Married      6962\n",
              "Name: marital_status, dtype: int64"
            ]
          },
          "metadata": {},
          "execution_count": 25
        }
      ]
    },
    {
      "cell_type": "code",
      "metadata": {
        "id": "00d8a30e",
        "colab": {
          "base_uri": "https://localhost:8080/"
        },
        "outputId": "f57917d0-0c00-4f8a-ee94-4e96a3f44f50"
      },
      "source": [
        "df_employee_details_data['marital_status'].value_counts(1)*100"
      ],
      "id": "00d8a30e",
      "execution_count": 26,
      "outputs": [
        {
          "output_type": "execute_result",
          "data": {
            "text/plain": [
              "Unmarried   51.12671\n",
              "Married     48.87329\n",
              "Name: marital_status, dtype: float64"
            ]
          },
          "metadata": {},
          "execution_count": 26
        }
      ]
    },
    {
      "cell_type": "code",
      "metadata": {
        "id": "c88260c3",
        "colab": {
          "base_uri": "https://localhost:8080/",
          "height": 265
        },
        "outputId": "2ab47b4a-5b02-4dc6-9393-52610a26d5e5"
      },
      "source": [
        "df_employee_details_data['marital_status'].value_counts().plot(kind='pie', autopct='%.2f%%')"
      ],
      "id": "c88260c3",
      "execution_count": 27,
      "outputs": [
        {
          "output_type": "execute_result",
          "data": {
            "text/plain": [
              "<matplotlib.axes._subplots.AxesSubplot at 0x7fafc76c8e10>"
            ]
          },
          "metadata": {},
          "execution_count": 27
        },
        {
          "output_type": "display_data",
          "data": {
            "image/png": "[encoded data removed]",
            "text/plain": [
              "<Figure size 432x288 with 1 Axes>"
            ]
          },
          "metadata": {}
        }
      ]
    },
    {
      "cell_type": "markdown",
      "metadata": {
        "id": "90a05fdc"
      },
      "source": [
        "#### From marital status column, we have seen that 7,283 employees are Unmarried which accounts for 51.13% of the sample while 6,962 employees are Married which accounts for 48.87% of the sample.\n",
        "\n",
        "---"
      ],
      "id": "90a05fdc"
    },
    {
      "cell_type": "code",
      "metadata": {
        "scrolled": true,
        "id": "33b8b659",
        "colab": {
          "base_uri": "https://localhost:8080/",
          "height": 339
        },
        "outputId": "0cba2951-08ca-41be-9776-bd4160853692"
      },
      "source": [
        "df_employee_details_data['age'].value_counts().plot(kind='bar', figsize=(16,5))"
      ],
      "id": "33b8b659",
      "execution_count": 28,
      "outputs": [
        {
          "output_type": "execute_result",
          "data": {
            "text/plain": [
              "<matplotlib.axes._subplots.AxesSubplot at 0x7fafc7668d90>"
            ]
          },
          "metadata": {},
          "execution_count": 28
        },
        {
          "output_type": "display_data",
          "data": {
            "image/png": "[encoded data removed]",
            "text/plain": [
              "<Figure size 1152x360 with 1 Axes>"
            ]
          },
          "metadata": {
            "needs_background": "light"
          }
        }
      ]
    },
    {
      "cell_type": "code",
      "metadata": {
        "id": "7c824691",
        "colab": {
          "base_uri": "https://localhost:8080/",
          "height": 500
        },
        "outputId": "07a6a044-2251-42fe-c4c7-61494f356d55"
      },
      "source": [
        "df_employee_details_data['age'].plot(kind='kde', figsize=(16,8))"
      ],
      "id": "7c824691",
      "execution_count": 29,
      "outputs": [
        {
          "output_type": "execute_result",
          "data": {
            "text/plain": [
              "<matplotlib.axes._subplots.AxesSubplot at 0x7fafc7a3c210>"
            ]
          },
          "metadata": {},
          "execution_count": 29
        },
        {
          "output_type": "display_data",
          "data": {
            "image/png": "[encoded data removed]",
            "text/plain": [
              "<Figure size 1152x576 with 1 Axes>"
            ]
          },
          "metadata": {
            "needs_background": "light"
          }
        }
      ]
    },
    {
      "cell_type": "markdown",
      "metadata": {
        "id": "a97ad414"
      },
      "source": [
        "#### Age of the employee ranges from 22 Years to 57 Years and most of the employee are from age group 22-29 years. From describe function also we have seen that 50% of the employees are from 22 Years to 29 Years."
      ],
      "id": "a97ad414"
    },
    {
      "cell_type": "markdown",
      "metadata": {
        "id": "02cb90af"
      },
      "source": [
        "<a id = Section43></a>\n",
        "### 4.3 Understand Dataset: employee_data"
      ],
      "id": "02cb90af"
    },
    {
      "cell_type": "code",
      "metadata": {
        "id": "53db3ba8",
        "colab": {
          "base_uri": "https://localhost:8080/",
          "height": 203
        },
        "outputId": "da3dd139-14e8-4993-d926-3bc247281981"
      },
      "source": [
        "df_employee_data.head()"
      ],
      "id": "53db3ba8",
      "execution_count": 30,
      "outputs": [
        {
          "output_type": "execute_result",
          "data": {
            "text/html": [
              "<div>\n",
              "<style scoped>\n",
              "    .dataframe tbody tr th:only-of-type {\n",
              "        vertical-align: middle;\n",
              "    }\n",
              "\n",
              "    .dataframe tbody tr th {\n",
              "        vertical-align: top;\n",
              "    }\n",
              "\n",
              "    .dataframe thead th {\n",
              "        text-align: right;\n",
              "    }\n",
              "</style>\n",
              "<table border=\"1\" class=\"dataframe\">\n",
              "  <thead>\n",
              "    <tr style=\"text-align: right;\">\n",
              "      <th></th>\n",
              "      <th>avg_monthly_hrs</th>\n",
              "      <th>department</th>\n",
              "      <th>filed_complaint</th>\n",
              "      <th>last_evaluation</th>\n",
              "      <th>n_projects</th>\n",
              "      <th>recently_promoted</th>\n",
              "      <th>salary</th>\n",
              "      <th>satisfaction</th>\n",
              "      <th>status</th>\n",
              "      <th>tenure</th>\n",
              "      <th>employee_id</th>\n",
              "    </tr>\n",
              "  </thead>\n",
              "  <tbody>\n",
              "    <tr>\n",
              "      <th>0</th>\n",
              "      <td>246.00</td>\n",
              "      <td>None</td>\n",
              "      <td>None</td>\n",
              "      <td>0.86684</td>\n",
              "      <td>6</td>\n",
              "      <td>nan</td>\n",
              "      <td>medium</td>\n",
              "      <td>0.13442</td>\n",
              "      <td>Left</td>\n",
              "      <td>4.00</td>\n",
              "      <td>124467</td>\n",
              "    </tr>\n",
              "    <tr>\n",
              "      <th>1</th>\n",
              "      <td>134.00</td>\n",
              "      <td>None</td>\n",
              "      <td>None</td>\n",
              "      <td>0.55572</td>\n",
              "      <td>2</td>\n",
              "      <td>nan</td>\n",
              "      <td>low</td>\n",
              "      <td>0.51104</td>\n",
              "      <td>Left</td>\n",
              "      <td>3.00</td>\n",
              "      <td>112210</td>\n",
              "    </tr>\n",
              "    <tr>\n",
              "      <th>2</th>\n",
              "      <td>156.00</td>\n",
              "      <td>D00-SS</td>\n",
              "      <td>1.00</td>\n",
              "      <td>0.47408</td>\n",
              "      <td>2</td>\n",
              "      <td>nan</td>\n",
              "      <td>medium</td>\n",
              "      <td>0.40510</td>\n",
              "      <td>Left</td>\n",
              "      <td>3.00</td>\n",
              "      <td>126150</td>\n",
              "    </tr>\n",
              "    <tr>\n",
              "      <th>3</th>\n",
              "      <td>256.00</td>\n",
              "      <td>D00-SP</td>\n",
              "      <td>None</td>\n",
              "      <td>0.96136</td>\n",
              "      <td>6</td>\n",
              "      <td>nan</td>\n",
              "      <td>low</td>\n",
              "      <td>0.15297</td>\n",
              "      <td>Left</td>\n",
              "      <td>4.00</td>\n",
              "      <td>125346</td>\n",
              "    </tr>\n",
              "    <tr>\n",
              "      <th>4</th>\n",
              "      <td>146.00</td>\n",
              "      <td>D00-SS</td>\n",
              "      <td>None</td>\n",
              "      <td>0.50735</td>\n",
              "      <td>2</td>\n",
              "      <td>nan</td>\n",
              "      <td>medium</td>\n",
              "      <td>0.43484</td>\n",
              "      <td>Left</td>\n",
              "      <td>3.00</td>\n",
              "      <td>113707</td>\n",
              "    </tr>\n",
              "  </tbody>\n",
              "</table>\n",
              "</div>"
            ],
            "text/plain": [
              "  avg_monthly_hrs department filed_complaint  ...  status  tenure  employee_id\n",
              "0          246.00       None            None  ...    Left    4.00       124467\n",
              "1          134.00       None            None  ...    Left    3.00       112210\n",
              "2          156.00     D00-SS            1.00  ...    Left    3.00       126150\n",
              "3          256.00     D00-SP            None  ...    Left    4.00       125346\n",
              "4          146.00     D00-SS            None  ...    Left    3.00       113707\n",
              "\n",
              "[5 rows x 11 columns]"
            ]
          },
          "metadata": {},
          "execution_count": 30
        }
      ]
    },
    {
      "cell_type": "code",
      "metadata": {
        "id": "6a1cb5da",
        "colab": {
          "base_uri": "https://localhost:8080/"
        },
        "outputId": "e644f417-567e-4e4b-d8d7-9ea26538943d"
      },
      "source": [
        "df_employee_data.info(verbose=True)"
      ],
      "id": "6a1cb5da",
      "execution_count": 31,
      "outputs": [
        {
          "output_type": "stream",
          "name": "stdout",
          "text": [
            "<class 'pandas.core.frame.DataFrame'>\n",
            "RangeIndex: 14150 entries, 0 to 14149\n",
            "Data columns (total 11 columns):\n",
            " #   Column             Dtype  \n",
            "---  ------             -----  \n",
            " 0   avg_monthly_hrs    object \n",
            " 1   department         object \n",
            " 2   filed_complaint    object \n",
            " 3   last_evaluation    float64\n",
            " 4   n_projects         int64  \n",
            " 5   recently_promoted  float64\n",
            " 6   salary             object \n",
            " 7   satisfaction       float64\n",
            " 8   status             object \n",
            " 9   tenure             object \n",
            " 10  employee_id        int64  \n",
            "dtypes: float64(3), int64(2), object(6)\n",
            "memory usage: 1.2+ MB\n"
          ]
        }
      ]
    },
    {
      "cell_type": "code",
      "metadata": {
        "id": "62e8ab73",
        "colab": {
          "base_uri": "https://localhost:8080/"
        },
        "outputId": "b0ae5bb1-4516-4efc-b363-66337074f3c3"
      },
      "source": [
        "df_employee_data.isnull().sum().sort_values(ascending=False)"
      ],
      "id": "62e8ab73",
      "execution_count": 32,
      "outputs": [
        {
          "output_type": "execute_result",
          "data": {
            "text/plain": [
              "recently_promoted    13853\n",
              "filed_complaint      12104\n",
              "last_evaluation       1487\n",
              "department             707\n",
              "tenure                 150\n",
              "satisfaction           150\n",
              "employee_id              0\n",
              "status                   0\n",
              "salary                   0\n",
              "n_projects               0\n",
              "avg_monthly_hrs          0\n",
              "dtype: int64"
            ]
          },
          "metadata": {},
          "execution_count": 32
        }
      ]
    },
    {
      "cell_type": "markdown",
      "metadata": {
        "id": "97ef0e66"
      },
      "source": [
        "- **employee_detail_data (14,245) has 95 more entry compared to employee_data (14,150)**\n",
        "- **department has 707 missing data, which is a major concern as 'department' is primary column for merging data**\n",
        "- **Department column heading is different**\n",
        "- **How to fill missing data??**"
      ],
      "id": "97ef0e66"
    },
    {
      "cell_type": "code",
      "metadata": {
        "id": "e745b290",
        "colab": {
          "base_uri": "https://localhost:8080/"
        },
        "outputId": "1ba8c929-874a-4849-e3f2-2996dab24229"
      },
      "source": [
        "df_employee_data['department'].value_counts()"
      ],
      "id": "e745b290",
      "execution_count": 33,
      "outputs": [
        {
          "output_type": "execute_result",
          "data": {
            "text/plain": [
              "D00-SS     3905\n",
              "D00-ENG    2575\n",
              "D00-SP     2113\n",
              "D00-IT     1157\n",
              "D00-PD      855\n",
              "D00-MT      815\n",
              "D00-FN      725\n",
              "D00-MN      593\n",
              "-IT         207\n",
              "D00-AD      175\n",
              "D00-PR      173\n",
              "D00-TP      150\n",
              "Name: department, dtype: int64"
            ]
          },
          "metadata": {},
          "execution_count": 33
        }
      ]
    },
    {
      "cell_type": "markdown",
      "metadata": {
        "id": "d1135031"
      },
      "source": [
        "- **department column has 707 missing data as well as it has 12 unique value. But it has one '-IT' entry (having 207 entry) apart from 'D00-IT', which I feel it would be part of 'D00-IT'.**"
      ],
      "id": "d1135031"
    },
    {
      "cell_type": "code",
      "metadata": {
        "id": "78f29aaa"
      },
      "source": [
        "df_employee_data.replace(to_replace='-IT', value='D00-IT', inplace=True)"
      ],
      "id": "78f29aaa",
      "execution_count": 34,
      "outputs": []
    },
    {
      "cell_type": "code",
      "metadata": {
        "id": "9fbcbd0c",
        "colab": {
          "base_uri": "https://localhost:8080/"
        },
        "outputId": "93dbcfd5-1f0d-4145-cf60-2e4c31e94cb0"
      },
      "source": [
        "df_employee_data['department'].value_counts()"
      ],
      "id": "9fbcbd0c",
      "execution_count": 35,
      "outputs": [
        {
          "output_type": "execute_result",
          "data": {
            "text/plain": [
              "D00-SS     3905\n",
              "D00-ENG    2575\n",
              "D00-SP     2113\n",
              "D00-IT     1364\n",
              "D00-PD      855\n",
              "D00-MT      815\n",
              "D00-FN      725\n",
              "D00-MN      593\n",
              "D00-AD      175\n",
              "D00-PR      173\n",
              "D00-TP      150\n",
              "Name: department, dtype: int64"
            ]
          },
          "metadata": {},
          "execution_count": 35
        }
      ]
    },
    {
      "cell_type": "markdown",
      "metadata": {
        "id": "60d18852"
      },
      "source": [
        "- **In 'department_data', Column Name of Department ID is 'dept_id' whereas same Column Name of Department ID in 'employee_data' is department. So, in order to merge data from both dataset, we need same column name. Thus, we are changing column name in employee_data to dept_id from department.**"
      ],
      "id": "60d18852"
    },
    {
      "cell_type": "code",
      "metadata": {
        "id": "4f3526a1",
        "colab": {
          "base_uri": "https://localhost:8080/",
          "height": 203
        },
        "outputId": "5c117415-d521-478c-efd1-cb63678dbf24"
      },
      "source": [
        "df_employee_data = df_employee_data.rename({'department':'dept_id'}, axis=1)\n",
        "df_employee_data.head()"
      ],
      "id": "4f3526a1",
      "execution_count": 36,
      "outputs": [
        {
          "output_type": "execute_result",
          "data": {
            "text/html": [
              "<div>\n",
              "<style scoped>\n",
              "    .dataframe tbody tr th:only-of-type {\n",
              "        vertical-align: middle;\n",
              "    }\n",
              "\n",
              "    .dataframe tbody tr th {\n",
              "        vertical-align: top;\n",
              "    }\n",
              "\n",
              "    .dataframe thead th {\n",
              "        text-align: right;\n",
              "    }\n",
              "</style>\n",
              "<table border=\"1\" class=\"dataframe\">\n",
              "  <thead>\n",
              "    <tr style=\"text-align: right;\">\n",
              "      <th></th>\n",
              "      <th>avg_monthly_hrs</th>\n",
              "      <th>dept_id</th>\n",
              "      <th>filed_complaint</th>\n",
              "      <th>last_evaluation</th>\n",
              "      <th>n_projects</th>\n",
              "      <th>recently_promoted</th>\n",
              "      <th>salary</th>\n",
              "      <th>satisfaction</th>\n",
              "      <th>status</th>\n",
              "      <th>tenure</th>\n",
              "      <th>employee_id</th>\n",
              "    </tr>\n",
              "  </thead>\n",
              "  <tbody>\n",
              "    <tr>\n",
              "      <th>0</th>\n",
              "      <td>246.00</td>\n",
              "      <td>None</td>\n",
              "      <td>None</td>\n",
              "      <td>0.86684</td>\n",
              "      <td>6</td>\n",
              "      <td>nan</td>\n",
              "      <td>medium</td>\n",
              "      <td>0.13442</td>\n",
              "      <td>Left</td>\n",
              "      <td>4.00</td>\n",
              "      <td>124467</td>\n",
              "    </tr>\n",
              "    <tr>\n",
              "      <th>1</th>\n",
              "      <td>134.00</td>\n",
              "      <td>None</td>\n",
              "      <td>None</td>\n",
              "      <td>0.55572</td>\n",
              "      <td>2</td>\n",
              "      <td>nan</td>\n",
              "      <td>low</td>\n",
              "      <td>0.51104</td>\n",
              "      <td>Left</td>\n",
              "      <td>3.00</td>\n",
              "      <td>112210</td>\n",
              "    </tr>\n",
              "    <tr>\n",
              "      <th>2</th>\n",
              "      <td>156.00</td>\n",
              "      <td>D00-SS</td>\n",
              "      <td>1.00</td>\n",
              "      <td>0.47408</td>\n",
              "      <td>2</td>\n",
              "      <td>nan</td>\n",
              "      <td>medium</td>\n",
              "      <td>0.40510</td>\n",
              "      <td>Left</td>\n",
              "      <td>3.00</td>\n",
              "      <td>126150</td>\n",
              "    </tr>\n",
              "    <tr>\n",
              "      <th>3</th>\n",
              "      <td>256.00</td>\n",
              "      <td>D00-SP</td>\n",
              "      <td>None</td>\n",
              "      <td>0.96136</td>\n",
              "      <td>6</td>\n",
              "      <td>nan</td>\n",
              "      <td>low</td>\n",
              "      <td>0.15297</td>\n",
              "      <td>Left</td>\n",
              "      <td>4.00</td>\n",
              "      <td>125346</td>\n",
              "    </tr>\n",
              "    <tr>\n",
              "      <th>4</th>\n",
              "      <td>146.00</td>\n",
              "      <td>D00-SS</td>\n",
              "      <td>None</td>\n",
              "      <td>0.50735</td>\n",
              "      <td>2</td>\n",
              "      <td>nan</td>\n",
              "      <td>medium</td>\n",
              "      <td>0.43484</td>\n",
              "      <td>Left</td>\n",
              "      <td>3.00</td>\n",
              "      <td>113707</td>\n",
              "    </tr>\n",
              "  </tbody>\n",
              "</table>\n",
              "</div>"
            ],
            "text/plain": [
              "  avg_monthly_hrs dept_id filed_complaint  ...  status  tenure  employee_id\n",
              "0          246.00    None            None  ...    Left    4.00       124467\n",
              "1          134.00    None            None  ...    Left    3.00       112210\n",
              "2          156.00  D00-SS            1.00  ...    Left    3.00       126150\n",
              "3          256.00  D00-SP            None  ...    Left    4.00       125346\n",
              "4          146.00  D00-SS            None  ...    Left    3.00       113707\n",
              "\n",
              "[5 rows x 11 columns]"
            ]
          },
          "metadata": {},
          "execution_count": 36
        }
      ]
    },
    {
      "cell_type": "markdown",
      "metadata": {
        "id": "807c547a"
      },
      "source": [
        "<a id = Section5></a>\n",
        "### 5. Merging of Datasets"
      ],
      "id": "807c547a"
    },
    {
      "cell_type": "markdown",
      "metadata": {
        "id": "4dfd9c6b"
      },
      "source": [
        "- **Merging of department_data and employee_data**"
      ],
      "id": "4dfd9c6b"
    },
    {
      "cell_type": "code",
      "metadata": {
        "id": "d54a349f",
        "colab": {
          "base_uri": "https://localhost:8080/",
          "height": 203
        },
        "outputId": "ec155fc6-6b32-4e85-8623-325d23478a87"
      },
      "source": [
        "df_merged1 = pd.merge(left=df_department_data, right=df_employee_data, on='dept_id', how='outer')\n",
        "df_merged1.head()"
      ],
      "id": "d54a349f",
      "execution_count": 37,
      "outputs": [
        {
          "output_type": "execute_result",
          "data": {
            "text/html": [
              "<div>\n",
              "<style scoped>\n",
              "    .dataframe tbody tr th:only-of-type {\n",
              "        vertical-align: middle;\n",
              "    }\n",
              "\n",
              "    .dataframe tbody tr th {\n",
              "        vertical-align: top;\n",
              "    }\n",
              "\n",
              "    .dataframe thead th {\n",
              "        text-align: right;\n",
              "    }\n",
              "</style>\n",
              "<table border=\"1\" class=\"dataframe\">\n",
              "  <thead>\n",
              "    <tr style=\"text-align: right;\">\n",
              "      <th></th>\n",
              "      <th>dept_id</th>\n",
              "      <th>dept_name</th>\n",
              "      <th>dept_head</th>\n",
              "      <th>avg_monthly_hrs</th>\n",
              "      <th>filed_complaint</th>\n",
              "      <th>last_evaluation</th>\n",
              "      <th>n_projects</th>\n",
              "      <th>recently_promoted</th>\n",
              "      <th>salary</th>\n",
              "      <th>satisfaction</th>\n",
              "      <th>status</th>\n",
              "      <th>tenure</th>\n",
              "      <th>employee_id</th>\n",
              "    </tr>\n",
              "  </thead>\n",
              "  <tbody>\n",
              "    <tr>\n",
              "      <th>0</th>\n",
              "      <td>D00-IT</td>\n",
              "      <td>IT</td>\n",
              "      <td>Henry Adey</td>\n",
              "      <td>244.00</td>\n",
              "      <td>None</td>\n",
              "      <td>0.92620</td>\n",
              "      <td>6</td>\n",
              "      <td>nan</td>\n",
              "      <td>medium</td>\n",
              "      <td>0.06187</td>\n",
              "      <td>Left</td>\n",
              "      <td>5.00</td>\n",
              "      <td>112868</td>\n",
              "    </tr>\n",
              "    <tr>\n",
              "      <th>1</th>\n",
              "      <td>D00-IT</td>\n",
              "      <td>IT</td>\n",
              "      <td>Henry Adey</td>\n",
              "      <td>289.00</td>\n",
              "      <td>None</td>\n",
              "      <td>0.92986</td>\n",
              "      <td>7</td>\n",
              "      <td>nan</td>\n",
              "      <td>low</td>\n",
              "      <td>0.16174</td>\n",
              "      <td>Left</td>\n",
              "      <td>4.00</td>\n",
              "      <td>122314</td>\n",
              "    </tr>\n",
              "    <tr>\n",
              "      <th>2</th>\n",
              "      <td>D00-IT</td>\n",
              "      <td>IT</td>\n",
              "      <td>Henry Adey</td>\n",
              "      <td>235.00</td>\n",
              "      <td>None</td>\n",
              "      <td>0.95764</td>\n",
              "      <td>5</td>\n",
              "      <td>nan</td>\n",
              "      <td>low</td>\n",
              "      <td>0.72571</td>\n",
              "      <td>Left</td>\n",
              "      <td>5.00</td>\n",
              "      <td>126561</td>\n",
              "    </tr>\n",
              "    <tr>\n",
              "      <th>3</th>\n",
              "      <td>D00-IT</td>\n",
              "      <td>IT</td>\n",
              "      <td>Henry Adey</td>\n",
              "      <td>158.00</td>\n",
              "      <td>None</td>\n",
              "      <td>0.54633</td>\n",
              "      <td>2</td>\n",
              "      <td>nan</td>\n",
              "      <td>low</td>\n",
              "      <td>0.39149</td>\n",
              "      <td>Left</td>\n",
              "      <td>3.00</td>\n",
              "      <td>115017</td>\n",
              "    </tr>\n",
              "    <tr>\n",
              "      <th>4</th>\n",
              "      <td>D00-IT</td>\n",
              "      <td>IT</td>\n",
              "      <td>Henry Adey</td>\n",
              "      <td>277.00</td>\n",
              "      <td>None</td>\n",
              "      <td>0.94960</td>\n",
              "      <td>2</td>\n",
              "      <td>nan</td>\n",
              "      <td>medium</td>\n",
              "      <td>0.72321</td>\n",
              "      <td>Left</td>\n",
              "      <td>3.00</td>\n",
              "      <td>112281</td>\n",
              "    </tr>\n",
              "  </tbody>\n",
              "</table>\n",
              "</div>"
            ],
            "text/plain": [
              "  dept_id dept_name   dept_head  ... status tenure  employee_id\n",
              "0  D00-IT        IT  Henry Adey  ...   Left   5.00       112868\n",
              "1  D00-IT        IT  Henry Adey  ...   Left   4.00       122314\n",
              "2  D00-IT        IT  Henry Adey  ...   Left   5.00       126561\n",
              "3  D00-IT        IT  Henry Adey  ...   Left   3.00       115017\n",
              "4  D00-IT        IT  Henry Adey  ...   Left   3.00       112281\n",
              "\n",
              "[5 rows x 13 columns]"
            ]
          },
          "metadata": {},
          "execution_count": 37
        }
      ]
    },
    {
      "cell_type": "code",
      "metadata": {
        "id": "d48b8822",
        "colab": {
          "base_uri": "https://localhost:8080/"
        },
        "outputId": "f84a016d-0588-4ae2-e3c2-2aa876aa5f3a"
      },
      "source": [
        "df_merged1.info()"
      ],
      "id": "d48b8822",
      "execution_count": 38,
      "outputs": [
        {
          "output_type": "stream",
          "name": "stdout",
          "text": [
            "<class 'pandas.core.frame.DataFrame'>\n",
            "Int64Index: 14150 entries, 0 to 14149\n",
            "Data columns (total 13 columns):\n",
            " #   Column             Dtype  \n",
            "---  ------             -----  \n",
            " 0   dept_id            object \n",
            " 1   dept_name          object \n",
            " 2   dept_head          object \n",
            " 3   avg_monthly_hrs    object \n",
            " 4   filed_complaint    object \n",
            " 5   last_evaluation    float64\n",
            " 6   n_projects         int64  \n",
            " 7   recently_promoted  float64\n",
            " 8   salary             object \n",
            " 9   satisfaction       float64\n",
            " 10  status             object \n",
            " 11  tenure             object \n",
            " 12  employee_id        int64  \n",
            "dtypes: float64(3), int64(2), object(8)\n",
            "memory usage: 1.5+ MB\n"
          ]
        }
      ]
    },
    {
      "cell_type": "markdown",
      "metadata": {
        "id": "9e710f3c"
      },
      "source": [
        "- **Now merging 'employee_details_data' with the first merged dataset**"
      ],
      "id": "9e710f3c"
    },
    {
      "cell_type": "code",
      "metadata": {
        "id": "42b6dd22",
        "colab": {
          "base_uri": "https://localhost:8080/",
          "height": 307
        },
        "outputId": "4ed56ff4-4823-4103-ba51-cfae6fe3a397"
      },
      "source": [
        "df_final = pd.merge(left=df_employee_details_data, right=df_merged1, on='employee_id', how='right')\n",
        "df_final.head()"
      ],
      "id": "42b6dd22",
      "execution_count": 39,
      "outputs": [
        {
          "output_type": "execute_result",
          "data": {
            "text/html": [
              "<div>\n",
              "<style scoped>\n",
              "    .dataframe tbody tr th:only-of-type {\n",
              "        vertical-align: middle;\n",
              "    }\n",
              "\n",
              "    .dataframe tbody tr th {\n",
              "        vertical-align: top;\n",
              "    }\n",
              "\n",
              "    .dataframe thead th {\n",
              "        text-align: right;\n",
              "    }\n",
              "</style>\n",
              "<table border=\"1\" class=\"dataframe\">\n",
              "  <thead>\n",
              "    <tr style=\"text-align: right;\">\n",
              "      <th></th>\n",
              "      <th>employee_id</th>\n",
              "      <th>age</th>\n",
              "      <th>gender</th>\n",
              "      <th>marital_status</th>\n",
              "      <th>dept_id</th>\n",
              "      <th>dept_name</th>\n",
              "      <th>dept_head</th>\n",
              "      <th>avg_monthly_hrs</th>\n",
              "      <th>filed_complaint</th>\n",
              "      <th>last_evaluation</th>\n",
              "      <th>n_projects</th>\n",
              "      <th>recently_promoted</th>\n",
              "      <th>salary</th>\n",
              "      <th>satisfaction</th>\n",
              "      <th>status</th>\n",
              "      <th>tenure</th>\n",
              "    </tr>\n",
              "  </thead>\n",
              "  <tbody>\n",
              "    <tr>\n",
              "      <th>0</th>\n",
              "      <td>112868</td>\n",
              "      <td>29.00000</td>\n",
              "      <td>Female</td>\n",
              "      <td>Married</td>\n",
              "      <td>D00-IT</td>\n",
              "      <td>IT</td>\n",
              "      <td>Henry Adey</td>\n",
              "      <td>244.00</td>\n",
              "      <td>None</td>\n",
              "      <td>0.92620</td>\n",
              "      <td>6</td>\n",
              "      <td>nan</td>\n",
              "      <td>medium</td>\n",
              "      <td>0.06187</td>\n",
              "      <td>Left</td>\n",
              "      <td>5.00</td>\n",
              "    </tr>\n",
              "    <tr>\n",
              "      <th>1</th>\n",
              "      <td>122314</td>\n",
              "      <td>36.00000</td>\n",
              "      <td>Female</td>\n",
              "      <td>Married</td>\n",
              "      <td>D00-IT</td>\n",
              "      <td>IT</td>\n",
              "      <td>Henry Adey</td>\n",
              "      <td>289.00</td>\n",
              "      <td>None</td>\n",
              "      <td>0.92986</td>\n",
              "      <td>7</td>\n",
              "      <td>nan</td>\n",
              "      <td>low</td>\n",
              "      <td>0.16174</td>\n",
              "      <td>Left</td>\n",
              "      <td>4.00</td>\n",
              "    </tr>\n",
              "    <tr>\n",
              "      <th>2</th>\n",
              "      <td>126561</td>\n",
              "      <td>22.00000</td>\n",
              "      <td>Female</td>\n",
              "      <td>Unmarried</td>\n",
              "      <td>D00-IT</td>\n",
              "      <td>IT</td>\n",
              "      <td>Henry Adey</td>\n",
              "      <td>235.00</td>\n",
              "      <td>None</td>\n",
              "      <td>0.95764</td>\n",
              "      <td>5</td>\n",
              "      <td>nan</td>\n",
              "      <td>low</td>\n",
              "      <td>0.72571</td>\n",
              "      <td>Left</td>\n",
              "      <td>5.00</td>\n",
              "    </tr>\n",
              "    <tr>\n",
              "      <th>3</th>\n",
              "      <td>115017</td>\n",
              "      <td>24.00000</td>\n",
              "      <td>Female</td>\n",
              "      <td>Unmarried</td>\n",
              "      <td>D00-IT</td>\n",
              "      <td>IT</td>\n",
              "      <td>Henry Adey</td>\n",
              "      <td>158.00</td>\n",
              "      <td>None</td>\n",
              "      <td>0.54633</td>\n",
              "      <td>2</td>\n",
              "      <td>nan</td>\n",
              "      <td>low</td>\n",
              "      <td>0.39149</td>\n",
              "      <td>Left</td>\n",
              "      <td>3.00</td>\n",
              "    </tr>\n",
              "    <tr>\n",
              "      <th>4</th>\n",
              "      <td>112281</td>\n",
              "      <td>28.00000</td>\n",
              "      <td>Male</td>\n",
              "      <td>Unmarried</td>\n",
              "      <td>D00-IT</td>\n",
              "      <td>IT</td>\n",
              "      <td>Henry Adey</td>\n",
              "      <td>277.00</td>\n",
              "      <td>None</td>\n",
              "      <td>0.94960</td>\n",
              "      <td>2</td>\n",
              "      <td>nan</td>\n",
              "      <td>medium</td>\n",
              "      <td>0.72321</td>\n",
              "      <td>Left</td>\n",
              "      <td>3.00</td>\n",
              "    </tr>\n",
              "  </tbody>\n",
              "</table>\n",
              "</div>"
            ],
            "text/plain": [
              "   employee_id      age  gender  ... satisfaction status tenure\n",
              "0       112868 29.00000  Female  ...      0.06187   Left   5.00\n",
              "1       122314 36.00000  Female  ...      0.16174   Left   4.00\n",
              "2       126561 22.00000  Female  ...      0.72571   Left   5.00\n",
              "3       115017 24.00000  Female  ...      0.39149   Left   3.00\n",
              "4       112281 28.00000    Male  ...      0.72321   Left   3.00\n",
              "\n",
              "[5 rows x 16 columns]"
            ]
          },
          "metadata": {},
          "execution_count": 39
        }
      ]
    },
    {
      "cell_type": "code",
      "metadata": {
        "id": "3368dbc7",
        "colab": {
          "base_uri": "https://localhost:8080/"
        },
        "outputId": "10e1cfd3-0e86-4eca-e005-8c8fff8ae029"
      },
      "source": [
        "df_final.info()"
      ],
      "id": "3368dbc7",
      "execution_count": 40,
      "outputs": [
        {
          "output_type": "stream",
          "name": "stdout",
          "text": [
            "<class 'pandas.core.frame.DataFrame'>\n",
            "Int64Index: 14150 entries, 0 to 14149\n",
            "Data columns (total 16 columns):\n",
            " #   Column             Dtype  \n",
            "---  ------             -----  \n",
            " 0   employee_id        int64  \n",
            " 1   age                float64\n",
            " 2   gender             object \n",
            " 3   marital_status     object \n",
            " 4   dept_id            object \n",
            " 5   dept_name          object \n",
            " 6   dept_head          object \n",
            " 7   avg_monthly_hrs    object \n",
            " 8   filed_complaint    object \n",
            " 9   last_evaluation    float64\n",
            " 10  n_projects         int64  \n",
            " 11  recently_promoted  float64\n",
            " 12  salary             object \n",
            " 13  satisfaction       float64\n",
            " 14  status             object \n",
            " 15  tenure             object \n",
            "dtypes: float64(4), int64(2), object(10)\n",
            "memory usage: 1.8+ MB\n"
          ]
        }
      ]
    },
    {
      "cell_type": "markdown",
      "metadata": {
        "id": "570c4b78"
      },
      "source": [
        "<a id = Section6></a>\n",
        "### 6. Feature Engineering: Treating missing data"
      ],
      "id": "570c4b78"
    },
    {
      "cell_type": "code",
      "metadata": {
        "id": "48d5355f",
        "colab": {
          "base_uri": "https://localhost:8080/"
        },
        "outputId": "2b919c3a-e471-45d6-a54b-aba9799b8364"
      },
      "source": [
        "df_final.isnull().sum().sort_values(ascending=False)"
      ],
      "id": "48d5355f",
      "execution_count": 41,
      "outputs": [
        {
          "output_type": "execute_result",
          "data": {
            "text/plain": [
              "recently_promoted    13853\n",
              "filed_complaint      12104\n",
              "last_evaluation       1487\n",
              "dept_head              707\n",
              "dept_name              707\n",
              "dept_id                707\n",
              "tenure                 150\n",
              "satisfaction           150\n",
              "marital_status           5\n",
              "gender                   5\n",
              "age                      5\n",
              "status                   0\n",
              "salary                   0\n",
              "n_projects               0\n",
              "avg_monthly_hrs          0\n",
              "employee_id              0\n",
              "dtype: int64"
            ]
          },
          "metadata": {},
          "execution_count": 41
        }
      ]
    },
    {
      "cell_type": "code",
      "metadata": {
        "id": "b64b678b",
        "colab": {
          "base_uri": "https://localhost:8080/",
          "height": 542
        },
        "outputId": "af741c61-1b7e-4594-eb57-72fb4fbc8f00"
      },
      "source": [
        "missing_data = pd.DataFrame(df_final.isnull().sum(), columns=['Total Missing Values'])\n",
        "missing_data['% of Missing Values'] = df_final.isnull().sum() / len(df_final) * 100\n",
        "missing_data = missing_data.sort_values(by = '% of Missing Values', ascending=False)\n",
        "missing_data"
      ],
      "id": "b64b678b",
      "execution_count": 42,
      "outputs": [
        {
          "output_type": "execute_result",
          "data": {
            "text/html": [
              "<div>\n",
              "<style scoped>\n",
              "    .dataframe tbody tr th:only-of-type {\n",
              "        vertical-align: middle;\n",
              "    }\n",
              "\n",
              "    .dataframe tbody tr th {\n",
              "        vertical-align: top;\n",
              "    }\n",
              "\n",
              "    .dataframe thead th {\n",
              "        text-align: right;\n",
              "    }\n",
              "</style>\n",
              "<table border=\"1\" class=\"dataframe\">\n",
              "  <thead>\n",
              "    <tr style=\"text-align: right;\">\n",
              "      <th></th>\n",
              "      <th>Total Missing Values</th>\n",
              "      <th>% of Missing Values</th>\n",
              "    </tr>\n",
              "  </thead>\n",
              "  <tbody>\n",
              "    <tr>\n",
              "      <th>recently_promoted</th>\n",
              "      <td>13853</td>\n",
              "      <td>97.90106</td>\n",
              "    </tr>\n",
              "    <tr>\n",
              "      <th>filed_complaint</th>\n",
              "      <td>12104</td>\n",
              "      <td>85.54064</td>\n",
              "    </tr>\n",
              "    <tr>\n",
              "      <th>last_evaluation</th>\n",
              "      <td>1487</td>\n",
              "      <td>10.50883</td>\n",
              "    </tr>\n",
              "    <tr>\n",
              "      <th>dept_id</th>\n",
              "      <td>707</td>\n",
              "      <td>4.99647</td>\n",
              "    </tr>\n",
              "    <tr>\n",
              "      <th>dept_name</th>\n",
              "      <td>707</td>\n",
              "      <td>4.99647</td>\n",
              "    </tr>\n",
              "    <tr>\n",
              "      <th>dept_head</th>\n",
              "      <td>707</td>\n",
              "      <td>4.99647</td>\n",
              "    </tr>\n",
              "    <tr>\n",
              "      <th>satisfaction</th>\n",
              "      <td>150</td>\n",
              "      <td>1.06007</td>\n",
              "    </tr>\n",
              "    <tr>\n",
              "      <th>tenure</th>\n",
              "      <td>150</td>\n",
              "      <td>1.06007</td>\n",
              "    </tr>\n",
              "    <tr>\n",
              "      <th>age</th>\n",
              "      <td>5</td>\n",
              "      <td>0.03534</td>\n",
              "    </tr>\n",
              "    <tr>\n",
              "      <th>gender</th>\n",
              "      <td>5</td>\n",
              "      <td>0.03534</td>\n",
              "    </tr>\n",
              "    <tr>\n",
              "      <th>marital_status</th>\n",
              "      <td>5</td>\n",
              "      <td>0.03534</td>\n",
              "    </tr>\n",
              "    <tr>\n",
              "      <th>employee_id</th>\n",
              "      <td>0</td>\n",
              "      <td>0.00000</td>\n",
              "    </tr>\n",
              "    <tr>\n",
              "      <th>avg_monthly_hrs</th>\n",
              "      <td>0</td>\n",
              "      <td>0.00000</td>\n",
              "    </tr>\n",
              "    <tr>\n",
              "      <th>n_projects</th>\n",
              "      <td>0</td>\n",
              "      <td>0.00000</td>\n",
              "    </tr>\n",
              "    <tr>\n",
              "      <th>salary</th>\n",
              "      <td>0</td>\n",
              "      <td>0.00000</td>\n",
              "    </tr>\n",
              "    <tr>\n",
              "      <th>status</th>\n",
              "      <td>0</td>\n",
              "      <td>0.00000</td>\n",
              "    </tr>\n",
              "  </tbody>\n",
              "</table>\n",
              "</div>"
            ],
            "text/plain": [
              "                   Total Missing Values  % of Missing Values\n",
              "recently_promoted                 13853             97.90106\n",
              "filed_complaint                   12104             85.54064\n",
              "last_evaluation                    1487             10.50883\n",
              "dept_id                             707              4.99647\n",
              "dept_name                           707              4.99647\n",
              "dept_head                           707              4.99647\n",
              "satisfaction                        150              1.06007\n",
              "tenure                              150              1.06007\n",
              "age                                   5              0.03534\n",
              "gender                                5              0.03534\n",
              "marital_status                        5              0.03534\n",
              "employee_id                           0              0.00000\n",
              "avg_monthly_hrs                       0              0.00000\n",
              "n_projects                            0              0.00000\n",
              "salary                                0              0.00000\n",
              "status                                0              0.00000"
            ]
          },
          "metadata": {},
          "execution_count": 42
        }
      ]
    },
    {
      "cell_type": "markdown",
      "metadata": {
        "id": "9f90c99a"
      },
      "source": [
        "- **recently_promoted** has 13,853 missing data (14,150-13853) ie., 297 got promotion recently and remaining weren't got promotion. So, I am replacing NULL value with '0'.\n",
        "\n",
        "\n",
        "- **filed_complaint** has 12,104 missing value which means 12,104 employee has not filed any complaint. So, I am replacing NULL value with '0'.\n",
        "\n",
        "\n",
        "- **last_evaluation** is 'Score for most recent evaluation of employee (higher is better)' has 1,487 missing value, which means either data is missing or 1,487 employee has not got any evaluation. Here, I am assuming that it has never evaluated and hence I am replacing NULL value with '0'. **Second Thought:** replacing with Median / Mean.\n",
        "\n",
        "\n",
        "- **satisfaction** is 'Score for employee’s satisfaction with the company (higher is better)' has 150 missing value, which means either data is missing or 150 employee has not given its satisfaction score. Here, again I am assuming that it has not gave its satisfaction score and hence I am replacing NULL value with '0'. **Second Thought:** replacing with Median / Mean.\n",
        "\n",
        "\n",
        "- **dept_id** has 707 missing value, I am replacing it with Mode.\n",
        "\n",
        "\n",
        "- **dept_name** has 707 missing value, I am replacing it with Mode.\n",
        "\n",
        "\n",
        "- **dept_head** has 707 missing value, I am replacing it with Mode.\n",
        "\n",
        "\n",
        "- **tenure** has 150 missing value, I am replacing it with Median.\n",
        "\n",
        "\n",
        "- **age** has 5 missing value, I am replacing it with Median.\n",
        "\n",
        "\n",
        "- **gender** has 5 missing value, I am replacing it with Mode.\n",
        "\n",
        "\n",
        "- **marital_status** has 5 missing value, I am replacing it with Mode."
      ],
      "id": "9f90c99a"
    },
    {
      "cell_type": "markdown",
      "metadata": {
        "id": "59a26c5e"
      },
      "source": [
        "### Replacing Missing Values:"
      ],
      "id": "59a26c5e"
    },
    {
      "cell_type": "markdown",
      "metadata": {
        "id": "2009cb15"
      },
      "source": [
        "- Replacing **null value** of **'recently_promoted'** and **'filed_complaint'** with **'0.0'**."
      ],
      "id": "2009cb15"
    },
    {
      "cell_type": "code",
      "metadata": {
        "id": "68805eaf"
      },
      "source": [
        "df_final['recently_promoted'].fillna('0.0', inplace=True)"
      ],
      "id": "68805eaf",
      "execution_count": 43,
      "outputs": []
    },
    {
      "cell_type": "code",
      "metadata": {
        "id": "55bf7024"
      },
      "source": [
        "df_final['filed_complaint'].fillna('0.00', inplace=True)"
      ],
      "id": "55bf7024",
      "execution_count": 44,
      "outputs": []
    },
    {
      "cell_type": "markdown",
      "metadata": {
        "id": "ec9f3e9d"
      },
      "source": [
        "- Replacing **last_evaluation, satisfaction, dept_id, dept_name, dept_head, tenure, age, gender and marital_status** with **Mean / Median / Mode**"
      ],
      "id": "ec9f3e9d"
    },
    {
      "cell_type": "code",
      "metadata": {
        "id": "14830c10"
      },
      "source": [
        "df_final['last_evaluation'].fillna(df_final['last_evaluation'].mean(), inplace=True)\n",
        "df_final['satisfaction'].fillna(df_final['satisfaction'].mean(), inplace=True)\n",
        "df_final['dept_id'].fillna(df_final['dept_id'].mode()[0], inplace=True)\n",
        "df_final['dept_name'].fillna(df_final['dept_name'].mode()[0], inplace=True)\n",
        "df_final['dept_head'].fillna(df_final['dept_head'].mode()[0], inplace=True)\n",
        "df_final['tenure'].fillna(df_final['tenure'].median(), inplace=True)\n",
        "df_final['age'].fillna(df_final['age'].median(), inplace=True)\n",
        "df_final['gender'].fillna(df_final['gender'].mode()[0], inplace=True)\n",
        "df_final['marital_status'].fillna(df_final['marital_status'].mode()[0], inplace=True)"
      ],
      "id": "14830c10",
      "execution_count": 45,
      "outputs": []
    },
    {
      "cell_type": "code",
      "metadata": {
        "id": "57f5cbcd",
        "colab": {
          "base_uri": "https://localhost:8080/"
        },
        "outputId": "02329fba-e8d2-4792-8fd2-136db76d655c"
      },
      "source": [
        "df_final.info()"
      ],
      "id": "57f5cbcd",
      "execution_count": 46,
      "outputs": [
        {
          "output_type": "stream",
          "name": "stdout",
          "text": [
            "<class 'pandas.core.frame.DataFrame'>\n",
            "Int64Index: 14150 entries, 0 to 14149\n",
            "Data columns (total 16 columns):\n",
            " #   Column             Dtype  \n",
            "---  ------             -----  \n",
            " 0   employee_id        int64  \n",
            " 1   age                float64\n",
            " 2   gender             object \n",
            " 3   marital_status     object \n",
            " 4   dept_id            object \n",
            " 5   dept_name          object \n",
            " 6   dept_head          object \n",
            " 7   avg_monthly_hrs    object \n",
            " 8   filed_complaint    object \n",
            " 9   last_evaluation    float64\n",
            " 10  n_projects         int64  \n",
            " 11  recently_promoted  object \n",
            " 12  salary             object \n",
            " 13  satisfaction       float64\n",
            " 14  status             object \n",
            " 15  tenure             object \n",
            "dtypes: float64(3), int64(2), object(11)\n",
            "memory usage: 1.8+ MB\n"
          ]
        }
      ]
    },
    {
      "cell_type": "markdown",
      "metadata": {
        "id": "da9f2695"
      },
      "source": [
        "<a id = Section7></a>\n",
        "### 7. Data Analysis / Visualization of various Feature Columns "
      ],
      "id": "da9f2695"
    },
    {
      "cell_type": "code",
      "metadata": {
        "id": "5369c7f1"
      },
      "source": [
        ""
      ],
      "id": "5369c7f1",
      "execution_count": 46,
      "outputs": []
    },
    {
      "cell_type": "code",
      "metadata": {
        "id": "ee8702f7"
      },
      "source": [
        ""
      ],
      "id": "ee8702f7",
      "execution_count": 46,
      "outputs": []
    },
    {
      "cell_type": "code",
      "metadata": {
        "id": "27f8c0b7"
      },
      "source": [
        ""
      ],
      "id": "27f8c0b7",
      "execution_count": 46,
      "outputs": []
    },
    {
      "cell_type": "code",
      "metadata": {
        "id": "b219c457"
      },
      "source": [
        ""
      ],
      "id": "b219c457",
      "execution_count": 46,
      "outputs": []
    },
    {
      "cell_type": "code",
      "metadata": {
        "id": "d0257dbd"
      },
      "source": [
        ""
      ],
      "id": "d0257dbd",
      "execution_count": 46,
      "outputs": []
    }
  ]
}