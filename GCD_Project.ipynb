{
  "nbformat": 4,
  "nbformat_minor": 5,
  "metadata": {
    "kernelspec": {
      "display_name": "Python 3",
      "language": "python",
      "name": "python3"
    },
    "language_info": {
      "codemirror_mode": {
        "name": "ipython",
        "version": 3
      },
      "file_extension": ".py",
      "mimetype": "text/x-python",
      "name": "python",
      "nbconvert_exporter": "python",
      "pygments_lexer": "ipython3",
      "version": "3.8.8"
    },
    "colab": {
      "name": "GCD_Project.ipynb",
      "provenance": [],
      "collapsed_sections": [
        "6a053c48",
        "501c2bf0",
        "5834eddd",
        "951e9987",
        "b0e08da8",
        "3c00a452",
        "90a05fdc",
        "a97ad414",
        "02cb90af",
        "807c547a",
        "570c4b78",
        "59a26c5e",
        "da9f2695"
      ],
      "include_colab_link": true
    }
  },
  "cells": [
    {
      "cell_type": "markdown",
      "metadata": {
        "id": "view-in-github",
        "colab_type": "text"
      },
      "source": [
        "<a href=\"https://colab.research.google.com/github/gurralamanoj/GCD_Project/blob/main/GCD_Project.ipynb\" target=\"_parent\"><img src=\"https://colab.research.google.com/assets/colab-badge.svg\" alt=\"Open In Colab\"/></a>"
      ]
    },
    {
      "cell_type": "markdown",
      "metadata": {
        "id": "56f6f886"
      },
      "source": [
        "<p align=\"center\"><img src=\"https://github.com/insaid2018/Term-1/blob/master/Images/INSAID_Full%20Logo.png?raw=true\"\n",
        "width=\"260\" height=\"110\" /></p>\n",
        "\n",
        "---"
      ],
      "id": "56f6f886"
    },
    {
      "cell_type": "markdown",
      "metadata": {
        "id": "9dd033ee"
      },
      "source": [
        "# **Table of Contents**\n",
        "\n",
        "\n",
        "1. [**Project Description**](#Section1)<br>\n",
        "   1.1 [**Client's Requirement**](#Section11)<br>\n",
        "   1.2 [**Problem Statement**](#Section12)<br>\n",
        "   1.3 [**Role as a Data Scientist**](#Section13)<br>\n",
        "   1.4 [**Task of Data Scientist**](#Section14)<br>\n",
        "\n",
        "\n",
        "2. [**Installing & Importing Libraries**](#Section2)<br>\n",
        "\n",
        "\n",
        "3. [**Data Acquisition & Description**](#Section3)<br>\n",
        "   3.1 [**Importing \"department_data**](#Section31)<br>\n",
        "   3.2 [**Importing \"employee_details_data**](#Section32)<br>\n",
        "   3.3 [**Importing \"employee_data**](#Section33)<br>\n",
        "   3.4 [**Data Description**](#Section34)<br>\n",
        "   \n",
        "   "
      ],
      "id": "9dd033ee"
    },
    {
      "cell_type": "markdown",
      "metadata": {
        "id": "a4d049bc"
      },
      "source": [
        "---\n",
        "<a name = Section1></a>\n",
        "## **1. Project Description**"
      ],
      "id": "a4d049bc"
    },
    {
      "cell_type": "markdown",
      "metadata": {
        "id": "416ddc53"
      },
      "source": [
        "<a id = Section11></a>\n",
        "### 1.1 Client's Requirement"
      ],
      "id": "416ddc53"
    },
    {
      "cell_type": "markdown",
      "metadata": {
        "id": "f2bf3ae4"
      },
      "source": [
        "### The client for this project is the HR Department at a software company.\n",
        "\n",
        "- They want to try a new initiative to retain employees.\n",
        "- The idea is to use data to predict whether an employee is likely to leave.\n",
        "- Once these employees are identified, HR can be more proactive in reaching out to them before it's too late.\n",
        "- They only want to deal with the data that is related to permanent employees.\n",
        "\n",
        "#### Current Practice\n",
        "Once an employee leaves, he or she is taken an interview with the name “exit interview” and shares reasons for leaving. The HR Department then tries and learns insights from the interview and makes changes accordingly.\n",
        "\n",
        "#### This suffers from the following problems:\n",
        "- This approach is that it's too haphazard. The quality of insight gained from an interview depends heavily on the skill of the interviewer.\n",
        "- The second problem is these insights can't be aggregated and interlaced across all employees who have left.\n",
        "- The third is that it is too late by the time the proposed policy changes take effect.\n",
        "\n",
        "The HR department has hired us as data science consultants. They want to supplement their exit interviews with a more proactive approach.\n",
        "\n",
        "---"
      ],
      "id": "f2bf3ae4"
    },
    {
      "cell_type": "markdown",
      "metadata": {
        "id": "deaa45b4"
      },
      "source": [
        "<a id = Section12></a>\n",
        "### 1.2 Problem Statement:\n",
        "\n",
        "**Predict whether an employee will stay or leave.**\n",
        "\n",
        "\n",
        "<a id = Section13></a>\n",
        "### 1.3 Role as a Data Scientist\n",
        "- The given datasets consist of past employees and their status (still employed or already left).\n",
        "- Our task is to build a classification model using the datasets.\n",
        "- Because there was no machine learning model for this problem in the company, we don’t have quantifiable win condition. We need to build the best possible model.\n",
        "\n",
        "<a id = Section14></a>\n",
        "### 1.4 Task of Data Scientist\n",
        "  - Machine learning task: **Classification**\n",
        "  - Target variable: **Status (Employed/Left)**\n",
        "  - Win condition: **N/A (best possible model)**"
      ],
      "id": "deaa45b4"
    },
    {
      "cell_type": "markdown",
      "metadata": {
        "id": "c6699139"
      },
      "source": [
        "---\n",
        "<a id = Section2></a>\n",
        "## 2. Installing & Importing Libraries"
      ],
      "id": "c6699139"
    },
    {
      "cell_type": "code",
      "metadata": {
        "colab": {
          "base_uri": "https://localhost:8080/"
        },
        "id": "hD0iI2A-wiV5",
        "outputId": "28d731ca-05c7-4471-f44e-6e6c585c3f23"
      },
      "source": [
        " !pip install mysql-connector\n",
        " !pip install pandas"
      ],
      "id": "hD0iI2A-wiV5",
      "execution_count": 9,
      "outputs": [
        {
          "output_type": "stream",
          "name": "stdout",
          "text": [
            "Requirement already satisfied: mysql-connector in /usr/local/lib/python3.7/dist-packages (2.2.9)\n",
            "Requirement already satisfied: pandas in /usr/local/lib/python3.7/dist-packages (1.1.5)\n",
            "Requirement already satisfied: python-dateutil>=2.7.3 in /usr/local/lib/python3.7/dist-packages (from pandas) (2.8.2)\n",
            "Requirement already satisfied: pytz>=2017.2 in /usr/local/lib/python3.7/dist-packages (from pandas) (2018.9)\n",
            "Requirement already satisfied: numpy>=1.15.4 in /usr/local/lib/python3.7/dist-packages (from pandas) (1.19.5)\n",
            "Requirement already satisfied: six>=1.5 in /usr/local/lib/python3.7/dist-packages (from python-dateutil>=2.7.3->pandas) (1.15.0)\n"
          ]
        }
      ]
    },
    {
      "cell_type": "code",
      "metadata": {
        "id": "3e9c12c9"
      },
      "source": [
        "import os\n",
        "import mysql.connector\n",
        "import numpy as np\n",
        "import pandas as pd\n",
        "import matplotlib.pyplot as plt\n",
        "import seaborn as sns\n",
        "%matplotlib inline"
      ],
      "id": "3e9c12c9",
      "execution_count": 10,
      "outputs": []
    },
    {
      "cell_type": "code",
      "metadata": {
        "id": "8fe52b38"
      },
      "source": [
        "import warnings\n",
        "warnings.filterwarnings('ignore')"
      ],
      "id": "8fe52b38",
      "execution_count": 11,
      "outputs": []
    },
    {
      "cell_type": "markdown",
      "metadata": {
        "id": "56c43c94"
      },
      "source": [
        "---\n",
        "<a name = Section3></a>\n",
        "## **3. Data Acquisition & Description**"
      ],
      "id": "56c43c94"
    },
    {
      "cell_type": "markdown",
      "metadata": {
        "id": "4ce748ca"
      },
      "source": [
        "<a id = Section31></a>\n",
        "### 3.1 Importing   \"department_data\""
      ],
      "id": "4ce748ca"
    },
    {
      "cell_type": "code",
      "metadata": {
        "id": "RnUR-e8CyapP"
      },
      "source": [
        "mydb = mysql.connector.connect(\n",
        "  host=\"cpanel.insaid.co\",\n",
        "  user=\"student\",\n",
        "  passwd=\"student\",\n",
        "  database=\"Capstone2\"\n",
        ")\n",
        "\n",
        "mycursor = mydb.cursor()"
      ],
      "id": "RnUR-e8CyapP",
      "execution_count": null,
      "outputs": []
    },
    {
      "cell_type": "code",
      "metadata": {
        "colab": {
          "base_uri": "https://localhost:8080/",
          "height": 203
        },
        "id": "ba956f44",
        "outputId": "801d8d73-1acc-4ef0-de19-1f50dafedb54"
      },
      "source": [
        "mycursor.execute(\"select * from department_data\")\n",
        "myresult = mycursor.fetchall()\n",
        "df_department_data = pd.DataFrame(myresult)\n",
        "\n",
        "field_names = [i[0] for i in mycursor.description]\n",
        "df_department_data.columns = field_names\n",
        "\n",
        "df_department_data.head()"
      ],
      "id": "ba956f44",
      "execution_count": 12,
      "outputs": [
        {
          "output_type": "execute_result",
          "data": {
            "text/html": [
              "<div>\n",
              "<style scoped>\n",
              "    .dataframe tbody tr th:only-of-type {\n",
              "        vertical-align: middle;\n",
              "    }\n",
              "\n",
              "    .dataframe tbody tr th {\n",
              "        vertical-align: top;\n",
              "    }\n",
              "\n",
              "    .dataframe thead th {\n",
              "        text-align: right;\n",
              "    }\n",
              "</style>\n",
              "<table border=\"1\" class=\"dataframe\">\n",
              "  <thead>\n",
              "    <tr style=\"text-align: right;\">\n",
              "      <th></th>\n",
              "      <th>dept_id</th>\n",
              "      <th>dept_name</th>\n",
              "      <th>dept_head</th>\n",
              "    </tr>\n",
              "  </thead>\n",
              "  <tbody>\n",
              "    <tr>\n",
              "      <th>0</th>\n",
              "      <td>D00-IT</td>\n",
              "      <td>IT</td>\n",
              "      <td>Henry Adey</td>\n",
              "    </tr>\n",
              "    <tr>\n",
              "      <th>1</th>\n",
              "      <td>D00-SS</td>\n",
              "      <td>Sales</td>\n",
              "      <td>Edward J Bayley</td>\n",
              "    </tr>\n",
              "    <tr>\n",
              "      <th>2</th>\n",
              "      <td>D00-TP</td>\n",
              "      <td>Temp</td>\n",
              "      <td>Micheal Zachrey</td>\n",
              "    </tr>\n",
              "    <tr>\n",
              "      <th>3</th>\n",
              "      <td>D00-ENG</td>\n",
              "      <td>Engineering</td>\n",
              "      <td>Sushant Raghunathan K</td>\n",
              "    </tr>\n",
              "    <tr>\n",
              "      <th>4</th>\n",
              "      <td>D00-SP</td>\n",
              "      <td>Support</td>\n",
              "      <td>Amelia Westray</td>\n",
              "    </tr>\n",
              "  </tbody>\n",
              "</table>\n",
              "</div>"
            ],
            "text/plain": [
              "   dept_id    dept_name              dept_head\n",
              "0   D00-IT           IT             Henry Adey\n",
              "1   D00-SS        Sales        Edward J Bayley\n",
              "2   D00-TP         Temp        Micheal Zachrey\n",
              "3  D00-ENG  Engineering  Sushant Raghunathan K\n",
              "4   D00-SP      Support         Amelia Westray"
            ]
          },
          "metadata": {},
          "execution_count": 12
        }
      ]
    },
    {
      "cell_type": "markdown",
      "metadata": {
        "id": "f0826e6f"
      },
      "source": [
        "<a id = Section32></a>\n",
        "### 3.2 Importing   \"employee_details_data\""
      ],
      "id": "f0826e6f"
    },
    {
      "cell_type": "code",
      "metadata": {
        "colab": {
          "base_uri": "https://localhost:8080/",
          "height": 203
        },
        "id": "87b86113",
        "outputId": "3411c24b-7faf-4898-d75e-a73b1932899c"
      },
      "source": [
        "mycursor.execute(\"select * from employee_details_data\")\n",
        "myresult = mycursor.fetchall()\n",
        "df_employee_details_data = pd.DataFrame(myresult)\n",
        "\n",
        "field_names = [i[0] for i in mycursor.description]\n",
        "df_employee_details_data.columns = field_names\n",
        "\n",
        "df_employee_details_data.head()"
      ],
      "id": "87b86113",
      "execution_count": 13,
      "outputs": [
        {
          "output_type": "execute_result",
          "data": {
            "text/html": [
              "<div>\n",
              "<style scoped>\n",
              "    .dataframe tbody tr th:only-of-type {\n",
              "        vertical-align: middle;\n",
              "    }\n",
              "\n",
              "    .dataframe tbody tr th {\n",
              "        vertical-align: top;\n",
              "    }\n",
              "\n",
              "    .dataframe thead th {\n",
              "        text-align: right;\n",
              "    }\n",
              "</style>\n",
              "<table border=\"1\" class=\"dataframe\">\n",
              "  <thead>\n",
              "    <tr style=\"text-align: right;\">\n",
              "      <th></th>\n",
              "      <th>employee_id</th>\n",
              "      <th>age</th>\n",
              "      <th>gender</th>\n",
              "      <th>marital_status</th>\n",
              "    </tr>\n",
              "  </thead>\n",
              "  <tbody>\n",
              "    <tr>\n",
              "      <th>0</th>\n",
              "      <td>113558</td>\n",
              "      <td>43</td>\n",
              "      <td>Male</td>\n",
              "      <td>Married</td>\n",
              "    </tr>\n",
              "    <tr>\n",
              "      <th>1</th>\n",
              "      <td>112256</td>\n",
              "      <td>24</td>\n",
              "      <td>Female</td>\n",
              "      <td>Unmarried</td>\n",
              "    </tr>\n",
              "    <tr>\n",
              "      <th>2</th>\n",
              "      <td>112586</td>\n",
              "      <td>22</td>\n",
              "      <td>Female</td>\n",
              "      <td>Unmarried</td>\n",
              "    </tr>\n",
              "    <tr>\n",
              "      <th>3</th>\n",
              "      <td>108071</td>\n",
              "      <td>36</td>\n",
              "      <td>Male</td>\n",
              "      <td>Married</td>\n",
              "    </tr>\n",
              "    <tr>\n",
              "      <th>4</th>\n",
              "      <td>116915</td>\n",
              "      <td>38</td>\n",
              "      <td>Male</td>\n",
              "      <td>Married</td>\n",
              "    </tr>\n",
              "  </tbody>\n",
              "</table>\n",
              "</div>"
            ],
            "text/plain": [
              "   employee_id  age  gender marital_status\n",
              "0       113558   43    Male        Married\n",
              "1       112256   24  Female      Unmarried\n",
              "2       112586   22  Female      Unmarried\n",
              "3       108071   36    Male        Married\n",
              "4       116915   38    Male        Married"
            ]
          },
          "metadata": {},
          "execution_count": 13
        }
      ]
    },
    {
      "cell_type": "markdown",
      "metadata": {
        "id": "14904391"
      },
      "source": [
        "<a id = Section33></a>\n",
        "### 3.3 Importing   \"employee_data\""
      ],
      "id": "14904391"
    },
    {
      "cell_type": "code",
      "metadata": {
        "colab": {
          "base_uri": "https://localhost:8080/",
          "height": 203
        },
        "id": "f807c3cd",
        "outputId": "849c0caf-2589-4130-fc2b-415c56529add"
      },
      "source": [
        "mycursor.execute(\"select * from employee_data\")\n",
        "myresult = mycursor.fetchall()\n",
        "df_employee_data = pd.DataFrame(myresult)\n",
        "\n",
        "field_names = [i[0] for i in mycursor.description]\n",
        "df_employee_data.columns = field_names\n",
        "\n",
        "df_employee_data.head()"
      ],
      "id": "f807c3cd",
      "execution_count": 14,
      "outputs": [
        {
          "output_type": "execute_result",
          "data": {
            "text/html": [
              "<div>\n",
              "<style scoped>\n",
              "    .dataframe tbody tr th:only-of-type {\n",
              "        vertical-align: middle;\n",
              "    }\n",
              "\n",
              "    .dataframe tbody tr th {\n",
              "        vertical-align: top;\n",
              "    }\n",
              "\n",
              "    .dataframe thead th {\n",
              "        text-align: right;\n",
              "    }\n",
              "</style>\n",
              "<table border=\"1\" class=\"dataframe\">\n",
              "  <thead>\n",
              "    <tr style=\"text-align: right;\">\n",
              "      <th></th>\n",
              "      <th>avg_monthly_hrs</th>\n",
              "      <th>department</th>\n",
              "      <th>filed_complaint</th>\n",
              "      <th>last_evaluation</th>\n",
              "      <th>n_projects</th>\n",
              "      <th>recently_promoted</th>\n",
              "      <th>salary</th>\n",
              "      <th>satisfaction</th>\n",
              "      <th>status</th>\n",
              "      <th>tenure</th>\n",
              "      <th>employee_id</th>\n",
              "    </tr>\n",
              "  </thead>\n",
              "  <tbody>\n",
              "    <tr>\n",
              "      <th>0</th>\n",
              "      <td>246.00</td>\n",
              "      <td>None</td>\n",
              "      <td>None</td>\n",
              "      <td>0.866838</td>\n",
              "      <td>6</td>\n",
              "      <td>NaN</td>\n",
              "      <td>medium</td>\n",
              "      <td>0.134415</td>\n",
              "      <td>Left</td>\n",
              "      <td>4.00</td>\n",
              "      <td>124467</td>\n",
              "    </tr>\n",
              "    <tr>\n",
              "      <th>1</th>\n",
              "      <td>134.00</td>\n",
              "      <td>None</td>\n",
              "      <td>None</td>\n",
              "      <td>0.555718</td>\n",
              "      <td>2</td>\n",
              "      <td>NaN</td>\n",
              "      <td>low</td>\n",
              "      <td>0.511041</td>\n",
              "      <td>Left</td>\n",
              "      <td>3.00</td>\n",
              "      <td>112210</td>\n",
              "    </tr>\n",
              "    <tr>\n",
              "      <th>2</th>\n",
              "      <td>156.00</td>\n",
              "      <td>D00-SS</td>\n",
              "      <td>1.00</td>\n",
              "      <td>0.474082</td>\n",
              "      <td>2</td>\n",
              "      <td>NaN</td>\n",
              "      <td>medium</td>\n",
              "      <td>0.405101</td>\n",
              "      <td>Left</td>\n",
              "      <td>3.00</td>\n",
              "      <td>126150</td>\n",
              "    </tr>\n",
              "    <tr>\n",
              "      <th>3</th>\n",
              "      <td>256.00</td>\n",
              "      <td>D00-SP</td>\n",
              "      <td>None</td>\n",
              "      <td>0.961360</td>\n",
              "      <td>6</td>\n",
              "      <td>NaN</td>\n",
              "      <td>low</td>\n",
              "      <td>0.152974</td>\n",
              "      <td>Left</td>\n",
              "      <td>4.00</td>\n",
              "      <td>125346</td>\n",
              "    </tr>\n",
              "    <tr>\n",
              "      <th>4</th>\n",
              "      <td>146.00</td>\n",
              "      <td>D00-SS</td>\n",
              "      <td>None</td>\n",
              "      <td>0.507349</td>\n",
              "      <td>2</td>\n",
              "      <td>NaN</td>\n",
              "      <td>medium</td>\n",
              "      <td>0.434845</td>\n",
              "      <td>Left</td>\n",
              "      <td>3.00</td>\n",
              "      <td>113707</td>\n",
              "    </tr>\n",
              "  </tbody>\n",
              "</table>\n",
              "</div>"
            ],
            "text/plain": [
              "  avg_monthly_hrs department filed_complaint  ...  status  tenure  employee_id\n",
              "0          246.00       None            None  ...    Left    4.00       124467\n",
              "1          134.00       None            None  ...    Left    3.00       112210\n",
              "2          156.00     D00-SS            1.00  ...    Left    3.00       126150\n",
              "3          256.00     D00-SP            None  ...    Left    4.00       125346\n",
              "4          146.00     D00-SS            None  ...    Left    3.00       113707\n",
              "\n",
              "[5 rows x 11 columns]"
            ]
          },
          "metadata": {},
          "execution_count": 14
        }
      ]
    },
    {
      "cell_type": "markdown",
      "metadata": {
        "id": "c0b4b813"
      },
      "source": [
        "<a id = Section34></a>\n",
        "### 3.4 Data Description"
      ],
      "id": "c0b4b813"
    },
    {
      "cell_type": "markdown",
      "metadata": {
        "id": "88ef95c1"
      },
      "source": [
        "The Business Intelligence Analysts of the Company provided you three datasets that contain information about past employees and their status (still employed or already left).\n",
        "\n",
        "1. **department_data**\n",
        "    \n",
        "    This dataset contains information about each department. The schema of the dataset is as follows:\n",
        "\n",
        "    - dept_id – Unique Department Code\n",
        "    - dept_name – Name of the Department\n",
        "    - dept_head – Name of the Head of the Department\n",
        "    \n",
        "\n",
        "2. **employee_details_data**\n",
        "\n",
        "    This dataset consists of Employee ID, their Age, Gender and Marital Status. The schema of this dataset is as follows:\n",
        "\n",
        "    - employee_id – Unique ID Number for each employee\n",
        "    - age – Age of the employee\n",
        "    - gender – Gender of the employee\n",
        "    - marital_status – Marital Status of the employee\n",
        "\n",
        "\n",
        "3. **employee_data**\n",
        "\n",
        "    This dataset consists of each employee’s Administrative Information, Workload Information, Mutual Evaluation Information and Status.\n",
        "    \n",
        "\n",
        "**Target variable**\n",
        "\n",
        "- **status** – Current employment status (Employed / Left)\n",
        "    \n",
        "    \n",
        "**Administrative information**\n",
        "\n",
        "- **department** – Department to which the employees belong(ed) to\n",
        "- **salary** – Salary level with respect to rest of their department\n",
        "- **tenure** – Number of years at the company\n",
        "- **recently_promoted** – Was the employee promoted in the last 3 years?\n",
        "- **employee_id** – Unique ID Number for each employee\n",
        "    \n",
        "    \n",
        "**Workload information**\n",
        "\n",
        "- **n_projects** – Number of projects employee has worked on\n",
        "- **avg_monthly_hrs** – Average number of hours worked per month\n",
        "    \n",
        "    \n",
        "**Mutual evaluation information**\n",
        "\n",
        "- **satisfaction** – Score for employee’s satisfaction with the company (higher is better)\n",
        "- **last_evaluation** – Score for most recent evaluation of employee (higher is better)\n",
        "- **filed_complaint** – Has the employee filed a formal complaint in the last 3 years?"
      ],
      "id": "88ef95c1"
    },
    {
      "cell_type": "markdown",
      "metadata": {
        "id": "6a053c48"
      },
      "source": [
        "<a id = Section4></a>\n",
        "### 4. Understanding Project Datasets"
      ],
      "id": "6a053c48"
    },
    {
      "cell_type": "markdown",
      "metadata": {
        "id": "fc6f08e0"
      },
      "source": [
        "<a id = Section41></a>\n",
        "### 4.1 Understand Dataset: department_data"
      ],
      "id": "fc6f08e0"
    },
    {
      "cell_type": "code",
      "metadata": {
        "colab": {
          "base_uri": "https://localhost:8080/",
          "height": 203
        },
        "id": "5c1530d0",
        "outputId": "c3fb073c-cf49-47df-ff85-16938574db29"
      },
      "source": [
        "df_department_data.head()"
      ],
      "id": "5c1530d0",
      "execution_count": 15,
      "outputs": [
        {
          "output_type": "execute_result",
          "data": {
            "text/html": [
              "<div>\n",
              "<style scoped>\n",
              "    .dataframe tbody tr th:only-of-type {\n",
              "        vertical-align: middle;\n",
              "    }\n",
              "\n",
              "    .dataframe tbody tr th {\n",
              "        vertical-align: top;\n",
              "    }\n",
              "\n",
              "    .dataframe thead th {\n",
              "        text-align: right;\n",
              "    }\n",
              "</style>\n",
              "<table border=\"1\" class=\"dataframe\">\n",
              "  <thead>\n",
              "    <tr style=\"text-align: right;\">\n",
              "      <th></th>\n",
              "      <th>dept_id</th>\n",
              "      <th>dept_name</th>\n",
              "      <th>dept_head</th>\n",
              "    </tr>\n",
              "  </thead>\n",
              "  <tbody>\n",
              "    <tr>\n",
              "      <th>0</th>\n",
              "      <td>D00-IT</td>\n",
              "      <td>IT</td>\n",
              "      <td>Henry Adey</td>\n",
              "    </tr>\n",
              "    <tr>\n",
              "      <th>1</th>\n",
              "      <td>D00-SS</td>\n",
              "      <td>Sales</td>\n",
              "      <td>Edward J Bayley</td>\n",
              "    </tr>\n",
              "    <tr>\n",
              "      <th>2</th>\n",
              "      <td>D00-TP</td>\n",
              "      <td>Temp</td>\n",
              "      <td>Micheal Zachrey</td>\n",
              "    </tr>\n",
              "    <tr>\n",
              "      <th>3</th>\n",
              "      <td>D00-ENG</td>\n",
              "      <td>Engineering</td>\n",
              "      <td>Sushant Raghunathan K</td>\n",
              "    </tr>\n",
              "    <tr>\n",
              "      <th>4</th>\n",
              "      <td>D00-SP</td>\n",
              "      <td>Support</td>\n",
              "      <td>Amelia Westray</td>\n",
              "    </tr>\n",
              "  </tbody>\n",
              "</table>\n",
              "</div>"
            ],
            "text/plain": [
              "   dept_id    dept_name              dept_head\n",
              "0   D00-IT           IT             Henry Adey\n",
              "1   D00-SS        Sales        Edward J Bayley\n",
              "2   D00-TP         Temp        Micheal Zachrey\n",
              "3  D00-ENG  Engineering  Sushant Raghunathan K\n",
              "4   D00-SP      Support         Amelia Westray"
            ]
          },
          "metadata": {},
          "execution_count": 15
        }
      ]
    },
    {
      "cell_type": "code",
      "metadata": {
        "colab": {
          "base_uri": "https://localhost:8080/",
          "height": 162
        },
        "id": "005d4df6",
        "outputId": "05c52ce5-52e7-45c5-9bc3-cebd6372dd22"
      },
      "source": [
        "df_department_data.info(verbose=True, show_counts=True)"
      ],
      "id": "005d4df6",
      "execution_count": 16,
      "outputs": [
        {
          "output_type": "error",
          "ename": "NameError",
          "evalue": "ignored",
          "traceback": [
            "\u001b[0;31m---------------------------------------------------------------------------\u001b[0m",
            "\u001b[0;31mNameError\u001b[0m                                 Traceback (most recent call last)",
            "\u001b[0;32m<ipython-input-16-e4f7e1ebefd4>\u001b[0m in \u001b[0;36m<module>\u001b[0;34m()\u001b[0m\n\u001b[0;32m----> 1\u001b[0;31m \u001b[0mdf_department_data\u001b[0m\u001b[0;34m.\u001b[0m\u001b[0minfo\u001b[0m\u001b[0;34m(\u001b[0m\u001b[0mverbose\u001b[0m\u001b[0;34m=\u001b[0m\u001b[0mTrueG\u001b[0m\u001b[0;34m,\u001b[0m \u001b[0mshow_counts\u001b[0m\u001b[0;34m=\u001b[0m\u001b[0;32mTrue\u001b[0m\u001b[0;34m)\u001b[0m\u001b[0;34m\u001b[0m\u001b[0;34m\u001b[0m\u001b[0m\n\u001b[0m",
            "\u001b[0;31mNameError\u001b[0m: name 'TrueG' is not defined"
          ]
        }
      ]
    },
    {
      "cell_type": "code",
      "metadata": {
        "id": "4f4e3c33"
      },
      "source": [
        "df_department_data.isnull().sum().sum()"
      ],
      "id": "4f4e3c33",
      "execution_count": null,
      "outputs": []
    },
    {
      "cell_type": "code",
      "metadata": {
        "id": "135d019b"
      },
      "source": [
        "df_department_data.isnull().sum().sort_values(ascending=False)"
      ],
      "id": "135d019b",
      "execution_count": null,
      "outputs": []
    },
    {
      "cell_type": "markdown",
      "metadata": {
        "id": "501c2bf0"
      },
      "source": [
        "#### 'department_data' consists of 3 Columns and 11 Rows with no missing data"
      ],
      "id": "501c2bf0"
    },
    {
      "cell_type": "code",
      "metadata": {
        "id": "7f8f48c6"
      },
      "source": [
        "df_department_data.describe()"
      ],
      "id": "7f8f48c6",
      "execution_count": null,
      "outputs": []
    },
    {
      "cell_type": "code",
      "metadata": {
        "id": "cecb9813"
      },
      "source": [
        "df_department_data['dept_id'].value_counts()"
      ],
      "id": "cecb9813",
      "execution_count": null,
      "outputs": []
    },
    {
      "cell_type": "code",
      "metadata": {
        "id": "dac636c0"
      },
      "source": [
        "df_department_data['dept_name'].value_counts()"
      ],
      "id": "dac636c0",
      "execution_count": null,
      "outputs": []
    },
    {
      "cell_type": "code",
      "metadata": {
        "id": "40bc79a0"
      },
      "source": [
        "df_department_data['dept_head'].value_counts()"
      ],
      "id": "40bc79a0",
      "execution_count": null,
      "outputs": []
    },
    {
      "cell_type": "markdown",
      "metadata": {
        "id": "5834eddd"
      },
      "source": [
        "#### In the 'department_data', there are 11 UNIQUE 'Department ID' having all different UNIQUE 'Department Name' headed by 11 different 'Department Heads'"
      ],
      "id": "5834eddd"
    },
    {
      "cell_type": "markdown",
      "metadata": {
        "id": "951e9987"
      },
      "source": [
        "<a id = Section42></a>\n",
        "### 4.2 Understand Dataset: employee_details_data"
      ],
      "id": "951e9987"
    },
    {
      "cell_type": "code",
      "metadata": {
        "id": "beff33d5"
      },
      "source": [
        "df_employee_details_data.head()"
      ],
      "id": "beff33d5",
      "execution_count": null,
      "outputs": []
    },
    {
      "cell_type": "code",
      "metadata": {
        "id": "4ebe3df6"
      },
      "source": [
        "df_employee_details_data.info(verbose=True, show_counts=True)"
      ],
      "id": "4ebe3df6",
      "execution_count": null,
      "outputs": []
    },
    {
      "cell_type": "code",
      "metadata": {
        "id": "49d5020f"
      },
      "source": [
        "df_employee_details_data.isnull().sum().sum()"
      ],
      "id": "49d5020f",
      "execution_count": null,
      "outputs": []
    },
    {
      "cell_type": "code",
      "metadata": {
        "id": "030856a2"
      },
      "source": [
        "df_employee_details_data.isnull().sum().sort_values(ascending=False)"
      ],
      "id": "030856a2",
      "execution_count": null,
      "outputs": []
    },
    {
      "cell_type": "markdown",
      "metadata": {
        "id": "b0e08da8"
      },
      "source": [
        "#### 'employee_details_data' consists of 4 Columns and 14,245 Rows with no missing data"
      ],
      "id": "b0e08da8"
    },
    {
      "cell_type": "code",
      "metadata": {
        "id": "5786e470"
      },
      "source": [
        "df_employee_details_data.describe()"
      ],
      "id": "5786e470",
      "execution_count": null,
      "outputs": []
    },
    {
      "cell_type": "code",
      "metadata": {
        "id": "db24b73b"
      },
      "source": [
        "df_employee_details_data.describe(include='all')"
      ],
      "id": "db24b73b",
      "execution_count": null,
      "outputs": []
    },
    {
      "cell_type": "code",
      "metadata": {
        "id": "11c9007c"
      },
      "source": [
        "df_employee_details_data['gender'].value_counts()"
      ],
      "id": "11c9007c",
      "execution_count": null,
      "outputs": []
    },
    {
      "cell_type": "code",
      "metadata": {
        "id": "e257fcfb"
      },
      "source": [
        "df_employee_details_data['gender'].value_counts(1)*100"
      ],
      "id": "e257fcfb",
      "execution_count": null,
      "outputs": []
    },
    {
      "cell_type": "code",
      "metadata": {
        "id": "84501dde"
      },
      "source": [
        "df_employee_details_data['gender'].value_counts().plot(kind='pie', autopct='%.2f%%')"
      ],
      "id": "84501dde",
      "execution_count": null,
      "outputs": []
    },
    {
      "cell_type": "markdown",
      "metadata": {
        "id": "3c00a452"
      },
      "source": [
        "#### From gender column, we have seen that 9,382 employees are males which accounts for 65.86% of the sample while 4,863 employees are females which accounts for 34.14% of the sample.\n",
        "\n",
        "---"
      ],
      "id": "3c00a452"
    },
    {
      "cell_type": "code",
      "metadata": {
        "id": "8b41079c"
      },
      "source": [
        "df_employee_details_data['marital_status'].value_counts()"
      ],
      "id": "8b41079c",
      "execution_count": null,
      "outputs": []
    },
    {
      "cell_type": "code",
      "metadata": {
        "id": "00d8a30e"
      },
      "source": [
        "df_employee_details_data['marital_status'].value_counts(1)*100"
      ],
      "id": "00d8a30e",
      "execution_count": null,
      "outputs": []
    },
    {
      "cell_type": "code",
      "metadata": {
        "id": "c88260c3"
      },
      "source": [
        "df_employee_details_data['marital_status'].value_counts().plot(kind='pie', autopct='%.2f%%')"
      ],
      "id": "c88260c3",
      "execution_count": null,
      "outputs": []
    },
    {
      "cell_type": "markdown",
      "metadata": {
        "id": "90a05fdc"
      },
      "source": [
        "#### From marital status column, we have seen that 7,283 employees are Unmarried which accounts for 51.13% of the sample while 6,962 employees are Married which accounts for 48.87% of the sample.\n",
        "\n",
        "---"
      ],
      "id": "90a05fdc"
    },
    {
      "cell_type": "code",
      "metadata": {
        "scrolled": true,
        "id": "33b8b659"
      },
      "source": [
        "df_employee_details_data['age'].value_counts().plot(kind='bar', figsize=(16,5))"
      ],
      "id": "33b8b659",
      "execution_count": null,
      "outputs": []
    },
    {
      "cell_type": "code",
      "metadata": {
        "id": "7c824691"
      },
      "source": [
        "df_employee_details_data['age'].plot(kind='kde', figsize=(16,8))"
      ],
      "id": "7c824691",
      "execution_count": null,
      "outputs": []
    },
    {
      "cell_type": "markdown",
      "metadata": {
        "id": "a97ad414"
      },
      "source": [
        "#### Age of the employee ranges from 22 Years to 57 Years and most of the employee are from age group 22-29 years. From describe function also we have seen that 50% of the employees are from 22 Years to 29 Years."
      ],
      "id": "a97ad414"
    },
    {
      "cell_type": "markdown",
      "metadata": {
        "id": "02cb90af"
      },
      "source": [
        "<a id = Section43></a>\n",
        "### 4.3 Understand Dataset: employee_data"
      ],
      "id": "02cb90af"
    },
    {
      "cell_type": "code",
      "metadata": {
        "id": "53db3ba8"
      },
      "source": [
        "df_employee_data.head()"
      ],
      "id": "53db3ba8",
      "execution_count": null,
      "outputs": []
    },
    {
      "cell_type": "code",
      "metadata": {
        "id": "6a1cb5da"
      },
      "source": [
        "df_employee_data.info(verbose=True, show_counts=True)"
      ],
      "id": "6a1cb5da",
      "execution_count": null,
      "outputs": []
    },
    {
      "cell_type": "code",
      "metadata": {
        "id": "62e8ab73"
      },
      "source": [
        "df_employee_data.isnull().sum().sort_values(ascending=False)"
      ],
      "id": "62e8ab73",
      "execution_count": null,
      "outputs": []
    },
    {
      "cell_type": "markdown",
      "metadata": {
        "id": "97ef0e66"
      },
      "source": [
        "- **employee_detail_data (14,245) has 95 more entry comapred to employee_data (14,150)**\n",
        "- **department has 707 missing data, which is a major concern as 'department' is primary column for merging data**\n",
        "- **Department column heading is different**\n",
        "- **How to fill missing data??**"
      ],
      "id": "97ef0e66"
    },
    {
      "cell_type": "code",
      "metadata": {
        "id": "e745b290"
      },
      "source": [
        "df_employee_data['department'].value_counts()"
      ],
      "id": "e745b290",
      "execution_count": null,
      "outputs": []
    },
    {
      "cell_type": "markdown",
      "metadata": {
        "id": "d1135031"
      },
      "source": [
        "- **department column has 707 missing data as well as it has 12 unique value. But it has one '-IT' entry (having 207 entry) apart from 'D00-IT', which I feel it would be part of 'D00-IT'.**"
      ],
      "id": "d1135031"
    },
    {
      "cell_type": "code",
      "metadata": {
        "id": "78f29aaa"
      },
      "source": [
        "df_employee_data.replace(to_replace='-IT', value='D00-IT', inplace=True)"
      ],
      "id": "78f29aaa",
      "execution_count": null,
      "outputs": []
    },
    {
      "cell_type": "code",
      "metadata": {
        "id": "9fbcbd0c"
      },
      "source": [
        "df_employee_data['department'].value_counts()"
      ],
      "id": "9fbcbd0c",
      "execution_count": null,
      "outputs": []
    },
    {
      "cell_type": "markdown",
      "metadata": {
        "id": "60d18852"
      },
      "source": [
        "- **In 'department_data', Column Name of Department ID is 'dept_id' whereas same Column Name of Department ID in 'employee_data' is department. So, in order to merge data from both dataset, we need same column name. Thus, we are changing column name in employee_data to dept_id from department.**"
      ],
      "id": "60d18852"
    },
    {
      "cell_type": "code",
      "metadata": {
        "id": "4f3526a1"
      },
      "source": [
        "df_employee_data = df_employee_data.rename({'department':'dept_id'}, axis=1)\n",
        "df_employee_data.head()"
      ],
      "id": "4f3526a1",
      "execution_count": null,
      "outputs": []
    },
    {
      "cell_type": "markdown",
      "metadata": {
        "id": "807c547a"
      },
      "source": [
        "<a id = Section5></a>\n",
        "### 5. Merging of Datasets"
      ],
      "id": "807c547a"
    },
    {
      "cell_type": "markdown",
      "metadata": {
        "id": "4dfd9c6b"
      },
      "source": [
        "- **Merging of department_data and employee_data**"
      ],
      "id": "4dfd9c6b"
    },
    {
      "cell_type": "code",
      "metadata": {
        "id": "d54a349f"
      },
      "source": [
        "df_merged1 = pd.merge(left=df_department_data, right=df_employee_data, on='dept_id', how='outer')\n",
        "df_merged1.head()"
      ],
      "id": "d54a349f",
      "execution_count": null,
      "outputs": []
    },
    {
      "cell_type": "code",
      "metadata": {
        "id": "d48b8822"
      },
      "source": [
        "df_merged1.info()"
      ],
      "id": "d48b8822",
      "execution_count": null,
      "outputs": []
    },
    {
      "cell_type": "markdown",
      "metadata": {
        "id": "9e710f3c"
      },
      "source": [
        "- **Now merging 'employee_details_data' with the first merged dataset**"
      ],
      "id": "9e710f3c"
    },
    {
      "cell_type": "code",
      "metadata": {
        "id": "42b6dd22"
      },
      "source": [
        "df_final = pd.merge(left=df_employee_details_data, right=df_merged1, on='employee_id', how='right')\n",
        "df_final.head()"
      ],
      "id": "42b6dd22",
      "execution_count": null,
      "outputs": []
    },
    {
      "cell_type": "code",
      "metadata": {
        "id": "3368dbc7"
      },
      "source": [
        "df_final.info()"
      ],
      "id": "3368dbc7",
      "execution_count": null,
      "outputs": []
    },
    {
      "cell_type": "markdown",
      "metadata": {
        "id": "570c4b78"
      },
      "source": [
        "<a id = Section6></a>\n",
        "### 6. Feature Engineering: Treating missing data"
      ],
      "id": "570c4b78"
    },
    {
      "cell_type": "code",
      "metadata": {
        "id": "48d5355f"
      },
      "source": [
        "df_final.isnull().sum().sort_values(ascending=False)"
      ],
      "id": "48d5355f",
      "execution_count": null,
      "outputs": []
    },
    {
      "cell_type": "code",
      "metadata": {
        "id": "b64b678b"
      },
      "source": [
        "missing_data = pd.DataFrame(df_final.isnull().sum(), columns=['Total Missing Values'])\n",
        "missing_data['% of Missing Values'] = df_final.isnull().sum() / len(df_final) * 100\n",
        "missing_data = missing_data.sort_values(by = '% of Missing Values', ascending=False)\n",
        "missing_data"
      ],
      "id": "b64b678b",
      "execution_count": null,
      "outputs": []
    },
    {
      "cell_type": "markdown",
      "metadata": {
        "id": "9f90c99a"
      },
      "source": [
        "- **recently_promoted** has 13,853 missing data (14,150-13853) ie., 297 got promotion recently and remaining weren't got promotion. So, I am replacing NULL value with '0'.\n",
        "\n",
        "\n",
        "- **filed_complaint** has 12,104 missing value which means 12,104 employee has not filed any complaint. So, I am replacing NULL value with '0'.\n",
        "\n",
        "\n",
        "- **last_evaluation** is 'Score for most recent evaluation of employee (higher is better)' has 1,487 missing value, which means either data is missing or 1,487 employee has not got any evaluation. Here, I am assuming that it has never evaluated and hence I am replacing NULL value with '0'. **Second Thought:** replacing with Median / Mean.\n",
        "\n",
        "\n",
        "- **satisfaction** is 'Score for employee’s satisfaction with the company (higher is better)' has 150 missing value, which means either data is missing or 150 employee has not given its satisfaction score. Here, again I am assuming that it has not gave its satisfaction score and hence I am replacing NULL value with '0'. **Second Thought:** replacing with Median / Mean.\n",
        "\n",
        "\n",
        "- **dept_id** has 707 missing value, I am replacing it with Mode.\n",
        "\n",
        "\n",
        "- **dept_name** has 707 missing value, I am replacing it with Mode.\n",
        "\n",
        "\n",
        "- **dept_head** has 707 missing value, I am replacing it with Mode.\n",
        "\n",
        "\n",
        "- **tenure** has 150 missing value, I am replacing it with Median.\n",
        "\n",
        "\n",
        "- **age** has 5 missing value, I am replacing it with Median.\n",
        "\n",
        "\n",
        "- **gender** has 5 missing value, I am replacing it with Mode.\n",
        "\n",
        "\n",
        "- **marital_status** has 5 missing value, I am replacing it with Mode."
      ],
      "id": "9f90c99a"
    },
    {
      "cell_type": "markdown",
      "metadata": {
        "id": "59a26c5e"
      },
      "source": [
        "### Replacing Missing Values:"
      ],
      "id": "59a26c5e"
    },
    {
      "cell_type": "markdown",
      "metadata": {
        "id": "2009cb15"
      },
      "source": [
        "- Replacing **null value** of **'recently_promoted'** and **'filed_complaint'** with **'0.0'**."
      ],
      "id": "2009cb15"
    },
    {
      "cell_type": "code",
      "metadata": {
        "id": "68805eaf"
      },
      "source": [
        "df_final['recently_promoted'].fillna('0.0', inplace=True)"
      ],
      "id": "68805eaf",
      "execution_count": null,
      "outputs": []
    },
    {
      "cell_type": "code",
      "metadata": {
        "id": "55bf7024"
      },
      "source": [
        "df_final['filed_complaint'].fillna('0.00', inplace=True)"
      ],
      "id": "55bf7024",
      "execution_count": null,
      "outputs": []
    },
    {
      "cell_type": "markdown",
      "metadata": {
        "id": "ec9f3e9d"
      },
      "source": [
        "- Replacing **last_evaluation, satisfaction, dept_id, dept_name, dept_head, tenure, age, gender and marital_status** with **Mean / Median / Mode**"
      ],
      "id": "ec9f3e9d"
    },
    {
      "cell_type": "code",
      "metadata": {
        "id": "14830c10"
      },
      "source": [
        "df_final['last_evaluation'].fillna(df_final['last_evaluation'].mean(), inplace=True)\n",
        "df_final['satisfaction'].fillna(df_final['satisfaction'].mean(), inplace=True)\n",
        "df_final['dept_id'].fillna(df_final['dept_id'].mode()[0], inplace=True)\n",
        "df_final['dept_name'].fillna(df_final['dept_name'].mode()[0], inplace=True)\n",
        "df_final['dept_head'].fillna(df_final['dept_head'].mode()[0], inplace=True)\n",
        "df_final['tenure'].fillna(df_final['tenure'].median(), inplace=True)\n",
        "df_final['age'].fillna(df_final['age'].median(), inplace=True)\n",
        "df_final['gender'].fillna(df_final['gender'].mode()[0], inplace=True)\n",
        "df_final['marital_status'].fillna(df_final['marital_status'].mode()[0], inplace=True)"
      ],
      "id": "14830c10",
      "execution_count": null,
      "outputs": []
    },
    {
      "cell_type": "code",
      "metadata": {
        "id": "57f5cbcd"
      },
      "source": [
        "df_final.info()"
      ],
      "id": "57f5cbcd",
      "execution_count": null,
      "outputs": []
    },
    {
      "cell_type": "markdown",
      "metadata": {
        "id": "da9f2695"
      },
      "source": [
        "<a id = Section7></a>\n",
        "### 7. Data Analysis / Visualization of various Feature Columns "
      ],
      "id": "da9f2695"
    },
    {
      "cell_type": "code",
      "metadata": {
        "id": "5369c7f1"
      },
      "source": [
        ""
      ],
      "id": "5369c7f1",
      "execution_count": null,
      "outputs": []
    },
    {
      "cell_type": "code",
      "metadata": {
        "id": "ee8702f7"
      },
      "source": [
        ""
      ],
      "id": "ee8702f7",
      "execution_count": null,
      "outputs": []
    },
    {
      "cell_type": "code",
      "metadata": {
        "id": "27f8c0b7"
      },
      "source": [
        ""
      ],
      "id": "27f8c0b7",
      "execution_count": null,
      "outputs": []
    },
    {
      "cell_type": "code",
      "metadata": {
        "id": "b219c457"
      },
      "source": [
        ""
      ],
      "id": "b219c457",
      "execution_count": null,
      "outputs": []
    },
    {
      "cell_type": "code",
      "metadata": {
        "id": "d0257dbd"
      },
      "source": [
        ""
      ],
      "id": "d0257dbd",
      "execution_count": null,
      "outputs": []
    }
  ]
}