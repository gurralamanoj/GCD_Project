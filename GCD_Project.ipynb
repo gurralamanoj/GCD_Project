{
  "nbformat": 4,
  "nbformat_minor": 5,
  "metadata": {
    "kernelspec": {
      "display_name": "Python 3",
      "language": "python",
      "name": "python3"
    },
    "language_info": {
      "codemirror_mode": {
        "name": "ipython",
        "version": 3
      },
      "file_extension": ".py",
      "mimetype": "text/x-python",
      "name": "python",
      "nbconvert_exporter": "python",
      "pygments_lexer": "ipython3",
      "version": "3.8.8"
    },
    "colab": {
      "name": "GCD_Project.ipynb",
      "provenance": [],
      "collapsed_sections": [
        "6a053c48",
        "5834eddd",
        "a97ad414"
      ],
      "include_colab_link": true
    }
  },
  "cells": [
    {
      "cell_type": "markdown",
      "metadata": {
        "id": "view-in-github",
        "colab_type": "text"
      },
      "source": [
        "<a href=\"https://colab.research.google.com/github/gurralamanoj/GCD_Project/blob/main/GCD_Project.ipynb\" target=\"_parent\"><img src=\"https://colab.research.google.com/assets/colab-badge.svg\" alt=\"Open In Colab\"/></a>"
      ]
    },
    {
      "cell_type": "markdown",
      "metadata": {
        "id": "56f6f886"
      },
      "source": [
        "<p align=\"center\"><img src=\"https://github.com/insaid2018/Term-1/blob/master/Images/INSAID_Full%20Logo.png?raw=true\"\n",
        "width=\"260\" height=\"110\" /></p>\n",
        "\n",
        "---"
      ],
      "id": "56f6f886"
    },
    {
      "cell_type": "markdown",
      "metadata": {
        "id": "9dd033ee"
      },
      "source": [
        "# **Table of Contents**\n",
        "\n",
        "\n",
        "1. [**Project Description**](#Section1)<br>\n",
        "   1.1 [**Client's Requirement**](#Section11)<br>\n",
        "   1.2 [**Problem Statement**](#Section12)<br>\n",
        "   1.3 [**Role as a Data Scientist**](#Section13)<br>\n",
        "   1.4 [**Task of Data Scientist**](#Section14)<br>\n",
        "\n",
        "\n",
        "2. [**Installing & Importing Libraries**](#Section2)<br>\n",
        "\n",
        "\n",
        "3. [**Data Acquisition & Description**](#Section3)<br>\n",
        "   3.1 [**Importing \"department_data**](#Section31)<br>\n",
        "   3.2 [**Importing \"employee_details_data**](#Section32)<br>\n",
        "   3.3 [**Importing \"employee_data**](#Section33)<br>\n",
        "   3.4 [**Data Description**](#Section34)<br>\n",
        "   \n",
        "   "
      ],
      "id": "9dd033ee"
    },
    {
      "cell_type": "markdown",
      "metadata": {
        "id": "a4d049bc"
      },
      "source": [
        "---\n",
        "<a name = Section1></a>\n",
        "## **1. Project Description**"
      ],
      "id": "a4d049bc"
    },
    {
      "cell_type": "markdown",
      "metadata": {
        "id": "416ddc53"
      },
      "source": [
        "<a id = Section11></a>\n",
        "### 1.1 Client's Requirement"
      ],
      "id": "416ddc53"
    },
    {
      "cell_type": "markdown",
      "metadata": {
        "id": "f2bf3ae4"
      },
      "source": [
        "### The client for this project is the HR Department at a software company.\n",
        "\n",
        "- They want to try a new initiative to retain employees.\n",
        "- The idea is to use data to predict whether an employee is likely to leave.\n",
        "- Once these employees are identified, HR can be more proactive in reaching out to them before it's too late.\n",
        "- They only want to deal with the data that is related to permanent employees.\n",
        "\n",
        "#### Current Practice\n",
        "Once an employee leaves, he or she is taken an interview with the name “exit interview” and shares reasons for leaving. The HR Department then tries and learns insights from the interview and makes changes accordingly.\n",
        "\n",
        "#### This suffers from the following problems:\n",
        "- This approach is that it's too haphazard. The quality of insight gained from an interview depends heavily on the skill of the interviewer.\n",
        "- The second problem is these insights can't be aggregated and interlaced across all employees who have left.\n",
        "- The third is that it is too late by the time the proposed policy changes take effect.\n",
        "\n",
        "The HR department has hired us as data science consultants. They want to supplement their exit interviews with a more proactive approach.\n",
        "\n",
        "---"
      ],
      "id": "f2bf3ae4"
    },
    {
      "cell_type": "markdown",
      "metadata": {
        "id": "deaa45b4"
      },
      "source": [
        "<a id = Section12></a>\n",
        "### 1.2 Problem Statement:\n",
        "\n",
        "**Predict whether an employee will stay or leave.**\n",
        "\n",
        "\n",
        "<a id = Section13></a>\n",
        "### 1.3 Role as a Data Scientist\n",
        "- The given datasets consist of past employees and their status (still employed or already left).\n",
        "- Our task is to build a classification model using the datasets.\n",
        "- Because there was no machine learning model for this problem in the company, we don’t have quantifiable win condition. We need to build the best possible model.\n",
        "\n",
        "<a id = Section14></a>\n",
        "### 1.4 Task of Data Scientist\n",
        "  - Machine learning task: **Classification**\n",
        "  - Target variable: **Status (Employed/Left)**\n",
        "  - Win condition: **N/A (best possible model)**"
      ],
      "id": "deaa45b4"
    },
    {
      "cell_type": "markdown",
      "metadata": {
        "id": "c6699139"
      },
      "source": [
        "---\n",
        "<a id = Section2></a>\n",
        "## 2. Installing & Importing Libraries"
      ],
      "id": "c6699139"
    },
    {
      "cell_type": "code",
      "metadata": {
        "colab": {
          "base_uri": "https://localhost:8080/"
        },
        "id": "hD0iI2A-wiV5",
        "outputId": "2ab57dc9-9890-4004-b504-5ba1f4a3bba5"
      },
      "source": [
        " !pip install mysql-connector\n",
        " !pip install pandas"
      ],
      "id": "hD0iI2A-wiV5",
      "execution_count": 1,
      "outputs": [
        {
          "output_type": "stream",
          "name": "stdout",
          "text": [
            "Requirement already satisfied: mysql-connector in /usr/local/lib/python3.7/dist-packages (2.2.9)\n",
            "Requirement already satisfied: pandas in /usr/local/lib/python3.7/dist-packages (1.1.5)\n",
            "Requirement already satisfied: python-dateutil>=2.7.3 in /usr/local/lib/python3.7/dist-packages (from pandas) (2.8.2)\n",
            "Requirement already satisfied: numpy>=1.15.4 in /usr/local/lib/python3.7/dist-packages (from pandas) (1.19.5)\n",
            "Requirement already satisfied: pytz>=2017.2 in /usr/local/lib/python3.7/dist-packages (from pandas) (2018.9)\n",
            "Requirement already satisfied: six>=1.5 in /usr/local/lib/python3.7/dist-packages (from python-dateutil>=2.7.3->pandas) (1.15.0)\n"
          ]
        }
      ]
    },
    {
      "cell_type": "code",
      "metadata": {
        "id": "3e9c12c9"
      },
      "source": [
        "import os\n",
        "import mysql.connector\n",
        "import numpy as np\n",
        "import pandas as pd\n",
        "import matplotlib.pyplot as plt\n",
        "import seaborn as sns\n",
        "%matplotlib inline"
      ],
      "id": "3e9c12c9",
      "execution_count": 2,
      "outputs": []
    },
    {
      "cell_type": "code",
      "metadata": {
        "id": "8fe52b38"
      },
      "source": [
        "import warnings\n",
        "warnings.filterwarnings('ignore')\n",
        "pd.options.display.max_info_rows=20\n",
        "pd.options.display.max_info_columns=20\n",
        "pd.options.display.float_format = '{:.5f}'.format"
      ],
      "id": "8fe52b38",
      "execution_count": 3,
      "outputs": []
    },
    {
      "cell_type": "markdown",
      "metadata": {
        "id": "56c43c94"
      },
      "source": [
        "---\n",
        "<a name = Section3></a>\n",
        "## **3. Data Acquisition & Description**"
      ],
      "id": "56c43c94"
    },
    {
      "cell_type": "markdown",
      "metadata": {
        "id": "4ce748ca"
      },
      "source": [
        "<a id = Section31></a>\n",
        "### 3.1 Importing   \"department_data\""
      ],
      "id": "4ce748ca"
    },
    {
      "cell_type": "code",
      "metadata": {
        "id": "RnUR-e8CyapP"
      },
      "source": [
        "mydb = mysql.connector.connect(\n",
        "  host=\"cpanel.insaid.co\",\n",
        "  user=\"student\",\n",
        "  passwd=\"student\",\n",
        "  database=\"Capstone2\"\n",
        ")\n",
        "\n",
        "mycursor = mydb.cursor()"
      ],
      "id": "RnUR-e8CyapP",
      "execution_count": 4,
      "outputs": []
    },
    {
      "cell_type": "code",
      "metadata": {
        "colab": {
          "base_uri": "https://localhost:8080/",
          "height": 204
        },
        "id": "ba956f44",
        "outputId": "88cf50ca-dc73-4385-929f-39d70da90882"
      },
      "source": [
        "mycursor.execute(\"select * from department_data\")\n",
        "myresult = mycursor.fetchall()\n",
        "df_department_data = pd.DataFrame(myresult)\n",
        "\n",
        "field_names = [i[0] for i in mycursor.description]\n",
        "df_department_data.columns = field_names\n",
        "\n",
        "df_department_data.head()"
      ],
      "id": "ba956f44",
      "execution_count": 5,
      "outputs": [
        {
          "output_type": "execute_result",
          "data": {
            "text/html": [
              "<div>\n",
              "<style scoped>\n",
              "    .dataframe tbody tr th:only-of-type {\n",
              "        vertical-align: middle;\n",
              "    }\n",
              "\n",
              "    .dataframe tbody tr th {\n",
              "        vertical-align: top;\n",
              "    }\n",
              "\n",
              "    .dataframe thead th {\n",
              "        text-align: right;\n",
              "    }\n",
              "</style>\n",
              "<table border=\"1\" class=\"dataframe\">\n",
              "  <thead>\n",
              "    <tr style=\"text-align: right;\">\n",
              "      <th></th>\n",
              "      <th>dept_id</th>\n",
              "      <th>dept_name</th>\n",
              "      <th>dept_head</th>\n",
              "    </tr>\n",
              "  </thead>\n",
              "  <tbody>\n",
              "    <tr>\n",
              "      <th>0</th>\n",
              "      <td>D00-IT</td>\n",
              "      <td>IT</td>\n",
              "      <td>Henry Adey</td>\n",
              "    </tr>\n",
              "    <tr>\n",
              "      <th>1</th>\n",
              "      <td>D00-SS</td>\n",
              "      <td>Sales</td>\n",
              "      <td>Edward J Bayley</td>\n",
              "    </tr>\n",
              "    <tr>\n",
              "      <th>2</th>\n",
              "      <td>D00-TP</td>\n",
              "      <td>Temp</td>\n",
              "      <td>Micheal Zachrey</td>\n",
              "    </tr>\n",
              "    <tr>\n",
              "      <th>3</th>\n",
              "      <td>D00-ENG</td>\n",
              "      <td>Engineering</td>\n",
              "      <td>Sushant Raghunathan K</td>\n",
              "    </tr>\n",
              "    <tr>\n",
              "      <th>4</th>\n",
              "      <td>D00-SP</td>\n",
              "      <td>Support</td>\n",
              "      <td>Amelia Westray</td>\n",
              "    </tr>\n",
              "  </tbody>\n",
              "</table>\n",
              "</div>"
            ],
            "text/plain": [
              "   dept_id    dept_name              dept_head\n",
              "0   D00-IT           IT             Henry Adey\n",
              "1   D00-SS        Sales        Edward J Bayley\n",
              "2   D00-TP         Temp        Micheal Zachrey\n",
              "3  D00-ENG  Engineering  Sushant Raghunathan K\n",
              "4   D00-SP      Support         Amelia Westray"
            ]
          },
          "metadata": {},
          "execution_count": 5
        }
      ]
    },
    {
      "cell_type": "markdown",
      "metadata": {
        "id": "f0826e6f"
      },
      "source": [
        "<a id = Section32></a>\n",
        "### 3.2 Importing   \"employee_details_data\""
      ],
      "id": "f0826e6f"
    },
    {
      "cell_type": "code",
      "metadata": {
        "colab": {
          "base_uri": "https://localhost:8080/",
          "height": 204
        },
        "id": "87b86113",
        "outputId": "70335361-4943-4be1-f6c8-2b6aa8ea4a9a"
      },
      "source": [
        "mycursor.execute(\"select * from employee_details_data\")\n",
        "myresult = mycursor.fetchall()\n",
        "df_employee_details_data = pd.DataFrame(myresult)\n",
        "\n",
        "field_names = [i[0] for i in mycursor.description]\n",
        "df_employee_details_data.columns = field_names\n",
        "\n",
        "df_employee_details_data.head()"
      ],
      "id": "87b86113",
      "execution_count": 6,
      "outputs": [
        {
          "output_type": "execute_result",
          "data": {
            "text/html": [
              "<div>\n",
              "<style scoped>\n",
              "    .dataframe tbody tr th:only-of-type {\n",
              "        vertical-align: middle;\n",
              "    }\n",
              "\n",
              "    .dataframe tbody tr th {\n",
              "        vertical-align: top;\n",
              "    }\n",
              "\n",
              "    .dataframe thead th {\n",
              "        text-align: right;\n",
              "    }\n",
              "</style>\n",
              "<table border=\"1\" class=\"dataframe\">\n",
              "  <thead>\n",
              "    <tr style=\"text-align: right;\">\n",
              "      <th></th>\n",
              "      <th>employee_id</th>\n",
              "      <th>age</th>\n",
              "      <th>gender</th>\n",
              "      <th>marital_status</th>\n",
              "    </tr>\n",
              "  </thead>\n",
              "  <tbody>\n",
              "    <tr>\n",
              "      <th>0</th>\n",
              "      <td>113558</td>\n",
              "      <td>43</td>\n",
              "      <td>Male</td>\n",
              "      <td>Married</td>\n",
              "    </tr>\n",
              "    <tr>\n",
              "      <th>1</th>\n",
              "      <td>112256</td>\n",
              "      <td>24</td>\n",
              "      <td>Female</td>\n",
              "      <td>Unmarried</td>\n",
              "    </tr>\n",
              "    <tr>\n",
              "      <th>2</th>\n",
              "      <td>112586</td>\n",
              "      <td>22</td>\n",
              "      <td>Female</td>\n",
              "      <td>Unmarried</td>\n",
              "    </tr>\n",
              "    <tr>\n",
              "      <th>3</th>\n",
              "      <td>108071</td>\n",
              "      <td>36</td>\n",
              "      <td>Male</td>\n",
              "      <td>Married</td>\n",
              "    </tr>\n",
              "    <tr>\n",
              "      <th>4</th>\n",
              "      <td>116915</td>\n",
              "      <td>38</td>\n",
              "      <td>Male</td>\n",
              "      <td>Married</td>\n",
              "    </tr>\n",
              "  </tbody>\n",
              "</table>\n",
              "</div>"
            ],
            "text/plain": [
              "   employee_id  age  gender marital_status\n",
              "0       113558   43    Male        Married\n",
              "1       112256   24  Female      Unmarried\n",
              "2       112586   22  Female      Unmarried\n",
              "3       108071   36    Male        Married\n",
              "4       116915   38    Male        Married"
            ]
          },
          "metadata": {},
          "execution_count": 6
        }
      ]
    },
    {
      "cell_type": "markdown",
      "metadata": {
        "id": "14904391"
      },
      "source": [
        "<a id = Section33></a>\n",
        "### 3.3 Importing   \"employee_data\""
      ],
      "id": "14904391"
    },
    {
      "cell_type": "code",
      "metadata": {
        "colab": {
          "base_uri": "https://localhost:8080/",
          "height": 204
        },
        "id": "f807c3cd",
        "outputId": "89d46ead-f9ca-459e-daec-e2648acbdbde"
      },
      "source": [
        "mycursor.execute(\"select * from employee_data\")\n",
        "myresult = mycursor.fetchall()\n",
        "df_employee_data = pd.DataFrame(myresult)\n",
        "\n",
        "field_names = [i[0] for i in mycursor.description]\n",
        "df_employee_data.columns = field_names\n",
        "\n",
        "df_employee_data.head()"
      ],
      "id": "f807c3cd",
      "execution_count": 7,
      "outputs": [
        {
          "output_type": "execute_result",
          "data": {
            "text/html": [
              "<div>\n",
              "<style scoped>\n",
              "    .dataframe tbody tr th:only-of-type {\n",
              "        vertical-align: middle;\n",
              "    }\n",
              "\n",
              "    .dataframe tbody tr th {\n",
              "        vertical-align: top;\n",
              "    }\n",
              "\n",
              "    .dataframe thead th {\n",
              "        text-align: right;\n",
              "    }\n",
              "</style>\n",
              "<table border=\"1\" class=\"dataframe\">\n",
              "  <thead>\n",
              "    <tr style=\"text-align: right;\">\n",
              "      <th></th>\n",
              "      <th>avg_monthly_hrs</th>\n",
              "      <th>department</th>\n",
              "      <th>filed_complaint</th>\n",
              "      <th>last_evaluation</th>\n",
              "      <th>n_projects</th>\n",
              "      <th>recently_promoted</th>\n",
              "      <th>salary</th>\n",
              "      <th>satisfaction</th>\n",
              "      <th>status</th>\n",
              "      <th>tenure</th>\n",
              "      <th>employee_id</th>\n",
              "    </tr>\n",
              "  </thead>\n",
              "  <tbody>\n",
              "    <tr>\n",
              "      <th>0</th>\n",
              "      <td>246.00</td>\n",
              "      <td>None</td>\n",
              "      <td>None</td>\n",
              "      <td>0.86684</td>\n",
              "      <td>6</td>\n",
              "      <td>nan</td>\n",
              "      <td>medium</td>\n",
              "      <td>0.13442</td>\n",
              "      <td>Left</td>\n",
              "      <td>4.00</td>\n",
              "      <td>124467</td>\n",
              "    </tr>\n",
              "    <tr>\n",
              "      <th>1</th>\n",
              "      <td>134.00</td>\n",
              "      <td>None</td>\n",
              "      <td>None</td>\n",
              "      <td>0.55572</td>\n",
              "      <td>2</td>\n",
              "      <td>nan</td>\n",
              "      <td>low</td>\n",
              "      <td>0.51104</td>\n",
              "      <td>Left</td>\n",
              "      <td>3.00</td>\n",
              "      <td>112210</td>\n",
              "    </tr>\n",
              "    <tr>\n",
              "      <th>2</th>\n",
              "      <td>156.00</td>\n",
              "      <td>D00-SS</td>\n",
              "      <td>1.00</td>\n",
              "      <td>0.47408</td>\n",
              "      <td>2</td>\n",
              "      <td>nan</td>\n",
              "      <td>medium</td>\n",
              "      <td>0.40510</td>\n",
              "      <td>Left</td>\n",
              "      <td>3.00</td>\n",
              "      <td>126150</td>\n",
              "    </tr>\n",
              "    <tr>\n",
              "      <th>3</th>\n",
              "      <td>256.00</td>\n",
              "      <td>D00-SP</td>\n",
              "      <td>None</td>\n",
              "      <td>0.96136</td>\n",
              "      <td>6</td>\n",
              "      <td>nan</td>\n",
              "      <td>low</td>\n",
              "      <td>0.15297</td>\n",
              "      <td>Left</td>\n",
              "      <td>4.00</td>\n",
              "      <td>125346</td>\n",
              "    </tr>\n",
              "    <tr>\n",
              "      <th>4</th>\n",
              "      <td>146.00</td>\n",
              "      <td>D00-SS</td>\n",
              "      <td>None</td>\n",
              "      <td>0.50735</td>\n",
              "      <td>2</td>\n",
              "      <td>nan</td>\n",
              "      <td>medium</td>\n",
              "      <td>0.43484</td>\n",
              "      <td>Left</td>\n",
              "      <td>3.00</td>\n",
              "      <td>113707</td>\n",
              "    </tr>\n",
              "  </tbody>\n",
              "</table>\n",
              "</div>"
            ],
            "text/plain": [
              "  avg_monthly_hrs department filed_complaint  ...  status  tenure  employee_id\n",
              "0          246.00       None            None  ...    Left    4.00       124467\n",
              "1          134.00       None            None  ...    Left    3.00       112210\n",
              "2          156.00     D00-SS            1.00  ...    Left    3.00       126150\n",
              "3          256.00     D00-SP            None  ...    Left    4.00       125346\n",
              "4          146.00     D00-SS            None  ...    Left    3.00       113707\n",
              "\n",
              "[5 rows x 11 columns]"
            ]
          },
          "metadata": {},
          "execution_count": 7
        }
      ]
    },
    {
      "cell_type": "markdown",
      "metadata": {
        "id": "c0b4b813"
      },
      "source": [
        "<a id = Section34></a>\n",
        "### 3.4 Data Description"
      ],
      "id": "c0b4b813"
    },
    {
      "cell_type": "markdown",
      "metadata": {
        "id": "88ef95c1"
      },
      "source": [
        "The Business Intelligence Analysts of the Company provided you three datasets that contain information about past employees and their status (still employed or already left).\n",
        "\n",
        "1. **department_data**\n",
        "    \n",
        "    This dataset contains information about each department. The schema of the dataset is as follows:\n",
        "\n",
        "    - dept_id – Unique Department Code\n",
        "    - dept_name – Name of the Department\n",
        "    - dept_head – Name of the Head of the Department\n",
        "    \n",
        "\n",
        "2. **employee_details_data**\n",
        "\n",
        "    This dataset consists of Employee ID, their Age, Gender and Marital Status. The schema of this dataset is as follows:\n",
        "\n",
        "    - employee_id – Unique ID Number for each employee\n",
        "    - age – Age of the employee\n",
        "    - gender – Gender of the employee\n",
        "    - marital_status – Marital Status of the employee\n",
        "\n",
        "\n",
        "3. **employee_data**\n",
        "\n",
        "    This dataset consists of each employee’s Administrative Information, Workload Information, Mutual Evaluation Information and Status.\n",
        "    \n",
        "\n",
        "**Target variable**\n",
        "\n",
        "- **status** – Current employment status (Employed / Left)\n",
        "    \n",
        "    \n",
        "**Administrative information**\n",
        "\n",
        "- **department** – Department to which the employees belong(ed) to\n",
        "- **salary** – Salary level with respect to rest of their department\n",
        "- **tenure** – Number of years at the company\n",
        "- **recently_promoted** – Was the employee promoted in the last 3 years?\n",
        "- **employee_id** – Unique ID Number for each employee\n",
        "    \n",
        "    \n",
        "**Workload information**\n",
        "\n",
        "- **n_projects** – Number of projects employee has worked on\n",
        "- **avg_monthly_hrs** – Average number of hours worked per month\n",
        "    \n",
        "    \n",
        "**Mutual evaluation information**\n",
        "\n",
        "- **satisfaction** – Score for employee’s satisfaction with the company (higher is better)\n",
        "- **last_evaluation** – Score for most recent evaluation of employee (higher is better)\n",
        "- **filed_complaint** – Has the employee filed a formal complaint in the last 3 years?"
      ],
      "id": "88ef95c1"
    },
    {
      "cell_type": "markdown",
      "metadata": {
        "id": "6a053c48"
      },
      "source": [
        "<a id = Section4></a>\n",
        "### 4. Understanding Project Datasets"
      ],
      "id": "6a053c48"
    },
    {
      "cell_type": "markdown",
      "metadata": {
        "id": "fc6f08e0"
      },
      "source": [
        "<a id = Section41></a>\n",
        "### 4.1 Understand Dataset: department_data"
      ],
      "id": "fc6f08e0"
    },
    {
      "cell_type": "code",
      "metadata": {
        "colab": {
          "base_uri": "https://localhost:8080/",
          "height": 204
        },
        "id": "5c1530d0",
        "outputId": "91a19b13-f7ff-419c-ef94-cff6b0737f0a"
      },
      "source": [
        "df_department_data.head()"
      ],
      "id": "5c1530d0",
      "execution_count": 8,
      "outputs": [
        {
          "output_type": "execute_result",
          "data": {
            "text/html": [
              "<div>\n",
              "<style scoped>\n",
              "    .dataframe tbody tr th:only-of-type {\n",
              "        vertical-align: middle;\n",
              "    }\n",
              "\n",
              "    .dataframe tbody tr th {\n",
              "        vertical-align: top;\n",
              "    }\n",
              "\n",
              "    .dataframe thead th {\n",
              "        text-align: right;\n",
              "    }\n",
              "</style>\n",
              "<table border=\"1\" class=\"dataframe\">\n",
              "  <thead>\n",
              "    <tr style=\"text-align: right;\">\n",
              "      <th></th>\n",
              "      <th>dept_id</th>\n",
              "      <th>dept_name</th>\n",
              "      <th>dept_head</th>\n",
              "    </tr>\n",
              "  </thead>\n",
              "  <tbody>\n",
              "    <tr>\n",
              "      <th>0</th>\n",
              "      <td>D00-IT</td>\n",
              "      <td>IT</td>\n",
              "      <td>Henry Adey</td>\n",
              "    </tr>\n",
              "    <tr>\n",
              "      <th>1</th>\n",
              "      <td>D00-SS</td>\n",
              "      <td>Sales</td>\n",
              "      <td>Edward J Bayley</td>\n",
              "    </tr>\n",
              "    <tr>\n",
              "      <th>2</th>\n",
              "      <td>D00-TP</td>\n",
              "      <td>Temp</td>\n",
              "      <td>Micheal Zachrey</td>\n",
              "    </tr>\n",
              "    <tr>\n",
              "      <th>3</th>\n",
              "      <td>D00-ENG</td>\n",
              "      <td>Engineering</td>\n",
              "      <td>Sushant Raghunathan K</td>\n",
              "    </tr>\n",
              "    <tr>\n",
              "      <th>4</th>\n",
              "      <td>D00-SP</td>\n",
              "      <td>Support</td>\n",
              "      <td>Amelia Westray</td>\n",
              "    </tr>\n",
              "  </tbody>\n",
              "</table>\n",
              "</div>"
            ],
            "text/plain": [
              "   dept_id    dept_name              dept_head\n",
              "0   D00-IT           IT             Henry Adey\n",
              "1   D00-SS        Sales        Edward J Bayley\n",
              "2   D00-TP         Temp        Micheal Zachrey\n",
              "3  D00-ENG  Engineering  Sushant Raghunathan K\n",
              "4   D00-SP      Support         Amelia Westray"
            ]
          },
          "metadata": {},
          "execution_count": 8
        }
      ]
    },
    {
      "cell_type": "code",
      "metadata": {
        "colab": {
          "base_uri": "https://localhost:8080/"
        },
        "id": "005d4df6",
        "outputId": "0c46d134-a571-43ab-fcd1-aa93dae4485e"
      },
      "source": [
        "df_department_data.info(verbose=True)\n"
      ],
      "id": "005d4df6",
      "execution_count": 9,
      "outputs": [
        {
          "output_type": "stream",
          "name": "stdout",
          "text": [
            "<class 'pandas.core.frame.DataFrame'>\n",
            "RangeIndex: 11 entries, 0 to 10\n",
            "Data columns (total 3 columns):\n",
            " #   Column     Non-Null Count  Dtype \n",
            "---  ------     --------------  ----- \n",
            " 0   dept_id    11 non-null     object\n",
            " 1   dept_name  11 non-null     object\n",
            " 2   dept_head  11 non-null     object\n",
            "dtypes: object(3)\n",
            "memory usage: 392.0+ bytes\n"
          ]
        }
      ]
    },
    {
      "cell_type": "code",
      "metadata": {
        "id": "4f4e3c33",
        "colab": {
          "base_uri": "https://localhost:8080/"
        },
        "outputId": "a6b59092-86b4-44f5-ed04-b7209f02070b"
      },
      "source": [
        "df_department_data.isnull().sum()"
      ],
      "id": "4f4e3c33",
      "execution_count": 10,
      "outputs": [
        {
          "output_type": "execute_result",
          "data": {
            "text/plain": [
              "dept_id      0\n",
              "dept_name    0\n",
              "dept_head    0\n",
              "dtype: int64"
            ]
          },
          "metadata": {},
          "execution_count": 10
        }
      ]
    },
    {
      "cell_type": "code",
      "metadata": {
        "id": "135d019b",
        "colab": {
          "base_uri": "https://localhost:8080/"
        },
        "outputId": "849fca62-d891-4f1d-db10-d201ad29062b"
      },
      "source": [
        "df_department_data.isnull().sum().sort_values(ascending=False)"
      ],
      "id": "135d019b",
      "execution_count": 11,
      "outputs": [
        {
          "output_type": "execute_result",
          "data": {
            "text/plain": [
              "dept_head    0\n",
              "dept_name    0\n",
              "dept_id      0\n",
              "dtype: int64"
            ]
          },
          "metadata": {},
          "execution_count": 11
        }
      ]
    },
    {
      "cell_type": "markdown",
      "metadata": {
        "id": "501c2bf0"
      },
      "source": [
        "#### 'department_data' consists of 3 Columns and 11 Rows with no missing data"
      ],
      "id": "501c2bf0"
    },
    {
      "cell_type": "code",
      "metadata": {
        "id": "7f8f48c6",
        "colab": {
          "base_uri": "https://localhost:8080/",
          "height": 173
        },
        "outputId": "032aee52-8397-4086-f807-25b168f967e6"
      },
      "source": [
        "df_department_data.describe(include='all')"
      ],
      "id": "7f8f48c6",
      "execution_count": 12,
      "outputs": [
        {
          "output_type": "execute_result",
          "data": {
            "text/html": [
              "<div>\n",
              "<style scoped>\n",
              "    .dataframe tbody tr th:only-of-type {\n",
              "        vertical-align: middle;\n",
              "    }\n",
              "\n",
              "    .dataframe tbody tr th {\n",
              "        vertical-align: top;\n",
              "    }\n",
              "\n",
              "    .dataframe thead th {\n",
              "        text-align: right;\n",
              "    }\n",
              "</style>\n",
              "<table border=\"1\" class=\"dataframe\">\n",
              "  <thead>\n",
              "    <tr style=\"text-align: right;\">\n",
              "      <th></th>\n",
              "      <th>dept_id</th>\n",
              "      <th>dept_name</th>\n",
              "      <th>dept_head</th>\n",
              "    </tr>\n",
              "  </thead>\n",
              "  <tbody>\n",
              "    <tr>\n",
              "      <th>count</th>\n",
              "      <td>11</td>\n",
              "      <td>11</td>\n",
              "      <td>11</td>\n",
              "    </tr>\n",
              "    <tr>\n",
              "      <th>unique</th>\n",
              "      <td>11</td>\n",
              "      <td>11</td>\n",
              "      <td>11</td>\n",
              "    </tr>\n",
              "    <tr>\n",
              "      <th>top</th>\n",
              "      <td>D00-FN</td>\n",
              "      <td>Temp</td>\n",
              "      <td>Darcy Staines</td>\n",
              "    </tr>\n",
              "    <tr>\n",
              "      <th>freq</th>\n",
              "      <td>1</td>\n",
              "      <td>1</td>\n",
              "      <td>1</td>\n",
              "    </tr>\n",
              "  </tbody>\n",
              "</table>\n",
              "</div>"
            ],
            "text/plain": [
              "       dept_id dept_name      dept_head\n",
              "count       11        11             11\n",
              "unique      11        11             11\n",
              "top     D00-FN      Temp  Darcy Staines\n",
              "freq         1         1              1"
            ]
          },
          "metadata": {},
          "execution_count": 12
        }
      ]
    },
    {
      "cell_type": "code",
      "metadata": {
        "id": "cecb9813",
        "colab": {
          "base_uri": "https://localhost:8080/"
        },
        "outputId": "fa08b1b3-3ba2-46d1-b0b2-128471dded24"
      },
      "source": [
        "df_department_data['dept_id'].value_counts()"
      ],
      "id": "cecb9813",
      "execution_count": 13,
      "outputs": [
        {
          "output_type": "execute_result",
          "data": {
            "text/plain": [
              "D00-FN     1\n",
              "D00-ENG    1\n",
              "D00-SP     1\n",
              "D00-MN     1\n",
              "D00-PR     1\n",
              "D00-IT     1\n",
              "D00-SS     1\n",
              "D00-MT     1\n",
              "D00-AD     1\n",
              "D00-TP     1\n",
              "D00-PD     1\n",
              "Name: dept_id, dtype: int64"
            ]
          },
          "metadata": {},
          "execution_count": 13
        }
      ]
    },
    {
      "cell_type": "code",
      "metadata": {
        "id": "dac636c0",
        "colab": {
          "base_uri": "https://localhost:8080/"
        },
        "outputId": "7fcc1b73-25f4-4798-eeed-c9bf45f76452"
      },
      "source": [
        "df_department_data['dept_name'].value_counts()"
      ],
      "id": "dac636c0",
      "execution_count": 14,
      "outputs": [
        {
          "output_type": "execute_result",
          "data": {
            "text/plain": [
              "Temp           1\n",
              "Engineering    1\n",
              "IT             1\n",
              "Management     1\n",
              "Product        1\n",
              "Sales          1\n",
              "Support        1\n",
              "Procurement    1\n",
              "Marketing      1\n",
              "Finance        1\n",
              "Admin          1\n",
              "Name: dept_name, dtype: int64"
            ]
          },
          "metadata": {},
          "execution_count": 14
        }
      ]
    },
    {
      "cell_type": "code",
      "metadata": {
        "id": "40bc79a0",
        "colab": {
          "base_uri": "https://localhost:8080/"
        },
        "outputId": "3b4bcd6b-210c-4767-f9e4-f611033522a9"
      },
      "source": [
        "df_department_data['dept_head'].value_counts()"
      ],
      "id": "40bc79a0",
      "execution_count": 15,
      "outputs": [
        {
          "output_type": "execute_result",
          "data": {
            "text/plain": [
              "Darcy Staines            1\n",
              "Aanchal J                1\n",
              "Henry Adey               1\n",
              "Sushant Raghunathan K    1\n",
              "Edward J Bayley          1\n",
              "Micheal Zachrey          1\n",
              "Amelia Westray           1\n",
              "Reuben Swann             1\n",
              "Evelyn Tolson            1\n",
              "Ellie Trafton            1\n",
              "Louie Viles              1\n",
              "Name: dept_head, dtype: int64"
            ]
          },
          "metadata": {},
          "execution_count": 15
        }
      ]
    },
    {
      "cell_type": "code",
      "metadata": {
        "colab": {
          "base_uri": "https://localhost:8080/",
          "height": 390
        },
        "id": "cGwj6SBzijT5",
        "outputId": "62ad18cd-50cf-4199-9960-5e47a57f5945"
      },
      "source": [
        "df_department_data"
      ],
      "id": "cGwj6SBzijT5",
      "execution_count": 16,
      "outputs": [
        {
          "output_type": "execute_result",
          "data": {
            "text/html": [
              "<div>\n",
              "<style scoped>\n",
              "    .dataframe tbody tr th:only-of-type {\n",
              "        vertical-align: middle;\n",
              "    }\n",
              "\n",
              "    .dataframe tbody tr th {\n",
              "        vertical-align: top;\n",
              "    }\n",
              "\n",
              "    .dataframe thead th {\n",
              "        text-align: right;\n",
              "    }\n",
              "</style>\n",
              "<table border=\"1\" class=\"dataframe\">\n",
              "  <thead>\n",
              "    <tr style=\"text-align: right;\">\n",
              "      <th></th>\n",
              "      <th>dept_id</th>\n",
              "      <th>dept_name</th>\n",
              "      <th>dept_head</th>\n",
              "    </tr>\n",
              "  </thead>\n",
              "  <tbody>\n",
              "    <tr>\n",
              "      <th>0</th>\n",
              "      <td>D00-IT</td>\n",
              "      <td>IT</td>\n",
              "      <td>Henry Adey</td>\n",
              "    </tr>\n",
              "    <tr>\n",
              "      <th>1</th>\n",
              "      <td>D00-SS</td>\n",
              "      <td>Sales</td>\n",
              "      <td>Edward J Bayley</td>\n",
              "    </tr>\n",
              "    <tr>\n",
              "      <th>2</th>\n",
              "      <td>D00-TP</td>\n",
              "      <td>Temp</td>\n",
              "      <td>Micheal Zachrey</td>\n",
              "    </tr>\n",
              "    <tr>\n",
              "      <th>3</th>\n",
              "      <td>D00-ENG</td>\n",
              "      <td>Engineering</td>\n",
              "      <td>Sushant Raghunathan K</td>\n",
              "    </tr>\n",
              "    <tr>\n",
              "      <th>4</th>\n",
              "      <td>D00-SP</td>\n",
              "      <td>Support</td>\n",
              "      <td>Amelia Westray</td>\n",
              "    </tr>\n",
              "    <tr>\n",
              "      <th>5</th>\n",
              "      <td>D00-FN</td>\n",
              "      <td>Finance</td>\n",
              "      <td>Aanchal J</td>\n",
              "    </tr>\n",
              "    <tr>\n",
              "      <th>6</th>\n",
              "      <td>D00-PR</td>\n",
              "      <td>Procurement</td>\n",
              "      <td>Louie Viles</td>\n",
              "    </tr>\n",
              "    <tr>\n",
              "      <th>7</th>\n",
              "      <td>D00-AD</td>\n",
              "      <td>Admin</td>\n",
              "      <td>Evelyn Tolson</td>\n",
              "    </tr>\n",
              "    <tr>\n",
              "      <th>8</th>\n",
              "      <td>D00-MN</td>\n",
              "      <td>Management</td>\n",
              "      <td>Ellie Trafton</td>\n",
              "    </tr>\n",
              "    <tr>\n",
              "      <th>9</th>\n",
              "      <td>D00-MT</td>\n",
              "      <td>Marketing</td>\n",
              "      <td>Reuben Swann</td>\n",
              "    </tr>\n",
              "    <tr>\n",
              "      <th>10</th>\n",
              "      <td>D00-PD</td>\n",
              "      <td>Product</td>\n",
              "      <td>Darcy Staines</td>\n",
              "    </tr>\n",
              "  </tbody>\n",
              "</table>\n",
              "</div>"
            ],
            "text/plain": [
              "    dept_id    dept_name              dept_head\n",
              "0    D00-IT           IT             Henry Adey\n",
              "1    D00-SS        Sales        Edward J Bayley\n",
              "2    D00-TP         Temp        Micheal Zachrey\n",
              "3   D00-ENG  Engineering  Sushant Raghunathan K\n",
              "4    D00-SP      Support         Amelia Westray\n",
              "5    D00-FN      Finance              Aanchal J\n",
              "6    D00-PR  Procurement            Louie Viles\n",
              "7    D00-AD        Admin          Evelyn Tolson\n",
              "8    D00-MN   Management          Ellie Trafton\n",
              "9    D00-MT    Marketing           Reuben Swann\n",
              "10   D00-PD      Product          Darcy Staines"
            ]
          },
          "metadata": {},
          "execution_count": 16
        }
      ]
    },
    {
      "cell_type": "markdown",
      "metadata": {
        "id": "5834eddd"
      },
      "source": [
        "#### In the 'department_data', there are 11 UNIQUE 'Department ID' having all different UNIQUE 'Department Name' headed by 11 different 'Department Heads'"
      ],
      "id": "5834eddd"
    },
    {
      "cell_type": "markdown",
      "metadata": {
        "id": "951e9987"
      },
      "source": [
        "<a id = Section42></a>\n",
        "### 4.2 Understand Dataset: employee_details_data"
      ],
      "id": "951e9987"
    },
    {
      "cell_type": "code",
      "metadata": {
        "id": "beff33d5",
        "colab": {
          "base_uri": "https://localhost:8080/",
          "height": 204
        },
        "outputId": "2aadc6bd-82a8-4277-f903-cbdfc7c83527"
      },
      "source": [
        "df_employee_details_data.head()"
      ],
      "id": "beff33d5",
      "execution_count": 17,
      "outputs": [
        {
          "output_type": "execute_result",
          "data": {
            "text/html": [
              "<div>\n",
              "<style scoped>\n",
              "    .dataframe tbody tr th:only-of-type {\n",
              "        vertical-align: middle;\n",
              "    }\n",
              "\n",
              "    .dataframe tbody tr th {\n",
              "        vertical-align: top;\n",
              "    }\n",
              "\n",
              "    .dataframe thead th {\n",
              "        text-align: right;\n",
              "    }\n",
              "</style>\n",
              "<table border=\"1\" class=\"dataframe\">\n",
              "  <thead>\n",
              "    <tr style=\"text-align: right;\">\n",
              "      <th></th>\n",
              "      <th>employee_id</th>\n",
              "      <th>age</th>\n",
              "      <th>gender</th>\n",
              "      <th>marital_status</th>\n",
              "    </tr>\n",
              "  </thead>\n",
              "  <tbody>\n",
              "    <tr>\n",
              "      <th>0</th>\n",
              "      <td>113558</td>\n",
              "      <td>43</td>\n",
              "      <td>Male</td>\n",
              "      <td>Married</td>\n",
              "    </tr>\n",
              "    <tr>\n",
              "      <th>1</th>\n",
              "      <td>112256</td>\n",
              "      <td>24</td>\n",
              "      <td>Female</td>\n",
              "      <td>Unmarried</td>\n",
              "    </tr>\n",
              "    <tr>\n",
              "      <th>2</th>\n",
              "      <td>112586</td>\n",
              "      <td>22</td>\n",
              "      <td>Female</td>\n",
              "      <td>Unmarried</td>\n",
              "    </tr>\n",
              "    <tr>\n",
              "      <th>3</th>\n",
              "      <td>108071</td>\n",
              "      <td>36</td>\n",
              "      <td>Male</td>\n",
              "      <td>Married</td>\n",
              "    </tr>\n",
              "    <tr>\n",
              "      <th>4</th>\n",
              "      <td>116915</td>\n",
              "      <td>38</td>\n",
              "      <td>Male</td>\n",
              "      <td>Married</td>\n",
              "    </tr>\n",
              "  </tbody>\n",
              "</table>\n",
              "</div>"
            ],
            "text/plain": [
              "   employee_id  age  gender marital_status\n",
              "0       113558   43    Male        Married\n",
              "1       112256   24  Female      Unmarried\n",
              "2       112586   22  Female      Unmarried\n",
              "3       108071   36    Male        Married\n",
              "4       116915   38    Male        Married"
            ]
          },
          "metadata": {},
          "execution_count": 17
        }
      ]
    },
    {
      "cell_type": "code",
      "metadata": {
        "id": "4ebe3df6",
        "colab": {
          "base_uri": "https://localhost:8080/"
        },
        "outputId": "3b9c21db-62ce-4195-e235-3aac24744898"
      },
      "source": [
        "df_employee_details_data.info(verbose=True)"
      ],
      "id": "4ebe3df6",
      "execution_count": 18,
      "outputs": [
        {
          "output_type": "stream",
          "name": "stdout",
          "text": [
            "<class 'pandas.core.frame.DataFrame'>\n",
            "RangeIndex: 14245 entries, 0 to 14244\n",
            "Data columns (total 4 columns):\n",
            " #   Column          Dtype \n",
            "---  ------          ----- \n",
            " 0   employee_id     int64 \n",
            " 1   age             int64 \n",
            " 2   gender          object\n",
            " 3   marital_status  object\n",
            "dtypes: int64(2), object(2)\n",
            "memory usage: 445.3+ KB\n"
          ]
        }
      ]
    },
    {
      "cell_type": "code",
      "metadata": {
        "id": "49d5020f",
        "colab": {
          "base_uri": "https://localhost:8080/"
        },
        "outputId": "c52a8132-36c5-44b2-c274-f121ba04d889"
      },
      "source": [
        "df_employee_details_data.isnull().sum()"
      ],
      "id": "49d5020f",
      "execution_count": 19,
      "outputs": [
        {
          "output_type": "execute_result",
          "data": {
            "text/plain": [
              "employee_id       0\n",
              "age               0\n",
              "gender            0\n",
              "marital_status    0\n",
              "dtype: int64"
            ]
          },
          "metadata": {},
          "execution_count": 19
        }
      ]
    },
    {
      "cell_type": "code",
      "metadata": {
        "id": "030856a2",
        "colab": {
          "base_uri": "https://localhost:8080/"
        },
        "outputId": "4126ffe1-7032-4507-c4e2-34db799e0e17"
      },
      "source": [
        "df_employee_details_data.isnull().sum().sort_values(ascending=False)"
      ],
      "id": "030856a2",
      "execution_count": 20,
      "outputs": [
        {
          "output_type": "execute_result",
          "data": {
            "text/plain": [
              "marital_status    0\n",
              "gender            0\n",
              "age               0\n",
              "employee_id       0\n",
              "dtype: int64"
            ]
          },
          "metadata": {},
          "execution_count": 20
        }
      ]
    },
    {
      "cell_type": "markdown",
      "metadata": {
        "id": "b0e08da8"
      },
      "source": [
        "#### 'employee_details_data' consists of 4 Columns and 14,245 Rows with no missing data"
      ],
      "id": "b0e08da8"
    },
    {
      "cell_type": "code",
      "metadata": {
        "id": "5786e470",
        "colab": {
          "base_uri": "https://localhost:8080/",
          "height": 390
        },
        "outputId": "1d0d0f14-3ec6-4117-cd9f-c86ef60bb368"
      },
      "source": [
        "df_employee_details_data.describe(include='all')"
      ],
      "id": "5786e470",
      "execution_count": 21,
      "outputs": [
        {
          "output_type": "execute_result",
          "data": {
            "text/html": [
              "<div>\n",
              "<style scoped>\n",
              "    .dataframe tbody tr th:only-of-type {\n",
              "        vertical-align: middle;\n",
              "    }\n",
              "\n",
              "    .dataframe tbody tr th {\n",
              "        vertical-align: top;\n",
              "    }\n",
              "\n",
              "    .dataframe thead th {\n",
              "        text-align: right;\n",
              "    }\n",
              "</style>\n",
              "<table border=\"1\" class=\"dataframe\">\n",
              "  <thead>\n",
              "    <tr style=\"text-align: right;\">\n",
              "      <th></th>\n",
              "      <th>employee_id</th>\n",
              "      <th>age</th>\n",
              "      <th>gender</th>\n",
              "      <th>marital_status</th>\n",
              "    </tr>\n",
              "  </thead>\n",
              "  <tbody>\n",
              "    <tr>\n",
              "      <th>count</th>\n",
              "      <td>14245.00000</td>\n",
              "      <td>14245.00000</td>\n",
              "      <td>14245</td>\n",
              "      <td>14245</td>\n",
              "    </tr>\n",
              "    <tr>\n",
              "      <th>unique</th>\n",
              "      <td>nan</td>\n",
              "      <td>nan</td>\n",
              "      <td>2</td>\n",
              "      <td>2</td>\n",
              "    </tr>\n",
              "    <tr>\n",
              "      <th>top</th>\n",
              "      <td>nan</td>\n",
              "      <td>nan</td>\n",
              "      <td>Male</td>\n",
              "      <td>Unmarried</td>\n",
              "    </tr>\n",
              "    <tr>\n",
              "      <th>freq</th>\n",
              "      <td>nan</td>\n",
              "      <td>nan</td>\n",
              "      <td>9382</td>\n",
              "      <td>7283</td>\n",
              "    </tr>\n",
              "    <tr>\n",
              "      <th>mean</th>\n",
              "      <td>112123.05054</td>\n",
              "      <td>32.88993</td>\n",
              "      <td>NaN</td>\n",
              "      <td>NaN</td>\n",
              "    </tr>\n",
              "    <tr>\n",
              "      <th>std</th>\n",
              "      <td>8500.45734</td>\n",
              "      <td>9.97083</td>\n",
              "      <td>NaN</td>\n",
              "      <td>NaN</td>\n",
              "    </tr>\n",
              "    <tr>\n",
              "      <th>min</th>\n",
              "      <td>100101.00000</td>\n",
              "      <td>22.00000</td>\n",
              "      <td>NaN</td>\n",
              "      <td>NaN</td>\n",
              "    </tr>\n",
              "    <tr>\n",
              "      <th>25%</th>\n",
              "      <td>105775.00000</td>\n",
              "      <td>24.00000</td>\n",
              "      <td>NaN</td>\n",
              "      <td>NaN</td>\n",
              "    </tr>\n",
              "    <tr>\n",
              "      <th>50%</th>\n",
              "      <td>111298.00000</td>\n",
              "      <td>29.00000</td>\n",
              "      <td>NaN</td>\n",
              "      <td>NaN</td>\n",
              "    </tr>\n",
              "    <tr>\n",
              "      <th>75%</th>\n",
              "      <td>116658.00000</td>\n",
              "      <td>41.00000</td>\n",
              "      <td>NaN</td>\n",
              "      <td>NaN</td>\n",
              "    </tr>\n",
              "    <tr>\n",
              "      <th>max</th>\n",
              "      <td>148988.00000</td>\n",
              "      <td>57.00000</td>\n",
              "      <td>NaN</td>\n",
              "      <td>NaN</td>\n",
              "    </tr>\n",
              "  </tbody>\n",
              "</table>\n",
              "</div>"
            ],
            "text/plain": [
              "        employee_id         age gender marital_status\n",
              "count   14245.00000 14245.00000  14245          14245\n",
              "unique          nan         nan      2              2\n",
              "top             nan         nan   Male      Unmarried\n",
              "freq            nan         nan   9382           7283\n",
              "mean   112123.05054    32.88993    NaN            NaN\n",
              "std      8500.45734     9.97083    NaN            NaN\n",
              "min    100101.00000    22.00000    NaN            NaN\n",
              "25%    105775.00000    24.00000    NaN            NaN\n",
              "50%    111298.00000    29.00000    NaN            NaN\n",
              "75%    116658.00000    41.00000    NaN            NaN\n",
              "max    148988.00000    57.00000    NaN            NaN"
            ]
          },
          "metadata": {},
          "execution_count": 21
        }
      ]
    },
    {
      "cell_type": "code",
      "metadata": {
        "id": "db24b73b",
        "colab": {
          "base_uri": "https://localhost:8080/",
          "height": 390
        },
        "outputId": "d27240c2-def2-4626-94a0-6c8f85567c6a"
      },
      "source": [
        "df_employee_details_data.describe(include='all')"
      ],
      "id": "db24b73b",
      "execution_count": 22,
      "outputs": [
        {
          "output_type": "execute_result",
          "data": {
            "text/html": [
              "<div>\n",
              "<style scoped>\n",
              "    .dataframe tbody tr th:only-of-type {\n",
              "        vertical-align: middle;\n",
              "    }\n",
              "\n",
              "    .dataframe tbody tr th {\n",
              "        vertical-align: top;\n",
              "    }\n",
              "\n",
              "    .dataframe thead th {\n",
              "        text-align: right;\n",
              "    }\n",
              "</style>\n",
              "<table border=\"1\" class=\"dataframe\">\n",
              "  <thead>\n",
              "    <tr style=\"text-align: right;\">\n",
              "      <th></th>\n",
              "      <th>employee_id</th>\n",
              "      <th>age</th>\n",
              "      <th>gender</th>\n",
              "      <th>marital_status</th>\n",
              "    </tr>\n",
              "  </thead>\n",
              "  <tbody>\n",
              "    <tr>\n",
              "      <th>count</th>\n",
              "      <td>14245.00000</td>\n",
              "      <td>14245.00000</td>\n",
              "      <td>14245</td>\n",
              "      <td>14245</td>\n",
              "    </tr>\n",
              "    <tr>\n",
              "      <th>unique</th>\n",
              "      <td>nan</td>\n",
              "      <td>nan</td>\n",
              "      <td>2</td>\n",
              "      <td>2</td>\n",
              "    </tr>\n",
              "    <tr>\n",
              "      <th>top</th>\n",
              "      <td>nan</td>\n",
              "      <td>nan</td>\n",
              "      <td>Male</td>\n",
              "      <td>Unmarried</td>\n",
              "    </tr>\n",
              "    <tr>\n",
              "      <th>freq</th>\n",
              "      <td>nan</td>\n",
              "      <td>nan</td>\n",
              "      <td>9382</td>\n",
              "      <td>7283</td>\n",
              "    </tr>\n",
              "    <tr>\n",
              "      <th>mean</th>\n",
              "      <td>112123.05054</td>\n",
              "      <td>32.88993</td>\n",
              "      <td>NaN</td>\n",
              "      <td>NaN</td>\n",
              "    </tr>\n",
              "    <tr>\n",
              "      <th>std</th>\n",
              "      <td>8500.45734</td>\n",
              "      <td>9.97083</td>\n",
              "      <td>NaN</td>\n",
              "      <td>NaN</td>\n",
              "    </tr>\n",
              "    <tr>\n",
              "      <th>min</th>\n",
              "      <td>100101.00000</td>\n",
              "      <td>22.00000</td>\n",
              "      <td>NaN</td>\n",
              "      <td>NaN</td>\n",
              "    </tr>\n",
              "    <tr>\n",
              "      <th>25%</th>\n",
              "      <td>105775.00000</td>\n",
              "      <td>24.00000</td>\n",
              "      <td>NaN</td>\n",
              "      <td>NaN</td>\n",
              "    </tr>\n",
              "    <tr>\n",
              "      <th>50%</th>\n",
              "      <td>111298.00000</td>\n",
              "      <td>29.00000</td>\n",
              "      <td>NaN</td>\n",
              "      <td>NaN</td>\n",
              "    </tr>\n",
              "    <tr>\n",
              "      <th>75%</th>\n",
              "      <td>116658.00000</td>\n",
              "      <td>41.00000</td>\n",
              "      <td>NaN</td>\n",
              "      <td>NaN</td>\n",
              "    </tr>\n",
              "    <tr>\n",
              "      <th>max</th>\n",
              "      <td>148988.00000</td>\n",
              "      <td>57.00000</td>\n",
              "      <td>NaN</td>\n",
              "      <td>NaN</td>\n",
              "    </tr>\n",
              "  </tbody>\n",
              "</table>\n",
              "</div>"
            ],
            "text/plain": [
              "        employee_id         age gender marital_status\n",
              "count   14245.00000 14245.00000  14245          14245\n",
              "unique          nan         nan      2              2\n",
              "top             nan         nan   Male      Unmarried\n",
              "freq            nan         nan   9382           7283\n",
              "mean   112123.05054    32.88993    NaN            NaN\n",
              "std      8500.45734     9.97083    NaN            NaN\n",
              "min    100101.00000    22.00000    NaN            NaN\n",
              "25%    105775.00000    24.00000    NaN            NaN\n",
              "50%    111298.00000    29.00000    NaN            NaN\n",
              "75%    116658.00000    41.00000    NaN            NaN\n",
              "max    148988.00000    57.00000    NaN            NaN"
            ]
          },
          "metadata": {},
          "execution_count": 22
        }
      ]
    },
    {
      "cell_type": "code",
      "metadata": {
        "id": "11c9007c",
        "colab": {
          "base_uri": "https://localhost:8080/"
        },
        "outputId": "716de1b3-6901-413a-c9bc-e2f229d47070"
      },
      "source": [
        "df_employee_details_data['gender'].value_counts()"
      ],
      "id": "11c9007c",
      "execution_count": 23,
      "outputs": [
        {
          "output_type": "execute_result",
          "data": {
            "text/plain": [
              "Male      9382\n",
              "Female    4863\n",
              "Name: gender, dtype: int64"
            ]
          },
          "metadata": {},
          "execution_count": 23
        }
      ]
    },
    {
      "cell_type": "code",
      "metadata": {
        "id": "e257fcfb",
        "colab": {
          "base_uri": "https://localhost:8080/"
        },
        "outputId": "7e5154d1-b221-4136-cbda-f2a8837fa39b"
      },
      "source": [
        "df_employee_details_data['gender'].value_counts(1)*100"
      ],
      "id": "e257fcfb",
      "execution_count": 24,
      "outputs": [
        {
          "output_type": "execute_result",
          "data": {
            "text/plain": [
              "Male     65.86171\n",
              "Female   34.13829\n",
              "Name: gender, dtype: float64"
            ]
          },
          "metadata": {},
          "execution_count": 24
        }
      ]
    },
    {
      "cell_type": "code",
      "metadata": {
        "id": "84501dde",
        "colab": {
          "base_uri": "https://localhost:8080/",
          "height": 265
        },
        "outputId": "3f1e8f49-7707-4a6d-ba4d-777d1dfcc7fb"
      },
      "source": [
        "df_employee_details_data['gender'].value_counts().plot(kind='pie', autopct='%.2f%%')"
      ],
      "id": "84501dde",
      "execution_count": 25,
      "outputs": [
        {
          "output_type": "execute_result",
          "data": {
            "text/plain": [
              "<matplotlib.axes._subplots.AxesSubplot at 0x7ff7b8be4e10>"
            ]
          },
          "metadata": {},
          "execution_count": 25
        },
        {
          "output_type": "display_data",
          "data": {
            "image/png": "[encoded data removed]",
            "text/plain": [
              "<Figure size 432x288 with 1 Axes>"
            ]
          },
          "metadata": {}
        }
      ]
    },
    {
      "cell_type": "markdown",
      "metadata": {
        "id": "3c00a452"
      },
      "source": [
        "#### From gender column, we have seen that 9,382 employees are males which accounts for 65.86% of the sample while 4,863 employees are females which accounts for 34.14% of the sample.\n",
        "\n",
        "---"
      ],
      "id": "3c00a452"
    },
    {
      "cell_type": "code",
      "metadata": {
        "id": "8b41079c",
        "colab": {
          "base_uri": "https://localhost:8080/"
        },
        "outputId": "476bfb54-b7ab-4826-9c75-f8fc24f9c212"
      },
      "source": [
        "df_employee_details_data['marital_status'].value_counts()"
      ],
      "id": "8b41079c",
      "execution_count": 26,
      "outputs": [
        {
          "output_type": "execute_result",
          "data": {
            "text/plain": [
              "Unmarried    7283\n",
              "Married      6962\n",
              "Name: marital_status, dtype: int64"
            ]
          },
          "metadata": {},
          "execution_count": 26
        }
      ]
    },
    {
      "cell_type": "code",
      "metadata": {
        "id": "00d8a30e",
        "colab": {
          "base_uri": "https://localhost:8080/"
        },
        "outputId": "26e01a32-55f6-4adf-ae22-6f7a80eb0704"
      },
      "source": [
        "df_employee_details_data['marital_status'].value_counts(1)*100"
      ],
      "id": "00d8a30e",
      "execution_count": 27,
      "outputs": [
        {
          "output_type": "execute_result",
          "data": {
            "text/plain": [
              "Unmarried   51.12671\n",
              "Married     48.87329\n",
              "Name: marital_status, dtype: float64"
            ]
          },
          "metadata": {},
          "execution_count": 27
        }
      ]
    },
    {
      "cell_type": "code",
      "metadata": {
        "id": "c88260c3",
        "colab": {
          "base_uri": "https://localhost:8080/",
          "height": 265
        },
        "outputId": "ce569c45-0243-4340-9db0-d1219ce7e8b2"
      },
      "source": [
        "df_employee_details_data['marital_status'].value_counts().plot(kind='pie', autopct='%.2f%%')"
      ],
      "id": "c88260c3",
      "execution_count": 28,
      "outputs": [
        {
          "output_type": "execute_result",
          "data": {
            "text/plain": [
              "<matplotlib.axes._subplots.AxesSubplot at 0x7ff7b8a664d0>"
            ]
          },
          "metadata": {},
          "execution_count": 28
        },
        {
          "output_type": "display_data",
          "data": {
            "image/png": "[encoded data removed]",
            "text/plain": [
              "<Figure size 432x288 with 1 Axes>"
            ]
          },
          "metadata": {}
        }
      ]
    },
    {
      "cell_type": "markdown",
      "metadata": {
        "id": "90a05fdc"
      },
      "source": [
        "#### From marital status column, we have seen that 7,283 employees are Unmarried which accounts for 51.13% of the sample while 6,962 employees are Married which accounts for 48.87% of the sample.\n",
        "\n",
        "---"
      ],
      "id": "90a05fdc"
    },
    {
      "cell_type": "code",
      "metadata": {
        "scrolled": true,
        "id": "33b8b659",
        "colab": {
          "base_uri": "https://localhost:8080/",
          "height": 339
        },
        "outputId": "baccf818-9c78-47fa-c342-6f0a1d315b0e"
      },
      "source": [
        "df_employee_details_data['age'].value_counts().plot(kind='bar', figsize=(16,5))"
      ],
      "id": "33b8b659",
      "execution_count": 29,
      "outputs": [
        {
          "output_type": "execute_result",
          "data": {
            "text/plain": [
              "<matplotlib.axes._subplots.AxesSubplot at 0x7ff7b8982a10>"
            ]
          },
          "metadata": {},
          "execution_count": 29
        },
        {
          "output_type": "display_data",
          "data": {
            "image/png": "[encoded data removed]",
            "text/plain": [
              "<Figure size 1152x360 with 1 Axes>"
            ]
          },
          "metadata": {
            "needs_background": "light"
          }
        }
      ]
    },
    {
      "cell_type": "code",
      "metadata": {
        "id": "7c824691",
        "colab": {
          "base_uri": "https://localhost:8080/",
          "height": 500
        },
        "outputId": "b2776505-c0a8-4fe9-b191-fbdc322c3594"
      },
      "source": [
        "df_employee_details_data['age'].plot(kind='kde', figsize=(16,8))"
      ],
      "id": "7c824691",
      "execution_count": 30,
      "outputs": [
        {
          "output_type": "execute_result",
          "data": {
            "text/plain": [
              "<matplotlib.axes._subplots.AxesSubplot at 0x7ff7b82fb8d0>"
            ]
          },
          "metadata": {},
          "execution_count": 30
        },
        {
          "output_type": "display_data",
          "data": {
            "image/png": "[encoded data removed]",
            "text/plain": [
              "<Figure size 1152x576 with 1 Axes>"
            ]
          },
          "metadata": {
            "needs_background": "light"
          }
        }
      ]
    },
    {
      "cell_type": "markdown",
      "metadata": {
        "id": "a97ad414"
      },
      "source": [
        "#### Age of the employee ranges from 22 Years to 57 Years and most of the employee are from age group 22-29 years. From describe function also we have seen that 50% of the employees are from 22 Years to 29 Years."
      ],
      "id": "a97ad414"
    },
    {
      "cell_type": "markdown",
      "metadata": {
        "id": "02cb90af"
      },
      "source": [
        "<a id = Section43></a>\n",
        "### 4.3 Understand Dataset: employee_data"
      ],
      "id": "02cb90af"
    },
    {
      "cell_type": "code",
      "metadata": {
        "id": "53db3ba8",
        "colab": {
          "base_uri": "https://localhost:8080/",
          "height": 204
        },
        "outputId": "884ad1ca-0863-46ff-8c7f-7728891243fd"
      },
      "source": [
        "df_employee_data.head()"
      ],
      "id": "53db3ba8",
      "execution_count": 31,
      "outputs": [
        {
          "output_type": "execute_result",
          "data": {
            "text/html": [
              "<div>\n",
              "<style scoped>\n",
              "    .dataframe tbody tr th:only-of-type {\n",
              "        vertical-align: middle;\n",
              "    }\n",
              "\n",
              "    .dataframe tbody tr th {\n",
              "        vertical-align: top;\n",
              "    }\n",
              "\n",
              "    .dataframe thead th {\n",
              "        text-align: right;\n",
              "    }\n",
              "</style>\n",
              "<table border=\"1\" class=\"dataframe\">\n",
              "  <thead>\n",
              "    <tr style=\"text-align: right;\">\n",
              "      <th></th>\n",
              "      <th>avg_monthly_hrs</th>\n",
              "      <th>department</th>\n",
              "      <th>filed_complaint</th>\n",
              "      <th>last_evaluation</th>\n",
              "      <th>n_projects</th>\n",
              "      <th>recently_promoted</th>\n",
              "      <th>salary</th>\n",
              "      <th>satisfaction</th>\n",
              "      <th>status</th>\n",
              "      <th>tenure</th>\n",
              "      <th>employee_id</th>\n",
              "    </tr>\n",
              "  </thead>\n",
              "  <tbody>\n",
              "    <tr>\n",
              "      <th>0</th>\n",
              "      <td>246.00</td>\n",
              "      <td>None</td>\n",
              "      <td>None</td>\n",
              "      <td>0.86684</td>\n",
              "      <td>6</td>\n",
              "      <td>nan</td>\n",
              "      <td>medium</td>\n",
              "      <td>0.13442</td>\n",
              "      <td>Left</td>\n",
              "      <td>4.00</td>\n",
              "      <td>124467</td>\n",
              "    </tr>\n",
              "    <tr>\n",
              "      <th>1</th>\n",
              "      <td>134.00</td>\n",
              "      <td>None</td>\n",
              "      <td>None</td>\n",
              "      <td>0.55572</td>\n",
              "      <td>2</td>\n",
              "      <td>nan</td>\n",
              "      <td>low</td>\n",
              "      <td>0.51104</td>\n",
              "      <td>Left</td>\n",
              "      <td>3.00</td>\n",
              "      <td>112210</td>\n",
              "    </tr>\n",
              "    <tr>\n",
              "      <th>2</th>\n",
              "      <td>156.00</td>\n",
              "      <td>D00-SS</td>\n",
              "      <td>1.00</td>\n",
              "      <td>0.47408</td>\n",
              "      <td>2</td>\n",
              "      <td>nan</td>\n",
              "      <td>medium</td>\n",
              "      <td>0.40510</td>\n",
              "      <td>Left</td>\n",
              "      <td>3.00</td>\n",
              "      <td>126150</td>\n",
              "    </tr>\n",
              "    <tr>\n",
              "      <th>3</th>\n",
              "      <td>256.00</td>\n",
              "      <td>D00-SP</td>\n",
              "      <td>None</td>\n",
              "      <td>0.96136</td>\n",
              "      <td>6</td>\n",
              "      <td>nan</td>\n",
              "      <td>low</td>\n",
              "      <td>0.15297</td>\n",
              "      <td>Left</td>\n",
              "      <td>4.00</td>\n",
              "      <td>125346</td>\n",
              "    </tr>\n",
              "    <tr>\n",
              "      <th>4</th>\n",
              "      <td>146.00</td>\n",
              "      <td>D00-SS</td>\n",
              "      <td>None</td>\n",
              "      <td>0.50735</td>\n",
              "      <td>2</td>\n",
              "      <td>nan</td>\n",
              "      <td>medium</td>\n",
              "      <td>0.43484</td>\n",
              "      <td>Left</td>\n",
              "      <td>3.00</td>\n",
              "      <td>113707</td>\n",
              "    </tr>\n",
              "  </tbody>\n",
              "</table>\n",
              "</div>"
            ],
            "text/plain": [
              "  avg_monthly_hrs department filed_complaint  ...  status  tenure  employee_id\n",
              "0          246.00       None            None  ...    Left    4.00       124467\n",
              "1          134.00       None            None  ...    Left    3.00       112210\n",
              "2          156.00     D00-SS            1.00  ...    Left    3.00       126150\n",
              "3          256.00     D00-SP            None  ...    Left    4.00       125346\n",
              "4          146.00     D00-SS            None  ...    Left    3.00       113707\n",
              "\n",
              "[5 rows x 11 columns]"
            ]
          },
          "metadata": {},
          "execution_count": 31
        }
      ]
    },
    {
      "cell_type": "code",
      "metadata": {
        "id": "6a1cb5da",
        "colab": {
          "base_uri": "https://localhost:8080/"
        },
        "outputId": "fc89a4a2-b9f7-44d7-9aa3-b29b34fc7561"
      },
      "source": [
        "df_employee_data.info(verbose=True)"
      ],
      "id": "6a1cb5da",
      "execution_count": 32,
      "outputs": [
        {
          "output_type": "stream",
          "name": "stdout",
          "text": [
            "<class 'pandas.core.frame.DataFrame'>\n",
            "RangeIndex: 14150 entries, 0 to 14149\n",
            "Data columns (total 11 columns):\n",
            " #   Column             Dtype  \n",
            "---  ------             -----  \n",
            " 0   avg_monthly_hrs    object \n",
            " 1   department         object \n",
            " 2   filed_complaint    object \n",
            " 3   last_evaluation    float64\n",
            " 4   n_projects         int64  \n",
            " 5   recently_promoted  float64\n",
            " 6   salary             object \n",
            " 7   satisfaction       float64\n",
            " 8   status             object \n",
            " 9   tenure             object \n",
            " 10  employee_id        int64  \n",
            "dtypes: float64(3), int64(2), object(6)\n",
            "memory usage: 1.2+ MB\n"
          ]
        }
      ]
    },
    {
      "cell_type": "code",
      "metadata": {
        "id": "62e8ab73",
        "colab": {
          "base_uri": "https://localhost:8080/"
        },
        "outputId": "663f289a-87c7-4c3e-bd87-f931ac997fd0"
      },
      "source": [
        "df_employee_data.isnull().sum().sort_values(ascending=False)"
      ],
      "id": "62e8ab73",
      "execution_count": 33,
      "outputs": [
        {
          "output_type": "execute_result",
          "data": {
            "text/plain": [
              "recently_promoted    13853\n",
              "filed_complaint      12104\n",
              "last_evaluation       1487\n",
              "department             707\n",
              "tenure                 150\n",
              "satisfaction           150\n",
              "employee_id              0\n",
              "status                   0\n",
              "salary                   0\n",
              "n_projects               0\n",
              "avg_monthly_hrs          0\n",
              "dtype: int64"
            ]
          },
          "metadata": {},
          "execution_count": 33
        }
      ]
    },
    {
      "cell_type": "markdown",
      "metadata": {
        "id": "97ef0e66"
      },
      "source": [
        "- **employee_detail_data (14,245) has 95 more entry compared to employee_data (14,150)**\n",
        "- **department has 707 missing data, which is a major concern as 'department' is primary column for merging data**\n",
        "- **Department column heading is different**\n",
        "- **How to fill missing data??**"
      ],
      "id": "97ef0e66"
    },
    {
      "cell_type": "code",
      "metadata": {
        "id": "e745b290",
        "colab": {
          "base_uri": "https://localhost:8080/"
        },
        "outputId": "429f8dcc-5839-42b0-c7f6-0d9875b96578"
      },
      "source": [
        "df_employee_data['department'].value_counts()"
      ],
      "id": "e745b290",
      "execution_count": 34,
      "outputs": [
        {
          "output_type": "execute_result",
          "data": {
            "text/plain": [
              "D00-SS     3905\n",
              "D00-ENG    2575\n",
              "D00-SP     2113\n",
              "D00-IT     1157\n",
              "D00-PD      855\n",
              "D00-MT      815\n",
              "D00-FN      725\n",
              "D00-MN      593\n",
              "-IT         207\n",
              "D00-AD      175\n",
              "D00-PR      173\n",
              "D00-TP      150\n",
              "Name: department, dtype: int64"
            ]
          },
          "metadata": {},
          "execution_count": 34
        }
      ]
    },
    {
      "cell_type": "markdown",
      "metadata": {
        "id": "d1135031"
      },
      "source": [
        "- **department column has 707 missing data as well as it has 12 unique value. But it has one '-IT' entry (having 207 entry) apart from 'D00-IT', which I feel it would be part of 'D00-IT'.**"
      ],
      "id": "d1135031"
    },
    {
      "cell_type": "code",
      "metadata": {
        "id": "78f29aaa"
      },
      "source": [
        "df_employee_data.replace(to_replace='-IT', value='D00-IT', inplace=True)"
      ],
      "id": "78f29aaa",
      "execution_count": 35,
      "outputs": []
    },
    {
      "cell_type": "code",
      "metadata": {
        "id": "9fbcbd0c",
        "colab": {
          "base_uri": "https://localhost:8080/"
        },
        "outputId": "980705f7-3dae-42a7-dfef-33b58059fd15"
      },
      "source": [
        "df_employee_data['department'].value_counts()"
      ],
      "id": "9fbcbd0c",
      "execution_count": 36,
      "outputs": [
        {
          "output_type": "execute_result",
          "data": {
            "text/plain": [
              "D00-SS     3905\n",
              "D00-ENG    2575\n",
              "D00-SP     2113\n",
              "D00-IT     1364\n",
              "D00-PD      855\n",
              "D00-MT      815\n",
              "D00-FN      725\n",
              "D00-MN      593\n",
              "D00-AD      175\n",
              "D00-PR      173\n",
              "D00-TP      150\n",
              "Name: department, dtype: int64"
            ]
          },
          "metadata": {},
          "execution_count": 36
        }
      ]
    },
    {
      "cell_type": "markdown",
      "metadata": {
        "id": "60d18852"
      },
      "source": [
        "- **In 'department_data', Column Name of Department ID is 'dept_id' whereas same Column Name of Department ID in 'employee_data' is department. So, in order to merge data from both dataset, we need same column name. Thus, we are changing column name in employee_data to dept_id from department.**"
      ],
      "id": "60d18852"
    },
    {
      "cell_type": "code",
      "metadata": {
        "id": "4f3526a1",
        "colab": {
          "base_uri": "https://localhost:8080/",
          "height": 204
        },
        "outputId": "3ad49280-ec34-4fda-aee1-e924ee303e64"
      },
      "source": [
        "df_employee_data = df_employee_data.rename({'department':'dept_id'}, axis=1)\n",
        "df_employee_data.head()"
      ],
      "id": "4f3526a1",
      "execution_count": 37,
      "outputs": [
        {
          "output_type": "execute_result",
          "data": {
            "text/html": [
              "<div>\n",
              "<style scoped>\n",
              "    .dataframe tbody tr th:only-of-type {\n",
              "        vertical-align: middle;\n",
              "    }\n",
              "\n",
              "    .dataframe tbody tr th {\n",
              "        vertical-align: top;\n",
              "    }\n",
              "\n",
              "    .dataframe thead th {\n",
              "        text-align: right;\n",
              "    }\n",
              "</style>\n",
              "<table border=\"1\" class=\"dataframe\">\n",
              "  <thead>\n",
              "    <tr style=\"text-align: right;\">\n",
              "      <th></th>\n",
              "      <th>avg_monthly_hrs</th>\n",
              "      <th>dept_id</th>\n",
              "      <th>filed_complaint</th>\n",
              "      <th>last_evaluation</th>\n",
              "      <th>n_projects</th>\n",
              "      <th>recently_promoted</th>\n",
              "      <th>salary</th>\n",
              "      <th>satisfaction</th>\n",
              "      <th>status</th>\n",
              "      <th>tenure</th>\n",
              "      <th>employee_id</th>\n",
              "    </tr>\n",
              "  </thead>\n",
              "  <tbody>\n",
              "    <tr>\n",
              "      <th>0</th>\n",
              "      <td>246.00</td>\n",
              "      <td>None</td>\n",
              "      <td>None</td>\n",
              "      <td>0.86684</td>\n",
              "      <td>6</td>\n",
              "      <td>nan</td>\n",
              "      <td>medium</td>\n",
              "      <td>0.13442</td>\n",
              "      <td>Left</td>\n",
              "      <td>4.00</td>\n",
              "      <td>124467</td>\n",
              "    </tr>\n",
              "    <tr>\n",
              "      <th>1</th>\n",
              "      <td>134.00</td>\n",
              "      <td>None</td>\n",
              "      <td>None</td>\n",
              "      <td>0.55572</td>\n",
              "      <td>2</td>\n",
              "      <td>nan</td>\n",
              "      <td>low</td>\n",
              "      <td>0.51104</td>\n",
              "      <td>Left</td>\n",
              "      <td>3.00</td>\n",
              "      <td>112210</td>\n",
              "    </tr>\n",
              "    <tr>\n",
              "      <th>2</th>\n",
              "      <td>156.00</td>\n",
              "      <td>D00-SS</td>\n",
              "      <td>1.00</td>\n",
              "      <td>0.47408</td>\n",
              "      <td>2</td>\n",
              "      <td>nan</td>\n",
              "      <td>medium</td>\n",
              "      <td>0.40510</td>\n",
              "      <td>Left</td>\n",
              "      <td>3.00</td>\n",
              "      <td>126150</td>\n",
              "    </tr>\n",
              "    <tr>\n",
              "      <th>3</th>\n",
              "      <td>256.00</td>\n",
              "      <td>D00-SP</td>\n",
              "      <td>None</td>\n",
              "      <td>0.96136</td>\n",
              "      <td>6</td>\n",
              "      <td>nan</td>\n",
              "      <td>low</td>\n",
              "      <td>0.15297</td>\n",
              "      <td>Left</td>\n",
              "      <td>4.00</td>\n",
              "      <td>125346</td>\n",
              "    </tr>\n",
              "    <tr>\n",
              "      <th>4</th>\n",
              "      <td>146.00</td>\n",
              "      <td>D00-SS</td>\n",
              "      <td>None</td>\n",
              "      <td>0.50735</td>\n",
              "      <td>2</td>\n",
              "      <td>nan</td>\n",
              "      <td>medium</td>\n",
              "      <td>0.43484</td>\n",
              "      <td>Left</td>\n",
              "      <td>3.00</td>\n",
              "      <td>113707</td>\n",
              "    </tr>\n",
              "  </tbody>\n",
              "</table>\n",
              "</div>"
            ],
            "text/plain": [
              "  avg_monthly_hrs dept_id filed_complaint  ...  status  tenure  employee_id\n",
              "0          246.00    None            None  ...    Left    4.00       124467\n",
              "1          134.00    None            None  ...    Left    3.00       112210\n",
              "2          156.00  D00-SS            1.00  ...    Left    3.00       126150\n",
              "3          256.00  D00-SP            None  ...    Left    4.00       125346\n",
              "4          146.00  D00-SS            None  ...    Left    3.00       113707\n",
              "\n",
              "[5 rows x 11 columns]"
            ]
          },
          "metadata": {},
          "execution_count": 37
        }
      ]
    },
    {
      "cell_type": "markdown",
      "metadata": {
        "id": "807c547a"
      },
      "source": [
        "<a id = Section5></a>\n",
        "### 5. Merging of Datasets"
      ],
      "id": "807c547a"
    },
    {
      "cell_type": "markdown",
      "metadata": {
        "id": "4dfd9c6b"
      },
      "source": [
        "- **Merging of department_data and employee_data**"
      ],
      "id": "4dfd9c6b"
    },
    {
      "cell_type": "code",
      "metadata": {
        "id": "d54a349f",
        "colab": {
          "base_uri": "https://localhost:8080/",
          "height": 204
        },
        "outputId": "07efa119-73cc-4b59-d946-8c4af1b9518c"
      },
      "source": [
        "df_merged1 = pd.merge(left=df_department_data, right=df_employee_data, on='dept_id', how='outer')\n",
        "df_merged1.head()"
      ],
      "id": "d54a349f",
      "execution_count": 38,
      "outputs": [
        {
          "output_type": "execute_result",
          "data": {
            "text/html": [
              "<div>\n",
              "<style scoped>\n",
              "    .dataframe tbody tr th:only-of-type {\n",
              "        vertical-align: middle;\n",
              "    }\n",
              "\n",
              "    .dataframe tbody tr th {\n",
              "        vertical-align: top;\n",
              "    }\n",
              "\n",
              "    .dataframe thead th {\n",
              "        text-align: right;\n",
              "    }\n",
              "</style>\n",
              "<table border=\"1\" class=\"dataframe\">\n",
              "  <thead>\n",
              "    <tr style=\"text-align: right;\">\n",
              "      <th></th>\n",
              "      <th>dept_id</th>\n",
              "      <th>dept_name</th>\n",
              "      <th>dept_head</th>\n",
              "      <th>avg_monthly_hrs</th>\n",
              "      <th>filed_complaint</th>\n",
              "      <th>last_evaluation</th>\n",
              "      <th>n_projects</th>\n",
              "      <th>recently_promoted</th>\n",
              "      <th>salary</th>\n",
              "      <th>satisfaction</th>\n",
              "      <th>status</th>\n",
              "      <th>tenure</th>\n",
              "      <th>employee_id</th>\n",
              "    </tr>\n",
              "  </thead>\n",
              "  <tbody>\n",
              "    <tr>\n",
              "      <th>0</th>\n",
              "      <td>D00-IT</td>\n",
              "      <td>IT</td>\n",
              "      <td>Henry Adey</td>\n",
              "      <td>244.00</td>\n",
              "      <td>None</td>\n",
              "      <td>0.92620</td>\n",
              "      <td>6</td>\n",
              "      <td>nan</td>\n",
              "      <td>medium</td>\n",
              "      <td>0.06187</td>\n",
              "      <td>Left</td>\n",
              "      <td>5.00</td>\n",
              "      <td>112868</td>\n",
              "    </tr>\n",
              "    <tr>\n",
              "      <th>1</th>\n",
              "      <td>D00-IT</td>\n",
              "      <td>IT</td>\n",
              "      <td>Henry Adey</td>\n",
              "      <td>289.00</td>\n",
              "      <td>None</td>\n",
              "      <td>0.92986</td>\n",
              "      <td>7</td>\n",
              "      <td>nan</td>\n",
              "      <td>low</td>\n",
              "      <td>0.16174</td>\n",
              "      <td>Left</td>\n",
              "      <td>4.00</td>\n",
              "      <td>122314</td>\n",
              "    </tr>\n",
              "    <tr>\n",
              "      <th>2</th>\n",
              "      <td>D00-IT</td>\n",
              "      <td>IT</td>\n",
              "      <td>Henry Adey</td>\n",
              "      <td>235.00</td>\n",
              "      <td>None</td>\n",
              "      <td>0.95764</td>\n",
              "      <td>5</td>\n",
              "      <td>nan</td>\n",
              "      <td>low</td>\n",
              "      <td>0.72571</td>\n",
              "      <td>Left</td>\n",
              "      <td>5.00</td>\n",
              "      <td>126561</td>\n",
              "    </tr>\n",
              "    <tr>\n",
              "      <th>3</th>\n",
              "      <td>D00-IT</td>\n",
              "      <td>IT</td>\n",
              "      <td>Henry Adey</td>\n",
              "      <td>158.00</td>\n",
              "      <td>None</td>\n",
              "      <td>0.54633</td>\n",
              "      <td>2</td>\n",
              "      <td>nan</td>\n",
              "      <td>low</td>\n",
              "      <td>0.39149</td>\n",
              "      <td>Left</td>\n",
              "      <td>3.00</td>\n",
              "      <td>115017</td>\n",
              "    </tr>\n",
              "    <tr>\n",
              "      <th>4</th>\n",
              "      <td>D00-IT</td>\n",
              "      <td>IT</td>\n",
              "      <td>Henry Adey</td>\n",
              "      <td>277.00</td>\n",
              "      <td>None</td>\n",
              "      <td>0.94960</td>\n",
              "      <td>2</td>\n",
              "      <td>nan</td>\n",
              "      <td>medium</td>\n",
              "      <td>0.72321</td>\n",
              "      <td>Left</td>\n",
              "      <td>3.00</td>\n",
              "      <td>112281</td>\n",
              "    </tr>\n",
              "  </tbody>\n",
              "</table>\n",
              "</div>"
            ],
            "text/plain": [
              "  dept_id dept_name   dept_head  ... status tenure  employee_id\n",
              "0  D00-IT        IT  Henry Adey  ...   Left   5.00       112868\n",
              "1  D00-IT        IT  Henry Adey  ...   Left   4.00       122314\n",
              "2  D00-IT        IT  Henry Adey  ...   Left   5.00       126561\n",
              "3  D00-IT        IT  Henry Adey  ...   Left   3.00       115017\n",
              "4  D00-IT        IT  Henry Adey  ...   Left   3.00       112281\n",
              "\n",
              "[5 rows x 13 columns]"
            ]
          },
          "metadata": {},
          "execution_count": 38
        }
      ]
    },
    {
      "cell_type": "code",
      "metadata": {
        "id": "d48b8822",
        "colab": {
          "base_uri": "https://localhost:8080/"
        },
        "outputId": "c912bdb9-004d-40bd-b5d8-48f0bb06a238"
      },
      "source": [
        "df_merged1.info()"
      ],
      "id": "d48b8822",
      "execution_count": 39,
      "outputs": [
        {
          "output_type": "stream",
          "name": "stdout",
          "text": [
            "<class 'pandas.core.frame.DataFrame'>\n",
            "Int64Index: 14150 entries, 0 to 14149\n",
            "Data columns (total 13 columns):\n",
            " #   Column             Dtype  \n",
            "---  ------             -----  \n",
            " 0   dept_id            object \n",
            " 1   dept_name          object \n",
            " 2   dept_head          object \n",
            " 3   avg_monthly_hrs    object \n",
            " 4   filed_complaint    object \n",
            " 5   last_evaluation    float64\n",
            " 6   n_projects         int64  \n",
            " 7   recently_promoted  float64\n",
            " 8   salary             object \n",
            " 9   satisfaction       float64\n",
            " 10  status             object \n",
            " 11  tenure             object \n",
            " 12  employee_id        int64  \n",
            "dtypes: float64(3), int64(2), object(8)\n",
            "memory usage: 1.5+ MB\n"
          ]
        }
      ]
    },
    {
      "cell_type": "markdown",
      "metadata": {
        "id": "9e710f3c"
      },
      "source": [
        "- **Now merging 'employee_details_data' with the first merged dataset**"
      ],
      "id": "9e710f3c"
    },
    {
      "cell_type": "code",
      "metadata": {
        "id": "42b6dd22",
        "colab": {
          "base_uri": "https://localhost:8080/",
          "height": 204
        },
        "outputId": "74713bf3-414d-4f35-b867-ef848c3aea92"
      },
      "source": [
        "df_final = pd.merge(left=df_employee_details_data, right=df_merged1, on='employee_id', how='right')\n",
        "df_final.head()"
      ],
      "id": "42b6dd22",
      "execution_count": 40,
      "outputs": [
        {
          "output_type": "execute_result",
          "data": {
            "text/html": [
              "<div>\n",
              "<style scoped>\n",
              "    .dataframe tbody tr th:only-of-type {\n",
              "        vertical-align: middle;\n",
              "    }\n",
              "\n",
              "    .dataframe tbody tr th {\n",
              "        vertical-align: top;\n",
              "    }\n",
              "\n",
              "    .dataframe thead th {\n",
              "        text-align: right;\n",
              "    }\n",
              "</style>\n",
              "<table border=\"1\" class=\"dataframe\">\n",
              "  <thead>\n",
              "    <tr style=\"text-align: right;\">\n",
              "      <th></th>\n",
              "      <th>employee_id</th>\n",
              "      <th>age</th>\n",
              "      <th>gender</th>\n",
              "      <th>marital_status</th>\n",
              "      <th>dept_id</th>\n",
              "      <th>dept_name</th>\n",
              "      <th>dept_head</th>\n",
              "      <th>avg_monthly_hrs</th>\n",
              "      <th>filed_complaint</th>\n",
              "      <th>last_evaluation</th>\n",
              "      <th>n_projects</th>\n",
              "      <th>recently_promoted</th>\n",
              "      <th>salary</th>\n",
              "      <th>satisfaction</th>\n",
              "      <th>status</th>\n",
              "      <th>tenure</th>\n",
              "    </tr>\n",
              "  </thead>\n",
              "  <tbody>\n",
              "    <tr>\n",
              "      <th>0</th>\n",
              "      <td>112868</td>\n",
              "      <td>29.00000</td>\n",
              "      <td>Female</td>\n",
              "      <td>Married</td>\n",
              "      <td>D00-IT</td>\n",
              "      <td>IT</td>\n",
              "      <td>Henry Adey</td>\n",
              "      <td>244.00</td>\n",
              "      <td>None</td>\n",
              "      <td>0.92620</td>\n",
              "      <td>6</td>\n",
              "      <td>nan</td>\n",
              "      <td>medium</td>\n",
              "      <td>0.06187</td>\n",
              "      <td>Left</td>\n",
              "      <td>5.00</td>\n",
              "    </tr>\n",
              "    <tr>\n",
              "      <th>1</th>\n",
              "      <td>122314</td>\n",
              "      <td>36.00000</td>\n",
              "      <td>Female</td>\n",
              "      <td>Married</td>\n",
              "      <td>D00-IT</td>\n",
              "      <td>IT</td>\n",
              "      <td>Henry Adey</td>\n",
              "      <td>289.00</td>\n",
              "      <td>None</td>\n",
              "      <td>0.92986</td>\n",
              "      <td>7</td>\n",
              "      <td>nan</td>\n",
              "      <td>low</td>\n",
              "      <td>0.16174</td>\n",
              "      <td>Left</td>\n",
              "      <td>4.00</td>\n",
              "    </tr>\n",
              "    <tr>\n",
              "      <th>2</th>\n",
              "      <td>126561</td>\n",
              "      <td>22.00000</td>\n",
              "      <td>Female</td>\n",
              "      <td>Unmarried</td>\n",
              "      <td>D00-IT</td>\n",
              "      <td>IT</td>\n",
              "      <td>Henry Adey</td>\n",
              "      <td>235.00</td>\n",
              "      <td>None</td>\n",
              "      <td>0.95764</td>\n",
              "      <td>5</td>\n",
              "      <td>nan</td>\n",
              "      <td>low</td>\n",
              "      <td>0.72571</td>\n",
              "      <td>Left</td>\n",
              "      <td>5.00</td>\n",
              "    </tr>\n",
              "    <tr>\n",
              "      <th>3</th>\n",
              "      <td>115017</td>\n",
              "      <td>24.00000</td>\n",
              "      <td>Female</td>\n",
              "      <td>Unmarried</td>\n",
              "      <td>D00-IT</td>\n",
              "      <td>IT</td>\n",
              "      <td>Henry Adey</td>\n",
              "      <td>158.00</td>\n",
              "      <td>None</td>\n",
              "      <td>0.54633</td>\n",
              "      <td>2</td>\n",
              "      <td>nan</td>\n",
              "      <td>low</td>\n",
              "      <td>0.39149</td>\n",
              "      <td>Left</td>\n",
              "      <td>3.00</td>\n",
              "    </tr>\n",
              "    <tr>\n",
              "      <th>4</th>\n",
              "      <td>112281</td>\n",
              "      <td>28.00000</td>\n",
              "      <td>Male</td>\n",
              "      <td>Unmarried</td>\n",
              "      <td>D00-IT</td>\n",
              "      <td>IT</td>\n",
              "      <td>Henry Adey</td>\n",
              "      <td>277.00</td>\n",
              "      <td>None</td>\n",
              "      <td>0.94960</td>\n",
              "      <td>2</td>\n",
              "      <td>nan</td>\n",
              "      <td>medium</td>\n",
              "      <td>0.72321</td>\n",
              "      <td>Left</td>\n",
              "      <td>3.00</td>\n",
              "    </tr>\n",
              "  </tbody>\n",
              "</table>\n",
              "</div>"
            ],
            "text/plain": [
              "   employee_id      age  gender  ... satisfaction status tenure\n",
              "0       112868 29.00000  Female  ...      0.06187   Left   5.00\n",
              "1       122314 36.00000  Female  ...      0.16174   Left   4.00\n",
              "2       126561 22.00000  Female  ...      0.72571   Left   5.00\n",
              "3       115017 24.00000  Female  ...      0.39149   Left   3.00\n",
              "4       112281 28.00000    Male  ...      0.72321   Left   3.00\n",
              "\n",
              "[5 rows x 16 columns]"
            ]
          },
          "metadata": {},
          "execution_count": 40
        }
      ]
    },
    {
      "cell_type": "code",
      "metadata": {
        "id": "3368dbc7",
        "colab": {
          "base_uri": "https://localhost:8080/"
        },
        "outputId": "ed6bffa8-22d3-42e1-c615-af2256c1558d"
      },
      "source": [
        "df_final.info()"
      ],
      "id": "3368dbc7",
      "execution_count": 41,
      "outputs": [
        {
          "output_type": "stream",
          "name": "stdout",
          "text": [
            "<class 'pandas.core.frame.DataFrame'>\n",
            "Int64Index: 14150 entries, 0 to 14149\n",
            "Data columns (total 16 columns):\n",
            " #   Column             Dtype  \n",
            "---  ------             -----  \n",
            " 0   employee_id        int64  \n",
            " 1   age                float64\n",
            " 2   gender             object \n",
            " 3   marital_status     object \n",
            " 4   dept_id            object \n",
            " 5   dept_name          object \n",
            " 6   dept_head          object \n",
            " 7   avg_monthly_hrs    object \n",
            " 8   filed_complaint    object \n",
            " 9   last_evaluation    float64\n",
            " 10  n_projects         int64  \n",
            " 11  recently_promoted  float64\n",
            " 12  salary             object \n",
            " 13  satisfaction       float64\n",
            " 14  status             object \n",
            " 15  tenure             object \n",
            "dtypes: float64(4), int64(2), object(10)\n",
            "memory usage: 1.8+ MB\n"
          ]
        }
      ]
    },
    {
      "cell_type": "markdown",
      "metadata": {
        "id": "570c4b78"
      },
      "source": [
        "<a id = Section6></a>\n",
        "### 6. Feature Engineering: Treating missing data"
      ],
      "id": "570c4b78"
    },
    {
      "cell_type": "code",
      "metadata": {
        "id": "48d5355f",
        "colab": {
          "base_uri": "https://localhost:8080/"
        },
        "outputId": "8331d2f9-a3cd-49ec-e6eb-26c31312f901"
      },
      "source": [
        "df_final.isnull().sum().sort_values(ascending=False)"
      ],
      "id": "48d5355f",
      "execution_count": 42,
      "outputs": [
        {
          "output_type": "execute_result",
          "data": {
            "text/plain": [
              "recently_promoted    13853\n",
              "filed_complaint      12104\n",
              "last_evaluation       1487\n",
              "dept_head              707\n",
              "dept_name              707\n",
              "dept_id                707\n",
              "tenure                 150\n",
              "satisfaction           150\n",
              "marital_status           5\n",
              "gender                   5\n",
              "age                      5\n",
              "status                   0\n",
              "salary                   0\n",
              "n_projects               0\n",
              "avg_monthly_hrs          0\n",
              "employee_id              0\n",
              "dtype: int64"
            ]
          },
          "metadata": {},
          "execution_count": 42
        }
      ]
    },
    {
      "cell_type": "code",
      "metadata": {
        "id": "b64b678b",
        "colab": {
          "base_uri": "https://localhost:8080/",
          "height": 545
        },
        "outputId": "c8238c05-410b-41ad-f457-b52f3c12cdd8"
      },
      "source": [
        "missing_data = pd.DataFrame(df_final.isnull().sum(), columns=['Total Missing Values'])\n",
        "missing_data['% of Missing Values'] = df_final.isnull().sum() / len(df_final) * 100\n",
        "missing_data = missing_data.sort_values(by = '% of Missing Values', ascending=False)\n",
        "missing_data"
      ],
      "id": "b64b678b",
      "execution_count": 43,
      "outputs": [
        {
          "output_type": "execute_result",
          "data": {
            "text/html": [
              "<div>\n",
              "<style scoped>\n",
              "    .dataframe tbody tr th:only-of-type {\n",
              "        vertical-align: middle;\n",
              "    }\n",
              "\n",
              "    .dataframe tbody tr th {\n",
              "        vertical-align: top;\n",
              "    }\n",
              "\n",
              "    .dataframe thead th {\n",
              "        text-align: right;\n",
              "    }\n",
              "</style>\n",
              "<table border=\"1\" class=\"dataframe\">\n",
              "  <thead>\n",
              "    <tr style=\"text-align: right;\">\n",
              "      <th></th>\n",
              "      <th>Total Missing Values</th>\n",
              "      <th>% of Missing Values</th>\n",
              "    </tr>\n",
              "  </thead>\n",
              "  <tbody>\n",
              "    <tr>\n",
              "      <th>recently_promoted</th>\n",
              "      <td>13853</td>\n",
              "      <td>97.90106</td>\n",
              "    </tr>\n",
              "    <tr>\n",
              "      <th>filed_complaint</th>\n",
              "      <td>12104</td>\n",
              "      <td>85.54064</td>\n",
              "    </tr>\n",
              "    <tr>\n",
              "      <th>last_evaluation</th>\n",
              "      <td>1487</td>\n",
              "      <td>10.50883</td>\n",
              "    </tr>\n",
              "    <tr>\n",
              "      <th>dept_id</th>\n",
              "      <td>707</td>\n",
              "      <td>4.99647</td>\n",
              "    </tr>\n",
              "    <tr>\n",
              "      <th>dept_name</th>\n",
              "      <td>707</td>\n",
              "      <td>4.99647</td>\n",
              "    </tr>\n",
              "    <tr>\n",
              "      <th>dept_head</th>\n",
              "      <td>707</td>\n",
              "      <td>4.99647</td>\n",
              "    </tr>\n",
              "    <tr>\n",
              "      <th>satisfaction</th>\n",
              "      <td>150</td>\n",
              "      <td>1.06007</td>\n",
              "    </tr>\n",
              "    <tr>\n",
              "      <th>tenure</th>\n",
              "      <td>150</td>\n",
              "      <td>1.06007</td>\n",
              "    </tr>\n",
              "    <tr>\n",
              "      <th>age</th>\n",
              "      <td>5</td>\n",
              "      <td>0.03534</td>\n",
              "    </tr>\n",
              "    <tr>\n",
              "      <th>gender</th>\n",
              "      <td>5</td>\n",
              "      <td>0.03534</td>\n",
              "    </tr>\n",
              "    <tr>\n",
              "      <th>marital_status</th>\n",
              "      <td>5</td>\n",
              "      <td>0.03534</td>\n",
              "    </tr>\n",
              "    <tr>\n",
              "      <th>employee_id</th>\n",
              "      <td>0</td>\n",
              "      <td>0.00000</td>\n",
              "    </tr>\n",
              "    <tr>\n",
              "      <th>avg_monthly_hrs</th>\n",
              "      <td>0</td>\n",
              "      <td>0.00000</td>\n",
              "    </tr>\n",
              "    <tr>\n",
              "      <th>n_projects</th>\n",
              "      <td>0</td>\n",
              "      <td>0.00000</td>\n",
              "    </tr>\n",
              "    <tr>\n",
              "      <th>salary</th>\n",
              "      <td>0</td>\n",
              "      <td>0.00000</td>\n",
              "    </tr>\n",
              "    <tr>\n",
              "      <th>status</th>\n",
              "      <td>0</td>\n",
              "      <td>0.00000</td>\n",
              "    </tr>\n",
              "  </tbody>\n",
              "</table>\n",
              "</div>"
            ],
            "text/plain": [
              "                   Total Missing Values  % of Missing Values\n",
              "recently_promoted                 13853             97.90106\n",
              "filed_complaint                   12104             85.54064\n",
              "last_evaluation                    1487             10.50883\n",
              "dept_id                             707              4.99647\n",
              "dept_name                           707              4.99647\n",
              "dept_head                           707              4.99647\n",
              "satisfaction                        150              1.06007\n",
              "tenure                              150              1.06007\n",
              "age                                   5              0.03534\n",
              "gender                                5              0.03534\n",
              "marital_status                        5              0.03534\n",
              "employee_id                           0              0.00000\n",
              "avg_monthly_hrs                       0              0.00000\n",
              "n_projects                            0              0.00000\n",
              "salary                                0              0.00000\n",
              "status                                0              0.00000"
            ]
          },
          "metadata": {},
          "execution_count": 43
        }
      ]
    },
    {
      "cell_type": "markdown",
      "metadata": {
        "id": "9f90c99a"
      },
      "source": [
        "- **recently_promoted** has 13,853 missing data (14,150-13853) ie., 297 got promotion recently and remaining weren't got promotion. So, I am replacing NULL value with '0'.\n",
        "\n",
        "\n",
        "- **filed_complaint** has 12,104 missing value which means 12,104 employee has not filed any complaint. So, I am replacing NULL value with '0'.\n",
        "\n",
        "\n",
        "- **last_evaluation** is 'Score for most recent evaluation of employee (higher is better)' has 1,487 missing value, which means either data is missing or 1,487 employee has not got any evaluation. Here, I am assuming that it has never evaluated and hence I am replacing NULL value with '0'. **Second Thought:** replacing with Median / Mean.\n",
        "\n",
        "\n",
        "- **satisfaction** is 'Score for employee’s satisfaction with the company (higher is better)' has 150 missing value, which means either data is missing or 150 employee has not given its satisfaction score. Here, again I am assuming that it has not gave its satisfaction score and hence I am replacing NULL value with '0'. **Second Thought:** replacing with Median / Mean.\n",
        "\n",
        "\n",
        "- **dept_id** has 707 missing value, I am replacing it with Mode.\n",
        "\n",
        "\n",
        "- **dept_name** has 707 missing value, I am replacing it with Mode.\n",
        "\n",
        "\n",
        "- **dept_head** has 707 missing value, I am replacing it with Mode.\n",
        "\n",
        "\n",
        "- **tenure** has 150 missing value, I am replacing it with Median.\n",
        "\n",
        "\n",
        "- **age** has 5 missing value, I am replacing it with Median.\n",
        "\n",
        "\n",
        "- **gender** has 5 missing value, I am replacing it with Mode.\n",
        "\n",
        "\n",
        "- **marital_status** has 5 missing value, I am replacing it with Mode."
      ],
      "id": "9f90c99a"
    },
    {
      "cell_type": "markdown",
      "metadata": {
        "id": "59a26c5e"
      },
      "source": [
        "### Replacing Missing Values:"
      ],
      "id": "59a26c5e"
    },
    {
      "cell_type": "markdown",
      "metadata": {
        "id": "2009cb15"
      },
      "source": [
        "- Replacing **null value** of **'recently_promoted'** and **'filed_complaint'** with **'0.0'**."
      ],
      "id": "2009cb15"
    },
    {
      "cell_type": "code",
      "metadata": {
        "id": "68805eaf"
      },
      "source": [
        "df_final['recently_promoted'].fillna('0.0', inplace=True)"
      ],
      "id": "68805eaf",
      "execution_count": 44,
      "outputs": []
    },
    {
      "cell_type": "code",
      "metadata": {
        "id": "55bf7024"
      },
      "source": [
        "df_final['filed_complaint'].fillna('0.00', inplace=True)"
      ],
      "id": "55bf7024",
      "execution_count": 45,
      "outputs": []
    },
    {
      "cell_type": "markdown",
      "metadata": {
        "id": "ec9f3e9d"
      },
      "source": [
        "- Replacing **last_evaluation, satisfaction, dept_id, dept_name, dept_head, tenure, age, gender and marital_status** with **Mean / Median / Mode**"
      ],
      "id": "ec9f3e9d"
    },
    {
      "cell_type": "code",
      "metadata": {
        "id": "14830c10"
      },
      "source": [
        "df_final['last_evaluation'].fillna(df_final['last_evaluation'].mean(), inplace=True)\n",
        "df_final['satisfaction'].fillna(df_final['satisfaction'].mean(), inplace=True)\n",
        "df_final['dept_id'].fillna(df_final['dept_id'].mode()[0], inplace=True)\n",
        "df_final['dept_name'].fillna(df_final['dept_name'].mode()[0], inplace=True)\n",
        "df_final['dept_head'].fillna(df_final['dept_head'].mode()[0], inplace=True)\n",
        "df_final['tenure'].fillna(df_final['tenure'].median(), inplace=True)\n",
        "df_final['age'].fillna(df_final['age'].median(), inplace=True)\n",
        "df_final['gender'].fillna(df_final['gender'].mode()[0], inplace=True)\n",
        "df_final['marital_status'].fillna(df_final['marital_status'].mode()[0], inplace=True)"
      ],
      "id": "14830c10",
      "execution_count": 46,
      "outputs": []
    },
    {
      "cell_type": "code",
      "metadata": {
        "id": "57f5cbcd",
        "colab": {
          "base_uri": "https://localhost:8080/"
        },
        "outputId": "d434f9d1-73c0-4f28-dfe9-12e99252ec6c"
      },
      "source": [
        "df_final.info()"
      ],
      "id": "57f5cbcd",
      "execution_count": 47,
      "outputs": [
        {
          "output_type": "stream",
          "name": "stdout",
          "text": [
            "<class 'pandas.core.frame.DataFrame'>\n",
            "Int64Index: 14150 entries, 0 to 14149\n",
            "Data columns (total 16 columns):\n",
            " #   Column             Dtype  \n",
            "---  ------             -----  \n",
            " 0   employee_id        int64  \n",
            " 1   age                float64\n",
            " 2   gender             object \n",
            " 3   marital_status     object \n",
            " 4   dept_id            object \n",
            " 5   dept_name          object \n",
            " 6   dept_head          object \n",
            " 7   avg_monthly_hrs    object \n",
            " 8   filed_complaint    object \n",
            " 9   last_evaluation    float64\n",
            " 10  n_projects         int64  \n",
            " 11  recently_promoted  object \n",
            " 12  salary             object \n",
            " 13  satisfaction       float64\n",
            " 14  status             object \n",
            " 15  tenure             object \n",
            "dtypes: float64(3), int64(2), object(11)\n",
            "memory usage: 1.8+ MB\n"
          ]
        }
      ]
    },
    {
      "cell_type": "code",
      "metadata": {
        "colab": {
          "base_uri": "https://localhost:8080/"
        },
        "id": "CZRdcUeOoeze",
        "outputId": "bb455faa-e3e6-455e-f1b6-92fef8cac1a5"
      },
      "source": [
        "df_final['dept_id'].value_counts()"
      ],
      "id": "CZRdcUeOoeze",
      "execution_count": 48,
      "outputs": [
        {
          "output_type": "execute_result",
          "data": {
            "text/plain": [
              "D00-SS     4612\n",
              "D00-ENG    2575\n",
              "D00-SP     2113\n",
              "D00-IT     1364\n",
              "D00-PD      855\n",
              "D00-MT      815\n",
              "D00-FN      725\n",
              "D00-MN      593\n",
              "D00-AD      175\n",
              "D00-PR      173\n",
              "D00-TP      150\n",
              "Name: dept_id, dtype: int64"
            ]
          },
          "metadata": {},
          "execution_count": 48
        }
      ]
    },
    {
      "cell_type": "code",
      "metadata": {
        "colab": {
          "base_uri": "https://localhost:8080/"
        },
        "id": "2s5yga5Hofr9",
        "outputId": "5ecfbf8d-460c-4edf-af55-56747dd70f58"
      },
      "source": [
        "df_final['dept_name'].value_counts()"
      ],
      "id": "2s5yga5Hofr9",
      "execution_count": 49,
      "outputs": [
        {
          "output_type": "execute_result",
          "data": {
            "text/plain": [
              "Sales          4612\n",
              "Engineering    2575\n",
              "Support        2113\n",
              "IT             1364\n",
              "Product         855\n",
              "Marketing       815\n",
              "Finance         725\n",
              "Management      593\n",
              "Admin           175\n",
              "Procurement     173\n",
              "Temp            150\n",
              "Name: dept_name, dtype: int64"
            ]
          },
          "metadata": {},
          "execution_count": 49
        }
      ]
    },
    {
      "cell_type": "code",
      "metadata": {
        "colab": {
          "base_uri": "https://localhost:8080/"
        },
        "id": "FVxCXkYhoig6",
        "outputId": "5bd4592a-b363-4607-e836-737735900312"
      },
      "source": [
        "df_final['dept_head'].value_counts()"
      ],
      "id": "FVxCXkYhoig6",
      "execution_count": 50,
      "outputs": [
        {
          "output_type": "execute_result",
          "data": {
            "text/plain": [
              "Edward J Bayley          4612\n",
              "Sushant Raghunathan K    2575\n",
              "Amelia Westray           2113\n",
              "Henry Adey               1364\n",
              "Darcy Staines             855\n",
              "Reuben Swann              815\n",
              "Aanchal J                 725\n",
              "Ellie Trafton             593\n",
              "Evelyn Tolson             175\n",
              "Louie Viles               173\n",
              "Micheal Zachrey           150\n",
              "Name: dept_head, dtype: int64"
            ]
          },
          "metadata": {},
          "execution_count": 50
        }
      ]
    },
    {
      "cell_type": "markdown",
      "metadata": {
        "id": "7Ganc3Ppony4"
      },
      "source": [
        "### Duplicate Entry in employee_id"
      ],
      "id": "7Ganc3Ppony4"
    },
    {
      "cell_type": "code",
      "metadata": {
        "id": "SuR39RRZolTn"
      },
      "source": [
        "pd.set_option(\"display.max_rows\", None)\n",
        "#df_final['employee_id'].value_counts()"
      ],
      "id": "SuR39RRZolTn",
      "execution_count": 51,
      "outputs": []
    },
    {
      "cell_type": "markdown",
      "metadata": {
        "id": "bWOMVCgHoxqE"
      },
      "source": [
        "## There are 5 employee_id having value \"0\""
      ],
      "id": "bWOMVCgHoxqE"
    },
    {
      "cell_type": "code",
      "metadata": {
        "colab": {
          "base_uri": "https://localhost:8080/",
          "height": 1000
        },
        "id": "2trZOPBvo1Nv",
        "outputId": "1beaeaf2-b34f-41d8-bafd-0265fb1faac4"
      },
      "source": [
        "df_duplicate = df_final[df_final['employee_id'].duplicated(keep=False)].sort_values('employee_id')\n",
        "df_duplicate"
      ],
      "id": "2trZOPBvo1Nv",
      "execution_count": 52,
      "outputs": [
        {
          "output_type": "execute_result",
          "data": {
            "text/html": [
              "<div>\n",
              "<style scoped>\n",
              "    .dataframe tbody tr th:only-of-type {\n",
              "        vertical-align: middle;\n",
              "    }\n",
              "\n",
              "    .dataframe tbody tr th {\n",
              "        vertical-align: top;\n",
              "    }\n",
              "\n",
              "    .dataframe thead th {\n",
              "        text-align: right;\n",
              "    }\n",
              "</style>\n",
              "<table border=\"1\" class=\"dataframe\">\n",
              "  <thead>\n",
              "    <tr style=\"text-align: right;\">\n",
              "      <th></th>\n",
              "      <th>employee_id</th>\n",
              "      <th>age</th>\n",
              "      <th>gender</th>\n",
              "      <th>marital_status</th>\n",
              "      <th>dept_id</th>\n",
              "      <th>dept_name</th>\n",
              "      <th>dept_head</th>\n",
              "      <th>avg_monthly_hrs</th>\n",
              "      <th>filed_complaint</th>\n",
              "      <th>last_evaluation</th>\n",
              "      <th>n_projects</th>\n",
              "      <th>recently_promoted</th>\n",
              "      <th>salary</th>\n",
              "      <th>satisfaction</th>\n",
              "      <th>status</th>\n",
              "      <th>tenure</th>\n",
              "    </tr>\n",
              "  </thead>\n",
              "  <tbody>\n",
              "    <tr>\n",
              "      <th>1377</th>\n",
              "      <td>0</td>\n",
              "      <td>29.00000</td>\n",
              "      <td>Male</td>\n",
              "      <td>Unmarried</td>\n",
              "      <td>D00-SS</td>\n",
              "      <td>Sales</td>\n",
              "      <td>Edward J Bayley</td>\n",
              "      <td>167.00</td>\n",
              "      <td>0.00</td>\n",
              "      <td>0.88005</td>\n",
              "      <td>5</td>\n",
              "      <td>0.0</td>\n",
              "      <td>low</td>\n",
              "      <td>0.68214</td>\n",
              "      <td>Employed</td>\n",
              "      <td>3.00</td>\n",
              "    </tr>\n",
              "    <tr>\n",
              "      <th>1373</th>\n",
              "      <td>0</td>\n",
              "      <td>29.00000</td>\n",
              "      <td>Male</td>\n",
              "      <td>Unmarried</td>\n",
              "      <td>D00-SS</td>\n",
              "      <td>Sales</td>\n",
              "      <td>Edward J Bayley</td>\n",
              "      <td>284.00</td>\n",
              "      <td>0.00</td>\n",
              "      <td>0.85270</td>\n",
              "      <td>6</td>\n",
              "      <td>0.0</td>\n",
              "      <td>low</td>\n",
              "      <td>0.06917</td>\n",
              "      <td>Left</td>\n",
              "      <td>4.00</td>\n",
              "    </tr>\n",
              "    <tr>\n",
              "      <th>1374</th>\n",
              "      <td>0</td>\n",
              "      <td>29.00000</td>\n",
              "      <td>Male</td>\n",
              "      <td>Unmarried</td>\n",
              "      <td>D00-ENG</td>\n",
              "      <td>Engineering</td>\n",
              "      <td>Sushant Raghunathan K</td>\n",
              "      <td>264.00</td>\n",
              "      <td>0.00</td>\n",
              "      <td>0.77455</td>\n",
              "      <td>6</td>\n",
              "      <td>0.0</td>\n",
              "      <td>low</td>\n",
              "      <td>0.11097</td>\n",
              "      <td>Left</td>\n",
              "      <td>4.00</td>\n",
              "    </tr>\n",
              "    <tr>\n",
              "      <th>1375</th>\n",
              "      <td>0</td>\n",
              "      <td>29.00000</td>\n",
              "      <td>Male</td>\n",
              "      <td>Unmarried</td>\n",
              "      <td>D00-ENG</td>\n",
              "      <td>Engineering</td>\n",
              "      <td>Sushant Raghunathan K</td>\n",
              "      <td>259.00</td>\n",
              "      <td>0.00</td>\n",
              "      <td>0.50588</td>\n",
              "      <td>5</td>\n",
              "      <td>0.0</td>\n",
              "      <td>low</td>\n",
              "      <td>0.63105</td>\n",
              "      <td>Employed</td>\n",
              "      <td>4.00</td>\n",
              "    </tr>\n",
              "    <tr>\n",
              "      <th>1376</th>\n",
              "      <td>0</td>\n",
              "      <td>29.00000</td>\n",
              "      <td>Male</td>\n",
              "      <td>Unmarried</td>\n",
              "      <td>D00-SP</td>\n",
              "      <td>Support</td>\n",
              "      <td>Amelia Westray</td>\n",
              "      <td>129.00</td>\n",
              "      <td>0.00</td>\n",
              "      <td>0.40266</td>\n",
              "      <td>2</td>\n",
              "      <td>0.0</td>\n",
              "      <td>medium</td>\n",
              "      <td>0.43736</td>\n",
              "      <td>Left</td>\n",
              "      <td>3.00</td>\n",
              "    </tr>\n",
              "    <tr>\n",
              "      <th>2065</th>\n",
              "      <td>101809</td>\n",
              "      <td>45.00000</td>\n",
              "      <td>Female</td>\n",
              "      <td>Married</td>\n",
              "      <td>D00-SS</td>\n",
              "      <td>Sales</td>\n",
              "      <td>Edward J Bayley</td>\n",
              "      <td>245.00</td>\n",
              "      <td>0.00</td>\n",
              "      <td>0.85079</td>\n",
              "      <td>6</td>\n",
              "      <td>0.0</td>\n",
              "      <td>medium</td>\n",
              "      <td>0.22508</td>\n",
              "      <td>Employed</td>\n",
              "      <td>5.00</td>\n",
              "    </tr>\n",
              "    <tr>\n",
              "      <th>2064</th>\n",
              "      <td>101809</td>\n",
              "      <td>45.00000</td>\n",
              "      <td>Female</td>\n",
              "      <td>Married</td>\n",
              "      <td>D00-SS</td>\n",
              "      <td>Sales</td>\n",
              "      <td>Edward J Bayley</td>\n",
              "      <td>245.00</td>\n",
              "      <td>0.00</td>\n",
              "      <td>0.85079</td>\n",
              "      <td>6</td>\n",
              "      <td>0.0</td>\n",
              "      <td>medium</td>\n",
              "      <td>0.22508</td>\n",
              "      <td>Employed</td>\n",
              "      <td>5.00</td>\n",
              "    </tr>\n",
              "    <tr>\n",
              "      <th>3318</th>\n",
              "      <td>102701</td>\n",
              "      <td>22.00000</td>\n",
              "      <td>Female</td>\n",
              "      <td>Unmarried</td>\n",
              "      <td>D00-SS</td>\n",
              "      <td>Sales</td>\n",
              "      <td>Edward J Bayley</td>\n",
              "      <td>133.00</td>\n",
              "      <td>0.00</td>\n",
              "      <td>0.98674</td>\n",
              "      <td>3</td>\n",
              "      <td>0.0</td>\n",
              "      <td>medium</td>\n",
              "      <td>0.61730</td>\n",
              "      <td>Employed</td>\n",
              "      <td>5.00</td>\n",
              "    </tr>\n",
              "    <tr>\n",
              "      <th>3317</th>\n",
              "      <td>102701</td>\n",
              "      <td>22.00000</td>\n",
              "      <td>Female</td>\n",
              "      <td>Unmarried</td>\n",
              "      <td>D00-SS</td>\n",
              "      <td>Sales</td>\n",
              "      <td>Edward J Bayley</td>\n",
              "      <td>133.00</td>\n",
              "      <td>0.00</td>\n",
              "      <td>0.98674</td>\n",
              "      <td>3</td>\n",
              "      <td>0.0</td>\n",
              "      <td>medium</td>\n",
              "      <td>0.61730</td>\n",
              "      <td>Employed</td>\n",
              "      <td>5.00</td>\n",
              "    </tr>\n",
              "    <tr>\n",
              "      <th>5125</th>\n",
              "      <td>104360</td>\n",
              "      <td>30.00000</td>\n",
              "      <td>Male</td>\n",
              "      <td>Married</td>\n",
              "      <td>D00-SS</td>\n",
              "      <td>Sales</td>\n",
              "      <td>Edward J Bayley</td>\n",
              "      <td>136.00</td>\n",
              "      <td>0.00</td>\n",
              "      <td>0.64556</td>\n",
              "      <td>4</td>\n",
              "      <td>0.0</td>\n",
              "      <td>high</td>\n",
              "      <td>0.66404</td>\n",
              "      <td>Employed</td>\n",
              "      <td>3.00</td>\n",
              "    </tr>\n",
              "    <tr>\n",
              "      <th>5126</th>\n",
              "      <td>104360</td>\n",
              "      <td>30.00000</td>\n",
              "      <td>Male</td>\n",
              "      <td>Married</td>\n",
              "      <td>D00-SS</td>\n",
              "      <td>Sales</td>\n",
              "      <td>Edward J Bayley</td>\n",
              "      <td>136.00</td>\n",
              "      <td>0.00</td>\n",
              "      <td>0.64556</td>\n",
              "      <td>4</td>\n",
              "      <td>0.0</td>\n",
              "      <td>high</td>\n",
              "      <td>0.66404</td>\n",
              "      <td>Employed</td>\n",
              "      <td>3.00</td>\n",
              "    </tr>\n",
              "    <tr>\n",
              "      <th>8722</th>\n",
              "      <td>105625</td>\n",
              "      <td>41.00000</td>\n",
              "      <td>Male</td>\n",
              "      <td>Married</td>\n",
              "      <td>D00-SP</td>\n",
              "      <td>Support</td>\n",
              "      <td>Amelia Westray</td>\n",
              "      <td>142.00</td>\n",
              "      <td>1.00</td>\n",
              "      <td>0.40057</td>\n",
              "      <td>4</td>\n",
              "      <td>0.0</td>\n",
              "      <td>low</td>\n",
              "      <td>0.39324</td>\n",
              "      <td>Employed</td>\n",
              "      <td>10.00</td>\n",
              "    </tr>\n",
              "    <tr>\n",
              "      <th>8721</th>\n",
              "      <td>105625</td>\n",
              "      <td>41.00000</td>\n",
              "      <td>Male</td>\n",
              "      <td>Married</td>\n",
              "      <td>D00-SP</td>\n",
              "      <td>Support</td>\n",
              "      <td>Amelia Westray</td>\n",
              "      <td>142.00</td>\n",
              "      <td>1.00</td>\n",
              "      <td>0.40057</td>\n",
              "      <td>4</td>\n",
              "      <td>0.0</td>\n",
              "      <td>low</td>\n",
              "      <td>0.39324</td>\n",
              "      <td>Employed</td>\n",
              "      <td>10.00</td>\n",
              "    </tr>\n",
              "    <tr>\n",
              "      <th>13117</th>\n",
              "      <td>106813</td>\n",
              "      <td>48.00000</td>\n",
              "      <td>Male</td>\n",
              "      <td>Married</td>\n",
              "      <td>D00-PD</td>\n",
              "      <td>Product</td>\n",
              "      <td>Darcy Staines</td>\n",
              "      <td>132.00</td>\n",
              "      <td>0.00</td>\n",
              "      <td>1.00000</td>\n",
              "      <td>4</td>\n",
              "      <td>0.0</td>\n",
              "      <td>medium</td>\n",
              "      <td>1.00000</td>\n",
              "      <td>Employed</td>\n",
              "      <td>2.00</td>\n",
              "    </tr>\n",
              "    <tr>\n",
              "      <th>13118</th>\n",
              "      <td>106813</td>\n",
              "      <td>48.00000</td>\n",
              "      <td>Male</td>\n",
              "      <td>Married</td>\n",
              "      <td>D00-PD</td>\n",
              "      <td>Product</td>\n",
              "      <td>Darcy Staines</td>\n",
              "      <td>132.00</td>\n",
              "      <td>0.00</td>\n",
              "      <td>1.00000</td>\n",
              "      <td>4</td>\n",
              "      <td>0.0</td>\n",
              "      <td>medium</td>\n",
              "      <td>1.00000</td>\n",
              "      <td>Employed</td>\n",
              "      <td>2.00</td>\n",
              "    </tr>\n",
              "    <tr>\n",
              "      <th>938</th>\n",
              "      <td>108128</td>\n",
              "      <td>54.00000</td>\n",
              "      <td>Male</td>\n",
              "      <td>Married</td>\n",
              "      <td>D00-IT</td>\n",
              "      <td>IT</td>\n",
              "      <td>Henry Adey</td>\n",
              "      <td>161.00</td>\n",
              "      <td>0.00</td>\n",
              "      <td>0.71589</td>\n",
              "      <td>6</td>\n",
              "      <td>0.0</td>\n",
              "      <td>medium</td>\n",
              "      <td>0.86777</td>\n",
              "      <td>Left</td>\n",
              "      <td>4.00</td>\n",
              "    </tr>\n",
              "    <tr>\n",
              "      <th>937</th>\n",
              "      <td>108128</td>\n",
              "      <td>54.00000</td>\n",
              "      <td>Male</td>\n",
              "      <td>Married</td>\n",
              "      <td>D00-IT</td>\n",
              "      <td>IT</td>\n",
              "      <td>Henry Adey</td>\n",
              "      <td>161.00</td>\n",
              "      <td>0.00</td>\n",
              "      <td>0.71589</td>\n",
              "      <td>6</td>\n",
              "      <td>0.0</td>\n",
              "      <td>medium</td>\n",
              "      <td>0.86777</td>\n",
              "      <td>Left</td>\n",
              "      <td>4.00</td>\n",
              "    </tr>\n",
              "    <tr>\n",
              "      <th>4520</th>\n",
              "      <td>108265</td>\n",
              "      <td>25.00000</td>\n",
              "      <td>Male</td>\n",
              "      <td>Unmarried</td>\n",
              "      <td>D00-SS</td>\n",
              "      <td>Sales</td>\n",
              "      <td>Edward J Bayley</td>\n",
              "      <td>238.00</td>\n",
              "      <td>0.00</td>\n",
              "      <td>0.95863</td>\n",
              "      <td>3</td>\n",
              "      <td>0.0</td>\n",
              "      <td>medium</td>\n",
              "      <td>0.62466</td>\n",
              "      <td>Employed</td>\n",
              "      <td>2.00</td>\n",
              "    </tr>\n",
              "    <tr>\n",
              "      <th>4519</th>\n",
              "      <td>108265</td>\n",
              "      <td>25.00000</td>\n",
              "      <td>Male</td>\n",
              "      <td>Unmarried</td>\n",
              "      <td>D00-SS</td>\n",
              "      <td>Sales</td>\n",
              "      <td>Edward J Bayley</td>\n",
              "      <td>238.00</td>\n",
              "      <td>0.00</td>\n",
              "      <td>0.95863</td>\n",
              "      <td>3</td>\n",
              "      <td>0.0</td>\n",
              "      <td>medium</td>\n",
              "      <td>0.62466</td>\n",
              "      <td>Employed</td>\n",
              "      <td>2.00</td>\n",
              "    </tr>\n",
              "    <tr>\n",
              "      <th>998</th>\n",
              "      <td>108535</td>\n",
              "      <td>50.00000</td>\n",
              "      <td>Male</td>\n",
              "      <td>Married</td>\n",
              "      <td>D00-IT</td>\n",
              "      <td>IT</td>\n",
              "      <td>Henry Adey</td>\n",
              "      <td>233.00</td>\n",
              "      <td>0.00</td>\n",
              "      <td>0.94086</td>\n",
              "      <td>4</td>\n",
              "      <td>0.0</td>\n",
              "      <td>low</td>\n",
              "      <td>0.77547</td>\n",
              "      <td>Left</td>\n",
              "      <td>5.00</td>\n",
              "    </tr>\n",
              "    <tr>\n",
              "      <th>997</th>\n",
              "      <td>108535</td>\n",
              "      <td>50.00000</td>\n",
              "      <td>Male</td>\n",
              "      <td>Married</td>\n",
              "      <td>D00-IT</td>\n",
              "      <td>IT</td>\n",
              "      <td>Henry Adey</td>\n",
              "      <td>233.00</td>\n",
              "      <td>0.00</td>\n",
              "      <td>0.94086</td>\n",
              "      <td>4</td>\n",
              "      <td>0.0</td>\n",
              "      <td>low</td>\n",
              "      <td>0.77547</td>\n",
              "      <td>Left</td>\n",
              "      <td>5.00</td>\n",
              "    </tr>\n",
              "    <tr>\n",
              "      <th>10619</th>\n",
              "      <td>109085</td>\n",
              "      <td>24.00000</td>\n",
              "      <td>Female</td>\n",
              "      <td>Unmarried</td>\n",
              "      <td>D00-FN</td>\n",
              "      <td>Finance</td>\n",
              "      <td>Aanchal J</td>\n",
              "      <td>141.00</td>\n",
              "      <td>0.00</td>\n",
              "      <td>0.80105</td>\n",
              "      <td>3</td>\n",
              "      <td>0.0</td>\n",
              "      <td>low</td>\n",
              "      <td>0.62427</td>\n",
              "      <td>Employed</td>\n",
              "      <td>3.00</td>\n",
              "    </tr>\n",
              "    <tr>\n",
              "      <th>10620</th>\n",
              "      <td>109085</td>\n",
              "      <td>24.00000</td>\n",
              "      <td>Female</td>\n",
              "      <td>Unmarried</td>\n",
              "      <td>D00-FN</td>\n",
              "      <td>Finance</td>\n",
              "      <td>Aanchal J</td>\n",
              "      <td>141.00</td>\n",
              "      <td>0.00</td>\n",
              "      <td>0.80105</td>\n",
              "      <td>3</td>\n",
              "      <td>0.0</td>\n",
              "      <td>low</td>\n",
              "      <td>0.62427</td>\n",
              "      <td>Employed</td>\n",
              "      <td>3.00</td>\n",
              "    </tr>\n",
              "    <tr>\n",
              "      <th>11323</th>\n",
              "      <td>109425</td>\n",
              "      <td>24.00000</td>\n",
              "      <td>Male</td>\n",
              "      <td>Unmarried</td>\n",
              "      <td>D00-MN</td>\n",
              "      <td>Management</td>\n",
              "      <td>Ellie Trafton</td>\n",
              "      <td>148.00</td>\n",
              "      <td>0.00</td>\n",
              "      <td>0.57711</td>\n",
              "      <td>3</td>\n",
              "      <td>0.0</td>\n",
              "      <td>high</td>\n",
              "      <td>0.48100</td>\n",
              "      <td>Employed</td>\n",
              "      <td>10.00</td>\n",
              "    </tr>\n",
              "    <tr>\n",
              "      <th>11324</th>\n",
              "      <td>109425</td>\n",
              "      <td>24.00000</td>\n",
              "      <td>Male</td>\n",
              "      <td>Unmarried</td>\n",
              "      <td>D00-MN</td>\n",
              "      <td>Management</td>\n",
              "      <td>Ellie Trafton</td>\n",
              "      <td>148.00</td>\n",
              "      <td>0.00</td>\n",
              "      <td>0.57711</td>\n",
              "      <td>3</td>\n",
              "      <td>0.0</td>\n",
              "      <td>high</td>\n",
              "      <td>0.48100</td>\n",
              "      <td>Employed</td>\n",
              "      <td>10.00</td>\n",
              "    </tr>\n",
              "    <tr>\n",
              "      <th>1069</th>\n",
              "      <td>109804</td>\n",
              "      <td>41.00000</td>\n",
              "      <td>Male</td>\n",
              "      <td>Married</td>\n",
              "      <td>D00-IT</td>\n",
              "      <td>IT</td>\n",
              "      <td>Henry Adey</td>\n",
              "      <td>261.00</td>\n",
              "      <td>1.00</td>\n",
              "      <td>0.46543</td>\n",
              "      <td>5</td>\n",
              "      <td>0.0</td>\n",
              "      <td>low</td>\n",
              "      <td>0.34150</td>\n",
              "      <td>Employed</td>\n",
              "      <td>6.00</td>\n",
              "    </tr>\n",
              "    <tr>\n",
              "      <th>1068</th>\n",
              "      <td>109804</td>\n",
              "      <td>41.00000</td>\n",
              "      <td>Male</td>\n",
              "      <td>Married</td>\n",
              "      <td>D00-IT</td>\n",
              "      <td>IT</td>\n",
              "      <td>Henry Adey</td>\n",
              "      <td>261.00</td>\n",
              "      <td>1.00</td>\n",
              "      <td>0.46543</td>\n",
              "      <td>5</td>\n",
              "      <td>0.0</td>\n",
              "      <td>low</td>\n",
              "      <td>0.34150</td>\n",
              "      <td>Employed</td>\n",
              "      <td>6.00</td>\n",
              "    </tr>\n",
              "    <tr>\n",
              "      <th>10773</th>\n",
              "      <td>110000</td>\n",
              "      <td>24.00000</td>\n",
              "      <td>Female</td>\n",
              "      <td>Unmarried</td>\n",
              "      <td>D00-FN</td>\n",
              "      <td>Finance</td>\n",
              "      <td>Aanchal J</td>\n",
              "      <td>224.00</td>\n",
              "      <td>0.00</td>\n",
              "      <td>0.87765</td>\n",
              "      <td>3</td>\n",
              "      <td>0.0</td>\n",
              "      <td>medium</td>\n",
              "      <td>0.55511</td>\n",
              "      <td>Employed</td>\n",
              "      <td>3.00</td>\n",
              "    </tr>\n",
              "    <tr>\n",
              "      <th>10774</th>\n",
              "      <td>110000</td>\n",
              "      <td>24.00000</td>\n",
              "      <td>Female</td>\n",
              "      <td>Unmarried</td>\n",
              "      <td>D00-FN</td>\n",
              "      <td>Finance</td>\n",
              "      <td>Aanchal J</td>\n",
              "      <td>224.00</td>\n",
              "      <td>0.00</td>\n",
              "      <td>0.87765</td>\n",
              "      <td>3</td>\n",
              "      <td>0.0</td>\n",
              "      <td>medium</td>\n",
              "      <td>0.55511</td>\n",
              "      <td>Employed</td>\n",
              "      <td>3.00</td>\n",
              "    </tr>\n",
              "    <tr>\n",
              "      <th>10464</th>\n",
              "      <td>110546</td>\n",
              "      <td>40.00000</td>\n",
              "      <td>Female</td>\n",
              "      <td>Married</td>\n",
              "      <td>D00-FN</td>\n",
              "      <td>Finance</td>\n",
              "      <td>Aanchal J</td>\n",
              "      <td>208.00</td>\n",
              "      <td>0.00</td>\n",
              "      <td>0.69976</td>\n",
              "      <td>4</td>\n",
              "      <td>0.0</td>\n",
              "      <td>low</td>\n",
              "      <td>0.47622</td>\n",
              "      <td>Employed</td>\n",
              "      <td>5.00</td>\n",
              "    </tr>\n",
              "    <tr>\n",
              "      <th>10463</th>\n",
              "      <td>110546</td>\n",
              "      <td>40.00000</td>\n",
              "      <td>Female</td>\n",
              "      <td>Married</td>\n",
              "      <td>D00-FN</td>\n",
              "      <td>Finance</td>\n",
              "      <td>Aanchal J</td>\n",
              "      <td>208.00</td>\n",
              "      <td>0.00</td>\n",
              "      <td>0.69976</td>\n",
              "      <td>4</td>\n",
              "      <td>0.0</td>\n",
              "      <td>low</td>\n",
              "      <td>0.47622</td>\n",
              "      <td>Employed</td>\n",
              "      <td>5.00</td>\n",
              "    </tr>\n",
              "    <tr>\n",
              "      <th>30</th>\n",
              "      <td>111323</td>\n",
              "      <td>48.00000</td>\n",
              "      <td>Male</td>\n",
              "      <td>Married</td>\n",
              "      <td>D00-IT</td>\n",
              "      <td>IT</td>\n",
              "      <td>Henry Adey</td>\n",
              "      <td>307.00</td>\n",
              "      <td>0.00</td>\n",
              "      <td>0.90571</td>\n",
              "      <td>7</td>\n",
              "      <td>0.0</td>\n",
              "      <td>low</td>\n",
              "      <td>0.12527</td>\n",
              "      <td>Left</td>\n",
              "      <td>4.00</td>\n",
              "    </tr>\n",
              "    <tr>\n",
              "      <th>29</th>\n",
              "      <td>111323</td>\n",
              "      <td>48.00000</td>\n",
              "      <td>Male</td>\n",
              "      <td>Married</td>\n",
              "      <td>D00-IT</td>\n",
              "      <td>IT</td>\n",
              "      <td>Henry Adey</td>\n",
              "      <td>307.00</td>\n",
              "      <td>0.00</td>\n",
              "      <td>0.90571</td>\n",
              "      <td>7</td>\n",
              "      <td>0.0</td>\n",
              "      <td>low</td>\n",
              "      <td>0.12527</td>\n",
              "      <td>Left</td>\n",
              "      <td>4.00</td>\n",
              "    </tr>\n",
              "    <tr>\n",
              "      <th>12047</th>\n",
              "      <td>111968</td>\n",
              "      <td>22.00000</td>\n",
              "      <td>Female</td>\n",
              "      <td>Unmarried</td>\n",
              "      <td>D00-MT</td>\n",
              "      <td>Marketing</td>\n",
              "      <td>Reuben Swann</td>\n",
              "      <td>152.00</td>\n",
              "      <td>0.00</td>\n",
              "      <td>0.51002</td>\n",
              "      <td>3</td>\n",
              "      <td>0.0</td>\n",
              "      <td>low</td>\n",
              "      <td>0.82653</td>\n",
              "      <td>Employed</td>\n",
              "      <td>2.00</td>\n",
              "    </tr>\n",
              "    <tr>\n",
              "      <th>12048</th>\n",
              "      <td>111968</td>\n",
              "      <td>22.00000</td>\n",
              "      <td>Female</td>\n",
              "      <td>Unmarried</td>\n",
              "      <td>D00-MT</td>\n",
              "      <td>Marketing</td>\n",
              "      <td>Reuben Swann</td>\n",
              "      <td>152.00</td>\n",
              "      <td>0.00</td>\n",
              "      <td>0.51002</td>\n",
              "      <td>3</td>\n",
              "      <td>0.0</td>\n",
              "      <td>low</td>\n",
              "      <td>0.82653</td>\n",
              "      <td>Employed</td>\n",
              "      <td>2.00</td>\n",
              "    </tr>\n",
              "    <tr>\n",
              "      <th>3978</th>\n",
              "      <td>112203</td>\n",
              "      <td>45.00000</td>\n",
              "      <td>Male</td>\n",
              "      <td>Married</td>\n",
              "      <td>D00-SS</td>\n",
              "      <td>Sales</td>\n",
              "      <td>Edward J Bayley</td>\n",
              "      <td>206.00</td>\n",
              "      <td>0.00</td>\n",
              "      <td>1.00000</td>\n",
              "      <td>6</td>\n",
              "      <td>0.0</td>\n",
              "      <td>medium</td>\n",
              "      <td>0.78355</td>\n",
              "      <td>Left</td>\n",
              "      <td>5.00</td>\n",
              "    </tr>\n",
              "    <tr>\n",
              "      <th>3977</th>\n",
              "      <td>112203</td>\n",
              "      <td>45.00000</td>\n",
              "      <td>Male</td>\n",
              "      <td>Married</td>\n",
              "      <td>D00-SS</td>\n",
              "      <td>Sales</td>\n",
              "      <td>Edward J Bayley</td>\n",
              "      <td>206.00</td>\n",
              "      <td>0.00</td>\n",
              "      <td>1.00000</td>\n",
              "      <td>6</td>\n",
              "      <td>0.0</td>\n",
              "      <td>medium</td>\n",
              "      <td>0.78355</td>\n",
              "      <td>Left</td>\n",
              "      <td>5.00</td>\n",
              "    </tr>\n",
              "    <tr>\n",
              "      <th>334</th>\n",
              "      <td>112312</td>\n",
              "      <td>24.00000</td>\n",
              "      <td>Male</td>\n",
              "      <td>Unmarried</td>\n",
              "      <td>D00-IT</td>\n",
              "      <td>IT</td>\n",
              "      <td>Henry Adey</td>\n",
              "      <td>268.00</td>\n",
              "      <td>1.00</td>\n",
              "      <td>0.89710</td>\n",
              "      <td>2</td>\n",
              "      <td>0.0</td>\n",
              "      <td>low</td>\n",
              "      <td>0.45937</td>\n",
              "      <td>Employed</td>\n",
              "      <td>4.00</td>\n",
              "    </tr>\n",
              "    <tr>\n",
              "      <th>333</th>\n",
              "      <td>112312</td>\n",
              "      <td>24.00000</td>\n",
              "      <td>Male</td>\n",
              "      <td>Unmarried</td>\n",
              "      <td>D00-IT</td>\n",
              "      <td>IT</td>\n",
              "      <td>Henry Adey</td>\n",
              "      <td>268.00</td>\n",
              "      <td>1.00</td>\n",
              "      <td>0.89710</td>\n",
              "      <td>2</td>\n",
              "      <td>0.0</td>\n",
              "      <td>low</td>\n",
              "      <td>0.45937</td>\n",
              "      <td>Employed</td>\n",
              "      <td>4.00</td>\n",
              "    </tr>\n",
              "    <tr>\n",
              "      <th>11606</th>\n",
              "      <td>112373</td>\n",
              "      <td>29.00000</td>\n",
              "      <td>Male</td>\n",
              "      <td>Unmarried</td>\n",
              "      <td>D00-MN</td>\n",
              "      <td>Management</td>\n",
              "      <td>Ellie Trafton</td>\n",
              "      <td>265.00</td>\n",
              "      <td>1.00</td>\n",
              "      <td>0.82567</td>\n",
              "      <td>3</td>\n",
              "      <td>0.0</td>\n",
              "      <td>low</td>\n",
              "      <td>0.54598</td>\n",
              "      <td>Employed</td>\n",
              "      <td>10.00</td>\n",
              "    </tr>\n",
              "    <tr>\n",
              "      <th>11605</th>\n",
              "      <td>112373</td>\n",
              "      <td>29.00000</td>\n",
              "      <td>Male</td>\n",
              "      <td>Unmarried</td>\n",
              "      <td>D00-MN</td>\n",
              "      <td>Management</td>\n",
              "      <td>Ellie Trafton</td>\n",
              "      <td>265.00</td>\n",
              "      <td>1.00</td>\n",
              "      <td>0.82567</td>\n",
              "      <td>3</td>\n",
              "      <td>0.0</td>\n",
              "      <td>low</td>\n",
              "      <td>0.54598</td>\n",
              "      <td>Employed</td>\n",
              "      <td>10.00</td>\n",
              "    </tr>\n",
              "    <tr>\n",
              "      <th>12329</th>\n",
              "      <td>115325</td>\n",
              "      <td>50.00000</td>\n",
              "      <td>Male</td>\n",
              "      <td>Married</td>\n",
              "      <td>D00-MT</td>\n",
              "      <td>Marketing</td>\n",
              "      <td>Reuben Swann</td>\n",
              "      <td>268.00</td>\n",
              "      <td>0.00</td>\n",
              "      <td>0.90089</td>\n",
              "      <td>5</td>\n",
              "      <td>0.0</td>\n",
              "      <td>medium</td>\n",
              "      <td>0.90661</td>\n",
              "      <td>Left</td>\n",
              "      <td>5.00</td>\n",
              "    </tr>\n",
              "    <tr>\n",
              "      <th>12330</th>\n",
              "      <td>115325</td>\n",
              "      <td>50.00000</td>\n",
              "      <td>Male</td>\n",
              "      <td>Married</td>\n",
              "      <td>D00-MT</td>\n",
              "      <td>Marketing</td>\n",
              "      <td>Reuben Swann</td>\n",
              "      <td>268.00</td>\n",
              "      <td>0.00</td>\n",
              "      <td>0.90089</td>\n",
              "      <td>5</td>\n",
              "      <td>0.0</td>\n",
              "      <td>medium</td>\n",
              "      <td>0.90661</td>\n",
              "      <td>Left</td>\n",
              "      <td>5.00</td>\n",
              "    </tr>\n",
              "    <tr>\n",
              "      <th>9851</th>\n",
              "      <td>115446</td>\n",
              "      <td>24.00000</td>\n",
              "      <td>Female</td>\n",
              "      <td>Unmarried</td>\n",
              "      <td>D00-SP</td>\n",
              "      <td>Support</td>\n",
              "      <td>Amelia Westray</td>\n",
              "      <td>163.00</td>\n",
              "      <td>0.00</td>\n",
              "      <td>0.48618</td>\n",
              "      <td>3</td>\n",
              "      <td>0.0</td>\n",
              "      <td>medium</td>\n",
              "      <td>0.83212</td>\n",
              "      <td>Employed</td>\n",
              "      <td>3.00</td>\n",
              "    </tr>\n",
              "    <tr>\n",
              "      <th>9850</th>\n",
              "      <td>115446</td>\n",
              "      <td>24.00000</td>\n",
              "      <td>Female</td>\n",
              "      <td>Unmarried</td>\n",
              "      <td>D00-SP</td>\n",
              "      <td>Support</td>\n",
              "      <td>Amelia Westray</td>\n",
              "      <td>163.00</td>\n",
              "      <td>0.00</td>\n",
              "      <td>0.48618</td>\n",
              "      <td>3</td>\n",
              "      <td>0.0</td>\n",
              "      <td>medium</td>\n",
              "      <td>0.83212</td>\n",
              "      <td>Employed</td>\n",
              "      <td>3.00</td>\n",
              "    </tr>\n",
              "    <tr>\n",
              "      <th>2247</th>\n",
              "      <td>116153</td>\n",
              "      <td>22.00000</td>\n",
              "      <td>Female</td>\n",
              "      <td>Unmarried</td>\n",
              "      <td>D00-SS</td>\n",
              "      <td>Sales</td>\n",
              "      <td>Edward J Bayley</td>\n",
              "      <td>192.00</td>\n",
              "      <td>0.00</td>\n",
              "      <td>0.95190</td>\n",
              "      <td>3</td>\n",
              "      <td>0.0</td>\n",
              "      <td>medium</td>\n",
              "      <td>0.53983</td>\n",
              "      <td>Employed</td>\n",
              "      <td>3.00</td>\n",
              "    </tr>\n",
              "    <tr>\n",
              "      <th>2246</th>\n",
              "      <td>116153</td>\n",
              "      <td>22.00000</td>\n",
              "      <td>Female</td>\n",
              "      <td>Unmarried</td>\n",
              "      <td>D00-SS</td>\n",
              "      <td>Sales</td>\n",
              "      <td>Edward J Bayley</td>\n",
              "      <td>192.00</td>\n",
              "      <td>0.00</td>\n",
              "      <td>0.95190</td>\n",
              "      <td>3</td>\n",
              "      <td>0.0</td>\n",
              "      <td>medium</td>\n",
              "      <td>0.53983</td>\n",
              "      <td>Employed</td>\n",
              "      <td>3.00</td>\n",
              "    </tr>\n",
              "    <tr>\n",
              "      <th>4715</th>\n",
              "      <td>116209</td>\n",
              "      <td>25.00000</td>\n",
              "      <td>Male</td>\n",
              "      <td>Unmarried</td>\n",
              "      <td>D00-SS</td>\n",
              "      <td>Sales</td>\n",
              "      <td>Edward J Bayley</td>\n",
              "      <td>181.00</td>\n",
              "      <td>1.00</td>\n",
              "      <td>0.70380</td>\n",
              "      <td>3</td>\n",
              "      <td>0.0</td>\n",
              "      <td>medium</td>\n",
              "      <td>0.87001</td>\n",
              "      <td>Employed</td>\n",
              "      <td>3.00</td>\n",
              "    </tr>\n",
              "    <tr>\n",
              "      <th>4714</th>\n",
              "      <td>116209</td>\n",
              "      <td>25.00000</td>\n",
              "      <td>Male</td>\n",
              "      <td>Unmarried</td>\n",
              "      <td>D00-SS</td>\n",
              "      <td>Sales</td>\n",
              "      <td>Edward J Bayley</td>\n",
              "      <td>181.00</td>\n",
              "      <td>1.00</td>\n",
              "      <td>0.70380</td>\n",
              "      <td>3</td>\n",
              "      <td>0.0</td>\n",
              "      <td>medium</td>\n",
              "      <td>0.87001</td>\n",
              "      <td>Employed</td>\n",
              "      <td>3.00</td>\n",
              "    </tr>\n",
              "    <tr>\n",
              "      <th>1801</th>\n",
              "      <td>116247</td>\n",
              "      <td>54.00000</td>\n",
              "      <td>Female</td>\n",
              "      <td>Married</td>\n",
              "      <td>D00-SS</td>\n",
              "      <td>Sales</td>\n",
              "      <td>Edward J Bayley</td>\n",
              "      <td>282.00</td>\n",
              "      <td>0.00</td>\n",
              "      <td>0.87543</td>\n",
              "      <td>6</td>\n",
              "      <td>0.0</td>\n",
              "      <td>low</td>\n",
              "      <td>0.06591</td>\n",
              "      <td>Left</td>\n",
              "      <td>4.00</td>\n",
              "    </tr>\n",
              "    <tr>\n",
              "      <th>1802</th>\n",
              "      <td>116247</td>\n",
              "      <td>54.00000</td>\n",
              "      <td>Female</td>\n",
              "      <td>Married</td>\n",
              "      <td>D00-SS</td>\n",
              "      <td>Sales</td>\n",
              "      <td>Edward J Bayley</td>\n",
              "      <td>282.00</td>\n",
              "      <td>0.00</td>\n",
              "      <td>0.87543</td>\n",
              "      <td>6</td>\n",
              "      <td>0.0</td>\n",
              "      <td>low</td>\n",
              "      <td>0.06591</td>\n",
              "      <td>Left</td>\n",
              "      <td>4.00</td>\n",
              "    </tr>\n",
              "    <tr>\n",
              "      <th>8355</th>\n",
              "      <td>116533</td>\n",
              "      <td>23.00000</td>\n",
              "      <td>Male</td>\n",
              "      <td>Unmarried</td>\n",
              "      <td>D00-SP</td>\n",
              "      <td>Support</td>\n",
              "      <td>Amelia Westray</td>\n",
              "      <td>135.00</td>\n",
              "      <td>0.00</td>\n",
              "      <td>0.50476</td>\n",
              "      <td>2</td>\n",
              "      <td>0.0</td>\n",
              "      <td>low</td>\n",
              "      <td>0.50069</td>\n",
              "      <td>Left</td>\n",
              "      <td>3.00</td>\n",
              "    </tr>\n",
              "    <tr>\n",
              "      <th>8354</th>\n",
              "      <td>116533</td>\n",
              "      <td>23.00000</td>\n",
              "      <td>Male</td>\n",
              "      <td>Unmarried</td>\n",
              "      <td>D00-SP</td>\n",
              "      <td>Support</td>\n",
              "      <td>Amelia Westray</td>\n",
              "      <td>135.00</td>\n",
              "      <td>0.00</td>\n",
              "      <td>0.50476</td>\n",
              "      <td>2</td>\n",
              "      <td>0.0</td>\n",
              "      <td>low</td>\n",
              "      <td>0.50069</td>\n",
              "      <td>Left</td>\n",
              "      <td>3.00</td>\n",
              "    </tr>\n",
              "    <tr>\n",
              "      <th>9969</th>\n",
              "      <td>116850</td>\n",
              "      <td>22.00000</td>\n",
              "      <td>Female</td>\n",
              "      <td>Unmarried</td>\n",
              "      <td>D00-SP</td>\n",
              "      <td>Support</td>\n",
              "      <td>Amelia Westray</td>\n",
              "      <td>168.00</td>\n",
              "      <td>0.00</td>\n",
              "      <td>0.74779</td>\n",
              "      <td>2</td>\n",
              "      <td>0.0</td>\n",
              "      <td>low</td>\n",
              "      <td>0.86982</td>\n",
              "      <td>Employed</td>\n",
              "      <td>3.00</td>\n",
              "    </tr>\n",
              "    <tr>\n",
              "      <th>9970</th>\n",
              "      <td>116850</td>\n",
              "      <td>22.00000</td>\n",
              "      <td>Female</td>\n",
              "      <td>Unmarried</td>\n",
              "      <td>D00-SP</td>\n",
              "      <td>Support</td>\n",
              "      <td>Amelia Westray</td>\n",
              "      <td>168.00</td>\n",
              "      <td>0.00</td>\n",
              "      <td>0.74779</td>\n",
              "      <td>2</td>\n",
              "      <td>0.0</td>\n",
              "      <td>low</td>\n",
              "      <td>0.86982</td>\n",
              "      <td>Employed</td>\n",
              "      <td>3.00</td>\n",
              "    </tr>\n",
              "    <tr>\n",
              "      <th>12807</th>\n",
              "      <td>117454</td>\n",
              "      <td>51.00000</td>\n",
              "      <td>Female</td>\n",
              "      <td>Married</td>\n",
              "      <td>D00-PD</td>\n",
              "      <td>Product</td>\n",
              "      <td>Darcy Staines</td>\n",
              "      <td>212.00</td>\n",
              "      <td>0.00</td>\n",
              "      <td>0.77302</td>\n",
              "      <td>4</td>\n",
              "      <td>0.0</td>\n",
              "      <td>medium</td>\n",
              "      <td>0.82932</td>\n",
              "      <td>Employed</td>\n",
              "      <td>2.00</td>\n",
              "    </tr>\n",
              "    <tr>\n",
              "      <th>12808</th>\n",
              "      <td>117454</td>\n",
              "      <td>51.00000</td>\n",
              "      <td>Female</td>\n",
              "      <td>Married</td>\n",
              "      <td>D00-PD</td>\n",
              "      <td>Product</td>\n",
              "      <td>Darcy Staines</td>\n",
              "      <td>212.00</td>\n",
              "      <td>0.00</td>\n",
              "      <td>0.77302</td>\n",
              "      <td>4</td>\n",
              "      <td>0.0</td>\n",
              "      <td>medium</td>\n",
              "      <td>0.82932</td>\n",
              "      <td>Employed</td>\n",
              "      <td>2.00</td>\n",
              "    </tr>\n",
              "    <tr>\n",
              "      <th>11959</th>\n",
              "      <td>119754</td>\n",
              "      <td>35.00000</td>\n",
              "      <td>Male</td>\n",
              "      <td>Married</td>\n",
              "      <td>D00-MT</td>\n",
              "      <td>Marketing</td>\n",
              "      <td>Reuben Swann</td>\n",
              "      <td>184.00</td>\n",
              "      <td>0.00</td>\n",
              "      <td>0.63987</td>\n",
              "      <td>5</td>\n",
              "      <td>0.0</td>\n",
              "      <td>medium</td>\n",
              "      <td>0.50439</td>\n",
              "      <td>Employed</td>\n",
              "      <td>4.00</td>\n",
              "    </tr>\n",
              "    <tr>\n",
              "      <th>11958</th>\n",
              "      <td>119754</td>\n",
              "      <td>35.00000</td>\n",
              "      <td>Male</td>\n",
              "      <td>Married</td>\n",
              "      <td>D00-MT</td>\n",
              "      <td>Marketing</td>\n",
              "      <td>Reuben Swann</td>\n",
              "      <td>184.00</td>\n",
              "      <td>0.00</td>\n",
              "      <td>0.63987</td>\n",
              "      <td>5</td>\n",
              "      <td>0.0</td>\n",
              "      <td>medium</td>\n",
              "      <td>0.50439</td>\n",
              "      <td>Employed</td>\n",
              "      <td>4.00</td>\n",
              "    </tr>\n",
              "    <tr>\n",
              "      <th>11771</th>\n",
              "      <td>119780</td>\n",
              "      <td>25.00000</td>\n",
              "      <td>Male</td>\n",
              "      <td>Unmarried</td>\n",
              "      <td>D00-MN</td>\n",
              "      <td>Management</td>\n",
              "      <td>Ellie Trafton</td>\n",
              "      <td>175.00</td>\n",
              "      <td>0.00</td>\n",
              "      <td>0.85454</td>\n",
              "      <td>4</td>\n",
              "      <td>0.0</td>\n",
              "      <td>medium</td>\n",
              "      <td>0.93446</td>\n",
              "      <td>Employed</td>\n",
              "      <td>3.00</td>\n",
              "    </tr>\n",
              "    <tr>\n",
              "      <th>11770</th>\n",
              "      <td>119780</td>\n",
              "      <td>25.00000</td>\n",
              "      <td>Male</td>\n",
              "      <td>Unmarried</td>\n",
              "      <td>D00-MN</td>\n",
              "      <td>Management</td>\n",
              "      <td>Ellie Trafton</td>\n",
              "      <td>175.00</td>\n",
              "      <td>0.00</td>\n",
              "      <td>0.85454</td>\n",
              "      <td>4</td>\n",
              "      <td>0.0</td>\n",
              "      <td>medium</td>\n",
              "      <td>0.93446</td>\n",
              "      <td>Employed</td>\n",
              "      <td>3.00</td>\n",
              "    </tr>\n",
              "    <tr>\n",
              "      <th>1819</th>\n",
              "      <td>122385</td>\n",
              "      <td>24.00000</td>\n",
              "      <td>Female</td>\n",
              "      <td>Unmarried</td>\n",
              "      <td>D00-SS</td>\n",
              "      <td>Sales</td>\n",
              "      <td>Edward J Bayley</td>\n",
              "      <td>161.00</td>\n",
              "      <td>0.00</td>\n",
              "      <td>0.48351</td>\n",
              "      <td>2</td>\n",
              "      <td>0.0</td>\n",
              "      <td>low</td>\n",
              "      <td>0.41676</td>\n",
              "      <td>Left</td>\n",
              "      <td>3.00</td>\n",
              "    </tr>\n",
              "    <tr>\n",
              "      <th>1818</th>\n",
              "      <td>122385</td>\n",
              "      <td>24.00000</td>\n",
              "      <td>Female</td>\n",
              "      <td>Unmarried</td>\n",
              "      <td>D00-SS</td>\n",
              "      <td>Sales</td>\n",
              "      <td>Edward J Bayley</td>\n",
              "      <td>161.00</td>\n",
              "      <td>0.00</td>\n",
              "      <td>0.48351</td>\n",
              "      <td>2</td>\n",
              "      <td>0.0</td>\n",
              "      <td>low</td>\n",
              "      <td>0.41676</td>\n",
              "      <td>Left</td>\n",
              "      <td>3.00</td>\n",
              "    </tr>\n",
              "  </tbody>\n",
              "</table>\n",
              "</div>"
            ],
            "text/plain": [
              "       employee_id      age  gender  ... satisfaction    status tenure\n",
              "1377             0 29.00000    Male  ...      0.68214  Employed   3.00\n",
              "1373             0 29.00000    Male  ...      0.06917      Left   4.00\n",
              "1374             0 29.00000    Male  ...      0.11097      Left   4.00\n",
              "1375             0 29.00000    Male  ...      0.63105  Employed   4.00\n",
              "1376             0 29.00000    Male  ...      0.43736      Left   3.00\n",
              "2065        101809 45.00000  Female  ...      0.22508  Employed   5.00\n",
              "2064        101809 45.00000  Female  ...      0.22508  Employed   5.00\n",
              "3318        102701 22.00000  Female  ...      0.61730  Employed   5.00\n",
              "3317        102701 22.00000  Female  ...      0.61730  Employed   5.00\n",
              "5125        104360 30.00000    Male  ...      0.66404  Employed   3.00\n",
              "5126        104360 30.00000    Male  ...      0.66404  Employed   3.00\n",
              "8722        105625 41.00000    Male  ...      0.39324  Employed  10.00\n",
              "8721        105625 41.00000    Male  ...      0.39324  Employed  10.00\n",
              "13117       106813 48.00000    Male  ...      1.00000  Employed   2.00\n",
              "13118       106813 48.00000    Male  ...      1.00000  Employed   2.00\n",
              "938         108128 54.00000    Male  ...      0.86777      Left   4.00\n",
              "937         108128 54.00000    Male  ...      0.86777      Left   4.00\n",
              "4520        108265 25.00000    Male  ...      0.62466  Employed   2.00\n",
              "4519        108265 25.00000    Male  ...      0.62466  Employed   2.00\n",
              "998         108535 50.00000    Male  ...      0.77547      Left   5.00\n",
              "997         108535 50.00000    Male  ...      0.77547      Left   5.00\n",
              "10619       109085 24.00000  Female  ...      0.62427  Employed   3.00\n",
              "10620       109085 24.00000  Female  ...      0.62427  Employed   3.00\n",
              "11323       109425 24.00000    Male  ...      0.48100  Employed  10.00\n",
              "11324       109425 24.00000    Male  ...      0.48100  Employed  10.00\n",
              "1069        109804 41.00000    Male  ...      0.34150  Employed   6.00\n",
              "1068        109804 41.00000    Male  ...      0.34150  Employed   6.00\n",
              "10773       110000 24.00000  Female  ...      0.55511  Employed   3.00\n",
              "10774       110000 24.00000  Female  ...      0.55511  Employed   3.00\n",
              "10464       110546 40.00000  Female  ...      0.47622  Employed   5.00\n",
              "10463       110546 40.00000  Female  ...      0.47622  Employed   5.00\n",
              "30          111323 48.00000    Male  ...      0.12527      Left   4.00\n",
              "29          111323 48.00000    Male  ...      0.12527      Left   4.00\n",
              "12047       111968 22.00000  Female  ...      0.82653  Employed   2.00\n",
              "12048       111968 22.00000  Female  ...      0.82653  Employed   2.00\n",
              "3978        112203 45.00000    Male  ...      0.78355      Left   5.00\n",
              "3977        112203 45.00000    Male  ...      0.78355      Left   5.00\n",
              "334         112312 24.00000    Male  ...      0.45937  Employed   4.00\n",
              "333         112312 24.00000    Male  ...      0.45937  Employed   4.00\n",
              "11606       112373 29.00000    Male  ...      0.54598  Employed  10.00\n",
              "11605       112373 29.00000    Male  ...      0.54598  Employed  10.00\n",
              "12329       115325 50.00000    Male  ...      0.90661      Left   5.00\n",
              "12330       115325 50.00000    Male  ...      0.90661      Left   5.00\n",
              "9851        115446 24.00000  Female  ...      0.83212  Employed   3.00\n",
              "9850        115446 24.00000  Female  ...      0.83212  Employed   3.00\n",
              "2247        116153 22.00000  Female  ...      0.53983  Employed   3.00\n",
              "2246        116153 22.00000  Female  ...      0.53983  Employed   3.00\n",
              "4715        116209 25.00000    Male  ...      0.87001  Employed   3.00\n",
              "4714        116209 25.00000    Male  ...      0.87001  Employed   3.00\n",
              "1801        116247 54.00000  Female  ...      0.06591      Left   4.00\n",
              "1802        116247 54.00000  Female  ...      0.06591      Left   4.00\n",
              "8355        116533 23.00000    Male  ...      0.50069      Left   3.00\n",
              "8354        116533 23.00000    Male  ...      0.50069      Left   3.00\n",
              "9969        116850 22.00000  Female  ...      0.86982  Employed   3.00\n",
              "9970        116850 22.00000  Female  ...      0.86982  Employed   3.00\n",
              "12807       117454 51.00000  Female  ...      0.82932  Employed   2.00\n",
              "12808       117454 51.00000  Female  ...      0.82932  Employed   2.00\n",
              "11959       119754 35.00000    Male  ...      0.50439  Employed   4.00\n",
              "11958       119754 35.00000    Male  ...      0.50439  Employed   4.00\n",
              "11771       119780 25.00000    Male  ...      0.93446  Employed   3.00\n",
              "11770       119780 25.00000    Male  ...      0.93446  Employed   3.00\n",
              "1819        122385 24.00000  Female  ...      0.41676      Left   3.00\n",
              "1818        122385 24.00000  Female  ...      0.41676      Left   3.00\n",
              "\n",
              "[63 rows x 16 columns]"
            ]
          },
          "metadata": {},
          "execution_count": 52
        }
      ]
    },
    {
      "cell_type": "code",
      "metadata": {
        "id": "jmWzYjACo3vL"
      },
      "source": [
        "employee_id_null = df_final[df_final['employee_id']==0]"
      ],
      "id": "jmWzYjACo3vL",
      "execution_count": 53,
      "outputs": []
    },
    {
      "cell_type": "code",
      "metadata": {
        "colab": {
          "base_uri": "https://localhost:8080/"
        },
        "id": "Gmn5j1dxo5av",
        "outputId": "0c7dddf2-7d39-448a-9d88-cc4cf88f53f4"
      },
      "source": [
        "employee_id_null.index"
      ],
      "id": "Gmn5j1dxo5av",
      "execution_count": 54,
      "outputs": [
        {
          "output_type": "execute_result",
          "data": {
            "text/plain": [
              "Int64Index([1373, 1374, 1375, 1376, 1377], dtype='int64')"
            ]
          },
          "metadata": {},
          "execution_count": 54
        }
      ]
    },
    {
      "cell_type": "code",
      "metadata": {
        "id": "MSyiiuYgo7qp"
      },
      "source": [
        "df_final.drop(employee_id_null.index, axis=0, inplace=True)"
      ],
      "id": "MSyiiuYgo7qp",
      "execution_count": 55,
      "outputs": []
    },
    {
      "cell_type": "code",
      "metadata": {
        "colab": {
          "base_uri": "https://localhost:8080/"
        },
        "id": "qmeCa5J_o9aH",
        "outputId": "f2281618-cc64-4a08-b893-2c0eee855ce7"
      },
      "source": [
        "df_final.info()"
      ],
      "id": "qmeCa5J_o9aH",
      "execution_count": 56,
      "outputs": [
        {
          "output_type": "stream",
          "name": "stdout",
          "text": [
            "<class 'pandas.core.frame.DataFrame'>\n",
            "Int64Index: 14145 entries, 0 to 14149\n",
            "Data columns (total 16 columns):\n",
            " #   Column             Dtype  \n",
            "---  ------             -----  \n",
            " 0   employee_id        int64  \n",
            " 1   age                float64\n",
            " 2   gender             object \n",
            " 3   marital_status     object \n",
            " 4   dept_id            object \n",
            " 5   dept_name          object \n",
            " 6   dept_head          object \n",
            " 7   avg_monthly_hrs    object \n",
            " 8   filed_complaint    object \n",
            " 9   last_evaluation    float64\n",
            " 10  n_projects         int64  \n",
            " 11  recently_promoted  object \n",
            " 12  salary             object \n",
            " 13  satisfaction       float64\n",
            " 14  status             object \n",
            " 15  tenure             object \n",
            "dtypes: float64(3), int64(2), object(11)\n",
            "memory usage: 1.8+ MB\n"
          ]
        }
      ]
    },
    {
      "cell_type": "code",
      "metadata": {
        "colab": {
          "base_uri": "https://localhost:8080/",
          "height": 1000
        },
        "id": "sMEVbIrJo_HB",
        "outputId": "2ee11d8b-4295-4a63-fe02-d406e7247aa8"
      },
      "source": [
        "df_duplicate = df_final[df_final['employee_id'].duplicated(keep=False)].sort_values('employee_id')\n",
        "print(df_duplicate.shape)\n",
        "df_duplicate"
      ],
      "id": "sMEVbIrJo_HB",
      "execution_count": 57,
      "outputs": [
        {
          "output_type": "stream",
          "name": "stdout",
          "text": [
            "(58, 16)\n"
          ]
        },
        {
          "output_type": "execute_result",
          "data": {
            "text/html": [
              "<div>\n",
              "<style scoped>\n",
              "    .dataframe tbody tr th:only-of-type {\n",
              "        vertical-align: middle;\n",
              "    }\n",
              "\n",
              "    .dataframe tbody tr th {\n",
              "        vertical-align: top;\n",
              "    }\n",
              "\n",
              "    .dataframe thead th {\n",
              "        text-align: right;\n",
              "    }\n",
              "</style>\n",
              "<table border=\"1\" class=\"dataframe\">\n",
              "  <thead>\n",
              "    <tr style=\"text-align: right;\">\n",
              "      <th></th>\n",
              "      <th>employee_id</th>\n",
              "      <th>age</th>\n",
              "      <th>gender</th>\n",
              "      <th>marital_status</th>\n",
              "      <th>dept_id</th>\n",
              "      <th>dept_name</th>\n",
              "      <th>dept_head</th>\n",
              "      <th>avg_monthly_hrs</th>\n",
              "      <th>filed_complaint</th>\n",
              "      <th>last_evaluation</th>\n",
              "      <th>n_projects</th>\n",
              "      <th>recently_promoted</th>\n",
              "      <th>salary</th>\n",
              "      <th>satisfaction</th>\n",
              "      <th>status</th>\n",
              "      <th>tenure</th>\n",
              "    </tr>\n",
              "  </thead>\n",
              "  <tbody>\n",
              "    <tr>\n",
              "      <th>2065</th>\n",
              "      <td>101809</td>\n",
              "      <td>45.00000</td>\n",
              "      <td>Female</td>\n",
              "      <td>Married</td>\n",
              "      <td>D00-SS</td>\n",
              "      <td>Sales</td>\n",
              "      <td>Edward J Bayley</td>\n",
              "      <td>245.00</td>\n",
              "      <td>0.00</td>\n",
              "      <td>0.85079</td>\n",
              "      <td>6</td>\n",
              "      <td>0.0</td>\n",
              "      <td>medium</td>\n",
              "      <td>0.22508</td>\n",
              "      <td>Employed</td>\n",
              "      <td>5.00</td>\n",
              "    </tr>\n",
              "    <tr>\n",
              "      <th>2064</th>\n",
              "      <td>101809</td>\n",
              "      <td>45.00000</td>\n",
              "      <td>Female</td>\n",
              "      <td>Married</td>\n",
              "      <td>D00-SS</td>\n",
              "      <td>Sales</td>\n",
              "      <td>Edward J Bayley</td>\n",
              "      <td>245.00</td>\n",
              "      <td>0.00</td>\n",
              "      <td>0.85079</td>\n",
              "      <td>6</td>\n",
              "      <td>0.0</td>\n",
              "      <td>medium</td>\n",
              "      <td>0.22508</td>\n",
              "      <td>Employed</td>\n",
              "      <td>5.00</td>\n",
              "    </tr>\n",
              "    <tr>\n",
              "      <th>3318</th>\n",
              "      <td>102701</td>\n",
              "      <td>22.00000</td>\n",
              "      <td>Female</td>\n",
              "      <td>Unmarried</td>\n",
              "      <td>D00-SS</td>\n",
              "      <td>Sales</td>\n",
              "      <td>Edward J Bayley</td>\n",
              "      <td>133.00</td>\n",
              "      <td>0.00</td>\n",
              "      <td>0.98674</td>\n",
              "      <td>3</td>\n",
              "      <td>0.0</td>\n",
              "      <td>medium</td>\n",
              "      <td>0.61730</td>\n",
              "      <td>Employed</td>\n",
              "      <td>5.00</td>\n",
              "    </tr>\n",
              "    <tr>\n",
              "      <th>3317</th>\n",
              "      <td>102701</td>\n",
              "      <td>22.00000</td>\n",
              "      <td>Female</td>\n",
              "      <td>Unmarried</td>\n",
              "      <td>D00-SS</td>\n",
              "      <td>Sales</td>\n",
              "      <td>Edward J Bayley</td>\n",
              "      <td>133.00</td>\n",
              "      <td>0.00</td>\n",
              "      <td>0.98674</td>\n",
              "      <td>3</td>\n",
              "      <td>0.0</td>\n",
              "      <td>medium</td>\n",
              "      <td>0.61730</td>\n",
              "      <td>Employed</td>\n",
              "      <td>5.00</td>\n",
              "    </tr>\n",
              "    <tr>\n",
              "      <th>5125</th>\n",
              "      <td>104360</td>\n",
              "      <td>30.00000</td>\n",
              "      <td>Male</td>\n",
              "      <td>Married</td>\n",
              "      <td>D00-SS</td>\n",
              "      <td>Sales</td>\n",
              "      <td>Edward J Bayley</td>\n",
              "      <td>136.00</td>\n",
              "      <td>0.00</td>\n",
              "      <td>0.64556</td>\n",
              "      <td>4</td>\n",
              "      <td>0.0</td>\n",
              "      <td>high</td>\n",
              "      <td>0.66404</td>\n",
              "      <td>Employed</td>\n",
              "      <td>3.00</td>\n",
              "    </tr>\n",
              "    <tr>\n",
              "      <th>5126</th>\n",
              "      <td>104360</td>\n",
              "      <td>30.00000</td>\n",
              "      <td>Male</td>\n",
              "      <td>Married</td>\n",
              "      <td>D00-SS</td>\n",
              "      <td>Sales</td>\n",
              "      <td>Edward J Bayley</td>\n",
              "      <td>136.00</td>\n",
              "      <td>0.00</td>\n",
              "      <td>0.64556</td>\n",
              "      <td>4</td>\n",
              "      <td>0.0</td>\n",
              "      <td>high</td>\n",
              "      <td>0.66404</td>\n",
              "      <td>Employed</td>\n",
              "      <td>3.00</td>\n",
              "    </tr>\n",
              "    <tr>\n",
              "      <th>8721</th>\n",
              "      <td>105625</td>\n",
              "      <td>41.00000</td>\n",
              "      <td>Male</td>\n",
              "      <td>Married</td>\n",
              "      <td>D00-SP</td>\n",
              "      <td>Support</td>\n",
              "      <td>Amelia Westray</td>\n",
              "      <td>142.00</td>\n",
              "      <td>1.00</td>\n",
              "      <td>0.40057</td>\n",
              "      <td>4</td>\n",
              "      <td>0.0</td>\n",
              "      <td>low</td>\n",
              "      <td>0.39324</td>\n",
              "      <td>Employed</td>\n",
              "      <td>10.00</td>\n",
              "    </tr>\n",
              "    <tr>\n",
              "      <th>8722</th>\n",
              "      <td>105625</td>\n",
              "      <td>41.00000</td>\n",
              "      <td>Male</td>\n",
              "      <td>Married</td>\n",
              "      <td>D00-SP</td>\n",
              "      <td>Support</td>\n",
              "      <td>Amelia Westray</td>\n",
              "      <td>142.00</td>\n",
              "      <td>1.00</td>\n",
              "      <td>0.40057</td>\n",
              "      <td>4</td>\n",
              "      <td>0.0</td>\n",
              "      <td>low</td>\n",
              "      <td>0.39324</td>\n",
              "      <td>Employed</td>\n",
              "      <td>10.00</td>\n",
              "    </tr>\n",
              "    <tr>\n",
              "      <th>13117</th>\n",
              "      <td>106813</td>\n",
              "      <td>48.00000</td>\n",
              "      <td>Male</td>\n",
              "      <td>Married</td>\n",
              "      <td>D00-PD</td>\n",
              "      <td>Product</td>\n",
              "      <td>Darcy Staines</td>\n",
              "      <td>132.00</td>\n",
              "      <td>0.00</td>\n",
              "      <td>1.00000</td>\n",
              "      <td>4</td>\n",
              "      <td>0.0</td>\n",
              "      <td>medium</td>\n",
              "      <td>1.00000</td>\n",
              "      <td>Employed</td>\n",
              "      <td>2.00</td>\n",
              "    </tr>\n",
              "    <tr>\n",
              "      <th>13118</th>\n",
              "      <td>106813</td>\n",
              "      <td>48.00000</td>\n",
              "      <td>Male</td>\n",
              "      <td>Married</td>\n",
              "      <td>D00-PD</td>\n",
              "      <td>Product</td>\n",
              "      <td>Darcy Staines</td>\n",
              "      <td>132.00</td>\n",
              "      <td>0.00</td>\n",
              "      <td>1.00000</td>\n",
              "      <td>4</td>\n",
              "      <td>0.0</td>\n",
              "      <td>medium</td>\n",
              "      <td>1.00000</td>\n",
              "      <td>Employed</td>\n",
              "      <td>2.00</td>\n",
              "    </tr>\n",
              "    <tr>\n",
              "      <th>938</th>\n",
              "      <td>108128</td>\n",
              "      <td>54.00000</td>\n",
              "      <td>Male</td>\n",
              "      <td>Married</td>\n",
              "      <td>D00-IT</td>\n",
              "      <td>IT</td>\n",
              "      <td>Henry Adey</td>\n",
              "      <td>161.00</td>\n",
              "      <td>0.00</td>\n",
              "      <td>0.71589</td>\n",
              "      <td>6</td>\n",
              "      <td>0.0</td>\n",
              "      <td>medium</td>\n",
              "      <td>0.86777</td>\n",
              "      <td>Left</td>\n",
              "      <td>4.00</td>\n",
              "    </tr>\n",
              "    <tr>\n",
              "      <th>937</th>\n",
              "      <td>108128</td>\n",
              "      <td>54.00000</td>\n",
              "      <td>Male</td>\n",
              "      <td>Married</td>\n",
              "      <td>D00-IT</td>\n",
              "      <td>IT</td>\n",
              "      <td>Henry Adey</td>\n",
              "      <td>161.00</td>\n",
              "      <td>0.00</td>\n",
              "      <td>0.71589</td>\n",
              "      <td>6</td>\n",
              "      <td>0.0</td>\n",
              "      <td>medium</td>\n",
              "      <td>0.86777</td>\n",
              "      <td>Left</td>\n",
              "      <td>4.00</td>\n",
              "    </tr>\n",
              "    <tr>\n",
              "      <th>4519</th>\n",
              "      <td>108265</td>\n",
              "      <td>25.00000</td>\n",
              "      <td>Male</td>\n",
              "      <td>Unmarried</td>\n",
              "      <td>D00-SS</td>\n",
              "      <td>Sales</td>\n",
              "      <td>Edward J Bayley</td>\n",
              "      <td>238.00</td>\n",
              "      <td>0.00</td>\n",
              "      <td>0.95863</td>\n",
              "      <td>3</td>\n",
              "      <td>0.0</td>\n",
              "      <td>medium</td>\n",
              "      <td>0.62466</td>\n",
              "      <td>Employed</td>\n",
              "      <td>2.00</td>\n",
              "    </tr>\n",
              "    <tr>\n",
              "      <th>4520</th>\n",
              "      <td>108265</td>\n",
              "      <td>25.00000</td>\n",
              "      <td>Male</td>\n",
              "      <td>Unmarried</td>\n",
              "      <td>D00-SS</td>\n",
              "      <td>Sales</td>\n",
              "      <td>Edward J Bayley</td>\n",
              "      <td>238.00</td>\n",
              "      <td>0.00</td>\n",
              "      <td>0.95863</td>\n",
              "      <td>3</td>\n",
              "      <td>0.0</td>\n",
              "      <td>medium</td>\n",
              "      <td>0.62466</td>\n",
              "      <td>Employed</td>\n",
              "      <td>2.00</td>\n",
              "    </tr>\n",
              "    <tr>\n",
              "      <th>998</th>\n",
              "      <td>108535</td>\n",
              "      <td>50.00000</td>\n",
              "      <td>Male</td>\n",
              "      <td>Married</td>\n",
              "      <td>D00-IT</td>\n",
              "      <td>IT</td>\n",
              "      <td>Henry Adey</td>\n",
              "      <td>233.00</td>\n",
              "      <td>0.00</td>\n",
              "      <td>0.94086</td>\n",
              "      <td>4</td>\n",
              "      <td>0.0</td>\n",
              "      <td>low</td>\n",
              "      <td>0.77547</td>\n",
              "      <td>Left</td>\n",
              "      <td>5.00</td>\n",
              "    </tr>\n",
              "    <tr>\n",
              "      <th>997</th>\n",
              "      <td>108535</td>\n",
              "      <td>50.00000</td>\n",
              "      <td>Male</td>\n",
              "      <td>Married</td>\n",
              "      <td>D00-IT</td>\n",
              "      <td>IT</td>\n",
              "      <td>Henry Adey</td>\n",
              "      <td>233.00</td>\n",
              "      <td>0.00</td>\n",
              "      <td>0.94086</td>\n",
              "      <td>4</td>\n",
              "      <td>0.0</td>\n",
              "      <td>low</td>\n",
              "      <td>0.77547</td>\n",
              "      <td>Left</td>\n",
              "      <td>5.00</td>\n",
              "    </tr>\n",
              "    <tr>\n",
              "      <th>10620</th>\n",
              "      <td>109085</td>\n",
              "      <td>24.00000</td>\n",
              "      <td>Female</td>\n",
              "      <td>Unmarried</td>\n",
              "      <td>D00-FN</td>\n",
              "      <td>Finance</td>\n",
              "      <td>Aanchal J</td>\n",
              "      <td>141.00</td>\n",
              "      <td>0.00</td>\n",
              "      <td>0.80105</td>\n",
              "      <td>3</td>\n",
              "      <td>0.0</td>\n",
              "      <td>low</td>\n",
              "      <td>0.62427</td>\n",
              "      <td>Employed</td>\n",
              "      <td>3.00</td>\n",
              "    </tr>\n",
              "    <tr>\n",
              "      <th>10619</th>\n",
              "      <td>109085</td>\n",
              "      <td>24.00000</td>\n",
              "      <td>Female</td>\n",
              "      <td>Unmarried</td>\n",
              "      <td>D00-FN</td>\n",
              "      <td>Finance</td>\n",
              "      <td>Aanchal J</td>\n",
              "      <td>141.00</td>\n",
              "      <td>0.00</td>\n",
              "      <td>0.80105</td>\n",
              "      <td>3</td>\n",
              "      <td>0.0</td>\n",
              "      <td>low</td>\n",
              "      <td>0.62427</td>\n",
              "      <td>Employed</td>\n",
              "      <td>3.00</td>\n",
              "    </tr>\n",
              "    <tr>\n",
              "      <th>11323</th>\n",
              "      <td>109425</td>\n",
              "      <td>24.00000</td>\n",
              "      <td>Male</td>\n",
              "      <td>Unmarried</td>\n",
              "      <td>D00-MN</td>\n",
              "      <td>Management</td>\n",
              "      <td>Ellie Trafton</td>\n",
              "      <td>148.00</td>\n",
              "      <td>0.00</td>\n",
              "      <td>0.57711</td>\n",
              "      <td>3</td>\n",
              "      <td>0.0</td>\n",
              "      <td>high</td>\n",
              "      <td>0.48100</td>\n",
              "      <td>Employed</td>\n",
              "      <td>10.00</td>\n",
              "    </tr>\n",
              "    <tr>\n",
              "      <th>11324</th>\n",
              "      <td>109425</td>\n",
              "      <td>24.00000</td>\n",
              "      <td>Male</td>\n",
              "      <td>Unmarried</td>\n",
              "      <td>D00-MN</td>\n",
              "      <td>Management</td>\n",
              "      <td>Ellie Trafton</td>\n",
              "      <td>148.00</td>\n",
              "      <td>0.00</td>\n",
              "      <td>0.57711</td>\n",
              "      <td>3</td>\n",
              "      <td>0.0</td>\n",
              "      <td>high</td>\n",
              "      <td>0.48100</td>\n",
              "      <td>Employed</td>\n",
              "      <td>10.00</td>\n",
              "    </tr>\n",
              "    <tr>\n",
              "      <th>1068</th>\n",
              "      <td>109804</td>\n",
              "      <td>41.00000</td>\n",
              "      <td>Male</td>\n",
              "      <td>Married</td>\n",
              "      <td>D00-IT</td>\n",
              "      <td>IT</td>\n",
              "      <td>Henry Adey</td>\n",
              "      <td>261.00</td>\n",
              "      <td>1.00</td>\n",
              "      <td>0.46543</td>\n",
              "      <td>5</td>\n",
              "      <td>0.0</td>\n",
              "      <td>low</td>\n",
              "      <td>0.34150</td>\n",
              "      <td>Employed</td>\n",
              "      <td>6.00</td>\n",
              "    </tr>\n",
              "    <tr>\n",
              "      <th>1069</th>\n",
              "      <td>109804</td>\n",
              "      <td>41.00000</td>\n",
              "      <td>Male</td>\n",
              "      <td>Married</td>\n",
              "      <td>D00-IT</td>\n",
              "      <td>IT</td>\n",
              "      <td>Henry Adey</td>\n",
              "      <td>261.00</td>\n",
              "      <td>1.00</td>\n",
              "      <td>0.46543</td>\n",
              "      <td>5</td>\n",
              "      <td>0.0</td>\n",
              "      <td>low</td>\n",
              "      <td>0.34150</td>\n",
              "      <td>Employed</td>\n",
              "      <td>6.00</td>\n",
              "    </tr>\n",
              "    <tr>\n",
              "      <th>10773</th>\n",
              "      <td>110000</td>\n",
              "      <td>24.00000</td>\n",
              "      <td>Female</td>\n",
              "      <td>Unmarried</td>\n",
              "      <td>D00-FN</td>\n",
              "      <td>Finance</td>\n",
              "      <td>Aanchal J</td>\n",
              "      <td>224.00</td>\n",
              "      <td>0.00</td>\n",
              "      <td>0.87765</td>\n",
              "      <td>3</td>\n",
              "      <td>0.0</td>\n",
              "      <td>medium</td>\n",
              "      <td>0.55511</td>\n",
              "      <td>Employed</td>\n",
              "      <td>3.00</td>\n",
              "    </tr>\n",
              "    <tr>\n",
              "      <th>10774</th>\n",
              "      <td>110000</td>\n",
              "      <td>24.00000</td>\n",
              "      <td>Female</td>\n",
              "      <td>Unmarried</td>\n",
              "      <td>D00-FN</td>\n",
              "      <td>Finance</td>\n",
              "      <td>Aanchal J</td>\n",
              "      <td>224.00</td>\n",
              "      <td>0.00</td>\n",
              "      <td>0.87765</td>\n",
              "      <td>3</td>\n",
              "      <td>0.0</td>\n",
              "      <td>medium</td>\n",
              "      <td>0.55511</td>\n",
              "      <td>Employed</td>\n",
              "      <td>3.00</td>\n",
              "    </tr>\n",
              "    <tr>\n",
              "      <th>10464</th>\n",
              "      <td>110546</td>\n",
              "      <td>40.00000</td>\n",
              "      <td>Female</td>\n",
              "      <td>Married</td>\n",
              "      <td>D00-FN</td>\n",
              "      <td>Finance</td>\n",
              "      <td>Aanchal J</td>\n",
              "      <td>208.00</td>\n",
              "      <td>0.00</td>\n",
              "      <td>0.69976</td>\n",
              "      <td>4</td>\n",
              "      <td>0.0</td>\n",
              "      <td>low</td>\n",
              "      <td>0.47622</td>\n",
              "      <td>Employed</td>\n",
              "      <td>5.00</td>\n",
              "    </tr>\n",
              "    <tr>\n",
              "      <th>10463</th>\n",
              "      <td>110546</td>\n",
              "      <td>40.00000</td>\n",
              "      <td>Female</td>\n",
              "      <td>Married</td>\n",
              "      <td>D00-FN</td>\n",
              "      <td>Finance</td>\n",
              "      <td>Aanchal J</td>\n",
              "      <td>208.00</td>\n",
              "      <td>0.00</td>\n",
              "      <td>0.69976</td>\n",
              "      <td>4</td>\n",
              "      <td>0.0</td>\n",
              "      <td>low</td>\n",
              "      <td>0.47622</td>\n",
              "      <td>Employed</td>\n",
              "      <td>5.00</td>\n",
              "    </tr>\n",
              "    <tr>\n",
              "      <th>29</th>\n",
              "      <td>111323</td>\n",
              "      <td>48.00000</td>\n",
              "      <td>Male</td>\n",
              "      <td>Married</td>\n",
              "      <td>D00-IT</td>\n",
              "      <td>IT</td>\n",
              "      <td>Henry Adey</td>\n",
              "      <td>307.00</td>\n",
              "      <td>0.00</td>\n",
              "      <td>0.90571</td>\n",
              "      <td>7</td>\n",
              "      <td>0.0</td>\n",
              "      <td>low</td>\n",
              "      <td>0.12527</td>\n",
              "      <td>Left</td>\n",
              "      <td>4.00</td>\n",
              "    </tr>\n",
              "    <tr>\n",
              "      <th>30</th>\n",
              "      <td>111323</td>\n",
              "      <td>48.00000</td>\n",
              "      <td>Male</td>\n",
              "      <td>Married</td>\n",
              "      <td>D00-IT</td>\n",
              "      <td>IT</td>\n",
              "      <td>Henry Adey</td>\n",
              "      <td>307.00</td>\n",
              "      <td>0.00</td>\n",
              "      <td>0.90571</td>\n",
              "      <td>7</td>\n",
              "      <td>0.0</td>\n",
              "      <td>low</td>\n",
              "      <td>0.12527</td>\n",
              "      <td>Left</td>\n",
              "      <td>4.00</td>\n",
              "    </tr>\n",
              "    <tr>\n",
              "      <th>12048</th>\n",
              "      <td>111968</td>\n",
              "      <td>22.00000</td>\n",
              "      <td>Female</td>\n",
              "      <td>Unmarried</td>\n",
              "      <td>D00-MT</td>\n",
              "      <td>Marketing</td>\n",
              "      <td>Reuben Swann</td>\n",
              "      <td>152.00</td>\n",
              "      <td>0.00</td>\n",
              "      <td>0.51002</td>\n",
              "      <td>3</td>\n",
              "      <td>0.0</td>\n",
              "      <td>low</td>\n",
              "      <td>0.82653</td>\n",
              "      <td>Employed</td>\n",
              "      <td>2.00</td>\n",
              "    </tr>\n",
              "    <tr>\n",
              "      <th>12047</th>\n",
              "      <td>111968</td>\n",
              "      <td>22.00000</td>\n",
              "      <td>Female</td>\n",
              "      <td>Unmarried</td>\n",
              "      <td>D00-MT</td>\n",
              "      <td>Marketing</td>\n",
              "      <td>Reuben Swann</td>\n",
              "      <td>152.00</td>\n",
              "      <td>0.00</td>\n",
              "      <td>0.51002</td>\n",
              "      <td>3</td>\n",
              "      <td>0.0</td>\n",
              "      <td>low</td>\n",
              "      <td>0.82653</td>\n",
              "      <td>Employed</td>\n",
              "      <td>2.00</td>\n",
              "    </tr>\n",
              "    <tr>\n",
              "      <th>3978</th>\n",
              "      <td>112203</td>\n",
              "      <td>45.00000</td>\n",
              "      <td>Male</td>\n",
              "      <td>Married</td>\n",
              "      <td>D00-SS</td>\n",
              "      <td>Sales</td>\n",
              "      <td>Edward J Bayley</td>\n",
              "      <td>206.00</td>\n",
              "      <td>0.00</td>\n",
              "      <td>1.00000</td>\n",
              "      <td>6</td>\n",
              "      <td>0.0</td>\n",
              "      <td>medium</td>\n",
              "      <td>0.78355</td>\n",
              "      <td>Left</td>\n",
              "      <td>5.00</td>\n",
              "    </tr>\n",
              "    <tr>\n",
              "      <th>3977</th>\n",
              "      <td>112203</td>\n",
              "      <td>45.00000</td>\n",
              "      <td>Male</td>\n",
              "      <td>Married</td>\n",
              "      <td>D00-SS</td>\n",
              "      <td>Sales</td>\n",
              "      <td>Edward J Bayley</td>\n",
              "      <td>206.00</td>\n",
              "      <td>0.00</td>\n",
              "      <td>1.00000</td>\n",
              "      <td>6</td>\n",
              "      <td>0.0</td>\n",
              "      <td>medium</td>\n",
              "      <td>0.78355</td>\n",
              "      <td>Left</td>\n",
              "      <td>5.00</td>\n",
              "    </tr>\n",
              "    <tr>\n",
              "      <th>333</th>\n",
              "      <td>112312</td>\n",
              "      <td>24.00000</td>\n",
              "      <td>Male</td>\n",
              "      <td>Unmarried</td>\n",
              "      <td>D00-IT</td>\n",
              "      <td>IT</td>\n",
              "      <td>Henry Adey</td>\n",
              "      <td>268.00</td>\n",
              "      <td>1.00</td>\n",
              "      <td>0.89710</td>\n",
              "      <td>2</td>\n",
              "      <td>0.0</td>\n",
              "      <td>low</td>\n",
              "      <td>0.45937</td>\n",
              "      <td>Employed</td>\n",
              "      <td>4.00</td>\n",
              "    </tr>\n",
              "    <tr>\n",
              "      <th>334</th>\n",
              "      <td>112312</td>\n",
              "      <td>24.00000</td>\n",
              "      <td>Male</td>\n",
              "      <td>Unmarried</td>\n",
              "      <td>D00-IT</td>\n",
              "      <td>IT</td>\n",
              "      <td>Henry Adey</td>\n",
              "      <td>268.00</td>\n",
              "      <td>1.00</td>\n",
              "      <td>0.89710</td>\n",
              "      <td>2</td>\n",
              "      <td>0.0</td>\n",
              "      <td>low</td>\n",
              "      <td>0.45937</td>\n",
              "      <td>Employed</td>\n",
              "      <td>4.00</td>\n",
              "    </tr>\n",
              "    <tr>\n",
              "      <th>11606</th>\n",
              "      <td>112373</td>\n",
              "      <td>29.00000</td>\n",
              "      <td>Male</td>\n",
              "      <td>Unmarried</td>\n",
              "      <td>D00-MN</td>\n",
              "      <td>Management</td>\n",
              "      <td>Ellie Trafton</td>\n",
              "      <td>265.00</td>\n",
              "      <td>1.00</td>\n",
              "      <td>0.82567</td>\n",
              "      <td>3</td>\n",
              "      <td>0.0</td>\n",
              "      <td>low</td>\n",
              "      <td>0.54598</td>\n",
              "      <td>Employed</td>\n",
              "      <td>10.00</td>\n",
              "    </tr>\n",
              "    <tr>\n",
              "      <th>11605</th>\n",
              "      <td>112373</td>\n",
              "      <td>29.00000</td>\n",
              "      <td>Male</td>\n",
              "      <td>Unmarried</td>\n",
              "      <td>D00-MN</td>\n",
              "      <td>Management</td>\n",
              "      <td>Ellie Trafton</td>\n",
              "      <td>265.00</td>\n",
              "      <td>1.00</td>\n",
              "      <td>0.82567</td>\n",
              "      <td>3</td>\n",
              "      <td>0.0</td>\n",
              "      <td>low</td>\n",
              "      <td>0.54598</td>\n",
              "      <td>Employed</td>\n",
              "      <td>10.00</td>\n",
              "    </tr>\n",
              "    <tr>\n",
              "      <th>12330</th>\n",
              "      <td>115325</td>\n",
              "      <td>50.00000</td>\n",
              "      <td>Male</td>\n",
              "      <td>Married</td>\n",
              "      <td>D00-MT</td>\n",
              "      <td>Marketing</td>\n",
              "      <td>Reuben Swann</td>\n",
              "      <td>268.00</td>\n",
              "      <td>0.00</td>\n",
              "      <td>0.90089</td>\n",
              "      <td>5</td>\n",
              "      <td>0.0</td>\n",
              "      <td>medium</td>\n",
              "      <td>0.90661</td>\n",
              "      <td>Left</td>\n",
              "      <td>5.00</td>\n",
              "    </tr>\n",
              "    <tr>\n",
              "      <th>12329</th>\n",
              "      <td>115325</td>\n",
              "      <td>50.00000</td>\n",
              "      <td>Male</td>\n",
              "      <td>Married</td>\n",
              "      <td>D00-MT</td>\n",
              "      <td>Marketing</td>\n",
              "      <td>Reuben Swann</td>\n",
              "      <td>268.00</td>\n",
              "      <td>0.00</td>\n",
              "      <td>0.90089</td>\n",
              "      <td>5</td>\n",
              "      <td>0.0</td>\n",
              "      <td>medium</td>\n",
              "      <td>0.90661</td>\n",
              "      <td>Left</td>\n",
              "      <td>5.00</td>\n",
              "    </tr>\n",
              "    <tr>\n",
              "      <th>9850</th>\n",
              "      <td>115446</td>\n",
              "      <td>24.00000</td>\n",
              "      <td>Female</td>\n",
              "      <td>Unmarried</td>\n",
              "      <td>D00-SP</td>\n",
              "      <td>Support</td>\n",
              "      <td>Amelia Westray</td>\n",
              "      <td>163.00</td>\n",
              "      <td>0.00</td>\n",
              "      <td>0.48618</td>\n",
              "      <td>3</td>\n",
              "      <td>0.0</td>\n",
              "      <td>medium</td>\n",
              "      <td>0.83212</td>\n",
              "      <td>Employed</td>\n",
              "      <td>3.00</td>\n",
              "    </tr>\n",
              "    <tr>\n",
              "      <th>9851</th>\n",
              "      <td>115446</td>\n",
              "      <td>24.00000</td>\n",
              "      <td>Female</td>\n",
              "      <td>Unmarried</td>\n",
              "      <td>D00-SP</td>\n",
              "      <td>Support</td>\n",
              "      <td>Amelia Westray</td>\n",
              "      <td>163.00</td>\n",
              "      <td>0.00</td>\n",
              "      <td>0.48618</td>\n",
              "      <td>3</td>\n",
              "      <td>0.0</td>\n",
              "      <td>medium</td>\n",
              "      <td>0.83212</td>\n",
              "      <td>Employed</td>\n",
              "      <td>3.00</td>\n",
              "    </tr>\n",
              "    <tr>\n",
              "      <th>2247</th>\n",
              "      <td>116153</td>\n",
              "      <td>22.00000</td>\n",
              "      <td>Female</td>\n",
              "      <td>Unmarried</td>\n",
              "      <td>D00-SS</td>\n",
              "      <td>Sales</td>\n",
              "      <td>Edward J Bayley</td>\n",
              "      <td>192.00</td>\n",
              "      <td>0.00</td>\n",
              "      <td>0.95190</td>\n",
              "      <td>3</td>\n",
              "      <td>0.0</td>\n",
              "      <td>medium</td>\n",
              "      <td>0.53983</td>\n",
              "      <td>Employed</td>\n",
              "      <td>3.00</td>\n",
              "    </tr>\n",
              "    <tr>\n",
              "      <th>2246</th>\n",
              "      <td>116153</td>\n",
              "      <td>22.00000</td>\n",
              "      <td>Female</td>\n",
              "      <td>Unmarried</td>\n",
              "      <td>D00-SS</td>\n",
              "      <td>Sales</td>\n",
              "      <td>Edward J Bayley</td>\n",
              "      <td>192.00</td>\n",
              "      <td>0.00</td>\n",
              "      <td>0.95190</td>\n",
              "      <td>3</td>\n",
              "      <td>0.0</td>\n",
              "      <td>medium</td>\n",
              "      <td>0.53983</td>\n",
              "      <td>Employed</td>\n",
              "      <td>3.00</td>\n",
              "    </tr>\n",
              "    <tr>\n",
              "      <th>4714</th>\n",
              "      <td>116209</td>\n",
              "      <td>25.00000</td>\n",
              "      <td>Male</td>\n",
              "      <td>Unmarried</td>\n",
              "      <td>D00-SS</td>\n",
              "      <td>Sales</td>\n",
              "      <td>Edward J Bayley</td>\n",
              "      <td>181.00</td>\n",
              "      <td>1.00</td>\n",
              "      <td>0.70380</td>\n",
              "      <td>3</td>\n",
              "      <td>0.0</td>\n",
              "      <td>medium</td>\n",
              "      <td>0.87001</td>\n",
              "      <td>Employed</td>\n",
              "      <td>3.00</td>\n",
              "    </tr>\n",
              "    <tr>\n",
              "      <th>4715</th>\n",
              "      <td>116209</td>\n",
              "      <td>25.00000</td>\n",
              "      <td>Male</td>\n",
              "      <td>Unmarried</td>\n",
              "      <td>D00-SS</td>\n",
              "      <td>Sales</td>\n",
              "      <td>Edward J Bayley</td>\n",
              "      <td>181.00</td>\n",
              "      <td>1.00</td>\n",
              "      <td>0.70380</td>\n",
              "      <td>3</td>\n",
              "      <td>0.0</td>\n",
              "      <td>medium</td>\n",
              "      <td>0.87001</td>\n",
              "      <td>Employed</td>\n",
              "      <td>3.00</td>\n",
              "    </tr>\n",
              "    <tr>\n",
              "      <th>1801</th>\n",
              "      <td>116247</td>\n",
              "      <td>54.00000</td>\n",
              "      <td>Female</td>\n",
              "      <td>Married</td>\n",
              "      <td>D00-SS</td>\n",
              "      <td>Sales</td>\n",
              "      <td>Edward J Bayley</td>\n",
              "      <td>282.00</td>\n",
              "      <td>0.00</td>\n",
              "      <td>0.87543</td>\n",
              "      <td>6</td>\n",
              "      <td>0.0</td>\n",
              "      <td>low</td>\n",
              "      <td>0.06591</td>\n",
              "      <td>Left</td>\n",
              "      <td>4.00</td>\n",
              "    </tr>\n",
              "    <tr>\n",
              "      <th>1802</th>\n",
              "      <td>116247</td>\n",
              "      <td>54.00000</td>\n",
              "      <td>Female</td>\n",
              "      <td>Married</td>\n",
              "      <td>D00-SS</td>\n",
              "      <td>Sales</td>\n",
              "      <td>Edward J Bayley</td>\n",
              "      <td>282.00</td>\n",
              "      <td>0.00</td>\n",
              "      <td>0.87543</td>\n",
              "      <td>6</td>\n",
              "      <td>0.0</td>\n",
              "      <td>low</td>\n",
              "      <td>0.06591</td>\n",
              "      <td>Left</td>\n",
              "      <td>4.00</td>\n",
              "    </tr>\n",
              "    <tr>\n",
              "      <th>8355</th>\n",
              "      <td>116533</td>\n",
              "      <td>23.00000</td>\n",
              "      <td>Male</td>\n",
              "      <td>Unmarried</td>\n",
              "      <td>D00-SP</td>\n",
              "      <td>Support</td>\n",
              "      <td>Amelia Westray</td>\n",
              "      <td>135.00</td>\n",
              "      <td>0.00</td>\n",
              "      <td>0.50476</td>\n",
              "      <td>2</td>\n",
              "      <td>0.0</td>\n",
              "      <td>low</td>\n",
              "      <td>0.50069</td>\n",
              "      <td>Left</td>\n",
              "      <td>3.00</td>\n",
              "    </tr>\n",
              "    <tr>\n",
              "      <th>8354</th>\n",
              "      <td>116533</td>\n",
              "      <td>23.00000</td>\n",
              "      <td>Male</td>\n",
              "      <td>Unmarried</td>\n",
              "      <td>D00-SP</td>\n",
              "      <td>Support</td>\n",
              "      <td>Amelia Westray</td>\n",
              "      <td>135.00</td>\n",
              "      <td>0.00</td>\n",
              "      <td>0.50476</td>\n",
              "      <td>2</td>\n",
              "      <td>0.0</td>\n",
              "      <td>low</td>\n",
              "      <td>0.50069</td>\n",
              "      <td>Left</td>\n",
              "      <td>3.00</td>\n",
              "    </tr>\n",
              "    <tr>\n",
              "      <th>9970</th>\n",
              "      <td>116850</td>\n",
              "      <td>22.00000</td>\n",
              "      <td>Female</td>\n",
              "      <td>Unmarried</td>\n",
              "      <td>D00-SP</td>\n",
              "      <td>Support</td>\n",
              "      <td>Amelia Westray</td>\n",
              "      <td>168.00</td>\n",
              "      <td>0.00</td>\n",
              "      <td>0.74779</td>\n",
              "      <td>2</td>\n",
              "      <td>0.0</td>\n",
              "      <td>low</td>\n",
              "      <td>0.86982</td>\n",
              "      <td>Employed</td>\n",
              "      <td>3.00</td>\n",
              "    </tr>\n",
              "    <tr>\n",
              "      <th>9969</th>\n",
              "      <td>116850</td>\n",
              "      <td>22.00000</td>\n",
              "      <td>Female</td>\n",
              "      <td>Unmarried</td>\n",
              "      <td>D00-SP</td>\n",
              "      <td>Support</td>\n",
              "      <td>Amelia Westray</td>\n",
              "      <td>168.00</td>\n",
              "      <td>0.00</td>\n",
              "      <td>0.74779</td>\n",
              "      <td>2</td>\n",
              "      <td>0.0</td>\n",
              "      <td>low</td>\n",
              "      <td>0.86982</td>\n",
              "      <td>Employed</td>\n",
              "      <td>3.00</td>\n",
              "    </tr>\n",
              "    <tr>\n",
              "      <th>12807</th>\n",
              "      <td>117454</td>\n",
              "      <td>51.00000</td>\n",
              "      <td>Female</td>\n",
              "      <td>Married</td>\n",
              "      <td>D00-PD</td>\n",
              "      <td>Product</td>\n",
              "      <td>Darcy Staines</td>\n",
              "      <td>212.00</td>\n",
              "      <td>0.00</td>\n",
              "      <td>0.77302</td>\n",
              "      <td>4</td>\n",
              "      <td>0.0</td>\n",
              "      <td>medium</td>\n",
              "      <td>0.82932</td>\n",
              "      <td>Employed</td>\n",
              "      <td>2.00</td>\n",
              "    </tr>\n",
              "    <tr>\n",
              "      <th>12808</th>\n",
              "      <td>117454</td>\n",
              "      <td>51.00000</td>\n",
              "      <td>Female</td>\n",
              "      <td>Married</td>\n",
              "      <td>D00-PD</td>\n",
              "      <td>Product</td>\n",
              "      <td>Darcy Staines</td>\n",
              "      <td>212.00</td>\n",
              "      <td>0.00</td>\n",
              "      <td>0.77302</td>\n",
              "      <td>4</td>\n",
              "      <td>0.0</td>\n",
              "      <td>medium</td>\n",
              "      <td>0.82932</td>\n",
              "      <td>Employed</td>\n",
              "      <td>2.00</td>\n",
              "    </tr>\n",
              "    <tr>\n",
              "      <th>11958</th>\n",
              "      <td>119754</td>\n",
              "      <td>35.00000</td>\n",
              "      <td>Male</td>\n",
              "      <td>Married</td>\n",
              "      <td>D00-MT</td>\n",
              "      <td>Marketing</td>\n",
              "      <td>Reuben Swann</td>\n",
              "      <td>184.00</td>\n",
              "      <td>0.00</td>\n",
              "      <td>0.63987</td>\n",
              "      <td>5</td>\n",
              "      <td>0.0</td>\n",
              "      <td>medium</td>\n",
              "      <td>0.50439</td>\n",
              "      <td>Employed</td>\n",
              "      <td>4.00</td>\n",
              "    </tr>\n",
              "    <tr>\n",
              "      <th>11959</th>\n",
              "      <td>119754</td>\n",
              "      <td>35.00000</td>\n",
              "      <td>Male</td>\n",
              "      <td>Married</td>\n",
              "      <td>D00-MT</td>\n",
              "      <td>Marketing</td>\n",
              "      <td>Reuben Swann</td>\n",
              "      <td>184.00</td>\n",
              "      <td>0.00</td>\n",
              "      <td>0.63987</td>\n",
              "      <td>5</td>\n",
              "      <td>0.0</td>\n",
              "      <td>medium</td>\n",
              "      <td>0.50439</td>\n",
              "      <td>Employed</td>\n",
              "      <td>4.00</td>\n",
              "    </tr>\n",
              "    <tr>\n",
              "      <th>11770</th>\n",
              "      <td>119780</td>\n",
              "      <td>25.00000</td>\n",
              "      <td>Male</td>\n",
              "      <td>Unmarried</td>\n",
              "      <td>D00-MN</td>\n",
              "      <td>Management</td>\n",
              "      <td>Ellie Trafton</td>\n",
              "      <td>175.00</td>\n",
              "      <td>0.00</td>\n",
              "      <td>0.85454</td>\n",
              "      <td>4</td>\n",
              "      <td>0.0</td>\n",
              "      <td>medium</td>\n",
              "      <td>0.93446</td>\n",
              "      <td>Employed</td>\n",
              "      <td>3.00</td>\n",
              "    </tr>\n",
              "    <tr>\n",
              "      <th>11771</th>\n",
              "      <td>119780</td>\n",
              "      <td>25.00000</td>\n",
              "      <td>Male</td>\n",
              "      <td>Unmarried</td>\n",
              "      <td>D00-MN</td>\n",
              "      <td>Management</td>\n",
              "      <td>Ellie Trafton</td>\n",
              "      <td>175.00</td>\n",
              "      <td>0.00</td>\n",
              "      <td>0.85454</td>\n",
              "      <td>4</td>\n",
              "      <td>0.0</td>\n",
              "      <td>medium</td>\n",
              "      <td>0.93446</td>\n",
              "      <td>Employed</td>\n",
              "      <td>3.00</td>\n",
              "    </tr>\n",
              "    <tr>\n",
              "      <th>1818</th>\n",
              "      <td>122385</td>\n",
              "      <td>24.00000</td>\n",
              "      <td>Female</td>\n",
              "      <td>Unmarried</td>\n",
              "      <td>D00-SS</td>\n",
              "      <td>Sales</td>\n",
              "      <td>Edward J Bayley</td>\n",
              "      <td>161.00</td>\n",
              "      <td>0.00</td>\n",
              "      <td>0.48351</td>\n",
              "      <td>2</td>\n",
              "      <td>0.0</td>\n",
              "      <td>low</td>\n",
              "      <td>0.41676</td>\n",
              "      <td>Left</td>\n",
              "      <td>3.00</td>\n",
              "    </tr>\n",
              "    <tr>\n",
              "      <th>1819</th>\n",
              "      <td>122385</td>\n",
              "      <td>24.00000</td>\n",
              "      <td>Female</td>\n",
              "      <td>Unmarried</td>\n",
              "      <td>D00-SS</td>\n",
              "      <td>Sales</td>\n",
              "      <td>Edward J Bayley</td>\n",
              "      <td>161.00</td>\n",
              "      <td>0.00</td>\n",
              "      <td>0.48351</td>\n",
              "      <td>2</td>\n",
              "      <td>0.0</td>\n",
              "      <td>low</td>\n",
              "      <td>0.41676</td>\n",
              "      <td>Left</td>\n",
              "      <td>3.00</td>\n",
              "    </tr>\n",
              "  </tbody>\n",
              "</table>\n",
              "</div>"
            ],
            "text/plain": [
              "       employee_id      age  gender  ... satisfaction    status tenure\n",
              "2065        101809 45.00000  Female  ...      0.22508  Employed   5.00\n",
              "2064        101809 45.00000  Female  ...      0.22508  Employed   5.00\n",
              "3318        102701 22.00000  Female  ...      0.61730  Employed   5.00\n",
              "3317        102701 22.00000  Female  ...      0.61730  Employed   5.00\n",
              "5125        104360 30.00000    Male  ...      0.66404  Employed   3.00\n",
              "5126        104360 30.00000    Male  ...      0.66404  Employed   3.00\n",
              "8721        105625 41.00000    Male  ...      0.39324  Employed  10.00\n",
              "8722        105625 41.00000    Male  ...      0.39324  Employed  10.00\n",
              "13117       106813 48.00000    Male  ...      1.00000  Employed   2.00\n",
              "13118       106813 48.00000    Male  ...      1.00000  Employed   2.00\n",
              "938         108128 54.00000    Male  ...      0.86777      Left   4.00\n",
              "937         108128 54.00000    Male  ...      0.86777      Left   4.00\n",
              "4519        108265 25.00000    Male  ...      0.62466  Employed   2.00\n",
              "4520        108265 25.00000    Male  ...      0.62466  Employed   2.00\n",
              "998         108535 50.00000    Male  ...      0.77547      Left   5.00\n",
              "997         108535 50.00000    Male  ...      0.77547      Left   5.00\n",
              "10620       109085 24.00000  Female  ...      0.62427  Employed   3.00\n",
              "10619       109085 24.00000  Female  ...      0.62427  Employed   3.00\n",
              "11323       109425 24.00000    Male  ...      0.48100  Employed  10.00\n",
              "11324       109425 24.00000    Male  ...      0.48100  Employed  10.00\n",
              "1068        109804 41.00000    Male  ...      0.34150  Employed   6.00\n",
              "1069        109804 41.00000    Male  ...      0.34150  Employed   6.00\n",
              "10773       110000 24.00000  Female  ...      0.55511  Employed   3.00\n",
              "10774       110000 24.00000  Female  ...      0.55511  Employed   3.00\n",
              "10464       110546 40.00000  Female  ...      0.47622  Employed   5.00\n",
              "10463       110546 40.00000  Female  ...      0.47622  Employed   5.00\n",
              "29          111323 48.00000    Male  ...      0.12527      Left   4.00\n",
              "30          111323 48.00000    Male  ...      0.12527      Left   4.00\n",
              "12048       111968 22.00000  Female  ...      0.82653  Employed   2.00\n",
              "12047       111968 22.00000  Female  ...      0.82653  Employed   2.00\n",
              "3978        112203 45.00000    Male  ...      0.78355      Left   5.00\n",
              "3977        112203 45.00000    Male  ...      0.78355      Left   5.00\n",
              "333         112312 24.00000    Male  ...      0.45937  Employed   4.00\n",
              "334         112312 24.00000    Male  ...      0.45937  Employed   4.00\n",
              "11606       112373 29.00000    Male  ...      0.54598  Employed  10.00\n",
              "11605       112373 29.00000    Male  ...      0.54598  Employed  10.00\n",
              "12330       115325 50.00000    Male  ...      0.90661      Left   5.00\n",
              "12329       115325 50.00000    Male  ...      0.90661      Left   5.00\n",
              "9850        115446 24.00000  Female  ...      0.83212  Employed   3.00\n",
              "9851        115446 24.00000  Female  ...      0.83212  Employed   3.00\n",
              "2247        116153 22.00000  Female  ...      0.53983  Employed   3.00\n",
              "2246        116153 22.00000  Female  ...      0.53983  Employed   3.00\n",
              "4714        116209 25.00000    Male  ...      0.87001  Employed   3.00\n",
              "4715        116209 25.00000    Male  ...      0.87001  Employed   3.00\n",
              "1801        116247 54.00000  Female  ...      0.06591      Left   4.00\n",
              "1802        116247 54.00000  Female  ...      0.06591      Left   4.00\n",
              "8355        116533 23.00000    Male  ...      0.50069      Left   3.00\n",
              "8354        116533 23.00000    Male  ...      0.50069      Left   3.00\n",
              "9970        116850 22.00000  Female  ...      0.86982  Employed   3.00\n",
              "9969        116850 22.00000  Female  ...      0.86982  Employed   3.00\n",
              "12807       117454 51.00000  Female  ...      0.82932  Employed   2.00\n",
              "12808       117454 51.00000  Female  ...      0.82932  Employed   2.00\n",
              "11958       119754 35.00000    Male  ...      0.50439  Employed   4.00\n",
              "11959       119754 35.00000    Male  ...      0.50439  Employed   4.00\n",
              "11770       119780 25.00000    Male  ...      0.93446  Employed   3.00\n",
              "11771       119780 25.00000    Male  ...      0.93446  Employed   3.00\n",
              "1818        122385 24.00000  Female  ...      0.41676      Left   3.00\n",
              "1819        122385 24.00000  Female  ...      0.41676      Left   3.00\n",
              "\n",
              "[58 rows x 16 columns]"
            ]
          },
          "metadata": {},
          "execution_count": 57
        }
      ]
    },
    {
      "cell_type": "code",
      "metadata": {
        "id": "C4tiuAu5pA4a"
      },
      "source": [
        "df_final.drop_duplicates(subset=None, keep='first', inplace=True)"
      ],
      "id": "C4tiuAu5pA4a",
      "execution_count": 58,
      "outputs": []
    },
    {
      "cell_type": "code",
      "metadata": {
        "colab": {
          "base_uri": "https://localhost:8080/"
        },
        "id": "zMWSQH-3pEWA",
        "outputId": "5b81c74f-292a-406d-e0d5-396b4cb694a0"
      },
      "source": [
        "df_final.info()"
      ],
      "id": "zMWSQH-3pEWA",
      "execution_count": 59,
      "outputs": [
        {
          "output_type": "stream",
          "name": "stdout",
          "text": [
            "<class 'pandas.core.frame.DataFrame'>\n",
            "Int64Index: 14116 entries, 0 to 14149\n",
            "Data columns (total 16 columns):\n",
            " #   Column             Dtype  \n",
            "---  ------             -----  \n",
            " 0   employee_id        int64  \n",
            " 1   age                float64\n",
            " 2   gender             object \n",
            " 3   marital_status     object \n",
            " 4   dept_id            object \n",
            " 5   dept_name          object \n",
            " 6   dept_head          object \n",
            " 7   avg_monthly_hrs    object \n",
            " 8   filed_complaint    object \n",
            " 9   last_evaluation    float64\n",
            " 10  n_projects         int64  \n",
            " 11  recently_promoted  object \n",
            " 12  salary             object \n",
            " 13  satisfaction       float64\n",
            " 14  status             object \n",
            " 15  tenure             object \n",
            "dtypes: float64(3), int64(2), object(11)\n",
            "memory usage: 1.8+ MB\n"
          ]
        }
      ]
    },
    {
      "cell_type": "markdown",
      "metadata": {
        "id": "ngYvRHr6wXmh"
      },
      "source": [
        "- **Here I have seen that only Duplicate Rows were deleted, keeping one Rows in the dataset, so that it has not lost any Data** "
      ],
      "id": "ngYvRHr6wXmh"
    },
    {
      "cell_type": "markdown",
      "metadata": {
        "id": "da9f2695"
      },
      "source": [
        "<a id = Section7></a>\n",
        "### 7. Data Analysis / Visualization of various Feature Columns "
      ],
      "id": "da9f2695"
    },
    {
      "cell_type": "code",
      "metadata": {
        "id": "5369c7f1",
        "colab": {
          "base_uri": "https://localhost:8080/"
        },
        "outputId": "ea79a3ea-272e-45a6-f06a-24dd5c8c0813"
      },
      "source": [
        "df_final['status'].value_counts()"
      ],
      "id": "5369c7f1",
      "execution_count": 60,
      "outputs": [
        {
          "output_type": "execute_result",
          "data": {
            "text/plain": [
              "Employed    10761\n",
              "Left         3355\n",
              "Name: status, dtype: int64"
            ]
          },
          "metadata": {},
          "execution_count": 60
        }
      ]
    },
    {
      "cell_type": "code",
      "metadata": {
        "id": "ee8702f7",
        "colab": {
          "base_uri": "https://localhost:8080/"
        },
        "outputId": "5b6c7187-55ec-4be8-c6f8-b355f0f7a2b5"
      },
      "source": [
        "df_final['status'].value_counts(1)*100"
      ],
      "id": "ee8702f7",
      "execution_count": 61,
      "outputs": [
        {
          "output_type": "execute_result",
          "data": {
            "text/plain": [
              "Employed   76.23264\n",
              "Left       23.76736\n",
              "Name: status, dtype: float64"
            ]
          },
          "metadata": {},
          "execution_count": 61
        }
      ]
    },
    {
      "cell_type": "code",
      "metadata": {
        "id": "27f8c0b7",
        "colab": {
          "base_uri": "https://localhost:8080/",
          "height": 265
        },
        "outputId": "4b703e9b-9ea4-4404-f39f-e4acbf5dd515"
      },
      "source": [
        "df_final['status'].value_counts().plot(kind='pie', autopct='%.2f%%')"
      ],
      "id": "27f8c0b7",
      "execution_count": 62,
      "outputs": [
        {
          "output_type": "execute_result",
          "data": {
            "text/plain": [
              "<matplotlib.axes._subplots.AxesSubplot at 0x7ff7b84b5f50>"
            ]
          },
          "metadata": {},
          "execution_count": 62
        },
        {
          "output_type": "display_data",
          "data": {
            "image/png": "[encoded data removed]",
            "text/plain": [
              "<Figure size 432x288 with 1 Axes>"
            ]
          },
          "metadata": {}
        }
      ]
    },
    {
      "cell_type": "markdown",
      "metadata": {
        "id": "i_ZqsH5ypTs-"
      },
      "source": [
        "#### 7.1 Analysis of Employment Status with Employee's Age"
      ],
      "id": "i_ZqsH5ypTs-"
    },
    {
      "cell_type": "code",
      "metadata": {
        "id": "b219c457",
        "colab": {
          "base_uri": "https://localhost:8080/",
          "height": 482
        },
        "outputId": "1e1bdca7-1cf1-46b4-c655-75d6997dc03f"
      },
      "source": [
        "plt.figure(figsize=(16,7))\n",
        "sns.countplot(x = 'age', hue = 'status', data = df_final);\n",
        "plt.xlabel('Age of Employee', fontsize=15)\n",
        "plt.ylabel('Frequancy', fontsize=15)\n",
        "plt.title('Bar Chart showing Age-wise Employment Status', fontsize=15)"
      ],
      "id": "b219c457",
      "execution_count": 63,
      "outputs": [
        {
          "output_type": "execute_result",
          "data": {
            "text/plain": [
              "Text(0.5, 1.0, 'Bar Chart showing Age-wise Employment Status')"
            ]
          },
          "metadata": {},
          "execution_count": 63
        },
        {
          "output_type": "display_data",
          "data": {
            "image/png": "[encoded data removed]",
            "text/plain": [
              "<Figure size 1152x504 with 1 Axes>"
            ]
          },
          "metadata": {
            "needs_background": "light"
          }
        }
      ]
    },
    {
      "cell_type": "code",
      "metadata": {
        "colab": {
          "base_uri": "https://localhost:8080/",
          "height": 465
        },
        "id": "b7zUTf0WpZY2",
        "outputId": "9578041c-1852-4ffd-dd5e-69750fb41a85"
      },
      "source": [
        "plt.figure(figsize=(16,7))\n",
        "ax = sns.histplot(x = 'age', hue = 'status', data = df_final, binwidth=4);\n",
        "plt.xlabel('Age-Group of Employee', fontsize=15)\n",
        "plt.ylabel('Frequancy', fontsize=15)\n",
        "plt.title('Bar Chart showing Age-Group wise Employment Status', fontsize=15)\n",
        "for p in ax.patches:\n",
        "    ax.annotate(format(p.get_height(), '.2f'), (p.get_x() + p.get_width() / 2., p.get_height()), ha = 'center', va = 'center', xytext = (0, 10), textcoords = 'offset points')"
      ],
      "id": "b7zUTf0WpZY2",
      "execution_count": 64,
      "outputs": [
        {
          "output_type": "display_data",
          "data": {
            "image/png": "[encoded data removed]",
            "text/plain": [
              "<Figure size 1152x504 with 1 Axes>"
            ]
          },
          "metadata": {
            "needs_background": "light"
          }
        }
      ]
    },
    {
      "cell_type": "markdown",
      "metadata": {
        "id": "BOQ7HGPxpcSN"
      },
      "source": [
        "Analysis of 'AGE' gives an indication that only in the Age-Group 22-25 years attiration is very high at 30.4% as most of them are freshers so they changes jobs very frequintly. From Age-Group 26-29 to 50-53 years, attiration is between 17% to 20.5%. In Age-Group 54-57 years, attiration is very high.\n",
        "\n"
      ],
      "id": "BOQ7HGPxpcSN"
    },
    {
      "cell_type": "markdown",
      "metadata": {
        "id": "lJ6pZuQYpn5K"
      },
      "source": [
        "![image.png](data:image/png;base64,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)"
      ],
      "id": "lJ6pZuQYpn5K"
    },
    {
      "cell_type": "markdown",
      "metadata": {
        "id": "1XIYM1BhpwPt"
      },
      "source": [
        "#### 7.2 Analysis of Employment Status with Employee's Gender"
      ],
      "id": "1XIYM1BhpwPt"
    },
    {
      "cell_type": "code",
      "metadata": {
        "id": "d0257dbd",
        "colab": {
          "base_uri": "https://localhost:8080/",
          "height": 465
        },
        "outputId": "bdb72d2f-2ac4-4ee3-a58d-7f021e810d64"
      },
      "source": [
        "plt.figure(figsize=(16,7))\n",
        "ax = sns.countplot(x = 'gender', hue = 'status', data = df_final);\n",
        "plt.xlabel('Gender of Employee', fontsize=15)\n",
        "plt.ylabel('Frequancy', fontsize=15)\n",
        "plt.title('Bar Chart showing Gender-wise Employment Status', fontsize=15)\n",
        "for p in ax.patches:\n",
        "    ax.annotate(format(p.get_height(), '.2f'), (p.get_x() + p.get_width() / 2., p.get_height()), ha = 'center', va = 'center', xytext = (0, 10), textcoords = 'offset points')"
      ],
      "id": "d0257dbd",
      "execution_count": 65,
      "outputs": [
        {
          "output_type": "display_data",
          "data": {
            "image/png": "[encoded data removed]",
            "text/plain": [
              "<Figure size 1152x504 with 1 Axes>"
            ]
          },
          "metadata": {
            "needs_background": "light"
          }
        }
      ]
    },
    {
      "cell_type": "markdown",
      "metadata": {
        "id": "NtaEJAdoqPDV"
      },
      "source": [
        "#### Gender Analysis is giving indication that Female has much higher attiration level at 30.9% as against Male at 20.1%\n"
      ],
      "id": "NtaEJAdoqPDV"
    },
    {
      "cell_type": "markdown",
      "metadata": {
        "id": "D_PQK5mUqgcy"
      },
      "source": [
        "![image3.png](data:image/png;base64,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)"
      ],
      "id": "D_PQK5mUqgcy"
    },
    {
      "cell_type": "markdown",
      "metadata": {
        "id": "38x26BQ7qRj6"
      },
      "source": [
        "#### 7.3 Analysis of Employment Status with Employee's Marital Status\n"
      ],
      "id": "38x26BQ7qRj6"
    },
    {
      "cell_type": "code",
      "metadata": {
        "colab": {
          "base_uri": "https://localhost:8080/",
          "height": 465
        },
        "id": "oMoWFp18p50l",
        "outputId": "89ec1ae9-83a6-4382-e206-5ed1889ba44b"
      },
      "source": [
        "plt.figure(figsize=(16,7))\n",
        "ax = sns.countplot(x = 'marital_status', hue = 'status', data = df_final);\n",
        "plt.xlabel('Marital Status of Employee', fontsize=15)\n",
        "plt.ylabel('Frequancy', fontsize=15)\n",
        "plt.title('Bar Chart showing Marital Status-wise Employment Status', fontsize=15)\n",
        "for p in ax.patches:\n",
        "    ax.annotate(format(p.get_height(), '.2f'), (p.get_x() + p.get_width() / 2., p.get_height()), ha = 'center', va = 'center', xytext = (0, 10), textcoords = 'offset points')"
      ],
      "id": "oMoWFp18p50l",
      "execution_count": 66,
      "outputs": [
        {
          "output_type": "display_data",
          "data": {
            "image/png": "[encoded data removed]",
            "text/plain": [
              "<Figure size 1152x504 with 1 Axes>"
            ]
          },
          "metadata": {
            "needs_background": "light"
          }
        }
      ]
    },
    {
      "cell_type": "markdown",
      "metadata": {
        "id": "F512Z8N2qsVr"
      },
      "source": [
        "#### Marital Status of Employee is giving indication that attiration is quite high in Unmarried at 27% against 20.4% in Married"
      ],
      "id": "F512Z8N2qsVr"
    },
    {
      "cell_type": "markdown",
      "metadata": {
        "id": "TrumfRr8q9pj"
      },
      "source": [
        "![image2.png](data:image/png;base64,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)"
      ],
      "id": "TrumfRr8q9pj"
    },
    {
      "cell_type": "markdown",
      "metadata": {
        "id": "E9jeR-K-rElu"
      },
      "source": [
        "#### 7.4 Analysis of Employment Status with Employee's Salary"
      ],
      "id": "E9jeR-K-rElu"
    },
    {
      "cell_type": "code",
      "metadata": {
        "colab": {
          "base_uri": "https://localhost:8080/",
          "height": 465
        },
        "id": "lMKQpWcZq_FV",
        "outputId": "61907af3-48b2-4f19-8d95-62872fe36bf9"
      },
      "source": [
        "plt.figure(figsize=(16,7))\n",
        "ax = sns.countplot(x = 'salary', hue = 'status', data = df_final);\n",
        "plt.xlabel('Salary-wise Employee', fontsize=15)\n",
        "plt.ylabel('Frequancy', fontsize=15)\n",
        "plt.title('Bar Chart showing Employment Status based on Salary', fontsize=15)\n",
        "for p in ax.patches:\n",
        "    ax.annotate(format(p.get_height(), '.2f'), (p.get_x() + p.get_width() / 2., p.get_height()), ha = 'center', va = 'center', xytext = (0, 10), textcoords = 'offset points')"
      ],
      "id": "lMKQpWcZq_FV",
      "execution_count": 67,
      "outputs": [
        {
          "output_type": "display_data",
          "data": {
            "image/png": "[encoded data removed]",
            "text/plain": [
              "<Figure size 1152x504 with 1 Axes>"
            ]
          },
          "metadata": {
            "needs_background": "light"
          }
        }
      ]
    },
    {
      "cell_type": "markdown",
      "metadata": {
        "id": "CTCTOyFNrKqY"
      },
      "source": [
        "#### 7.5 Analysis of Employment Status with Employee's Avg. Monthly Hours"
      ],
      "id": "CTCTOyFNrKqY"
    },
    {
      "cell_type": "code",
      "metadata": {
        "colab": {
          "base_uri": "https://localhost:8080/",
          "height": 465
        },
        "id": "uTdc_mtzrNB7",
        "outputId": "10ed2f01-b9cd-48db-df20-ab2e94de3138"
      },
      "source": [
        "plt.figure(figsize=(16,7))\n",
        "ax = sns.histplot(x='avg_monthly_hrs', hue = 'status', data = df_final, binwidth=50)\n",
        "plt.xlabel('Average Monthly Hours of Employee', fontsize=15)\n",
        "plt.ylabel('Frequancy', fontsize=15)\n",
        "plt.title('Bar Chart showing Average Monthly Hours-wise Employment Status', fontsize=15)\n",
        "for p in ax.patches:\n",
        "    ax.annotate(format(p.get_height(), '.2f'), (p.get_x() + p.get_width() / 2., p.get_height()), ha = 'center', va = 'center', xytext = (0, 10), textcoords = 'offset points')"
      ],
      "id": "uTdc_mtzrNB7",
      "execution_count": 68,
      "outputs": [
        {
          "output_type": "display_data",
          "data": {
            "image/png": "[encoded data removed]",
            "text/plain": [
              "<Figure size 1152x504 with 1 Axes>"
            ]
          },
          "metadata": {
            "needs_background": "light"
          }
        }
      ]
    },
    {
      "cell_type": "markdown",
      "metadata": {
        "id": "_eWHFrNArWjJ"
      },
      "source": [
        "#### Analysis of Average Monthly Hour clearly shows that Over 250 Hours has significantly higher attiration rate, but we can see that lower monthly hour between 100-150 hours also has hign attiration level may be becouse they have more time for JOB SEARCH."
      ],
      "id": "_eWHFrNArWjJ"
    },
    {
      "cell_type": "markdown",
      "metadata": {
        "id": "3EDMjJL4rXKh"
      },
      "source": [
        "![image1.png](data:image/png;base64,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)"
      ],
      "id": "3EDMjJL4rXKh"
    },
    {
      "cell_type": "markdown",
      "metadata": {
        "id": "Chb0Ckt02AcJ"
      },
      "source": [
        "#### 7.6 Analysis of Employment Status with Employee's Number of Projects"
      ],
      "id": "Chb0Ckt02AcJ"
    },
    {
      "cell_type": "code",
      "metadata": {
        "colab": {
          "base_uri": "https://localhost:8080/",
          "height": 465
        },
        "id": "tsRcwroU2Dkf",
        "outputId": "dc2459f1-8201-4e54-b55d-33e5c9294b6b"
      },
      "source": [
        "plt.figure(figsize=(16,7))\n",
        "ax = sns.countplot(x = 'n_projects', hue = 'status', data = df_final);\n",
        "plt.xlabel('Number of Projects of Employee', fontsize=15)\n",
        "plt.ylabel('Frequancy', fontsize=15)\n",
        "plt.title('Bar Chart showing Number of Projects-wise Employment Status', fontsize=15)\n",
        "for p in ax.patches:\n",
        "    ax.annotate(format(p.get_height(), '.2f'), (p.get_x() + p.get_width() / 2., p.get_height()), ha = 'center', va = 'center', xytext = (0, 10), textcoords = 'offset points')"
      ],
      "id": "tsRcwroU2Dkf",
      "execution_count": 69,
      "outputs": [
        {
          "output_type": "display_data",
          "data": {
            "image/png": "[encoded data removed]",
            "text/plain": [
              "<Figure size 1152x504 with 1 Axes>"
            ]
          },
          "metadata": {
            "needs_background": "light"
          }
        }
      ]
    },
    {
      "cell_type": "markdown",
      "metadata": {
        "id": "blPS3RBm2GWN"
      },
      "source": [
        "#### Analysis of Number of Projects also give similar indication what Monthly Hours gave that over 6 Project, attiration level is but-obvious very high. But employee having 2 projects also have very high attiration."
      ],
      "id": "blPS3RBm2GWN"
    },
    {
      "cell_type": "markdown",
      "metadata": {
        "id": "D7ybbwgX2NOG"
      },
      "source": [
        "![employee_project.png](data:image/png;base64,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)"
      ],
      "id": "D7ybbwgX2NOG"
    },
    {
      "cell_type": "markdown",
      "metadata": {
        "id": "WVs2PbvgrYtX"
      },
      "source": [
        "#### 7.7 Analysis of Employment Status with Employee's Tenure with the Company"
      ],
      "id": "WVs2PbvgrYtX"
    },
    {
      "cell_type": "code",
      "metadata": {
        "colab": {
          "base_uri": "https://localhost:8080/",
          "height": 465
        },
        "id": "vynn-vuotiTN",
        "outputId": "0530c2b4-82ee-414b-ada9-6513d4dea432"
      },
      "source": [
        "plt.figure(figsize=(16,7))\n",
        "ax = sns.countplot(x = 'tenure', hue = 'status', data = df_final);\n",
        "plt.xlabel('Tenure of Employee', fontsize=15)\n",
        "plt.ylabel('Frequency', fontsize=15)\n",
        "plt.title('Bar Chart showing Tenure of Employee', fontsize=15)\n",
        "for p in ax.patches:\n",
        "    ax.annotate(format(p.get_height(), '.2f'), (p.get_x() + p.get_width() / 2., p.get_height()), ha = 'center', va = 'center', xytext = (0, 10), textcoords = 'offset points')\n"
      ],
      "id": "vynn-vuotiTN",
      "execution_count": 70,
      "outputs": [
        {
          "output_type": "display_data",
          "data": {
            "image/png": "[encoded data removed]",
            "text/plain": [
              "<Figure size 1152x504 with 1 Axes>"
            ]
          },
          "metadata": {
            "needs_background": "light"
          }
        }
      ]
    },
    {
      "cell_type": "markdown",
      "metadata": {
        "id": "f-QfEtuntmhD"
      },
      "source": [
        "#### Analysis of Number of Projects also give similar indication what Monthly Hours gave that over 6 Project, attiration level is but-obvious very high. But employee having 2 projects also have very high attiration."
      ],
      "id": "f-QfEtuntmhD"
    },
    {
      "cell_type": "markdown",
      "metadata": {
        "id": "nPp5R_BMtvsD"
      },
      "source": [
        "![image4.png](data:image/png;base64,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)"
      ],
      "id": "nPp5R_BMtvsD"
    },
    {
      "cell_type": "markdown",
      "metadata": {
        "id": "yWwgdx1atxPf"
      },
      "source": [
        "#### 7.7 Analysis of Employee's who filed the complaints\n"
      ],
      "id": "yWwgdx1atxPf"
    },
    {
      "cell_type": "code",
      "metadata": {
        "colab": {
          "base_uri": "https://localhost:8080/",
          "height": 357
        },
        "id": "s3295h55t1ql",
        "outputId": "d30c506d-e03e-4d8c-f7cf-481471e847ef"
      },
      "source": [
        "plt.figure(figsize=(16,5))\n",
        "ax = sns.countplot(x = 'filed_complaint', hue = 'status', data = df_final);\n",
        "plt.xlabel('Employee who Filed Complaint', fontsize=15)\n",
        "plt.ylabel('Frequency', fontsize=15)\n",
        "plt.title('Bar Chart showing Employment Status based on Employee who Filed Complaint', fontsize=15)\n",
        "for p in ax.patches:\n",
        "    ax.annotate(format(p.get_height(), '.2f'), (p.get_x() + p.get_width() / 2., p.get_height()), ha = 'center', va = 'center', xytext = (0, 10), textcoords = 'offset points')"
      ],
      "id": "s3295h55t1ql",
      "execution_count": 71,
      "outputs": [
        {
          "output_type": "display_data",
          "data": {
            "image/png": "[encoded data removed]",
            "text/plain": [
              "<Figure size 1152x360 with 1 Axes>"
            ]
          },
          "metadata": {
            "needs_background": "light"
          }
        }
      ]
    },
    {
      "cell_type": "markdown",
      "metadata": {
        "id": "FcTbcaYzuN3K"
      },
      "source": [
        "#### If we look at the Tenure of the Employee, we can see that once the employee completed 2 years, it has the tendacny to switch Job and after 6 years, hardly any employee changes jobs.\n"
      ],
      "id": "FcTbcaYzuN3K"
    },
    {
      "cell_type": "markdown",
      "metadata": {
        "id": "-iWMHJcYuPTk"
      },
      "source": [
        "![employee_tenure.png](data:image/png;base64,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)"
      ],
      "id": "-iWMHJcYuPTk"
    },
    {
      "cell_type": "markdown",
      "metadata": {
        "id": "pEdOcdr2vGjo"
      },
      "source": [
        "#### 7.8 Analysis of Employment Status with Employee's Promotions"
      ],
      "id": "pEdOcdr2vGjo"
    },
    {
      "cell_type": "code",
      "metadata": {
        "colab": {
          "base_uri": "https://localhost:8080/",
          "height": 465
        },
        "id": "ibViDGjgvCYh",
        "outputId": "3965c9b2-8d5f-4ee2-837f-206bfbb7b1a1"
      },
      "source": [
        "plt.figure(figsize=(16,7))\n",
        "ax = sns.countplot(x = 'recently_promoted', hue = 'status', data = df_final);\n",
        "plt.xlabel('Employee who Recently got Promoted', fontsize=15)\n",
        "plt.ylabel('Frequancy', fontsize=15)\n",
        "plt.title('Bar Chart showing Employment Status based on Employee who Recently got Promoted', fontsize=15)\n",
        "for p in ax.patches:\n",
        "    ax.annotate(format(p.get_height(), '.2f'), (p.get_x() + p.get_width() / 2., p.get_height()), ha = 'center', va = 'center', xytext = (0, 10), textcoords = 'offset points')"
      ],
      "id": "ibViDGjgvCYh",
      "execution_count": 72,
      "outputs": [
        {
          "output_type": "display_data",
          "data": {
            "image/png": "[encoded data removed]",
            "text/plain": [
              "<Figure size 1152x504 with 1 Axes>"
            ]
          },
          "metadata": {
            "needs_background": "light"
          }
        }
      ]
    },
    {
      "cell_type": "markdown",
      "metadata": {
        "id": "yPfTZC8GvNAZ"
      },
      "source": [
        "#### Employee who recently got promoted has much lower attiration rate!"
      ],
      "id": "yPfTZC8GvNAZ"
    },
    {
      "cell_type": "markdown",
      "metadata": {
        "id": "e4JjjibovYAv"
      },
      "source": [
        "![employee_promotions.png](data:image/png;base64,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)"
      ],
      "id": "e4JjjibovYAv"
    },
    {
      "cell_type": "code",
      "metadata": {
        "colab": {
          "base_uri": "https://localhost:8080/",
          "height": 465
        },
        "id": "iGXM2YeJvPzq",
        "outputId": "60a70f88-5453-470a-a8ad-6ddc3feadb4f"
      },
      "source": [
        "plt.figure(figsize=(16,7))\n",
        "ax = sns.countplot(x = 'filed_complaint', hue = 'status', data = df_final);\n",
        "plt.xlabel('Employee who Filed Complaint', fontsize=15)\n",
        "plt.ylabel('Frequency', fontsize=15)\n",
        "plt.title('Bar Chart showing Employment Status based on Employee who Filed Complaint', fontsize=15)\n",
        "for p in ax.patches:\n",
        "    ax.annotate(format(p.get_height(), '.2f'), (p.get_x() + p.get_width() / 2., p.get_height()), ha = 'center', va = 'center', xytext = (0, 10), textcoords = 'offset points')"
      ],
      "id": "iGXM2YeJvPzq",
      "execution_count": 73,
      "outputs": [
        {
          "output_type": "display_data",
          "data": {
            "image/png": "[encoded data removed]",
            "text/plain": [
              "<Figure size 1152x504 with 1 Axes>"
            ]
          },
          "metadata": {
            "needs_background": "light"
          }
        }
      ]
    },
    {
      "cell_type": "code",
      "metadata": {
        "colab": {
          "base_uri": "https://localhost:8080/",
          "height": 482
        },
        "id": "sjCGE51Ovhnj",
        "outputId": "0eeebdbd-9449-42ff-c158-12c8be95d837"
      },
      "source": [
        "plt.figure(figsize=(16,7))\n",
        "sns.countplot(x = 'dept_name', hue = 'status', data = df_final);\n",
        "plt.xlabel('Depatment Name of Employee', fontsize=15)\n",
        "plt.ylabel('Frequancy', fontsize=15)\n",
        "plt.title('Bar Chart showing Department-wise Employment Status', fontsize=15)"
      ],
      "id": "sjCGE51Ovhnj",
      "execution_count": 74,
      "outputs": [
        {
          "output_type": "execute_result",
          "data": {
            "text/plain": [
              "Text(0.5, 1.0, 'Bar Chart showing Department-wise Employment Status')"
            ]
          },
          "metadata": {},
          "execution_count": 74
        },
        {
          "output_type": "display_data",
          "data": {
            "image/png": "[encoded data removed]",
            "text/plain": [
              "<Figure size 1152x504 with 1 Axes>"
            ]
          },
          "metadata": {
            "needs_background": "light"
          }
        }
      ]
    },
    {
      "cell_type": "code",
      "metadata": {
        "colab": {
          "base_uri": "https://localhost:8080/",
          "height": 482
        },
        "id": "lk1Q3eLIvkLx",
        "outputId": "8f9d839c-dc57-4ba9-e4f3-118c6e2fe2f5"
      },
      "source": [
        "plt.figure(figsize=(16,7))\n",
        "sns.countplot(x = 'dept_head', hue = 'status', data = df_final);\n",
        "plt.xlabel('Depatment Head of Employee', fontsize=15)\n",
        "plt.ylabel('Frequancy', fontsize=15)\n",
        "plt.title('Bar Chart showing Department-wise Employment Status', fontsize=15)"
      ],
      "id": "lk1Q3eLIvkLx",
      "execution_count": 75,
      "outputs": [
        {
          "output_type": "execute_result",
          "data": {
            "text/plain": [
              "Text(0.5, 1.0, 'Bar Chart showing Department-wise Employment Status')"
            ]
          },
          "metadata": {},
          "execution_count": 75
        },
        {
          "output_type": "display_data",
          "data": {
            "image/png": "[encoded data removed]",
            "text/plain": [
              "<Figure size 1152x504 with 1 Axes>"
            ]
          },
          "metadata": {
            "needs_background": "light"
          }
        }
      ]
    },
    {
      "cell_type": "code",
      "metadata": {
        "colab": {
          "base_uri": "https://localhost:8080/",
          "height": 465
        },
        "id": "UfWIvEuSvmNS",
        "outputId": "6ff95889-d3cf-4cfe-9f97-560b1aa5ea15"
      },
      "source": [
        "plt.figure(figsize=(16,7))\n",
        "ax = sns.histplot(x = 'last_evaluation', hue = 'status', data = df_final, binwidth=0.1);\n",
        "plt.xlabel('Employee who got Evaluation', fontsize=15)\n",
        "plt.ylabel('Frequancy', fontsize=15)\n",
        "plt.title('Bar Chart showing Employment Status based on Last Evaluation', fontsize=15)\n",
        "for p in ax.patches:\n",
        "    ax.annotate(format(p.get_height(), '.2f'), (p.get_x() + p.get_width() / 2., p.get_height()), ha = 'center', va = 'center', xytext = (0, 10), textcoords = 'offset points')"
      ],
      "id": "UfWIvEuSvmNS",
      "execution_count": 76,
      "outputs": [
        {
          "output_type": "display_data",
          "data": {
            "image/png": "[encoded data removed]",
            "text/plain": [
              "<Figure size 1152x504 with 1 Axes>"
            ]
          },
          "metadata": {
            "needs_background": "light"
          }
        }
      ]
    },
    {
      "cell_type": "code",
      "metadata": {
        "colab": {
          "base_uri": "https://localhost:8080/",
          "height": 204
        },
        "id": "-wt-HKuIvqFS",
        "outputId": "959ad482-dc52-47d0-9e3a-f99692a8e51c"
      },
      "source": [
        "df_final.head()"
      ],
      "id": "-wt-HKuIvqFS",
      "execution_count": 77,
      "outputs": [
        {
          "output_type": "execute_result",
          "data": {
            "text/html": [
              "<div>\n",
              "<style scoped>\n",
              "    .dataframe tbody tr th:only-of-type {\n",
              "        vertical-align: middle;\n",
              "    }\n",
              "\n",
              "    .dataframe tbody tr th {\n",
              "        vertical-align: top;\n",
              "    }\n",
              "\n",
              "    .dataframe thead th {\n",
              "        text-align: right;\n",
              "    }\n",
              "</style>\n",
              "<table border=\"1\" class=\"dataframe\">\n",
              "  <thead>\n",
              "    <tr style=\"text-align: right;\">\n",
              "      <th></th>\n",
              "      <th>employee_id</th>\n",
              "      <th>age</th>\n",
              "      <th>gender</th>\n",
              "      <th>marital_status</th>\n",
              "      <th>dept_id</th>\n",
              "      <th>dept_name</th>\n",
              "      <th>dept_head</th>\n",
              "      <th>avg_monthly_hrs</th>\n",
              "      <th>filed_complaint</th>\n",
              "      <th>last_evaluation</th>\n",
              "      <th>n_projects</th>\n",
              "      <th>recently_promoted</th>\n",
              "      <th>salary</th>\n",
              "      <th>satisfaction</th>\n",
              "      <th>status</th>\n",
              "      <th>tenure</th>\n",
              "    </tr>\n",
              "  </thead>\n",
              "  <tbody>\n",
              "    <tr>\n",
              "      <th>0</th>\n",
              "      <td>112868</td>\n",
              "      <td>29.00000</td>\n",
              "      <td>Female</td>\n",
              "      <td>Married</td>\n",
              "      <td>D00-IT</td>\n",
              "      <td>IT</td>\n",
              "      <td>Henry Adey</td>\n",
              "      <td>244.00</td>\n",
              "      <td>0.00</td>\n",
              "      <td>0.92620</td>\n",
              "      <td>6</td>\n",
              "      <td>0.0</td>\n",
              "      <td>medium</td>\n",
              "      <td>0.06187</td>\n",
              "      <td>Left</td>\n",
              "      <td>5.00</td>\n",
              "    </tr>\n",
              "    <tr>\n",
              "      <th>1</th>\n",
              "      <td>122314</td>\n",
              "      <td>36.00000</td>\n",
              "      <td>Female</td>\n",
              "      <td>Married</td>\n",
              "      <td>D00-IT</td>\n",
              "      <td>IT</td>\n",
              "      <td>Henry Adey</td>\n",
              "      <td>289.00</td>\n",
              "      <td>0.00</td>\n",
              "      <td>0.92986</td>\n",
              "      <td>7</td>\n",
              "      <td>0.0</td>\n",
              "      <td>low</td>\n",
              "      <td>0.16174</td>\n",
              "      <td>Left</td>\n",
              "      <td>4.00</td>\n",
              "    </tr>\n",
              "    <tr>\n",
              "      <th>2</th>\n",
              "      <td>126561</td>\n",
              "      <td>22.00000</td>\n",
              "      <td>Female</td>\n",
              "      <td>Unmarried</td>\n",
              "      <td>D00-IT</td>\n",
              "      <td>IT</td>\n",
              "      <td>Henry Adey</td>\n",
              "      <td>235.00</td>\n",
              "      <td>0.00</td>\n",
              "      <td>0.95764</td>\n",
              "      <td>5</td>\n",
              "      <td>0.0</td>\n",
              "      <td>low</td>\n",
              "      <td>0.72571</td>\n",
              "      <td>Left</td>\n",
              "      <td>5.00</td>\n",
              "    </tr>\n",
              "    <tr>\n",
              "      <th>3</th>\n",
              "      <td>115017</td>\n",
              "      <td>24.00000</td>\n",
              "      <td>Female</td>\n",
              "      <td>Unmarried</td>\n",
              "      <td>D00-IT</td>\n",
              "      <td>IT</td>\n",
              "      <td>Henry Adey</td>\n",
              "      <td>158.00</td>\n",
              "      <td>0.00</td>\n",
              "      <td>0.54633</td>\n",
              "      <td>2</td>\n",
              "      <td>0.0</td>\n",
              "      <td>low</td>\n",
              "      <td>0.39149</td>\n",
              "      <td>Left</td>\n",
              "      <td>3.00</td>\n",
              "    </tr>\n",
              "    <tr>\n",
              "      <th>4</th>\n",
              "      <td>112281</td>\n",
              "      <td>28.00000</td>\n",
              "      <td>Male</td>\n",
              "      <td>Unmarried</td>\n",
              "      <td>D00-IT</td>\n",
              "      <td>IT</td>\n",
              "      <td>Henry Adey</td>\n",
              "      <td>277.00</td>\n",
              "      <td>0.00</td>\n",
              "      <td>0.94960</td>\n",
              "      <td>2</td>\n",
              "      <td>0.0</td>\n",
              "      <td>medium</td>\n",
              "      <td>0.72321</td>\n",
              "      <td>Left</td>\n",
              "      <td>3.00</td>\n",
              "    </tr>\n",
              "  </tbody>\n",
              "</table>\n",
              "</div>"
            ],
            "text/plain": [
              "   employee_id      age  gender  ... satisfaction status tenure\n",
              "0       112868 29.00000  Female  ...      0.06187   Left   5.00\n",
              "1       122314 36.00000  Female  ...      0.16174   Left   4.00\n",
              "2       126561 22.00000  Female  ...      0.72571   Left   5.00\n",
              "3       115017 24.00000  Female  ...      0.39149   Left   3.00\n",
              "4       112281 28.00000    Male  ...      0.72321   Left   3.00\n",
              "\n",
              "[5 rows x 16 columns]"
            ]
          },
          "metadata": {},
          "execution_count": 77
        }
      ]
    },
    {
      "cell_type": "code",
      "metadata": {
        "id": "aJszvBv2vsEp"
      },
      "source": [
        "#df_final.set_index('employee_id', inplace=True)\n",
        "#df_final.head()"
      ],
      "id": "aJszvBv2vsEp",
      "execution_count": 78,
      "outputs": []
    },
    {
      "cell_type": "code",
      "metadata": {
        "id": "OpDBwHAWvwZi"
      },
      "source": [
        "df_final['gender'] = df_final['gender'].astype('category').cat.codes\n",
        "df_final['marital_status'] = df_final['marital_status'].astype('category').cat.codes\n",
        "df_final['dept_id'] = df_final['dept_id'].astype('category').cat.codes\n",
        "df_final['dept_name'] = df_final['dept_name'].astype('category').cat.codes\n",
        "df_final['dept_head'] = df_final['dept_head'].astype('category').cat.codes\n",
        "df_final['salary'] = df_final['salary'].astype('category').cat.codes\n",
        "df_final['status'] = df_final['status'].astype('category').cat.codes"
      ],
      "id": "OpDBwHAWvwZi",
      "execution_count": 79,
      "outputs": []
    },
    {
      "cell_type": "code",
      "metadata": {
        "colab": {
          "base_uri": "https://localhost:8080/",
          "height": 204
        },
        "id": "Is4aqy4NvyVW",
        "outputId": "85487f1b-07e3-4ae1-d65e-a5c791b7d609"
      },
      "source": [
        "df_final.head()"
      ],
      "id": "Is4aqy4NvyVW",
      "execution_count": 80,
      "outputs": [
        {
          "output_type": "execute_result",
          "data": {
            "text/html": [
              "<div>\n",
              "<style scoped>\n",
              "    .dataframe tbody tr th:only-of-type {\n",
              "        vertical-align: middle;\n",
              "    }\n",
              "\n",
              "    .dataframe tbody tr th {\n",
              "        vertical-align: top;\n",
              "    }\n",
              "\n",
              "    .dataframe thead th {\n",
              "        text-align: right;\n",
              "    }\n",
              "</style>\n",
              "<table border=\"1\" class=\"dataframe\">\n",
              "  <thead>\n",
              "    <tr style=\"text-align: right;\">\n",
              "      <th></th>\n",
              "      <th>employee_id</th>\n",
              "      <th>age</th>\n",
              "      <th>gender</th>\n",
              "      <th>marital_status</th>\n",
              "      <th>dept_id</th>\n",
              "      <th>dept_name</th>\n",
              "      <th>dept_head</th>\n",
              "      <th>avg_monthly_hrs</th>\n",
              "      <th>filed_complaint</th>\n",
              "      <th>last_evaluation</th>\n",
              "      <th>n_projects</th>\n",
              "      <th>recently_promoted</th>\n",
              "      <th>salary</th>\n",
              "      <th>satisfaction</th>\n",
              "      <th>status</th>\n",
              "      <th>tenure</th>\n",
              "    </tr>\n",
              "  </thead>\n",
              "  <tbody>\n",
              "    <tr>\n",
              "      <th>0</th>\n",
              "      <td>112868</td>\n",
              "      <td>29.00000</td>\n",
              "      <td>0</td>\n",
              "      <td>0</td>\n",
              "      <td>3</td>\n",
              "      <td>3</td>\n",
              "      <td>6</td>\n",
              "      <td>244.00</td>\n",
              "      <td>0.00</td>\n",
              "      <td>0.92620</td>\n",
              "      <td>6</td>\n",
              "      <td>0.0</td>\n",
              "      <td>2</td>\n",
              "      <td>0.06187</td>\n",
              "      <td>1</td>\n",
              "      <td>5.00</td>\n",
              "    </tr>\n",
              "    <tr>\n",
              "      <th>1</th>\n",
              "      <td>122314</td>\n",
              "      <td>36.00000</td>\n",
              "      <td>0</td>\n",
              "      <td>0</td>\n",
              "      <td>3</td>\n",
              "      <td>3</td>\n",
              "      <td>6</td>\n",
              "      <td>289.00</td>\n",
              "      <td>0.00</td>\n",
              "      <td>0.92986</td>\n",
              "      <td>7</td>\n",
              "      <td>0.0</td>\n",
              "      <td>1</td>\n",
              "      <td>0.16174</td>\n",
              "      <td>1</td>\n",
              "      <td>4.00</td>\n",
              "    </tr>\n",
              "    <tr>\n",
              "      <th>2</th>\n",
              "      <td>126561</td>\n",
              "      <td>22.00000</td>\n",
              "      <td>0</td>\n",
              "      <td>1</td>\n",
              "      <td>3</td>\n",
              "      <td>3</td>\n",
              "      <td>6</td>\n",
              "      <td>235.00</td>\n",
              "      <td>0.00</td>\n",
              "      <td>0.95764</td>\n",
              "      <td>5</td>\n",
              "      <td>0.0</td>\n",
              "      <td>1</td>\n",
              "      <td>0.72571</td>\n",
              "      <td>1</td>\n",
              "      <td>5.00</td>\n",
              "    </tr>\n",
              "    <tr>\n",
              "      <th>3</th>\n",
              "      <td>115017</td>\n",
              "      <td>24.00000</td>\n",
              "      <td>0</td>\n",
              "      <td>1</td>\n",
              "      <td>3</td>\n",
              "      <td>3</td>\n",
              "      <td>6</td>\n",
              "      <td>158.00</td>\n",
              "      <td>0.00</td>\n",
              "      <td>0.54633</td>\n",
              "      <td>2</td>\n",
              "      <td>0.0</td>\n",
              "      <td>1</td>\n",
              "      <td>0.39149</td>\n",
              "      <td>1</td>\n",
              "      <td>3.00</td>\n",
              "    </tr>\n",
              "    <tr>\n",
              "      <th>4</th>\n",
              "      <td>112281</td>\n",
              "      <td>28.00000</td>\n",
              "      <td>1</td>\n",
              "      <td>1</td>\n",
              "      <td>3</td>\n",
              "      <td>3</td>\n",
              "      <td>6</td>\n",
              "      <td>277.00</td>\n",
              "      <td>0.00</td>\n",
              "      <td>0.94960</td>\n",
              "      <td>2</td>\n",
              "      <td>0.0</td>\n",
              "      <td>2</td>\n",
              "      <td>0.72321</td>\n",
              "      <td>1</td>\n",
              "      <td>3.00</td>\n",
              "    </tr>\n",
              "  </tbody>\n",
              "</table>\n",
              "</div>"
            ],
            "text/plain": [
              "   employee_id      age  gender  ...  satisfaction  status  tenure\n",
              "0       112868 29.00000       0  ...       0.06187       1    5.00\n",
              "1       122314 36.00000       0  ...       0.16174       1    4.00\n",
              "2       126561 22.00000       0  ...       0.72571       1    5.00\n",
              "3       115017 24.00000       0  ...       0.39149       1    3.00\n",
              "4       112281 28.00000       1  ...       0.72321       1    3.00\n",
              "\n",
              "[5 rows x 16 columns]"
            ]
          },
          "metadata": {},
          "execution_count": 80
        }
      ]
    },
    {
      "cell_type": "code",
      "metadata": {
        "colab": {
          "base_uri": "https://localhost:8080/",
          "height": 553
        },
        "id": "Q00cd6L7v0RT",
        "outputId": "f727e194-4feb-44d7-80ad-c7ade10b6a43"
      },
      "source": [
        "#df_final.corr()\n",
        "plt.figure(figsize=(16,8))\n",
        "sns.heatmap(df_final.corr(), annot=True);"
      ],
      "id": "Q00cd6L7v0RT",
      "execution_count": 81,
      "outputs": [
        {
          "output_type": "display_data",
          "data": {
            "image/png": "[encoded data removed]",
            "text/plain": [
              "<Figure size 1152x576 with 2 Axes>"
            ]
          },
          "metadata": {
            "needs_background": "light"
          }
        }
      ]
    },
    {
      "cell_type": "markdown",
      "metadata": {
        "id": "4L016VqyXRMJ"
      },
      "source": [
        "Machine Language Application"
      ],
      "id": "4L016VqyXRMJ"
    },
    {
      "cell_type": "markdown",
      "metadata": {
        "id": "DyRj-x6JXXTd"
      },
      "source": [
        "We need to use Classification models here as we need to predit if an eployee will leave or not.\n"
      ],
      "id": "DyRj-x6JXXTd"
    },
    {
      "cell_type": "code",
      "metadata": {
        "id": "EgxCpGyD_lzM"
      },
      "source": [
        "model_data=df_final.drop(columns=['employee_id','age','gender','marital_status','dept_name','dept_head'],axis=1)"
      ],
      "id": "EgxCpGyD_lzM",
      "execution_count": 82,
      "outputs": []
    },
    {
      "cell_type": "code",
      "metadata": {
        "id": "51eYNdbJ4EL0"
      },
      "source": [
        "from sklearn.model_selection import train_test_split  \n",
        "from sklearn.metrics import confusion_matrix\n",
        "from sklearn.metrics import accuracy_score\n",
        "  \n",
        "test_size = 0.15\n",
        "\n",
        "x = model_data.loc[:, model_data.columns != 'status']\n",
        "y = model_data.status"
      ],
      "id": "51eYNdbJ4EL0",
      "execution_count": 83,
      "outputs": []
    },
    {
      "cell_type": "code",
      "metadata": {
        "colab": {
          "base_uri": "https://localhost:8080/"
        },
        "id": "vOl9EXWMUF4L",
        "outputId": "f5bdbc7f-e97b-4335-9a60-c888b0023988"
      },
      "source": [
        "#Logistic Regression \n",
        "from sklearn.linear_model import LogisticRegression\n",
        "\n",
        "max_accuracy = 0\n",
        "for random_state in range(1000):\n",
        "  x_train, x_test, y_train, y_test = train_test_split(x, y, test_size = test_size, random_state = random_state)\n",
        "  logistic = LogisticRegression()\n",
        "  logistic.fit(x_train,y_train)\n",
        "  prediction = logistic.predict(x_test)\n",
        "  # Accuracy Score\n",
        "  Accuracy_Score = accuracy_score(y_test, prediction) \n",
        "  #Confusion Matrix  \n",
        "  cm = confusion_matrix(y_test, prediction)  \n",
        "  if Accuracy_Score > max_accuracy:\n",
        "    max_accuracy = Accuracy_Score\n",
        "    req_random_state = random_state\n",
        "    max_cm = cm\n",
        "print( \" Random State  = \", req_random_state)\n",
        "print( \" Accuracy Score = \", max_accuracy)\n",
        "print( \" Confusion Matrix : \\n\", max_cm) "
      ],
      "id": "vOl9EXWMUF4L",
      "execution_count": 84,
      "outputs": [
        {
          "output_type": "stream",
          "name": "stdout",
          "text": [
            " Random State  =  808\n",
            " Accuracy Score =  0.8002832861189801\n",
            " Confusion Matrix : \n",
            " [[1556  106]\n",
            " [ 317  139]]\n"
          ]
        }
      ]
    },
    {
      "cell_type": "code",
      "metadata": {
        "id": "S3lBAb_rpy-6",
        "colab": {
          "base_uri": "https://localhost:8080/"
        },
        "outputId": "3dd8c586-a10d-4959-8137-021fd0c93677"
      },
      "source": [
        "from sklearn.neighbors import KNeighborsClassifier\n",
        "\n",
        "max_accuracy = 0\n",
        "for random_state in range(600):\n",
        "  x_train, x_test, y_train, y_test = train_test_split(x, y, test_size = test_size, random_state = random_state)\n",
        "  classifier = KNeighborsClassifier(n_neighbors = 5)\n",
        "  classifier.fit(x_train,y_train)\n",
        "  y_pred = classifier.predict(x_test)  \n",
        "  # Accuracy Score\n",
        "  Accuracy_Score = accuracy_score(y_test, y_pred) \n",
        "  #Confusion Matrix  \n",
        "  cm = confusion_matrix(y_test, y_pred)  \n",
        "  if Accuracy_Score > max_accuracy:\n",
        "    max_accuracy = Accuracy_Score\n",
        "    req_random_state = random_state\n",
        "    max_cm = cm\n",
        "print( \" Random State  = \", req_random_state)\n",
        "print( \" Accuracy Score = \", max_accuracy)\n",
        "print( \" Confusion Matrix : \\n\", max_cm)  \n"
      ],
      "id": "S3lBAb_rpy-6",
      "execution_count": 85,
      "outputs": [
        {
          "output_type": "stream",
          "name": "stdout",
          "text": [
            " Random State  =  584\n",
            " Accuracy Score =  0.9485363550519358\n",
            " Confusion Matrix : \n",
            " [[1566   75]\n",
            " [  34  443]]\n"
          ]
        }
      ]
    },
    {
      "cell_type": "code",
      "metadata": {
        "id": "hUL1ijMrFTXl"
      },
      "source": [
        "from sklearn.metrics import classification_report\n",
        "from sklearn.metrics import roc_auc_score\n",
        "from sklearn.model_selection import GridSearchCV\n",
        "\n",
        "#Split data into training and testing.\n",
        "x_train, x_test, y_train, y_test = train_test_split(x, y, test_size = test_size, random_state=req_random_state)\n",
        "knn = KNeighborsClassifier(n_neighbors = 5)\n"
      ],
      "id": "hUL1ijMrFTXl",
      "execution_count": 86,
      "outputs": []
    },
    {
      "cell_type": "code",
      "metadata": {
        "colab": {
          "base_uri": "https://localhost:8080/"
        },
        "id": "H5cdJ93lWqWn",
        "outputId": "32dc5550-72ef-4766-8c0f-df75ef60c8b8"
      },
      "source": [
        "#Training the model.\n",
        "knn.fit(x_train, y_train)\n",
        "#Predict test data set.\n",
        "y_pred = knn.predict(x_test)\n",
        "# Accuracy Score\n",
        "Accuracy_Score = accuracy_score(y_test, y_pred) \n",
        "print( \" Accuracy Score = \", max_accuracy)\n",
        "#Confusion Matrix  \n",
        "cm = confusion_matrix(y_test, y_pred)\n",
        "print( \" Confusion Matrix : \\n\", max_cm) \n",
        "#Checking performance our model with classification report.\n",
        "print(classification_report(y_test, y_pred))\n",
        "#Checking performance our model with ROC Score.\n",
        "roc_auc_score(y_test, y_pred)\n"
      ],
      "id": "H5cdJ93lWqWn",
      "execution_count": 87,
      "outputs": [
        {
          "output_type": "stream",
          "name": "stdout",
          "text": [
            " Accuracy Score =  0.9485363550519358\n",
            " Confusion Matrix : \n",
            " [[1566   75]\n",
            " [  34  443]]\n",
            "              precision    recall  f1-score   support\n",
            "\n",
            "           0       0.98      0.95      0.97      1641\n",
            "           1       0.86      0.93      0.89       477\n",
            "\n",
            "    accuracy                           0.95      2118\n",
            "   macro avg       0.92      0.94      0.93      2118\n",
            "weighted avg       0.95      0.95      0.95      2118\n",
            "\n"
          ]
        },
        {
          "output_type": "execute_result",
          "data": {
            "text/plain": [
              "0.9415086674408532"
            ]
          },
          "metadata": {},
          "execution_count": 87
        }
      ]
    },
    {
      "cell_type": "code",
      "metadata": {
        "colab": {
          "base_uri": "https://localhost:8080/"
        },
        "id": "XKT434qRMV87",
        "outputId": "50a57178-3da6-490d-e320-f70a66627fd6"
      },
      "source": [
        "#List Hyperparameters that we want to tune.\n",
        "leaf_size = list(range(1,30))\n",
        "n_neighbors = list(range(1,20))\n",
        "p=[1,2]\n",
        "#Convert to dictionary\n",
        "hyperparameters = dict(leaf_size=leaf_size, n_neighbors=n_neighbors, p=p)\n",
        "#Create new KNN object\n",
        "knn_2 = KNeighborsClassifier()\n",
        "#Use GridSearch\n",
        "clf = GridSearchCV(knn_2, hyperparameters, cv=10)\n",
        "#Fit the model\n",
        "best_model = clf.fit(x,y)\n",
        "#Print The value of best Hyperparameters\n",
        "print('Best leaf_size:', best_model.best_estimator_.get_params()['leaf_size'])\n",
        "print('Best p:', best_model.best_estimator_.get_params()['p'])\n",
        "print('Best n_neighbors:', best_model.best_estimator_.get_params()['n_neighbors'])"
      ],
      "id": "XKT434qRMV87",
      "execution_count": 88,
      "outputs": [
        {
          "output_type": "stream",
          "name": "stdout",
          "text": [
            "Best leaf_size: 2\n",
            "Best p: 1\n",
            "Best n_neighbors: 1\n"
          ]
        }
      ]
    },
    {
      "cell_type": "code",
      "metadata": {
        "id": "FXeMCCsXXJNc"
      },
      "source": [
        "#Split data into training and testing.\n",
        "x_train, x_test, y_train, y_test = train_test_split(x, y, test_size = test_size, random_state=req_random_state)\n",
        "knn = KNeighborsClassifier(n_neighbors = 5)"
      ],
      "id": "FXeMCCsXXJNc",
      "execution_count": 89,
      "outputs": []
    },
    {
      "cell_type": "code",
      "metadata": {
        "colab": {
          "base_uri": "https://localhost:8080/"
        },
        "id": "Kvy76EllXMO4",
        "outputId": "dd2450e6-ecb1-482b-907d-b2d8cbc04377"
      },
      "source": [
        "#Training the model.\n",
        "knn.fit(x_train, y_train)\n",
        "#Predict test data set.\n",
        "y_pred = knn.predict(x_test)\n",
        "# Accuracy Score\n",
        "Accuracy_Score = accuracy_score(y_test, y_pred) \n",
        "print( \" Accuracy Score = \", max_accuracy)\n",
        "#Confusion Matrix  \n",
        "cm = confusion_matrix(y_test, y_pred)\n",
        "print( \" Confusion Matrix : \\n\", max_cm) \n",
        "#Checking performance our model with classification report.\n",
        "print(classification_report(y_test, y_pred))\n",
        "#Checking performance our model with ROC Score.\n",
        "roc_auc_score(y_test, y_pred)"
      ],
      "id": "Kvy76EllXMO4",
      "execution_count": 90,
      "outputs": [
        {
          "output_type": "stream",
          "name": "stdout",
          "text": [
            " Accuracy Score =  0.9485363550519358\n",
            " Confusion Matrix : \n",
            " [[1566   75]\n",
            " [  34  443]]\n",
            "              precision    recall  f1-score   support\n",
            "\n",
            "           0       0.98      0.95      0.97      1641\n",
            "           1       0.86      0.93      0.89       477\n",
            "\n",
            "    accuracy                           0.95      2118\n",
            "   macro avg       0.92      0.94      0.93      2118\n",
            "weighted avg       0.95      0.95      0.95      2118\n",
            "\n"
          ]
        },
        {
          "output_type": "execute_result",
          "data": {
            "text/plain": [
              "0.9415086674408532"
            ]
          },
          "metadata": {},
          "execution_count": 90
        }
      ]
    },
    {
      "cell_type": "code",
      "metadata": {
        "id": "cjW7i40OUlC_"
      },
      "source": [
        "# RandomizedSearchCV\n",
        "#from sklearn.ensemble import RandomForestClassifier\n",
        "#x_train, x_test, y_train, y_test = train_test_split(x, y, test_size=0.20, random_state=1)\n",
        "\n",
        "#model = RandomForestClassifier(random_state = 0)\n",
        "#model.fit(x_train, y_train)\n",
        "\n",
        "#model1 = RandomForestClassifier(random_state = 0,\n",
        "#                                n_estimators = 15,\n",
        "#                                min_samples_split = 2,\n",
        "#                                min_samples_leaf = 1)\n",
        "#model1.fit(x_train, y_train)\n",
        "\n",
        "\n",
        "#from sklearn.model_selection import RandomizedSearchCV\n",
        "#from scipy.stats import randint as sp_randint\n",
        "# parameters for GridSearchCV\n",
        "# specify parameters and distributions to sample from\n",
        "#param_dist = {\"max_depth\": range(2,5),\n",
        "#              \"min_samples_split\": sp_randint(2, 11),\n",
        "#              \"min_samples_leaf\": sp_randint(1, 11),\n",
        "#              \"bootstrap\": [True, False],\n",
        "#              \"n_estimators\": [100, 400, 700, 1000, 1500],\n",
        "#              \"criterion\" : [\"gini\", \"entropy\"],\n",
        "#              'max_features': ['sqrt', 'log2', None]\n",
        "#             }\n",
        "# run randomized search\n",
        "#n_iter_search = 50\n",
        "#random_search = RandomizedSearchCV(model, param_distributions = param_dist,\n",
        "#                                   n_iter = n_iter_search,\n",
        "#                                   n_jobs = -1)\n",
        "#random_search.fit(x_train, y_train)\n",
        "#y_pred_test1 = random_search.predict(X_test)\n",
        "#print('Accuracy score on test data with RandomizedSearchCV is:', accuracy_score(y_test,y_pred_test1))"
      ],
      "id": "cjW7i40OUlC_",
      "execution_count": 91,
      "outputs": []
    },
    {
      "cell_type": "code",
      "metadata": {
        "id": "6W7eiZqw7szL",
        "colab": {
          "base_uri": "https://localhost:8080/"
        },
        "outputId": "aea44958-9f10-4205-e782-c2bd5e0062db"
      },
      "source": [
        "from sklearn.naive_bayes import GaussianNB\n",
        "from sklearn.preprocessing import StandardScaler  \n",
        "\n",
        "max_accuracy = 0\n",
        "for random_state in range(200):\n",
        "  x_train, x_test, y_train, y_test = train_test_split(x, y, test_size = 0.15, random_state = random_state)\n",
        "  sc = StandardScaler()  \n",
        "  x_train = sc.fit_transform(x_train)  \n",
        "  x_test = sc.transform(x_test) \n",
        "  classifier = GaussianNB()\n",
        "  classifier.fit(x_train, y_train)\n",
        "  y_pred = classifier.predict(x_test)  \n",
        "  # Accuracy Score\n",
        "  Accuracy_Score = accuracy_score(y_test, y_pred) \n",
        "  #Confusion Matrix  \n",
        "  cm = confusion_matrix(y_test, y_pred)  \n",
        "  if Accuracy_Score > max_accuracy:\n",
        "    max_accuracy = Accuracy_Score\n",
        "    req_random_state = random_state\n",
        "    max_cm = cm\n",
        "print( \" Random State  = \", req_random_state)\n",
        "print( \" Accuracy Score = \", max_accuracy)\n",
        "print( \" Confusion Matrix : \\n\", max_cm)  "
      ],
      "id": "6W7eiZqw7szL",
      "execution_count": 92,
      "outputs": [
        {
          "output_type": "stream",
          "name": "stdout",
          "text": [
            " Random State  =  191\n",
            " Accuracy Score =  0.826251180358829\n",
            " Confusion Matrix : \n",
            " [[1357  255]\n",
            " [ 113  393]]\n"
          ]
        }
      ]
    },
    {
      "cell_type": "code",
      "metadata": {
        "id": "JKLieAcBWsx-"
      },
      "source": [
        "x_train, x_test, y_train, y_test = train_test_split(x, y, test_size = test_size, random_state = req_random_state)\n",
        "sc = StandardScaler()  \n",
        "x_train = sc.fit_transform(x_train)  \n",
        "x_test = sc.transform(x_test) \n",
        "GNB = GaussianNB()\n"
      ],
      "id": "JKLieAcBWsx-",
      "execution_count": 93,
      "outputs": []
    },
    {
      "cell_type": "code",
      "metadata": {
        "colab": {
          "base_uri": "https://localhost:8080/"
        },
        "id": "7877d82fW3Ij",
        "outputId": "62f984f0-58cf-4b34-8f27-031ad262755d"
      },
      "source": [
        "#Training the model.\n",
        "GNB.fit(x_train, y_train)\n",
        "#Predict test data set.\n",
        "y_pred = GNB.predict(x_test)\n",
        "# Accuracy Score\n",
        "Accuracy_Score = accuracy_score(y_test, y_pred) \n",
        "print( \" Accuracy Score = \", max_accuracy)\n",
        "#Confusion Matrix  \n",
        "cm = confusion_matrix(y_test, y_pred)\n",
        "print( \" Confusion Matrix : \\n\", max_cm) \n",
        "#Checking performance our model with classification report.\n",
        "print(classification_report(y_test, y_pred))\n",
        "#Checking performance our model with ROC Score.\n",
        "roc_auc_score(y_test, y_pred)"
      ],
      "id": "7877d82fW3Ij",
      "execution_count": 94,
      "outputs": [
        {
          "output_type": "stream",
          "name": "stdout",
          "text": [
            " Accuracy Score =  0.826251180358829\n",
            " Confusion Matrix : \n",
            " [[1357  255]\n",
            " [ 113  393]]\n",
            "              precision    recall  f1-score   support\n",
            "\n",
            "           0       0.92      0.84      0.88      1612\n",
            "           1       0.61      0.78      0.68       506\n",
            "\n",
            "    accuracy                           0.83      2118\n",
            "   macro avg       0.76      0.81      0.78      2118\n",
            "weighted avg       0.85      0.83      0.83      2118\n",
            "\n"
          ]
        },
        {
          "output_type": "execute_result",
          "data": {
            "text/plain": [
              "0.8092456281446464"
            ]
          },
          "metadata": {},
          "execution_count": 94
        }
      ]
    },
    {
      "cell_type": "code",
      "metadata": {
        "id": "rMUKxPKIXEdu"
      },
      "source": [
        ""
      ],
      "id": "rMUKxPKIXEdu",
      "execution_count": 94,
      "outputs": []
    }
  ]
}