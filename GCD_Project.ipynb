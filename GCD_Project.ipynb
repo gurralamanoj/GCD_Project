{
  "nbformat": 4,
  "nbformat_minor": 0,
  "metadata": {
    "colab": {
      "name": "Copy of GCD_Project.ipynb",
      "provenance": [],
      "collapsed_sections": [],
      "authorship_tag": "ABX9TyPaXz/Quq+Yu2+1T/Na88HO",
      "include_colab_link": true
    },
    "kernelspec": {
      "name": "python3",
      "display_name": "Python 3"
    },
    "language_info": {
      "name": "python"
    }
  },
  "cells": [
    {
      "cell_type": "markdown",
      "metadata": {
        "id": "view-in-github",
        "colab_type": "text"
      },
      "source": [
        "<a href=\"https://colab.research.google.com/github/gurralamanoj/GCD_Project/blob/main/GCD_Project.ipynb\" target=\"_parent\"><img src=\"https://colab.research.google.com/assets/colab-badge.svg\" alt=\"Open In Colab\"/></a>"
      ]
    },
    {
      "cell_type": "code",
      "metadata": {
        "colab": {
          "base_uri": "https://localhost:8080/"
        },
        "id": "U_u3n4rQuF6L",
        "outputId": "c205e949-01cc-42f7-96e9-02c5a7dc4fd2"
      },
      "source": [
        " !pip install mysql\n",
        " !pip install mysql-connector"
      ],
      "execution_count": 15,
      "outputs": [
        {
          "output_type": "stream",
          "name": "stdout",
          "text": [
            "Requirement already satisfied: mysql in /usr/local/lib/python3.7/dist-packages (0.0.3)\n",
            "Requirement already satisfied: mysqlclient in /usr/local/lib/python3.7/dist-packages (from mysql) (2.0.3)\n",
            "Collecting mysql-connector\n",
            "  Downloading mysql-connector-2.2.9.tar.gz (11.9 MB)\n",
            "\u001b[K     |████████████████████████████████| 11.9 MB 5.2 MB/s \n",
            "\u001b[?25hBuilding wheels for collected packages: mysql-connector\n",
            "  Building wheel for mysql-connector (setup.py) ... \u001b[?25l\u001b[?25hdone\n",
            "  Created wheel for mysql-connector: filename=mysql_connector-2.2.9-cp37-cp37m-linux_x86_64.whl size=247965 sha256=18ce6aa9e552fa58adeb038bd6dc599b7979f1456d034d56b64d19a4cf5fe008\n",
            "  Stored in directory: /root/.cache/pip/wheels/42/2f/c3/692fc7fc1f0d8c06b9175d94f0fc30f4f92348f5df5af1b8b7\n",
            "Successfully built mysql-connector\n",
            "Installing collected packages: mysql-connector\n",
            "Successfully installed mysql-connector-2.2.9\n"
          ]
        }
      ]
    },
    {
      "cell_type": "code",
      "metadata": {
        "id": "fzNvtV9HprOX"
      },
      "source": [
        "import numpy as np\n",
        "import pandas as pd\n",
        "import os\n",
        "import mysql.connector\n",
        "import warnings\n"
      ],
      "execution_count": 16,
      "outputs": []
    },
    {
      "cell_type": "code",
      "metadata": {
        "id": "sLUGWGvsqOl0"
      },
      "source": [
        "pd.options.display.float_format = '{:.5f}'.format\n",
        "warnings.filterwarnings('ignore')"
      ],
      "execution_count": 6,
      "outputs": []
    },
    {
      "cell_type": "code",
      "metadata": {
        "id": "ZCE_dEwGtDu7"
      },
      "source": [
        "mydb = mysql.connector.connect(\n",
        "  host=\"cpanel.insaid.co\",\n",
        "  user=\"student\",\n",
        "  passwd=\"student\",\n",
        "  database=\"Capstone2\"\n",
        ")\n",
        "\n",
        "mycursor = mydb.cursor()"
      ],
      "execution_count": 18,
      "outputs": []
    },
    {
      "cell_type": "code",
      "metadata": {
        "id": "FSJLFPC4q8Rp",
        "colab": {
          "base_uri": "https://localhost:8080/",
          "height": 203
        },
        "outputId": "22949215-86bc-44d7-d893-e835b62e1101"
      },
      "source": [
        "mycursor.execute(\"select * from department_data\")\n",
        "myresult = mycursor.fetchall()\n",
        "df_department_data = pd.DataFrame(myresult)\n",
        "\n",
        "field_names = [i[0] for i in mycursor.description]\n",
        "df_department_data.columns = field_names\n",
        "\n",
        "df_department_data.head()"
      ],
      "execution_count": 19,
      "outputs": [
        {
          "output_type": "execute_result",
          "data": {
            "text/html": [
              "<div>\n",
              "<style scoped>\n",
              "    .dataframe tbody tr th:only-of-type {\n",
              "        vertical-align: middle;\n",
              "    }\n",
              "\n",
              "    .dataframe tbody tr th {\n",
              "        vertical-align: top;\n",
              "    }\n",
              "\n",
              "    .dataframe thead th {\n",
              "        text-align: right;\n",
              "    }\n",
              "</style>\n",
              "<table border=\"1\" class=\"dataframe\">\n",
              "  <thead>\n",
              "    <tr style=\"text-align: right;\">\n",
              "      <th></th>\n",
              "      <th>dept_id</th>\n",
              "      <th>dept_name</th>\n",
              "      <th>dept_head</th>\n",
              "    </tr>\n",
              "  </thead>\n",
              "  <tbody>\n",
              "    <tr>\n",
              "      <th>0</th>\n",
              "      <td>D00-IT</td>\n",
              "      <td>IT</td>\n",
              "      <td>Henry Adey</td>\n",
              "    </tr>\n",
              "    <tr>\n",
              "      <th>1</th>\n",
              "      <td>D00-SS</td>\n",
              "      <td>Sales</td>\n",
              "      <td>Edward J Bayley</td>\n",
              "    </tr>\n",
              "    <tr>\n",
              "      <th>2</th>\n",
              "      <td>D00-TP</td>\n",
              "      <td>Temp</td>\n",
              "      <td>Micheal Zachrey</td>\n",
              "    </tr>\n",
              "    <tr>\n",
              "      <th>3</th>\n",
              "      <td>D00-ENG</td>\n",
              "      <td>Engineering</td>\n",
              "      <td>Sushant Raghunathan K</td>\n",
              "    </tr>\n",
              "    <tr>\n",
              "      <th>4</th>\n",
              "      <td>D00-SP</td>\n",
              "      <td>Support</td>\n",
              "      <td>Amelia Westray</td>\n",
              "    </tr>\n",
              "  </tbody>\n",
              "</table>\n",
              "</div>"
            ],
            "text/plain": [
              "   dept_id    dept_name              dept_head\n",
              "0   D00-IT           IT             Henry Adey\n",
              "1   D00-SS        Sales        Edward J Bayley\n",
              "2   D00-TP         Temp        Micheal Zachrey\n",
              "3  D00-ENG  Engineering  Sushant Raghunathan K\n",
              "4   D00-SP      Support         Amelia Westray"
            ]
          },
          "metadata": {},
          "execution_count": 19
        }
      ]
    }
  ]
}